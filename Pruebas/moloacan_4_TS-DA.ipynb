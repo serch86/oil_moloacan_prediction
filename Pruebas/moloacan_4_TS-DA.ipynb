{
 "cells": [
  {
   "cell_type": "markdown",
   "metadata": {},
   "source": [
    "# Estimacion de produccion de Aceite"
   ]
  },
  {
   "cell_type": "code",
   "execution_count": 186,
   "metadata": {},
   "outputs": [],
   "source": [
    "import pandas as pd\n",
    "import numpy as np\n",
    "import matplotlib.pyplot as plt\n",
    "import seaborn as sns\n",
    "# import pandas_profiling\n",
    "\n",
    "font = {'family' : 'sans',\n",
    "        'weight' : 'bold',\n",
    "        'size'   : 20}\n",
    "plt.rc('font', **font)\n",
    "plt.rcParams['xtick.labelsize'] = 16\n",
    "plt.rcParams['ytick.labelsize'] = 16\n",
    "plt.rcParams[u'figure.figsize'] = (16,12)\n",
    "params = {'legend.fontsize': 'x-large',\n",
    "         'axes.labelsize': 'x-large',\n",
    "         }\n",
    "# plt.style.use('seaborn-poster')\n",
    "plt.style.use('ggplot')\n",
    "\n",
    "#import sys\n",
    "#sys.path.append('../serch_tools/')\n",
    "#import serch_tools as st\n",
    "\n",
    "from pdpbox import pdp, info_plots\n",
    "from sklearn.cluster import KMeans\n",
    "import plotly\n",
    "import cufflinks"
   ]
  },
  {
   "cell_type": "code",
   "execution_count": 187,
   "metadata": {},
   "outputs": [],
   "source": [
    "# Modelos\n",
    "import lightgbm as lgb\n",
    "from sklearn.ensemble import GradientBoostingClassifier\n",
    "\n",
    "# metricas de evaluacion\n",
    "from sklearn.metrics import (roc_auc_score, classification_report, confusion_matrix,\n",
    "                            roc_curve, accuracy_score)\n",
    "# lo mismo pero en grafico\n",
    "import scikitplot as skplt\n",
    "\n",
    "# Interpretacion\n",
    "from sklearn.ensemble.partial_dependence import plot_partial_dependence\n",
    "import shap"
   ]
  },
  {
   "cell_type": "code",
   "execution_count": 188,
   "metadata": {},
   "outputs": [],
   "source": [
    "aforos = pd.read_csv(\"datos/aforos.csv\")\n",
    "analisis_fluidos = pd.read_csv(\"datos/Analisis_fluidos.csv\")\n",
    "columna_geologica = pd.read_csv('datos/columna_geologica.csv')\n",
    "datos_generales_pozos = pd.read_csv('datos/datos_generales_de_pozos.csv')\n",
    "eval_petrofisica = pd.read_csv('datos/eval_petrofisica.csv')\n",
    "intervalo_disparado = pd.read_csv('datos/IntervalosDisparados.csv')\n",
    "parametros_petrofisicos = pd.read_csv('datos/parametros_petrofisicos.csv')"
   ]
  },
  {
   "cell_type": "code",
   "execution_count": 191,
   "metadata": {},
   "outputs": [
    {
     "data": {
      "text/html": [
       "<div>\n",
       "<style scoped>\n",
       "    .dataframe tbody tr th:only-of-type {\n",
       "        vertical-align: middle;\n",
       "    }\n",
       "\n",
       "    .dataframe tbody tr th {\n",
       "        vertical-align: top;\n",
       "    }\n",
       "\n",
       "    .dataframe thead th {\n",
       "        text-align: right;\n",
       "    }\n",
       "</style>\n",
       "<table border=\"1\" class=\"dataframe\">\n",
       "  <thead>\n",
       "    <tr style=\"text-align: right;\">\n",
       "      <th></th>\n",
       "      <th>index</th>\n",
       "      <th>NOMBRE_DEL_POZO</th>\n",
       "      <th>CIMA_INTERVALO_(md)</th>\n",
       "      <th>BASE_INTERVALO_(md)</th>\n",
       "      <th>CONDICION_DE_FLUJO_(Fluyente/SAP)</th>\n",
       "      <th>FECHA_DE_LA_PRODUCCION_(dd/mm/aaaa)</th>\n",
       "      <th>RELACION_GAS_LIQUIDO_(m3/m3)</th>\n",
       "      <th>RELACION_GAS_ACEITE_(m3/m3)</th>\n",
       "      <th>CORTE_DE_AGUA_(bl/bl)</th>\n",
       "      <th>SALINIDAD_(PPM)</th>\n",
       "      <th>...</th>\n",
       "      <th>RELACION_CONDENSADO_GAS_(m3/m3)</th>\n",
       "      <th>RELACION_AGUA_GAS_(m3/m3)</th>\n",
       "      <th>RELACION_AGUA_CONDENSADO_(m3/m3)</th>\n",
       "      <th>FRACCION_DEL_SEDIMENTO</th>\n",
       "      <th>DIAMETRO_DEL_ESTRANGULADOR _(in)</th>\n",
       "      <th>VOLUMEN_DE_ACEITE_(m3)</th>\n",
       "      <th>VOLUMEN_DE_GAS_(m3)</th>\n",
       "      <th>VOLUMEN_DE_CONDENSADO_(m3)</th>\n",
       "      <th>DIAS_DE_PRODUCCION</th>\n",
       "      <th>DESCRIPCION_DE_LA_PRODUCCION</th>\n",
       "    </tr>\n",
       "  </thead>\n",
       "  <tbody>\n",
       "    <tr>\n",
       "      <th>0</th>\n",
       "      <td>0</td>\n",
       "      <td>MOLOACAN-102A</td>\n",
       "      <td>SIN INFORMACION</td>\n",
       "      <td>SIN INFORMACION</td>\n",
       "      <td>SAP</td>\n",
       "      <td>01/10/2013</td>\n",
       "      <td>101.175571</td>\n",
       "      <td>203.152074</td>\n",
       "      <td>50.205197</td>\n",
       "      <td>SIN INFORMACION</td>\n",
       "      <td>...</td>\n",
       "      <td>NO APLICA</td>\n",
       "      <td>0.004962</td>\n",
       "      <td>NO APLICA</td>\n",
       "      <td>NO APLICA</td>\n",
       "      <td>NO APLICA</td>\n",
       "      <td>31.803914</td>\n",
       "      <td>6462.078342</td>\n",
       "      <td>NO APLICA</td>\n",
       "      <td>31</td>\n",
       "      <td>SIN INFORMACION</td>\n",
       "    </tr>\n",
       "    <tr>\n",
       "      <th>1</th>\n",
       "      <td>1</td>\n",
       "      <td>MOLOACAN-102A</td>\n",
       "      <td>SIN INFORMACION</td>\n",
       "      <td>SIN INFORMACION</td>\n",
       "      <td>SAP</td>\n",
       "      <td>01/11/2013</td>\n",
       "      <td>100.298703</td>\n",
       "      <td>203.279313</td>\n",
       "      <td>50.667656</td>\n",
       "      <td>SIN INFORMACION</td>\n",
       "      <td>...</td>\n",
       "      <td>NO APLICA</td>\n",
       "      <td>0.005052</td>\n",
       "      <td>NO APLICA</td>\n",
       "      <td>NO APLICA</td>\n",
       "      <td>NO APLICA</td>\n",
       "      <td>29.536942</td>\n",
       "      <td>6005.222347</td>\n",
       "      <td>NO APLICA</td>\n",
       "      <td>30</td>\n",
       "      <td>SIN INFORMACION</td>\n",
       "    </tr>\n",
       "    <tr>\n",
       "      <th>2</th>\n",
       "      <td>2</td>\n",
       "      <td>MOLOACAN-102A</td>\n",
       "      <td>SIN INFORMACION</td>\n",
       "      <td>SIN INFORMACION</td>\n",
       "      <td>SAP</td>\n",
       "      <td>01/12/2013</td>\n",
       "      <td>101.159166</td>\n",
       "      <td>203.859067</td>\n",
       "      <td>50.385933</td>\n",
       "      <td>SIN INFORMACION</td>\n",
       "      <td>...</td>\n",
       "      <td>NO APLICA</td>\n",
       "      <td>0.004981</td>\n",
       "      <td>NO APLICA</td>\n",
       "      <td>NO APLICA</td>\n",
       "      <td>NO APLICA</td>\n",
       "      <td>30.852725</td>\n",
       "      <td>6290.627114</td>\n",
       "      <td>NO APLICA</td>\n",
       "      <td>31</td>\n",
       "      <td>SIN INFORMACION</td>\n",
       "    </tr>\n",
       "    <tr>\n",
       "      <th>3</th>\n",
       "      <td>3</td>\n",
       "      <td>MOLOACAN-102A</td>\n",
       "      <td>SIN INFORMACION</td>\n",
       "      <td>SIN INFORMACION</td>\n",
       "      <td>SAP</td>\n",
       "      <td>01/01/2014</td>\n",
       "      <td>101.316590</td>\n",
       "      <td>203.424976</td>\n",
       "      <td>50.202687</td>\n",
       "      <td>SIN INFORMACION</td>\n",
       "      <td>...</td>\n",
       "      <td>NO APLICA</td>\n",
       "      <td>0.004955</td>\n",
       "      <td>NO APLICA</td>\n",
       "      <td>NO APLICA</td>\n",
       "      <td>NO APLICA</td>\n",
       "      <td>31.774044</td>\n",
       "      <td>6464.681785</td>\n",
       "      <td>NO APLICA</td>\n",
       "      <td>31</td>\n",
       "      <td>SIN INFORMACION</td>\n",
       "    </tr>\n",
       "    <tr>\n",
       "      <th>4</th>\n",
       "      <td>4</td>\n",
       "      <td>MOLOACAN-102A</td>\n",
       "      <td>SIN INFORMACION</td>\n",
       "      <td>SIN INFORMACION</td>\n",
       "      <td>SAP</td>\n",
       "      <td>01/02/2014</td>\n",
       "      <td>101.316590</td>\n",
       "      <td>203.424976</td>\n",
       "      <td>50.202687</td>\n",
       "      <td>SIN INFORMACION</td>\n",
       "      <td>...</td>\n",
       "      <td>NO APLICA</td>\n",
       "      <td>0.004955</td>\n",
       "      <td>NO APLICA</td>\n",
       "      <td>NO APLICA</td>\n",
       "      <td>NO APLICA</td>\n",
       "      <td>28.699137</td>\n",
       "      <td>5839.067419</td>\n",
       "      <td>NO APLICA</td>\n",
       "      <td>28</td>\n",
       "      <td>SIN INFORMACION</td>\n",
       "    </tr>\n",
       "  </tbody>\n",
       "</table>\n",
       "<p>5 rows × 21 columns</p>\n",
       "</div>"
      ],
      "text/plain": [
       "   index NOMBRE_DEL_POZO CIMA_INTERVALO_(md) BASE_INTERVALO_(md)  \\\n",
       "0      0   MOLOACAN-102A     SIN INFORMACION     SIN INFORMACION   \n",
       "1      1   MOLOACAN-102A     SIN INFORMACION     SIN INFORMACION   \n",
       "2      2   MOLOACAN-102A     SIN INFORMACION     SIN INFORMACION   \n",
       "3      3   MOLOACAN-102A     SIN INFORMACION     SIN INFORMACION   \n",
       "4      4   MOLOACAN-102A     SIN INFORMACION     SIN INFORMACION   \n",
       "\n",
       "  CONDICION_DE_FLUJO_(Fluyente/SAP) FECHA_DE_LA_PRODUCCION_(dd/mm/aaaa)  \\\n",
       "0                               SAP                          01/10/2013   \n",
       "1                               SAP                          01/11/2013   \n",
       "2                               SAP                          01/12/2013   \n",
       "3                               SAP                          01/01/2014   \n",
       "4                               SAP                          01/02/2014   \n",
       "\n",
       "   RELACION_GAS_LIQUIDO_(m3/m3)  RELACION_GAS_ACEITE_(m3/m3)  \\\n",
       "0                    101.175571                   203.152074   \n",
       "1                    100.298703                   203.279313   \n",
       "2                    101.159166                   203.859067   \n",
       "3                    101.316590                   203.424976   \n",
       "4                    101.316590                   203.424976   \n",
       "\n",
       "   CORTE_DE_AGUA_(bl/bl)  SALINIDAD_(PPM)  ...  \\\n",
       "0              50.205197  SIN INFORMACION  ...   \n",
       "1              50.667656  SIN INFORMACION  ...   \n",
       "2              50.385933  SIN INFORMACION  ...   \n",
       "3              50.202687  SIN INFORMACION  ...   \n",
       "4              50.202687  SIN INFORMACION  ...   \n",
       "\n",
       "   RELACION_CONDENSADO_GAS_(m3/m3) RELACION_AGUA_GAS_(m3/m3)  \\\n",
       "0                        NO APLICA                  0.004962   \n",
       "1                        NO APLICA                  0.005052   \n",
       "2                        NO APLICA                  0.004981   \n",
       "3                        NO APLICA                  0.004955   \n",
       "4                        NO APLICA                  0.004955   \n",
       "\n",
       "   RELACION_AGUA_CONDENSADO_(m3/m3) FRACCION_DEL_SEDIMENTO  \\\n",
       "0                         NO APLICA              NO APLICA   \n",
       "1                         NO APLICA              NO APLICA   \n",
       "2                         NO APLICA              NO APLICA   \n",
       "3                         NO APLICA              NO APLICA   \n",
       "4                         NO APLICA              NO APLICA   \n",
       "\n",
       "  DIAMETRO_DEL_ESTRANGULADOR _(in) VOLUMEN_DE_ACEITE_(m3)  \\\n",
       "0                        NO APLICA              31.803914   \n",
       "1                        NO APLICA              29.536942   \n",
       "2                        NO APLICA              30.852725   \n",
       "3                        NO APLICA              31.774044   \n",
       "4                        NO APLICA              28.699137   \n",
       "\n",
       "   VOLUMEN_DE_GAS_(m3)  VOLUMEN_DE_CONDENSADO_(m3) DIAS_DE_PRODUCCION   \\\n",
       "0          6462.078342                   NO APLICA                  31   \n",
       "1          6005.222347                   NO APLICA                  30   \n",
       "2          6290.627114                   NO APLICA                  31   \n",
       "3          6464.681785                   NO APLICA                  31   \n",
       "4          5839.067419                   NO APLICA                  28   \n",
       "\n",
       "   DESCRIPCION_DE_LA_PRODUCCION   \n",
       "0                SIN INFORMACION  \n",
       "1                SIN INFORMACION  \n",
       "2                SIN INFORMACION  \n",
       "3                SIN INFORMACION  \n",
       "4                SIN INFORMACION  \n",
       "\n",
       "[5 rows x 21 columns]"
      ]
     },
     "execution_count": 191,
     "metadata": {},
     "output_type": "execute_result"
    }
   ],
   "source": [
    "prod_mens = pd.read_csv('datos/produccion_mensual.csv')\n",
    "prod_mens.head()"
   ]
  },
  {
   "cell_type": "code",
   "execution_count": 192,
   "metadata": {},
   "outputs": [
    {
     "data": {
      "text/plain": [
       "Index(['index', 'NOMBRE_DEL_POZO', 'CIMA_INTERVALO_(md)',\n",
       "       'BASE_INTERVALO_(md)', 'CONDICION_DE_FLUJO_(Fluyente/SAP)',\n",
       "       'FECHA_DE_LA_PRODUCCION_(dd/mm/aaaa)', 'RELACION_GAS_LIQUIDO_(m3/m3)',\n",
       "       'RELACION_GAS_ACEITE_(m3/m3)', 'CORTE_DE_AGUA_(bl/bl)',\n",
       "       'SALINIDAD_(PPM)', 'RELACION_AGUA_ACEITE_(m3/m3)',\n",
       "       'RELACION_CONDENSADO_GAS_(m3/m3)', 'RELACION_AGUA_GAS_(m3/m3)',\n",
       "       'RELACION_AGUA_CONDENSADO_(m3/m3)', 'FRACCION_DEL_SEDIMENTO',\n",
       "       'DIAMETRO_DEL_ESTRANGULADOR _(in)', 'VOLUMEN_DE_ACEITE_(m3)',\n",
       "       'VOLUMEN_DE_GAS_(m3)', 'VOLUMEN_DE_CONDENSADO_(m3)',\n",
       "       'DIAS_DE_PRODUCCION ', 'DESCRIPCION_DE_LA_PRODUCCION '],\n",
       "      dtype='object')"
      ]
     },
     "execution_count": 192,
     "metadata": {},
     "output_type": "execute_result"
    }
   ],
   "source": [
    "prod_mens.columns"
   ]
  },
  {
   "cell_type": "code",
   "execution_count": 193,
   "metadata": {},
   "outputs": [
    {
     "data": {
      "text/plain": [
       "121.0"
      ]
     },
     "execution_count": 193,
     "metadata": {},
     "output_type": "execute_result"
    }
   ],
   "source": [
    "prod_mens.groupby(['NOMBRE_DEL_POZO'])['FECHA_DE_LA_PRODUCCION_(dd/mm/aaaa)'].count().median()"
   ]
  },
  {
   "cell_type": "code",
   "execution_count": 194,
   "metadata": {},
   "outputs": [],
   "source": [
    "prod_mens['fecha_produccion'] = pd.to_datetime(prod_mens['FECHA_DE_LA_PRODUCCION_(dd/mm/aaaa)'], \n",
    "                                               format=\"%d/%m/%Y\")"
   ]
  },
  {
   "cell_type": "code",
   "execution_count": 195,
   "metadata": {},
   "outputs": [
    {
     "data": {
      "text/plain": [
       "count                   20821\n",
       "unique                    187\n",
       "top       1999-01-01 00:00:00\n",
       "freq                      156\n",
       "first     1999-01-01 00:00:00\n",
       "last      2014-07-01 00:00:00\n",
       "Name: fecha_produccion, dtype: object"
      ]
     },
     "execution_count": 195,
     "metadata": {},
     "output_type": "execute_result"
    }
   ],
   "source": [
    "prod_mens['fecha_produccion'].describe()"
   ]
  },
  {
   "cell_type": "markdown",
   "metadata": {},
   "source": [
    "En algunos posos tenemos un historico de 1999 hasta 2014"
   ]
  },
  {
   "cell_type": "markdown",
   "metadata": {},
   "source": [
    "# Tabla DB_produccion_Moloacan\n",
    "\n",
    "Tabla con historico de produccion en unidades de barriles mensuales\n",
    "\n",
    "    Fecha - Fecha de registro\n",
    "    Pozo -  Nombre del pozo\n",
    "    Dias - Numero de dias del mes en curso\n",
    "    Qo_mes_b - Numero de Barriles de Oil mensuales\n",
    "    Qo_prom_mesbd - Promedio de barriles diarios Qo_mes_b / Dias\n",
    "    Qg_mes_MMpc - \n",
    "    Qg_prom_mes_MMpcd - Qg_mes_MMpc / Dias\n",
    "    Qw_mes_b - Numero de barriles de agua mensual\n",
    "    Qw_prom_mes_bd - Promedio de barriles mensuales de agua  Qw_mes_b / Dias\n",
    "    Fw_% - Porcentaje de Agua\n",
    "    RGA_m3/m3 - Relacion Gas Aceite\n",
    "    Dias_de_Operacion - Dias que estuvo operando la plataforma"
   ]
  },
  {
   "cell_type": "code",
   "execution_count": 197,
   "metadata": {},
   "outputs": [],
   "source": [
    "db_prod_mol = pd.read_csv('datos/DB_prod_moloacan.csv')\n",
    "db_prod_mol.columns = db_prod_mol.columns.str.replace(\" \",\"_\").str.replace(\n",
    "    \"(\",\"\").str.replace(\")\",\"\").str.replace(\".\",\"\").str.replace('á',\"a\").str.replace('é',\"e\").str.replace(\n",
    "    'í',\"i\").str.replace('ó',\"o\").str.replace('ú',\"u\")\n",
    "# transfromaciones\n",
    "db_prod_mol['Qo_mes_b'] = db_prod_mol['Qo_mes_b'].str.replace(',', '').astype(float)\n",
    "db_prod_mol['Qw_mes_b'] = db_prod_mol['Qw_mes_b'].str.replace(',', '').astype(float)\n",
    "db_prod_mol['RGA_m3/m3'] = db_prod_mol['RGA_m3/m3'].str.replace(',', '').astype(float)\n",
    "db_prod_mol[\"Pozo\"] = db_prod_mol.Pozo.str.replace(\"Á\",\"A\")"
   ]
  },
  {
   "cell_type": "code",
   "execution_count": 198,
   "metadata": {},
   "outputs": [
    {
     "data": {
      "text/plain": [
       "Index(['Fecha', 'Pozo', 'Dias', 'Qo_mes_b', 'Qo_prom_mesbd', 'Qg_mes_MMpc',\n",
       "       'Qg_prom_mes_MMpcd', 'Qw_mes_b', 'Qw_prom_mes_bd', 'Fw_%', 'RGA_m3/m3',\n",
       "       'Dias_de_Operacion'],\n",
       "      dtype='object')"
      ]
     },
     "execution_count": 198,
     "metadata": {},
     "output_type": "execute_result"
    }
   ],
   "source": [
    "db_prod_mol.columns"
   ]
  },
  {
   "cell_type": "code",
   "execution_count": 199,
   "metadata": {},
   "outputs": [],
   "source": [
    "db_prod_mol['fecha_produccion'] = pd.to_datetime(db_prod_mol.Fecha, format=\"%d/%m/%Y\")"
   ]
  },
  {
   "cell_type": "code",
   "execution_count": 200,
   "metadata": {},
   "outputs": [
    {
     "name": "stdout",
     "output_type": "stream",
     "text": [
      "<class 'pandas.core.frame.DataFrame'>\n",
      "RangeIndex: 20886 entries, 0 to 20885\n",
      "Data columns (total 13 columns):\n",
      "Fecha                20886 non-null object\n",
      "Pozo                 20886 non-null object\n",
      "Dias                 20886 non-null int64\n",
      "Qo_mes_b             20886 non-null float64\n",
      "Qo_prom_mesbd        20886 non-null float64\n",
      "Qg_mes_MMpc          20886 non-null float64\n",
      "Qg_prom_mes_MMpcd    20886 non-null float64\n",
      "Qw_mes_b             20886 non-null float64\n",
      "Qw_prom_mes_bd       20886 non-null float64\n",
      "Fw_%                 20886 non-null float64\n",
      "RGA_m3/m3            20886 non-null float64\n",
      "Dias_de_Operacion    20886 non-null int64\n",
      "fecha_produccion     20886 non-null datetime64[ns]\n",
      "dtypes: datetime64[ns](1), float64(8), int64(2), object(2)\n",
      "memory usage: 2.1+ MB\n"
     ]
    }
   ],
   "source": [
    "db_prod_mol.info()"
   ]
  },
  {
   "cell_type": "markdown",
   "metadata": {},
   "source": [
    "# Se estimara el numero de barriles mensuales\n",
    "\n",
    "Se generan variables que expliquen la produccion en $P(t)$ con un historico de 6 meses con variables como $P(t-1), P(t-2), P(t-3)$\n",
    "\n",
    "Se estima\n",
    "$P(t) = \\alpha + \\beta_1 P(t-1)+ \\beta_1 P(t-2)+ \\beta_1 P(t-3)+ \\beta_1 P(t-4)+ \\beta_1 P(t-5)+ \\beta_1 P(t-6) + \\epsilon$"
   ]
  },
  {
   "cell_type": "code",
   "execution_count": 201,
   "metadata": {},
   "outputs": [],
   "source": [
    "# tabla (t)\n",
    "t = db_prod_mol.groupby(['Pozo','fecha_produccion']).Qo_mes_b.first()\n",
    "\n",
    "# tabla (t + 1)\n",
    "t_1 = db_prod_mol.groupby(['Pozo','fecha_produccion']).Qo_mes_b.first().shift(-1)\n",
    "\n",
    "# tabla (t + 2)\n",
    "t_2 = db_prod_mol.groupby(['Pozo','fecha_produccion']).Qo_mes_b.first().shift(-2)\n",
    "\n",
    "# tabla (t + 3)\n",
    "t_3 = db_prod_mol.groupby(['Pozo','fecha_produccion']).Qo_mes_b.first().shift(-3)\n",
    "\n",
    "# tabla (t + 4)\n",
    "t_4 = db_prod_mol.groupby(['Pozo','fecha_produccion']).Qo_mes_b.first().shift(-4)\n",
    "\n",
    "# tabla (t + 4)\n",
    "t_5 = db_prod_mol.groupby(['Pozo','fecha_produccion']).Qo_mes_b.first().shift(-5)\n",
    "\n",
    "# tabla (t + 4)\n",
    "t_6 = db_prod_mol.groupby(['Pozo','fecha_produccion']).Qo_mes_b.first().shift(-6)"
   ]
  },
  {
   "cell_type": "markdown",
   "metadata": {},
   "source": [
    "Variables de produccion anterior, pensando que produciran semejante al mes anterior"
   ]
  },
  {
   "cell_type": "code",
   "execution_count": 202,
   "metadata": {},
   "outputs": [],
   "source": [
    "df = pd.concat([t,t_1,t_2,t_3,t_4,t_5,t_6],1).dropna()\n",
    "df.columns = ['Qomes_b_t_6','Qomes_b_t_5','Qomes_b_t_4',\n",
    "              'Qomes_b_t_3','Qomes_b_t_2','Qomes_b_t_1','Qomes_b_t']"
   ]
  },
  {
   "cell_type": "code",
   "execution_count": 203,
   "metadata": {},
   "outputs": [
    {
     "data": {
      "text/plain": [
       "(20880, 7)"
      ]
     },
     "execution_count": 203,
     "metadata": {},
     "output_type": "execute_result"
    }
   ],
   "source": [
    "df.shape # numero de registros"
   ]
  },
  {
   "cell_type": "code",
   "execution_count": 204,
   "metadata": {},
   "outputs": [],
   "source": [
    "df['diff_t_6_t_5'] = df.Qomes_b_t_6 - df.Qomes_b_t_5\n",
    "df['diff_t_5_t_4'] = df.Qomes_b_t_5 - df.Qomes_b_t_4\n",
    "df['diff_t_4_t_3'] = df.Qomes_b_t_4 - df.Qomes_b_t_3\n",
    "df['diff_t_3_t_2'] = df.Qomes_b_t_3 - df.Qomes_b_t_2\n",
    "df['diff_t_2_t_1'] = df.Qomes_b_t_2 - df.Qomes_b_t_1"
   ]
  },
  {
   "cell_type": "markdown",
   "metadata": {},
   "source": [
    "Variables de diferencia entre periodos, como una velocidad de produccion entre un mes y otro."
   ]
  },
  {
   "cell_type": "code",
   "execution_count": 205,
   "metadata": {},
   "outputs": [],
   "source": [
    "df['std_t_6_t_1'] = df[['Qomes_b_t_6','Qomes_b_t_5','Qomes_b_t_4','Qomes_b_t_3','Qomes_b_t_2','Qomes_b_t_1']].std(1)\n",
    "df['mean_t_6_t_1'] = df[['Qomes_b_t_6','Qomes_b_t_5','Qomes_b_t_4','Qomes_b_t_3','Qomes_b_t_2','Qomes_b_t_1']].mean(1)\n",
    "df['median_t_6_t_1'] = df[['Qomes_b_t_6','Qomes_b_t_5','Qomes_b_t_4','Qomes_b_t_3','Qomes_b_t_2','Qomes_b_t_1']].median(1)\n",
    "df['min_t_6_t_1'] = df[['Qomes_b_t_6','Qomes_b_t_5','Qomes_b_t_4','Qomes_b_t_3','Qomes_b_t_2','Qomes_b_t_1']].min(1)\n",
    "df['max_t_6_t_1'] = df[['Qomes_b_t_6','Qomes_b_t_5','Qomes_b_t_4','Qomes_b_t_3','Qomes_b_t_2','Qomes_b_t_1']].max(1)"
   ]
  },
  {
   "cell_type": "markdown",
   "metadata": {},
   "source": [
    "Variables estadisticas sobre el historico de 6 meses.\n",
    "+ std si varia mucho puede que ayude a predecir la produccion\n",
    "+ median, mean es probable que produzca al menos el promedio que ha producido antes\n",
    "+ min Si ya paso por un bache de produccion puede indicarnos si seguira ahi... NO ESTOY SEGURO\n",
    "+ max Si esta en un pico de produccion o ya lo paso, al menos no va a sobrepasar este valor"
   ]
  },
  {
   "cell_type": "code",
   "execution_count": 206,
   "metadata": {},
   "outputs": [],
   "source": [
    "db_prod_mol['f_prod'] = db_prod_mol.fecha_produccion"
   ]
  },
  {
   "cell_type": "code",
   "execution_count": 207,
   "metadata": {},
   "outputs": [
    {
     "data": {
      "text/html": [
       "<div>\n",
       "<style scoped>\n",
       "    .dataframe tbody tr th:only-of-type {\n",
       "        vertical-align: middle;\n",
       "    }\n",
       "\n",
       "    .dataframe tbody tr th {\n",
       "        vertical-align: top;\n",
       "    }\n",
       "\n",
       "    .dataframe thead th {\n",
       "        text-align: right;\n",
       "    }\n",
       "</style>\n",
       "<table border=\"1\" class=\"dataframe\">\n",
       "  <thead>\n",
       "    <tr style=\"text-align: right;\">\n",
       "      <th></th>\n",
       "      <th></th>\n",
       "      <th>month_1</th>\n",
       "      <th>month_2</th>\n",
       "      <th>month_3</th>\n",
       "      <th>month_4</th>\n",
       "      <th>month_5</th>\n",
       "      <th>month_6</th>\n",
       "      <th>month_7</th>\n",
       "      <th>month_8</th>\n",
       "      <th>month_9</th>\n",
       "      <th>month_10</th>\n",
       "      <th>month_11</th>\n",
       "      <th>month_12</th>\n",
       "    </tr>\n",
       "    <tr>\n",
       "      <th>Pozo</th>\n",
       "      <th>fecha_produccion</th>\n",
       "      <th></th>\n",
       "      <th></th>\n",
       "      <th></th>\n",
       "      <th></th>\n",
       "      <th></th>\n",
       "      <th></th>\n",
       "      <th></th>\n",
       "      <th></th>\n",
       "      <th></th>\n",
       "      <th></th>\n",
       "      <th></th>\n",
       "      <th></th>\n",
       "    </tr>\n",
       "  </thead>\n",
       "  <tbody>\n",
       "    <tr>\n",
       "      <th rowspan=\"5\" valign=\"top\">MOLOACAN-1004</th>\n",
       "      <th>2002-06-01</th>\n",
       "      <td>1</td>\n",
       "      <td>0</td>\n",
       "      <td>0</td>\n",
       "      <td>0</td>\n",
       "      <td>0</td>\n",
       "      <td>0</td>\n",
       "      <td>0</td>\n",
       "      <td>0</td>\n",
       "      <td>0</td>\n",
       "      <td>0</td>\n",
       "      <td>0</td>\n",
       "      <td>0</td>\n",
       "    </tr>\n",
       "    <tr>\n",
       "      <th>2002-07-01</th>\n",
       "      <td>0</td>\n",
       "      <td>1</td>\n",
       "      <td>0</td>\n",
       "      <td>0</td>\n",
       "      <td>0</td>\n",
       "      <td>0</td>\n",
       "      <td>0</td>\n",
       "      <td>0</td>\n",
       "      <td>0</td>\n",
       "      <td>0</td>\n",
       "      <td>0</td>\n",
       "      <td>0</td>\n",
       "    </tr>\n",
       "    <tr>\n",
       "      <th>2002-08-01</th>\n",
       "      <td>0</td>\n",
       "      <td>0</td>\n",
       "      <td>1</td>\n",
       "      <td>0</td>\n",
       "      <td>0</td>\n",
       "      <td>0</td>\n",
       "      <td>0</td>\n",
       "      <td>0</td>\n",
       "      <td>0</td>\n",
       "      <td>0</td>\n",
       "      <td>0</td>\n",
       "      <td>0</td>\n",
       "    </tr>\n",
       "    <tr>\n",
       "      <th>2002-09-01</th>\n",
       "      <td>0</td>\n",
       "      <td>0</td>\n",
       "      <td>0</td>\n",
       "      <td>1</td>\n",
       "      <td>0</td>\n",
       "      <td>0</td>\n",
       "      <td>0</td>\n",
       "      <td>0</td>\n",
       "      <td>0</td>\n",
       "      <td>0</td>\n",
       "      <td>0</td>\n",
       "      <td>0</td>\n",
       "    </tr>\n",
       "    <tr>\n",
       "      <th>2002-10-01</th>\n",
       "      <td>0</td>\n",
       "      <td>0</td>\n",
       "      <td>0</td>\n",
       "      <td>0</td>\n",
       "      <td>1</td>\n",
       "      <td>0</td>\n",
       "      <td>0</td>\n",
       "      <td>0</td>\n",
       "      <td>0</td>\n",
       "      <td>0</td>\n",
       "      <td>0</td>\n",
       "      <td>0</td>\n",
       "    </tr>\n",
       "  </tbody>\n",
       "</table>\n",
       "</div>"
      ],
      "text/plain": [
       "                                month_1  month_2  month_3  month_4  month_5  \\\n",
       "Pozo          fecha_produccion                                                \n",
       "MOLOACAN-1004 2002-06-01              1        0        0        0        0   \n",
       "              2002-07-01              0        1        0        0        0   \n",
       "              2002-08-01              0        0        1        0        0   \n",
       "              2002-09-01              0        0        0        1        0   \n",
       "              2002-10-01              0        0        0        0        1   \n",
       "\n",
       "                                month_6  month_7  month_8  month_9  month_10  \\\n",
       "Pozo          fecha_produccion                                                 \n",
       "MOLOACAN-1004 2002-06-01              0        0        0        0         0   \n",
       "              2002-07-01              0        0        0        0         0   \n",
       "              2002-08-01              0        0        0        0         0   \n",
       "              2002-09-01              0        0        0        0         0   \n",
       "              2002-10-01              0        0        0        0         0   \n",
       "\n",
       "                                month_11  month_12  \n",
       "Pozo          fecha_produccion                      \n",
       "MOLOACAN-1004 2002-06-01               0         0  \n",
       "              2002-07-01               0         0  \n",
       "              2002-08-01               0         0  \n",
       "              2002-09-01               0         0  \n",
       "              2002-10-01               0         0  "
      ]
     },
     "execution_count": 207,
     "metadata": {},
     "output_type": "execute_result"
    }
   ],
   "source": [
    "# tabla dummies_month\n",
    "dummi_month = pd.get_dummies(db_prod_mol.groupby(\n",
    "    ['Pozo','fecha_produccion']).f_prod.first().shift(-6).dt.month.dropna().astype(int).dropna(),prefix='month')\n",
    "dummi_month.head()"
   ]
  },
  {
   "cell_type": "code",
   "execution_count": 208,
   "metadata": {},
   "outputs": [],
   "source": [
    "df = pd.merge(df, dummi_month, right_index=True, left_index=True)"
   ]
  },
  {
   "cell_type": "markdown",
   "metadata": {},
   "source": [
    "## Si estuvo detenido"
   ]
  },
  {
   "cell_type": "code",
   "execution_count": 209,
   "metadata": {},
   "outputs": [
    {
     "data": {
      "text/html": [
       "<div>\n",
       "<style scoped>\n",
       "    .dataframe tbody tr th:only-of-type {\n",
       "        vertical-align: middle;\n",
       "    }\n",
       "\n",
       "    .dataframe tbody tr th {\n",
       "        vertical-align: top;\n",
       "    }\n",
       "\n",
       "    .dataframe thead th {\n",
       "        text-align: right;\n",
       "    }\n",
       "</style>\n",
       "<table border=\"1\" class=\"dataframe\">\n",
       "  <thead>\n",
       "    <tr style=\"text-align: right;\">\n",
       "      <th></th>\n",
       "      <th></th>\n",
       "      <th>detenido_mes_antes</th>\n",
       "    </tr>\n",
       "    <tr>\n",
       "      <th>Pozo</th>\n",
       "      <th>fecha_produccion</th>\n",
       "      <th></th>\n",
       "    </tr>\n",
       "  </thead>\n",
       "  <tbody>\n",
       "    <tr>\n",
       "      <th rowspan=\"5\" valign=\"top\">MOLOACAN-1004</th>\n",
       "      <th>2002-06-01</th>\n",
       "      <td>1</td>\n",
       "    </tr>\n",
       "    <tr>\n",
       "      <th>2002-07-01</th>\n",
       "      <td>0</td>\n",
       "    </tr>\n",
       "    <tr>\n",
       "      <th>2002-08-01</th>\n",
       "      <td>0</td>\n",
       "    </tr>\n",
       "    <tr>\n",
       "      <th>2002-09-01</th>\n",
       "      <td>0</td>\n",
       "    </tr>\n",
       "    <tr>\n",
       "      <th>2002-10-01</th>\n",
       "      <td>0</td>\n",
       "    </tr>\n",
       "  </tbody>\n",
       "</table>\n",
       "</div>"
      ],
      "text/plain": [
       "                                detenido_mes_antes\n",
       "Pozo          fecha_produccion                    \n",
       "MOLOACAN-1004 2002-06-01                         1\n",
       "              2002-07-01                         0\n",
       "              2002-08-01                         0\n",
       "              2002-09-01                         0\n",
       "              2002-10-01                         0"
      ]
     },
     "execution_count": 209,
     "metadata": {},
     "output_type": "execute_result"
    }
   ],
   "source": [
    "detenido_mes_anterior = pd.DataFrame(np.where((db_prod_mol.groupby(\n",
    "    ['Pozo','fecha_produccion']).f_prod.first().shift(-6) - db_prod_mol.groupby(\n",
    "    ['Pozo','fecha_produccion']).f_prod.first().shift(-5))/np.timedelta64(1,\"D\") > 31, 1, 0), index=db_prod_mol.groupby(\n",
    "    ['Pozo','fecha_produccion']).f_prod.first().index, columns=['detenido_mes_antes'])\n",
    "detenido_mes_anterior.head()"
   ]
  },
  {
   "cell_type": "code",
   "execution_count": 210,
   "metadata": {},
   "outputs": [],
   "source": [
    "df = pd.merge(df, detenido_mes_anterior, right_index=True, left_index=True)"
   ]
  },
  {
   "cell_type": "markdown",
   "metadata": {},
   "source": [
    "# Variables de historico de agua y gas\n",
    "\n",
    "No se vale meterlas por que vas a tener que estimarlas despues"
   ]
  },
  {
   "cell_type": "code",
   "execution_count": 211,
   "metadata": {},
   "outputs": [],
   "source": [
    "df_train = df.reset_index()"
   ]
  },
  {
   "cell_type": "code",
   "execution_count": 212,
   "metadata": {},
   "outputs": [
    {
     "data": {
      "text/plain": [
       "(20880, 32)"
      ]
     },
     "execution_count": 212,
     "metadata": {},
     "output_type": "execute_result"
    }
   ],
   "source": [
    "df_train.shape"
   ]
  },
  {
   "cell_type": "markdown",
   "metadata": {},
   "source": [
    "## Quitamos Outliers"
   ]
  },
  {
   "cell_type": "code",
   "execution_count": 213,
   "metadata": {},
   "outputs": [],
   "source": [
    "df_train = df_train[df_train.Qomes_b_t > df_train.Qomes_b_t.quantile(0.005)]\n",
    "df_train = df_train[df_train.Qomes_b_t_1 > df_train.Qomes_b_t_1.quantile(0.001)]\n",
    "df_train = df_train[df_train.Qomes_b_t_2 > df_train.Qomes_b_t_2.quantile(0.001)]\n",
    "df_train = df_train[df_train.Qomes_b_t_3 > df_train.Qomes_b_t_3.quantile(0.001)]\n",
    "df_train = df_train[df_train.Qomes_b_t_4 > df_train.Qomes_b_t_4.quantile(0.001)]\n",
    "df_train = df_train[df_train.Qomes_b_t_5 > df_train.Qomes_b_t_5.quantile(0.001)]\n",
    "df_train = df_train[df_train.Qomes_b_t_6 > df_train.Qomes_b_t_6.quantile(0.001)]"
   ]
  },
  {
   "cell_type": "code",
   "execution_count": 214,
   "metadata": {},
   "outputs": [],
   "source": [
    "df_train = df_train[df_train.Qomes_b_t < df_train.Qomes_b_t.quantile(0.99)]"
   ]
  },
  {
   "cell_type": "code",
   "execution_count": 215,
   "metadata": {},
   "outputs": [],
   "source": [
    "df_train = df_train[df_train.Qomes_b_t_1 < df_train.Qomes_b_t_1.quantile(0.99)]\n",
    "df_train = df_train[df_train.Qomes_b_t_2 < df_train.Qomes_b_t_2.quantile(0.99)]\n",
    "df_train = df_train[df_train.Qomes_b_t_3 < df_train.Qomes_b_t_3.quantile(0.99)]\n",
    "df_train = df_train[df_train.Qomes_b_t_4 < df_train.Qomes_b_t_4.quantile(0.99)]\n",
    "df_train = df_train[df_train.Qomes_b_t_5 < df_train.Qomes_b_t_5.quantile(0.99)]\n",
    "df_train = df_train[df_train.Qomes_b_t_6 < df_train.Qomes_b_t_6.quantile(0.99)]"
   ]
  },
  {
   "cell_type": "code",
   "execution_count": 216,
   "metadata": {},
   "outputs": [],
   "source": [
    "df_train.reset_index(inplace=True, drop=True)"
   ]
  },
  {
   "cell_type": "code",
   "execution_count": 217,
   "metadata": {},
   "outputs": [
    {
     "data": {
      "text/plain": [
       "(19206, 32)"
      ]
     },
     "execution_count": 217,
     "metadata": {},
     "output_type": "execute_result"
    }
   ],
   "source": [
    "df_train.shape"
   ]
  },
  {
   "cell_type": "markdown",
   "metadata": {},
   "source": [
    "# Clustering Vemos que hay tipos de pozos con produccion similar"
   ]
  },
  {
   "cell_type": "code",
   "execution_count": 218,
   "metadata": {},
   "outputs": [],
   "source": [
    "from sklearn.cluster import KMeans"
   ]
  },
  {
   "cell_type": "code",
   "execution_count": 219,
   "metadata": {},
   "outputs": [],
   "source": [
    "num_cols = ['Qomes_b_t_6', 'Qomes_b_t_5', 'Qomes_b_t_4',\n",
    "       'Qomes_b_t_3', 'Qomes_b_t_2', 'Qomes_b_t_1',\n",
    "       'diff_t_6_t_5', 'diff_t_5_t_4', 'diff_t_4_t_3', 'diff_t_3_t_2',\n",
    "       'diff_t_2_t_1', 'std_t_6_t_1', 'mean_t_6_t_1', 'median_t_6_t_1',\n",
    "       'min_t_6_t_1', 'max_t_6_t_1']"
   ]
  },
  {
   "cell_type": "code",
   "execution_count": 220,
   "metadata": {},
   "outputs": [],
   "source": [
    "df_std = (df_train[num_cols] - df_train[num_cols].mean() )/ df_train[num_cols].std()"
   ]
  },
  {
   "cell_type": "code",
   "execution_count": 221,
   "metadata": {},
   "outputs": [
    {
     "data": {
      "text/plain": [
       "KMeans(algorithm='auto', copy_x=True, init='k-means++', max_iter=300,\n",
       "       n_clusters=6, n_init=10, n_jobs=None, precompute_distances='auto',\n",
       "       random_state=None, tol=0.0001, verbose=0)"
      ]
     },
     "execution_count": 221,
     "metadata": {},
     "output_type": "execute_result"
    }
   ],
   "source": [
    "kmeans = KMeans(n_clusters=6)\n",
    "kmeans.fit(df_std)"
   ]
  },
  {
   "cell_type": "code",
   "execution_count": 222,
   "metadata": {},
   "outputs": [],
   "source": [
    "df_train = pd.concat([df_train,pd.get_dummies(kmeans.predict(df_std),prefix=\"cluster\")],1).dropna()"
   ]
  },
  {
   "cell_type": "code",
   "execution_count": 223,
   "metadata": {},
   "outputs": [],
   "source": [
    "df_train[\"cluster\"] = kmeans.predict(df_std)"
   ]
  },
  {
   "cell_type": "markdown",
   "metadata": {},
   "source": [
    "Si ayuda agregar clusters, vemos que hay pozos que producen menos."
   ]
  },
  {
   "cell_type": "markdown",
   "metadata": {},
   "source": [
    "# Caracteristicas del pozo"
   ]
  },
  {
   "cell_type": "code",
   "execution_count": 224,
   "metadata": {},
   "outputs": [
    {
     "data": {
      "text/plain": [
       "Index(['Pozo', 'fecha_produccion', 'Qomes_b_t_6', 'Qomes_b_t_5', 'Qomes_b_t_4',\n",
       "       'Qomes_b_t_3', 'Qomes_b_t_2', 'Qomes_b_t_1', 'Qomes_b_t',\n",
       "       'diff_t_6_t_5', 'diff_t_5_t_4', 'diff_t_4_t_3', 'diff_t_3_t_2',\n",
       "       'diff_t_2_t_1', 'std_t_6_t_1', 'mean_t_6_t_1', 'median_t_6_t_1',\n",
       "       'min_t_6_t_1', 'max_t_6_t_1', 'month_1', 'month_2', 'month_3',\n",
       "       'month_4', 'month_5', 'month_6', 'month_7', 'month_8', 'month_9',\n",
       "       'month_10', 'month_11', 'month_12', 'detenido_mes_antes', 'cluster_0',\n",
       "       'cluster_1', 'cluster_2', 'cluster_3', 'cluster_4', 'cluster_5',\n",
       "       'cluster'],\n",
       "      dtype='object')"
      ]
     },
     "execution_count": 224,
     "metadata": {},
     "output_type": "execute_result"
    }
   ],
   "source": [
    "df_train.columns"
   ]
  },
  {
   "cell_type": "code",
   "execution_count": 225,
   "metadata": {},
   "outputs": [
    {
     "data": {
      "text/html": [
       "<div>\n",
       "<style scoped>\n",
       "    .dataframe tbody tr th:only-of-type {\n",
       "        vertical-align: middle;\n",
       "    }\n",
       "\n",
       "    .dataframe tbody tr th {\n",
       "        vertical-align: top;\n",
       "    }\n",
       "\n",
       "    .dataframe thead th {\n",
       "        text-align: right;\n",
       "    }\n",
       "</style>\n",
       "<table border=\"1\" class=\"dataframe\">\n",
       "  <thead>\n",
       "    <tr style=\"text-align: right;\">\n",
       "      <th></th>\n",
       "      <th>Pozo</th>\n",
       "      <th>latitud</th>\n",
       "      <th>longitud</th>\n",
       "    </tr>\n",
       "  </thead>\n",
       "  <tbody>\n",
       "    <tr>\n",
       "      <th>0</th>\n",
       "      <td>MOLOACAN-1</td>\n",
       "      <td>17.987072</td>\n",
       "      <td>-94.381714</td>\n",
       "    </tr>\n",
       "    <tr>\n",
       "      <th>1</th>\n",
       "      <td>MOLOACAN-101</td>\n",
       "      <td>17.982659</td>\n",
       "      <td>-94.369994</td>\n",
       "    </tr>\n",
       "    <tr>\n",
       "      <th>2</th>\n",
       "      <td>MOLOACAN-102</td>\n",
       "      <td>17.982043</td>\n",
       "      <td>-94.367304</td>\n",
       "    </tr>\n",
       "    <tr>\n",
       "      <th>3</th>\n",
       "      <td>MOLOACAN-102A</td>\n",
       "      <td>17.982088</td>\n",
       "      <td>-94.367397</td>\n",
       "    </tr>\n",
       "    <tr>\n",
       "      <th>4</th>\n",
       "      <td>MOLOACAN-11</td>\n",
       "      <td>17.986597</td>\n",
       "      <td>-94.373105</td>\n",
       "    </tr>\n",
       "  </tbody>\n",
       "</table>\n",
       "</div>"
      ],
      "text/plain": [
       "            Pozo    latitud   longitud\n",
       "0     MOLOACAN-1  17.987072 -94.381714\n",
       "1   MOLOACAN-101  17.982659 -94.369994\n",
       "2   MOLOACAN-102  17.982043 -94.367304\n",
       "3  MOLOACAN-102A  17.982088 -94.367397\n",
       "4    MOLOACAN-11  17.986597 -94.373105"
      ]
     },
     "execution_count": 225,
     "metadata": {},
     "output_type": "execute_result"
    }
   ],
   "source": [
    "lat_lon_pozo = datos_generales_pozos.groupby('NOMBRE_DE_POZO')[['LATITUD','LONGITUD']].first()\n",
    "lat_lon_pozo.reset_index(inplace=True)\n",
    "lat_lon_pozo.columns = ['Pozo','latitud', 'longitud']\n",
    "lat_lon_pozo.head()"
   ]
  },
  {
   "cell_type": "code",
   "execution_count": 226,
   "metadata": {},
   "outputs": [],
   "source": [
    "df_train = df_train.merge(lat_lon_pozo, how='left',on='Pozo').dropna()"
   ]
  },
  {
   "cell_type": "code",
   "execution_count": 227,
   "metadata": {},
   "outputs": [
    {
     "data": {
      "text/html": [
       "<div>\n",
       "<style scoped>\n",
       "    .dataframe tbody tr th:only-of-type {\n",
       "        vertical-align: middle;\n",
       "    }\n",
       "\n",
       "    .dataframe tbody tr th {\n",
       "        vertical-align: top;\n",
       "    }\n",
       "\n",
       "    .dataframe thead th {\n",
       "        text-align: right;\n",
       "    }\n",
       "</style>\n",
       "<table border=\"1\" class=\"dataframe\">\n",
       "  <thead>\n",
       "    <tr style=\"text-align: right;\">\n",
       "      <th></th>\n",
       "      <th>Pozo</th>\n",
       "      <th>fecha_produccion</th>\n",
       "      <th>Qomes_b_t_6</th>\n",
       "      <th>Qomes_b_t_5</th>\n",
       "      <th>Qomes_b_t_4</th>\n",
       "      <th>Qomes_b_t_3</th>\n",
       "      <th>Qomes_b_t_2</th>\n",
       "      <th>Qomes_b_t_1</th>\n",
       "      <th>Qomes_b_t</th>\n",
       "      <th>diff_t_6_t_5</th>\n",
       "      <th>...</th>\n",
       "      <th>detenido_mes_antes</th>\n",
       "      <th>cluster_0</th>\n",
       "      <th>cluster_1</th>\n",
       "      <th>cluster_2</th>\n",
       "      <th>cluster_3</th>\n",
       "      <th>cluster_4</th>\n",
       "      <th>cluster_5</th>\n",
       "      <th>cluster</th>\n",
       "      <th>latitud</th>\n",
       "      <th>longitud</th>\n",
       "    </tr>\n",
       "  </thead>\n",
       "  <tbody>\n",
       "    <tr>\n",
       "      <th>221</th>\n",
       "      <td>MOLOACAN-111</td>\n",
       "      <td>1999-01-01</td>\n",
       "      <td>169.92</td>\n",
       "      <td>159.46</td>\n",
       "      <td>193.95</td>\n",
       "      <td>169.10</td>\n",
       "      <td>182.03</td>\n",
       "      <td>177.28</td>\n",
       "      <td>191.66</td>\n",
       "      <td>10.46</td>\n",
       "      <td>...</td>\n",
       "      <td>0</td>\n",
       "      <td>1</td>\n",
       "      <td>0</td>\n",
       "      <td>0</td>\n",
       "      <td>0</td>\n",
       "      <td>0</td>\n",
       "      <td>0</td>\n",
       "      <td>0</td>\n",
       "      <td>17.985929</td>\n",
       "      <td>-94.370707</td>\n",
       "    </tr>\n",
       "    <tr>\n",
       "      <th>222</th>\n",
       "      <td>MOLOACAN-111</td>\n",
       "      <td>1999-02-01</td>\n",
       "      <td>159.46</td>\n",
       "      <td>193.95</td>\n",
       "      <td>169.10</td>\n",
       "      <td>182.03</td>\n",
       "      <td>177.28</td>\n",
       "      <td>191.66</td>\n",
       "      <td>186.59</td>\n",
       "      <td>-34.49</td>\n",
       "      <td>...</td>\n",
       "      <td>0</td>\n",
       "      <td>1</td>\n",
       "      <td>0</td>\n",
       "      <td>0</td>\n",
       "      <td>0</td>\n",
       "      <td>0</td>\n",
       "      <td>0</td>\n",
       "      <td>0</td>\n",
       "      <td>17.985929</td>\n",
       "      <td>-94.370707</td>\n",
       "    </tr>\n",
       "    <tr>\n",
       "      <th>223</th>\n",
       "      <td>MOLOACAN-111</td>\n",
       "      <td>1999-03-01</td>\n",
       "      <td>193.95</td>\n",
       "      <td>169.10</td>\n",
       "      <td>182.03</td>\n",
       "      <td>177.28</td>\n",
       "      <td>191.66</td>\n",
       "      <td>186.59</td>\n",
       "      <td>197.52</td>\n",
       "      <td>24.85</td>\n",
       "      <td>...</td>\n",
       "      <td>0</td>\n",
       "      <td>1</td>\n",
       "      <td>0</td>\n",
       "      <td>0</td>\n",
       "      <td>0</td>\n",
       "      <td>0</td>\n",
       "      <td>0</td>\n",
       "      <td>0</td>\n",
       "      <td>17.985929</td>\n",
       "      <td>-94.370707</td>\n",
       "    </tr>\n",
       "    <tr>\n",
       "      <th>224</th>\n",
       "      <td>MOLOACAN-111</td>\n",
       "      <td>1999-04-01</td>\n",
       "      <td>169.10</td>\n",
       "      <td>182.03</td>\n",
       "      <td>177.28</td>\n",
       "      <td>191.66</td>\n",
       "      <td>186.59</td>\n",
       "      <td>197.52</td>\n",
       "      <td>215.72</td>\n",
       "      <td>-12.93</td>\n",
       "      <td>...</td>\n",
       "      <td>0</td>\n",
       "      <td>1</td>\n",
       "      <td>0</td>\n",
       "      <td>0</td>\n",
       "      <td>0</td>\n",
       "      <td>0</td>\n",
       "      <td>0</td>\n",
       "      <td>0</td>\n",
       "      <td>17.985929</td>\n",
       "      <td>-94.370707</td>\n",
       "    </tr>\n",
       "    <tr>\n",
       "      <th>225</th>\n",
       "      <td>MOLOACAN-111</td>\n",
       "      <td>1999-05-01</td>\n",
       "      <td>182.03</td>\n",
       "      <td>177.28</td>\n",
       "      <td>191.66</td>\n",
       "      <td>186.59</td>\n",
       "      <td>197.52</td>\n",
       "      <td>215.72</td>\n",
       "      <td>185.47</td>\n",
       "      <td>4.75</td>\n",
       "      <td>...</td>\n",
       "      <td>0</td>\n",
       "      <td>1</td>\n",
       "      <td>0</td>\n",
       "      <td>0</td>\n",
       "      <td>0</td>\n",
       "      <td>0</td>\n",
       "      <td>0</td>\n",
       "      <td>0</td>\n",
       "      <td>17.985929</td>\n",
       "      <td>-94.370707</td>\n",
       "    </tr>\n",
       "  </tbody>\n",
       "</table>\n",
       "<p>5 rows × 41 columns</p>\n",
       "</div>"
      ],
      "text/plain": [
       "             Pozo fecha_produccion  Qomes_b_t_6  Qomes_b_t_5  Qomes_b_t_4  \\\n",
       "221  MOLOACAN-111       1999-01-01       169.92       159.46       193.95   \n",
       "222  MOLOACAN-111       1999-02-01       159.46       193.95       169.10   \n",
       "223  MOLOACAN-111       1999-03-01       193.95       169.10       182.03   \n",
       "224  MOLOACAN-111       1999-04-01       169.10       182.03       177.28   \n",
       "225  MOLOACAN-111       1999-05-01       182.03       177.28       191.66   \n",
       "\n",
       "     Qomes_b_t_3  Qomes_b_t_2  Qomes_b_t_1  Qomes_b_t  diff_t_6_t_5  ...  \\\n",
       "221       169.10       182.03       177.28     191.66         10.46  ...   \n",
       "222       182.03       177.28       191.66     186.59        -34.49  ...   \n",
       "223       177.28       191.66       186.59     197.52         24.85  ...   \n",
       "224       191.66       186.59       197.52     215.72        -12.93  ...   \n",
       "225       186.59       197.52       215.72     185.47          4.75  ...   \n",
       "\n",
       "     detenido_mes_antes  cluster_0  cluster_1  cluster_2  cluster_3  \\\n",
       "221                   0          1          0          0          0   \n",
       "222                   0          1          0          0          0   \n",
       "223                   0          1          0          0          0   \n",
       "224                   0          1          0          0          0   \n",
       "225                   0          1          0          0          0   \n",
       "\n",
       "     cluster_4  cluster_5  cluster    latitud   longitud  \n",
       "221          0          0        0  17.985929 -94.370707  \n",
       "222          0          0        0  17.985929 -94.370707  \n",
       "223          0          0        0  17.985929 -94.370707  \n",
       "224          0          0        0  17.985929 -94.370707  \n",
       "225          0          0        0  17.985929 -94.370707  \n",
       "\n",
       "[5 rows x 41 columns]"
      ]
     },
     "execution_count": 227,
     "metadata": {},
     "output_type": "execute_result"
    }
   ],
   "source": [
    "df_train.head()"
   ]
  },
  {
   "cell_type": "code",
   "execution_count": 228,
   "metadata": {},
   "outputs": [
    {
     "data": {
      "text/plain": [
       "(18806, 41)"
      ]
     },
     "execution_count": 228,
     "metadata": {},
     "output_type": "execute_result"
    }
   ],
   "source": [
    "df_train.shape"
   ]
  },
  {
   "cell_type": "markdown",
   "metadata": {},
   "source": [
    "# AED"
   ]
  },
  {
   "cell_type": "code",
   "execution_count": 229,
   "metadata": {},
   "outputs": [
    {
     "data": {
      "image/png": "[encoded data removed]",
      "text/plain": [
       "<Figure size 1080x360 with 1 Axes>"
      ]
     },
     "metadata": {
      "needs_background": "light"
     },
     "output_type": "display_data"
    }
   ],
   "source": [
    "df_train.Qomes_b_t.hist(bins=25, figsize=(15,5))\n",
    "plt.title('Histograma de variable predictiva')\n",
    "plt.xticks(np.linspace(0,4000,15));"
   ]
  },
  {
   "cell_type": "markdown",
   "metadata": {},
   "source": [
    "# Dispersiones"
   ]
  },
  {
   "cell_type": "code",
   "execution_count": 230,
   "metadata": {},
   "outputs": [
    {
     "data": {
      "text/plain": [
       "Index(['Pozo', 'fecha_produccion', 'Qomes_b_t_6', 'Qomes_b_t_5', 'Qomes_b_t_4',\n",
       "       'Qomes_b_t_3', 'Qomes_b_t_2', 'Qomes_b_t_1', 'Qomes_b_t',\n",
       "       'diff_t_6_t_5', 'diff_t_5_t_4', 'diff_t_4_t_3', 'diff_t_3_t_2',\n",
       "       'diff_t_2_t_1', 'std_t_6_t_1', 'mean_t_6_t_1', 'median_t_6_t_1',\n",
       "       'min_t_6_t_1', 'max_t_6_t_1', 'month_1', 'month_2', 'month_3',\n",
       "       'month_4', 'month_5', 'month_6', 'month_7', 'month_8', 'month_9',\n",
       "       'month_10', 'month_11', 'month_12', 'detenido_mes_antes', 'cluster_0',\n",
       "       'cluster_1', 'cluster_2', 'cluster_3', 'cluster_4', 'cluster_5',\n",
       "       'cluster', 'latitud', 'longitud'],\n",
       "      dtype='object')"
      ]
     },
     "execution_count": 230,
     "metadata": {},
     "output_type": "execute_result"
    }
   ],
   "source": [
    "df_train.columns"
   ]
  },
  {
   "cell_type": "code",
   "execution_count": 231,
   "metadata": {},
   "outputs": [],
   "source": [
    "num_cols = ['Qomes_b_t_6', 'Qomes_b_t_5', 'Qomes_b_t_4',\n",
    "       'Qomes_b_t_3', 'Qomes_b_t_2', 'Qomes_b_t_1',\n",
    "       'diff_t_6_t_5', 'diff_t_5_t_4', 'diff_t_4_t_3', 'diff_t_3_t_2',\n",
    "       'diff_t_2_t_1', 'std_t_6_t_1', 'mean_t_6_t_1', 'median_t_6_t_1',\n",
    "       'min_t_6_t_1', 'max_t_6_t_1',\n",
    "       'cluster_0', 'cluster_1', 'cluster_2', 'cluster_3', 'cluster_4',\n",
    "       'cluster_5',\n",
    "       'latitud', 'longitud']"
   ]
  },
  {
   "cell_type": "markdown",
   "metadata": {},
   "source": [
    "En algun momento dibujaras un mapa aqui"
   ]
  },
  {
   "cell_type": "code",
   "execution_count": 232,
   "metadata": {},
   "outputs": [],
   "source": [
    "lat = df_train.groupby('Pozo')[['latitud','longitud']].first().latitud.values\n",
    "lon = df_train.groupby('Pozo')[['latitud','longitud']].first().latitud.values\n",
    "idx = df_train.groupby('Pozo')[['latitud','longitud']].first().index.values"
   ]
  },
  {
   "cell_type": "markdown",
   "metadata": {},
   "source": [
    "# mas variables"
   ]
  },
  {
   "cell_type": "code",
   "execution_count": 233,
   "metadata": {},
   "outputs": [
    {
     "data": {
      "text/plain": [
       "Index(['Pozo', 'fecha_produccion', 'Qomes_b_t_6', 'Qomes_b_t_5', 'Qomes_b_t_4',\n",
       "       'Qomes_b_t_3', 'Qomes_b_t_2', 'Qomes_b_t_1', 'Qomes_b_t',\n",
       "       'diff_t_6_t_5', 'diff_t_5_t_4', 'diff_t_4_t_3', 'diff_t_3_t_2',\n",
       "       'diff_t_2_t_1', 'std_t_6_t_1', 'mean_t_6_t_1', 'median_t_6_t_1',\n",
       "       'min_t_6_t_1', 'max_t_6_t_1', 'month_1', 'month_2', 'month_3',\n",
       "       'month_4', 'month_5', 'month_6', 'month_7', 'month_8', 'month_9',\n",
       "       'month_10', 'month_11', 'month_12', 'detenido_mes_antes', 'cluster_0',\n",
       "       'cluster_1', 'cluster_2', 'cluster_3', 'cluster_4', 'cluster_5',\n",
       "       'cluster', 'latitud', 'longitud'],\n",
       "      dtype='object')"
      ]
     },
     "execution_count": 233,
     "metadata": {},
     "output_type": "execute_result"
    }
   ],
   "source": [
    "df_train.columns"
   ]
  },
  {
   "cell_type": "code",
   "execution_count": 234,
   "metadata": {},
   "outputs": [
    {
     "data": {
      "text/plain": [
       "<matplotlib.axes._subplots.AxesSubplot at 0x1d199e5feb8>"
      ]
     },
     "execution_count": 234,
     "metadata": {},
     "output_type": "execute_result"
    },
    {
     "data": {
      "image/png": "[encoded data removed]",
      "text/plain": [
       "<Figure size 432x288 with 2 Axes>"
      ]
     },
     "metadata": {
      "needs_background": "light"
     },
     "output_type": "display_data"
    }
   ],
   "source": [
    "sns.heatmap(df_train.groupby('cluster')[['Qomes_b_t_6', 'Qomes_b_t_5', 'Qomes_b_t_4',\n",
    "       'Qomes_b_t_3', 'Qomes_b_t_2', 'Qomes_b_t_1']].mean(),cmap='jet')"
   ]
  },
  {
   "cell_type": "markdown",
   "metadata": {},
   "source": [
    "# Entrenamiento"
   ]
  },
  {
   "cell_type": "code",
   "execution_count": null,
   "metadata": {},
   "outputs": [],
   "source": []
  },
  {
   "cell_type": "code",
   "execution_count": 235,
   "metadata": {},
   "outputs": [
    {
     "data": {
      "text/plain": [
       "Index(['Pozo', 'fecha_produccion', 'Qomes_b_t_6', 'Qomes_b_t_5', 'Qomes_b_t_4',\n",
       "       'Qomes_b_t_3', 'Qomes_b_t_2', 'Qomes_b_t_1', 'Qomes_b_t',\n",
       "       'diff_t_6_t_5', 'diff_t_5_t_4', 'diff_t_4_t_3', 'diff_t_3_t_2',\n",
       "       'diff_t_2_t_1', 'std_t_6_t_1', 'mean_t_6_t_1', 'median_t_6_t_1',\n",
       "       'min_t_6_t_1', 'max_t_6_t_1', 'month_1', 'month_2', 'month_3',\n",
       "       'month_4', 'month_5', 'month_6', 'month_7', 'month_8', 'month_9',\n",
       "       'month_10', 'month_11', 'month_12', 'detenido_mes_antes', 'cluster_0',\n",
       "       'cluster_1', 'cluster_2', 'cluster_3', 'cluster_4', 'cluster_5',\n",
       "       'cluster', 'latitud', 'longitud'],\n",
       "      dtype='object')"
      ]
     },
     "execution_count": 235,
     "metadata": {},
     "output_type": "execute_result"
    }
   ],
   "source": [
    "df_train.columns"
   ]
  },
  {
   "cell_type": "code",
   "execution_count": 236,
   "metadata": {},
   "outputs": [],
   "source": [
    "num_cols =['Qomes_b_t_6', 'Qomes_b_t_5', 'Qomes_b_t_4',\n",
    "       'Qomes_b_t_3', 'Qomes_b_t_2', 'Qomes_b_t_1', \n",
    "       'diff_t_6_t_5', 'diff_t_5_t_4', 'diff_t_4_t_3', 'diff_t_3_t_2',\n",
    "       'diff_t_2_t_1', 'std_t_6_t_1', 'mean_t_6_t_1', 'median_t_6_t_1',\n",
    "       'min_t_6_t_1', 'max_t_6_t_1',\n",
    "           'month_1', 'month_2', 'month_3', 'month_4',\n",
    "       'month_5', 'month_6', 'month_7', 'month_8', 'month_9', 'month_10',\n",
    "       'month_11', 'month_12', 'detenido_mes_antes', 'cluster_0', 'cluster_1',\n",
    "       'cluster_2', 'cluster_3', 'cluster_4', 'cluster_5', \n",
    "       'latitud', 'longitud']"
   ]
  },
  {
   "cell_type": "code",
   "execution_count": 237,
   "metadata": {},
   "outputs": [],
   "source": [
    "#ML preprocessing\n",
    "from sklearn.model_selection import train_test_split\n",
    "def train_test_valid_split(df, x_cols, y_col):\n",
    "    \n",
    "    x_train_test, x_valid, y_train_test, y_valid = train_test_split(\n",
    "    df[x_cols],\n",
    "    df[y_col],\n",
    "    test_size=0.1,\n",
    "    random_state=8)\n",
    "\n",
    "    x_train, x_test, y_train, y_test = train_test_split(x_train_test, \n",
    "                                                    y_train_test,\n",
    "                                                    test_size = 0.2,\n",
    "                                                    random_state=10)\n",
    "    \n",
    "    return x_train, x_test, x_valid, y_train, y_test, y_valid"
   ]
  },
  {
   "cell_type": "code",
   "execution_count": 238,
   "metadata": {},
   "outputs": [],
   "source": [
    "x_train, x_test, x_valid, y_train, y_test, y_valid = train_test_valid_split(df_train, num_cols, 'Qomes_b_t')"
   ]
  },
  {
   "cell_type": "code",
   "execution_count": 240,
   "metadata": {},
   "outputs": [
    {
     "data": {
      "text/html": [
       "<div>\n",
       "<style scoped>\n",
       "    .dataframe tbody tr th:only-of-type {\n",
       "        vertical-align: middle;\n",
       "    }\n",
       "\n",
       "    .dataframe tbody tr th {\n",
       "        vertical-align: top;\n",
       "    }\n",
       "\n",
       "    .dataframe thead th {\n",
       "        text-align: right;\n",
       "    }\n",
       "</style>\n",
       "<table border=\"1\" class=\"dataframe\">\n",
       "  <thead>\n",
       "    <tr style=\"text-align: right;\">\n",
       "      <th></th>\n",
       "      <th>Qomes_b_t_6</th>\n",
       "      <th>Qomes_b_t_5</th>\n",
       "      <th>Qomes_b_t_4</th>\n",
       "      <th>Qomes_b_t_3</th>\n",
       "      <th>Qomes_b_t_2</th>\n",
       "      <th>Qomes_b_t_1</th>\n",
       "      <th>diff_t_6_t_5</th>\n",
       "      <th>diff_t_5_t_4</th>\n",
       "      <th>diff_t_4_t_3</th>\n",
       "      <th>diff_t_3_t_2</th>\n",
       "      <th>...</th>\n",
       "      <th>month_12</th>\n",
       "      <th>detenido_mes_antes</th>\n",
       "      <th>cluster_0</th>\n",
       "      <th>cluster_1</th>\n",
       "      <th>cluster_2</th>\n",
       "      <th>cluster_3</th>\n",
       "      <th>cluster_4</th>\n",
       "      <th>cluster_5</th>\n",
       "      <th>latitud</th>\n",
       "      <th>longitud</th>\n",
       "    </tr>\n",
       "  </thead>\n",
       "  <tbody>\n",
       "    <tr>\n",
       "      <th>7359</th>\n",
       "      <td>171.53</td>\n",
       "      <td>153.38</td>\n",
       "      <td>171.54</td>\n",
       "      <td>147.86</td>\n",
       "      <td>165.92</td>\n",
       "      <td>176.75</td>\n",
       "      <td>18.15</td>\n",
       "      <td>-18.16</td>\n",
       "      <td>23.68</td>\n",
       "      <td>-18.06</td>\n",
       "      <td>...</td>\n",
       "      <td>0</td>\n",
       "      <td>0</td>\n",
       "      <td>1</td>\n",
       "      <td>0</td>\n",
       "      <td>0</td>\n",
       "      <td>0</td>\n",
       "      <td>0</td>\n",
       "      <td>0</td>\n",
       "      <td>17.992989</td>\n",
       "      <td>-94.362479</td>\n",
       "    </tr>\n",
       "    <tr>\n",
       "      <th>15626</th>\n",
       "      <td>503.02</td>\n",
       "      <td>521.73</td>\n",
       "      <td>488.29</td>\n",
       "      <td>366.02</td>\n",
       "      <td>122.70</td>\n",
       "      <td>121.82</td>\n",
       "      <td>-18.71</td>\n",
       "      <td>33.44</td>\n",
       "      <td>122.27</td>\n",
       "      <td>243.32</td>\n",
       "      <td>...</td>\n",
       "      <td>0</td>\n",
       "      <td>0</td>\n",
       "      <td>0</td>\n",
       "      <td>0</td>\n",
       "      <td>0</td>\n",
       "      <td>0</td>\n",
       "      <td>1</td>\n",
       "      <td>0</td>\n",
       "      <td>18.005602</td>\n",
       "      <td>-94.341469</td>\n",
       "    </tr>\n",
       "    <tr>\n",
       "      <th>8631</th>\n",
       "      <td>180.66</td>\n",
       "      <td>180.96</td>\n",
       "      <td>178.02</td>\n",
       "      <td>185.31</td>\n",
       "      <td>171.14</td>\n",
       "      <td>166.79</td>\n",
       "      <td>-0.30</td>\n",
       "      <td>2.94</td>\n",
       "      <td>-7.29</td>\n",
       "      <td>14.17</td>\n",
       "      <td>...</td>\n",
       "      <td>0</td>\n",
       "      <td>0</td>\n",
       "      <td>1</td>\n",
       "      <td>0</td>\n",
       "      <td>0</td>\n",
       "      <td>0</td>\n",
       "      <td>0</td>\n",
       "      <td>0</td>\n",
       "      <td>18.013240</td>\n",
       "      <td>-94.347007</td>\n",
       "    </tr>\n",
       "    <tr>\n",
       "      <th>16053</th>\n",
       "      <td>499.04</td>\n",
       "      <td>377.23</td>\n",
       "      <td>355.77</td>\n",
       "      <td>364.82</td>\n",
       "      <td>372.61</td>\n",
       "      <td>411.99</td>\n",
       "      <td>121.81</td>\n",
       "      <td>21.46</td>\n",
       "      <td>-9.05</td>\n",
       "      <td>-7.79</td>\n",
       "      <td>...</td>\n",
       "      <td>0</td>\n",
       "      <td>0</td>\n",
       "      <td>0</td>\n",
       "      <td>0</td>\n",
       "      <td>0</td>\n",
       "      <td>1</td>\n",
       "      <td>0</td>\n",
       "      <td>0</td>\n",
       "      <td>18.028160</td>\n",
       "      <td>-94.329587</td>\n",
       "    </tr>\n",
       "    <tr>\n",
       "      <th>18226</th>\n",
       "      <td>695.16</td>\n",
       "      <td>695.08</td>\n",
       "      <td>704.81</td>\n",
       "      <td>681.59</td>\n",
       "      <td>714.93</td>\n",
       "      <td>729.28</td>\n",
       "      <td>0.08</td>\n",
       "      <td>-9.73</td>\n",
       "      <td>23.22</td>\n",
       "      <td>-33.34</td>\n",
       "      <td>...</td>\n",
       "      <td>0</td>\n",
       "      <td>0</td>\n",
       "      <td>0</td>\n",
       "      <td>1</td>\n",
       "      <td>0</td>\n",
       "      <td>0</td>\n",
       "      <td>0</td>\n",
       "      <td>0</td>\n",
       "      <td>17.962783</td>\n",
       "      <td>-94.376283</td>\n",
       "    </tr>\n",
       "  </tbody>\n",
       "</table>\n",
       "<p>5 rows × 37 columns</p>\n",
       "</div>"
      ],
      "text/plain": [
       "       Qomes_b_t_6  Qomes_b_t_5  Qomes_b_t_4  Qomes_b_t_3  Qomes_b_t_2  \\\n",
       "7359        171.53       153.38       171.54       147.86       165.92   \n",
       "15626       503.02       521.73       488.29       366.02       122.70   \n",
       "8631        180.66       180.96       178.02       185.31       171.14   \n",
       "16053       499.04       377.23       355.77       364.82       372.61   \n",
       "18226       695.16       695.08       704.81       681.59       714.93   \n",
       "\n",
       "       Qomes_b_t_1  diff_t_6_t_5  diff_t_5_t_4  diff_t_4_t_3  diff_t_3_t_2  \\\n",
       "7359        176.75         18.15        -18.16         23.68        -18.06   \n",
       "15626       121.82        -18.71         33.44        122.27        243.32   \n",
       "8631        166.79         -0.30          2.94         -7.29         14.17   \n",
       "16053       411.99        121.81         21.46         -9.05         -7.79   \n",
       "18226       729.28          0.08         -9.73         23.22        -33.34   \n",
       "\n",
       "       ...  month_12  detenido_mes_antes  cluster_0  cluster_1  cluster_2  \\\n",
       "7359   ...         0                   0          1          0          0   \n",
       "15626  ...         0                   0          0          0          0   \n",
       "8631   ...         0                   0          1          0          0   \n",
       "16053  ...         0                   0          0          0          0   \n",
       "18226  ...         0                   0          0          1          0   \n",
       "\n",
       "       cluster_3  cluster_4  cluster_5    latitud   longitud  \n",
       "7359           0          0          0  17.992989 -94.362479  \n",
       "15626          0          1          0  18.005602 -94.341469  \n",
       "8631           0          0          0  18.013240 -94.347007  \n",
       "16053          1          0          0  18.028160 -94.329587  \n",
       "18226          0          0          0  17.962783 -94.376283  \n",
       "\n",
       "[5 rows x 37 columns]"
      ]
     },
     "execution_count": 240,
     "metadata": {},
     "output_type": "execute_result"
    }
   ],
   "source": [
    "x_valid.head()"
   ]
  },
  {
   "cell_type": "code",
   "execution_count": 239,
   "metadata": {},
   "outputs": [
    {
     "data": {
      "text/plain": [
       "(13540, 37)"
      ]
     },
     "execution_count": 239,
     "metadata": {},
     "output_type": "execute_result"
    }
   ],
   "source": [
    "x_train.shape"
   ]
  },
  {
   "cell_type": "code",
   "execution_count": 65,
   "metadata": {},
   "outputs": [
    {
     "name": "stdout",
     "output_type": "stream",
     "text": [
      "Training until validation scores don't improve for 25 rounds.\n",
      "Early stopping, best iteration is:\n",
      "[8464]\tvalid_0's l1: 26.4942\n"
     ]
    }
   ],
   "source": [
    "d_train = lgb.Dataset(x_train, y_train)\n",
    "d_test = lgb.Dataset(x_test, label=y_test)\n",
    "\n",
    "params = {}\n",
    "params['learning_rate'] = 0.001\n",
    "params['boosting_type'] = 'gbdt'\n",
    "params['objective'] = 'regression'\n",
    "params['metric'] = 'mae'\n",
    "params['sub_feature'] = 0.8\n",
    "params['num_leaves'] = 25\n",
    "params['min_data'] = 10\n",
    "params['max_depth'] = -1\n",
    "params['num_iterations'] = 100000\n",
    "\n",
    "clf = lgb.train(params, d_train, 100, valid_sets=[d_test], early_stopping_rounds=25,verbose_eval=10000)"
   ]
  },
  {
   "cell_type": "code",
   "execution_count": 64,
   "metadata": {},
   "outputs": [
    {
     "data": {
      "text/plain": [
       "8464"
      ]
     },
     "execution_count": 64,
     "metadata": {},
     "output_type": "execute_result"
    }
   ],
   "source": [
    "clf.num_trees()"
   ]
  },
  {
   "cell_type": "markdown",
   "metadata": {},
   "source": [
    "# Evaluacion"
   ]
  },
  {
   "cell_type": "code",
   "execution_count": 66,
   "metadata": {},
   "outputs": [],
   "source": [
    "y_pred = clf.predict(x_valid)"
   ]
  },
  {
   "cell_type": "code",
   "execution_count": 68,
   "metadata": {},
   "outputs": [],
   "source": [
    "#ML Evaluation\n",
    "from sklearn import metrics\n",
    "def report_evaluation_regression(y_real, y_pred):\n",
    "    \n",
    "    print(\"R*2: %1.4f\" % metrics.r2_score(y_real,y_pred))\n",
    "    print(\"MEA: %1.4f\" % metrics.mean_absolute_error(y_real,y_pred))\n",
    "    print(\"MSE %1.3f\" % metrics.mean_squared_error(y_real,y_pred))\n",
    "    print(\"RMSE %1.3f\" % np.sqrt(metrics.mean_squared_error(y_real,y_pred)))"
   ]
  },
  {
   "cell_type": "code",
   "execution_count": 69,
   "metadata": {},
   "outputs": [
    {
     "name": "stdout",
     "output_type": "stream",
     "text": [
      "R*2: 0.8671\n",
      "MEA: 27.2530\n",
      "MSE 3681.473\n",
      "RMSE 60.675\n"
     ]
    }
   ],
   "source": [
    "report_evaluation_regression(y_valid, y_pred)"
   ]
  },
  {
   "cell_type": "code",
   "execution_count": 71,
   "metadata": {},
   "outputs": [],
   "source": [
    "def yy_plot(y_real, y_pred):\n",
    "    plt.scatter(y_real, y_pred, alpha=0.5)\n",
    "    mi2,ma2 = y_real.min(), y_real.max()\n",
    "    mi1,ma1 = y_pred.min(), y_pred.max()\n",
    "    plt.plot([mi1,ma1],[mi2,ma2], linestyle='--', color='navy')\n",
    "    plt.ylabel('Y_real')\n",
    "    plt.xlabel('Y_estimada')"
   ]
  },
  {
   "cell_type": "code",
   "execution_count": 72,
   "metadata": {},
   "outputs": [
    {
     "data": {
      "image/png": "[encoded data removed]",
      "text/plain": [
       "<Figure size 1152x864 with 1 Axes>"
      ]
     },
     "metadata": {},
     "output_type": "display_data"
    }
   ],
   "source": [
    "yy_plot(y_valid, y_pred)"
   ]
  },
  {
   "cell_type": "markdown",
   "metadata": {},
   "source": [
    "## Residuos"
   ]
  },
  {
   "cell_type": "code",
   "execution_count": 73,
   "metadata": {},
   "outputs": [],
   "source": [
    "res = (y_valid - y_pred) / y_valid"
   ]
  },
  {
   "cell_type": "code",
   "execution_count": 74,
   "metadata": {},
   "outputs": [
    {
     "data": {
      "text/plain": [
       "<matplotlib.collections.PathCollection at 0x1febe4aad68>"
      ]
     },
     "execution_count": 74,
     "metadata": {},
     "output_type": "execute_result"
    },
    {
     "data": {
      "image/png": "[encoded data removed]",
      "text/plain": [
       "<Figure size 1152x864 with 1 Axes>"
      ]
     },
     "metadata": {},
     "output_type": "display_data"
    }
   ],
   "source": [
    "plt.scatter(y_valid, res, alpha=0.5)"
   ]
  },
  {
   "cell_type": "code",
   "execution_count": 75,
   "metadata": {},
   "outputs": [
    {
     "data": {
      "text/plain": [
       "0.8987088908308483"
      ]
     },
     "execution_count": 75,
     "metadata": {},
     "output_type": "execute_result"
    }
   ],
   "source": [
    "res.median() * 100"
   ]
  },
  {
   "cell_type": "code",
   "execution_count": 76,
   "metadata": {},
   "outputs": [
    {
     "data": {
      "text/plain": [
       "-6.7304774838831145"
      ]
     },
     "execution_count": 76,
     "metadata": {},
     "output_type": "execute_result"
    }
   ],
   "source": [
    "res.mean() * 100"
   ]
  },
  {
   "cell_type": "code",
   "execution_count": 77,
   "metadata": {},
   "outputs": [
    {
     "data": {
      "text/html": [
       "<div>\n",
       "<style scoped>\n",
       "    .dataframe tbody tr th:only-of-type {\n",
       "        vertical-align: middle;\n",
       "    }\n",
       "\n",
       "    .dataframe tbody tr th {\n",
       "        vertical-align: top;\n",
       "    }\n",
       "\n",
       "    .dataframe thead th {\n",
       "        text-align: right;\n",
       "    }\n",
       "</style>\n",
       "<table border=\"1\" class=\"dataframe\">\n",
       "  <thead>\n",
       "    <tr style=\"text-align: right;\">\n",
       "      <th></th>\n",
       "      <th>Pozo</th>\n",
       "      <th>fecha_produccion</th>\n",
       "      <th>Qomes_b_t_6</th>\n",
       "      <th>Qomes_b_t_5</th>\n",
       "      <th>Qomes_b_t_4</th>\n",
       "      <th>Qomes_b_t_3</th>\n",
       "      <th>Qomes_b_t_2</th>\n",
       "      <th>Qomes_b_t_1</th>\n",
       "      <th>Qomes_b_t</th>\n",
       "      <th>diff_t_6_t_5</th>\n",
       "      <th>...</th>\n",
       "      <th>detenido_mes_antes</th>\n",
       "      <th>cluster_0</th>\n",
       "      <th>cluster_1</th>\n",
       "      <th>cluster_2</th>\n",
       "      <th>cluster_3</th>\n",
       "      <th>cluster_4</th>\n",
       "      <th>cluster_5</th>\n",
       "      <th>cluster</th>\n",
       "      <th>latitud</th>\n",
       "      <th>longitud</th>\n",
       "    </tr>\n",
       "  </thead>\n",
       "  <tbody>\n",
       "    <tr>\n",
       "      <th>13154</th>\n",
       "      <td>MOLOACAN-624</td>\n",
       "      <td>2006-08-01</td>\n",
       "      <td>547.88</td>\n",
       "      <td>485.33</td>\n",
       "      <td>547.84</td>\n",
       "      <td>463.64</td>\n",
       "      <td>302.63</td>\n",
       "      <td>18.87</td>\n",
       "      <td>54.30</td>\n",
       "      <td>62.55</td>\n",
       "      <td>...</td>\n",
       "      <td>0</td>\n",
       "      <td>0</td>\n",
       "      <td>0</td>\n",
       "      <td>1</td>\n",
       "      <td>0</td>\n",
       "      <td>0</td>\n",
       "      <td>0</td>\n",
       "      <td>2</td>\n",
       "      <td>18.018731</td>\n",
       "      <td>-94.334423</td>\n",
       "    </tr>\n",
       "    <tr>\n",
       "      <th>14109</th>\n",
       "      <td>MOLOACAN-640</td>\n",
       "      <td>2004-04-01</td>\n",
       "      <td>353.91</td>\n",
       "      <td>354.51</td>\n",
       "      <td>347.55</td>\n",
       "      <td>365.69</td>\n",
       "      <td>349.65</td>\n",
       "      <td>331.05</td>\n",
       "      <td>48.45</td>\n",
       "      <td>-0.60</td>\n",
       "      <td>...</td>\n",
       "      <td>0</td>\n",
       "      <td>1</td>\n",
       "      <td>0</td>\n",
       "      <td>0</td>\n",
       "      <td>0</td>\n",
       "      <td>0</td>\n",
       "      <td>0</td>\n",
       "      <td>0</td>\n",
       "      <td>18.014402</td>\n",
       "      <td>-94.341071</td>\n",
       "    </tr>\n",
       "  </tbody>\n",
       "</table>\n",
       "<p>2 rows × 41 columns</p>\n",
       "</div>"
      ],
      "text/plain": [
       "               Pozo fecha_produccion  Qomes_b_t_6  Qomes_b_t_5  Qomes_b_t_4  \\\n",
       "13154  MOLOACAN-624       2006-08-01       547.88       485.33       547.84   \n",
       "14109  MOLOACAN-640       2004-04-01       353.91       354.51       347.55   \n",
       "\n",
       "       Qomes_b_t_3  Qomes_b_t_2  Qomes_b_t_1  Qomes_b_t  diff_t_6_t_5  ...  \\\n",
       "13154       463.64       302.63        18.87      54.30         62.55  ...   \n",
       "14109       365.69       349.65       331.05      48.45         -0.60  ...   \n",
       "\n",
       "       detenido_mes_antes  cluster_0  cluster_1  cluster_2  cluster_3  \\\n",
       "13154                   0          0          0          1          0   \n",
       "14109                   0          1          0          0          0   \n",
       "\n",
       "       cluster_4  cluster_5  cluster    latitud   longitud  \n",
       "13154          0          0        2  18.018731 -94.334423  \n",
       "14109          0          0        0  18.014402 -94.341071  \n",
       "\n",
       "[2 rows x 41 columns]"
      ]
     },
     "execution_count": 77,
     "metadata": {},
     "output_type": "execute_result"
    }
   ],
   "source": [
    "df_train.loc[res[res<-5].index]"
   ]
  },
  {
   "cell_type": "code",
   "execution_count": 78,
   "metadata": {},
   "outputs": [
    {
     "data": {
      "text/plain": [
       "13154   -6.433411\n",
       "14109   -6.092295\n",
       "Name: Qomes_b_t, dtype: float64"
      ]
     },
     "execution_count": 78,
     "metadata": {},
     "output_type": "execute_result"
    }
   ],
   "source": [
    "res[res<-5]"
   ]
  },
  {
   "cell_type": "markdown",
   "metadata": {},
   "source": [
    "## Autocorrelacion"
   ]
  },
  {
   "cell_type": "code",
   "execution_count": 79,
   "metadata": {},
   "outputs": [
    {
     "data": {
      "image/png": "[encoded data removed]",
      "text/plain": [
       "<Figure size 1152x864 with 1 Axes>"
      ]
     },
     "metadata": {},
     "output_type": "display_data"
    }
   ],
   "source": [
    "plt.xcorr(df_train.Qomes_b_t, df_train.Qomes_b_t,maxlags=50, usevlines=1)\n",
    "plt.show()"
   ]
  },
  {
   "cell_type": "markdown",
   "metadata": {},
   "source": [
    "Blogs indican que es mejor hacer la estimacion de $\\hat{y}=P(t)-P(t-1)=\\alpha + \\sum {\\beta X_i} + \\epsilon$\n",
    "\n",
    "Se generan mas variables para ayudarle al modelo"
   ]
  },
  {
   "cell_type": "markdown",
   "metadata": {},
   "source": [
    "# Interpretacion"
   ]
  },
  {
   "cell_type": "code",
   "execution_count": 80,
   "metadata": {},
   "outputs": [
    {
     "data": {
      "text/plain": [
       "<matplotlib.axes._subplots.AxesSubplot at 0x1febeb232b0>"
      ]
     },
     "execution_count": 80,
     "metadata": {},
     "output_type": "execute_result"
    },
    {
     "data": {
      "image/png": "[encoded data removed]",
      "text/plain": [
       "<Figure size 1152x864 with 1 Axes>"
      ]
     },
     "metadata": {},
     "output_type": "display_data"
    }
   ],
   "source": [
    "lgb.plot_importance(clf,max_num_features=10, title='Importancia de variables - Top 10')"
   ]
  },
  {
   "cell_type": "code",
   "execution_count": 82,
   "metadata": {},
   "outputs": [],
   "source": [
    "def shap_shap(clf, x_valid):\n",
    "    explainer = shap.TreeExplainer(clf)\n",
    "    return explainer, explainer.shap_values(x_valid)"
   ]
  },
  {
   "cell_type": "code",
   "execution_count": 81,
   "metadata": {},
   "outputs": [
    {
     "ename": "AttributeError",
     "evalue": "module 'serch_tools' has no attribute 'shap_shap'",
     "output_type": "error",
     "traceback": [
      "\u001b[1;31m---------------------------------------------------------------------------\u001b[0m",
      "\u001b[1;31mAttributeError\u001b[0m                            Traceback (most recent call last)",
      "\u001b[1;32m<ipython-input-81-1db528c4a46f>\u001b[0m in \u001b[0;36m<module>\u001b[1;34m\u001b[0m\n\u001b[1;32m----> 1\u001b[1;33m \u001b[0mexplainer\u001b[0m\u001b[1;33m,\u001b[0m \u001b[0mshap_values\u001b[0m \u001b[1;33m=\u001b[0m \u001b[0mst\u001b[0m\u001b[1;33m.\u001b[0m\u001b[0mshap_shap\u001b[0m\u001b[1;33m(\u001b[0m\u001b[0mclf\u001b[0m\u001b[1;33m,\u001b[0m \u001b[0mx_valid\u001b[0m\u001b[1;33m)\u001b[0m\u001b[1;33m\u001b[0m\u001b[1;33m\u001b[0m\u001b[0m\n\u001b[0m",
      "\u001b[1;31mAttributeError\u001b[0m: module 'serch_tools' has no attribute 'shap_shap'"
     ]
    }
   ],
   "source": [
    "explainer, shap_values = shap_shap(clf, x_valid)"
   ]
  },
  {
   "cell_type": "code",
   "execution_count": null,
   "metadata": {},
   "outputs": [],
   "source": [
    "shap.force_plot(explainer.expected_value, shap_values[5,:], x_valid.iloc[5,:])"
   ]
  },
  {
   "cell_type": "markdown",
   "metadata": {},
   "source": [
    "## Efectos Marginales"
   ]
  },
  {
   "cell_type": "code",
   "execution_count": 83,
   "metadata": {},
   "outputs": [],
   "source": [
    "a = pd.DataFrame(clf.feature_importance(),index=x_valid.columns,\n",
    "             columns=['imp']).sort_values('imp')"
   ]
  },
  {
   "cell_type": "code",
   "execution_count": 84,
   "metadata": {},
   "outputs": [
    {
     "ename": "NameError",
     "evalue": "name 'shap_values' is not defined",
     "output_type": "error",
     "traceback": [
      "\u001b[1;31m---------------------------------------------------------------------------\u001b[0m",
      "\u001b[1;31mNameError\u001b[0m                                 Traceback (most recent call last)",
      "\u001b[1;32m<ipython-input-84-c6c97b536d8a>\u001b[0m in \u001b[0;36m<module>\u001b[1;34m\u001b[0m\n\u001b[0;32m      1\u001b[0m \u001b[1;32mfor\u001b[0m \u001b[0mcol\u001b[0m \u001b[1;32min\u001b[0m \u001b[0ma\u001b[0m\u001b[1;33m.\u001b[0m\u001b[0msort_values\u001b[0m\u001b[1;33m(\u001b[0m\u001b[1;34m'imp'\u001b[0m\u001b[1;33m,\u001b[0m\u001b[0mascending\u001b[0m\u001b[1;33m=\u001b[0m\u001b[1;32mFalse\u001b[0m\u001b[1;33m)\u001b[0m\u001b[1;33m.\u001b[0m\u001b[0mhead\u001b[0m\u001b[1;33m(\u001b[0m\u001b[1;36m5\u001b[0m\u001b[1;33m)\u001b[0m\u001b[1;33m.\u001b[0m\u001b[0mindex\u001b[0m\u001b[1;33m:\u001b[0m\u001b[1;33m\u001b[0m\u001b[1;33m\u001b[0m\u001b[0m\n\u001b[1;32m----> 2\u001b[1;33m     \u001b[0mshap\u001b[0m\u001b[1;33m.\u001b[0m\u001b[0mdependence_plot\u001b[0m\u001b[1;33m(\u001b[0m\u001b[0mcol\u001b[0m\u001b[1;33m,\u001b[0m \u001b[0mshap_values\u001b[0m\u001b[1;33m,\u001b[0m \u001b[0mx_valid\u001b[0m\u001b[1;33m)\u001b[0m\u001b[1;33m\u001b[0m\u001b[1;33m\u001b[0m\u001b[0m\n\u001b[0m",
      "\u001b[1;31mNameError\u001b[0m: name 'shap_values' is not defined"
     ]
    }
   ],
   "source": [
    "for col in a.sort_values('imp',ascending=False).head(5).index:\n",
    "    shap.dependence_plot(col, shap_values, x_valid)"
   ]
  },
  {
   "cell_type": "markdown",
   "metadata": {},
   "source": [
    "# Check de pozos aleatorios"
   ]
  },
  {
   "cell_type": "code",
   "execution_count": 85,
   "metadata": {},
   "outputs": [],
   "source": [
    "idx = df_train.Pozo.sample(10)"
   ]
  },
  {
   "cell_type": "code",
   "execution_count": 86,
   "metadata": {},
   "outputs": [],
   "source": [
    "index = df_train[df_train.Pozo.isin(idx)].groupby(['Pozo','fecha_produccion']).Qomes_b_t.first().index"
   ]
  },
  {
   "cell_type": "code",
   "execution_count": 87,
   "metadata": {},
   "outputs": [],
   "source": [
    "validacion = df_train[df_train.Pozo.isin(idx)].groupby(['Pozo','fecha_produccion']).Qomes_b_t.first().unstack(0)"
   ]
  },
  {
   "cell_type": "code",
   "execution_count": 88,
   "metadata": {},
   "outputs": [],
   "source": [
    "prediction = clf.predict(df_train[df_train.Pozo.isin(idx)][num_cols])"
   ]
  },
  {
   "cell_type": "code",
   "execution_count": 89,
   "metadata": {},
   "outputs": [],
   "source": [
    "prediccion_validacion = pd.DataFrame(prediction,columns=['prediction']).set_index(index).unstack(0)"
   ]
  },
  {
   "cell_type": "code",
   "execution_count": 90,
   "metadata": {},
   "outputs": [
    {
     "data": {
      "text/plain": [
       "<matplotlib.axes._subplots.AxesSubplot at 0x1febe8e4d68>"
      ]
     },
     "execution_count": 90,
     "metadata": {},
     "output_type": "execute_result"
    },
    {
     "data": {
      "image/png": "[encoded data removed]",
      "text/plain": [
       "<Figure size 1224x648 with 1 Axes>"
      ]
     },
     "metadata": {},
     "output_type": "display_data"
    }
   ],
   "source": [
    "ax = validacion.plot(figsize=(17,9),color='navy')\n",
    "prediccion_validacion.plot(ax = ax,color='cyan')"
   ]
  },
  {
   "cell_type": "code",
   "execution_count": null,
   "metadata": {},
   "outputs": [],
   "source": [
    "# pd.merge(validacion,prediccion_validacion,right_index=True, left_index=True).iplot()"
   ]
  },
  {
   "cell_type": "markdown",
   "metadata": {},
   "source": [
    "# Pozo promedio"
   ]
  },
  {
   "cell_type": "code",
   "execution_count": 91,
   "metadata": {},
   "outputs": [],
   "source": [
    "preds = clf.predict(df_train[num_cols])\n",
    "real = df_train.Qomes_b_t"
   ]
  },
  {
   "cell_type": "code",
   "execution_count": 92,
   "metadata": {},
   "outputs": [],
   "source": [
    "df_train['prediction'] = preds"
   ]
  },
  {
   "cell_type": "code",
   "execution_count": 93,
   "metadata": {},
   "outputs": [
    {
     "data": {
      "text/plain": [
       "<matplotlib.legend.Legend at 0x1fec25cc0b8>"
      ]
     },
     "execution_count": 93,
     "metadata": {},
     "output_type": "execute_result"
    },
    {
     "data": {
      "image/png": "[encoded data removed]",
      "text/plain": [
       "<Figure size 1080x432 with 1 Axes>"
      ]
     },
     "metadata": {},
     "output_type": "display_data"
    }
   ],
   "source": [
    "df_train.groupby('fecha_produccion')[['Qomes_b_t','prediction']].mean().plot(\n",
    "    figsize=(15,6), title='Produccion promedio')\n",
    "plt.legend(['Produccion real', 'Produccion estimada'])"
   ]
  },
  {
   "cell_type": "markdown",
   "metadata": {},
   "source": [
    "# Generador de serie de tiempo"
   ]
  },
  {
   "cell_type": "code",
   "execution_count": 3,
   "metadata": {},
   "outputs": [],
   "source": [
    "from sklearn.externals import joblib\n",
    "# save model\n",
    "# load model\n",
    "gbm_pickle = joblib.load('lgb.pkl')"
   ]
  },
  {
   "cell_type": "code",
   "execution_count": 5,
   "metadata": {},
   "outputs": [
    {
     "data": {
      "text/plain": [
       "array([10804,  8389, 10225, 11044, 15064, 30544, 14610, 15734, 12987,\n",
       "       16474, 28464, 11907,  8077, 10009,  8464,  9494,  2734,  5789,\n",
       "        3133,   867,  1343,  1730,  1421,   225,  2498,   393,  2594,\n",
       "        1586,  4457,   256,   453,   237,   168,   230,    74, 14550,\n",
       "       14012])"
      ]
     },
     "execution_count": 5,
     "metadata": {},
     "output_type": "execute_result"
    }
   ],
   "source": [
    "gbm_pickle."
   ]
  },
  {
   "cell_type": "code",
   "execution_count": 6,
   "metadata": {},
   "outputs": [],
   "source": [
    "num_cols =['Qomes_b_t_6', 'Qomes_b_t_5', 'Qomes_b_t_4', 'Qomes_b_t_3', 'Qomes_b_t_2', 'Qomes_b_t_1', 'diff_t_6_t_5', \n",
    "           'diff_t_5_t_4', 'diff_t_4_t_3', 'diff_t_3_t_2', 'diff_t_2_t_1', 'std_t_6_t_1', 'mean_t_6_t_1', 'median_t_6_t_1',\n",
    "           'min_t_6_t_1', 'max_t_6_t_1', 'month_1', 'month_2', 'month_3', 'month_4', 'month_5', 'month_6', 'month_7', 'month_8', 'month_9', 'month_10', 'month_11', 'month_12', \n",
    "           'detenido_mes_antes', 'cluster_0', 'cluster_1', 'cluster_2', 'cluster_3', 'cluster_4', 'cluster_5', 'latitud', 'longitud']"
   ]
  },
  {
   "cell_type": "code",
   "execution_count": 94,
   "metadata": {},
   "outputs": [
    {
     "data": {
      "text/html": [
       "<div>\n",
       "<style scoped>\n",
       "    .dataframe tbody tr th:only-of-type {\n",
       "        vertical-align: middle;\n",
       "    }\n",
       "\n",
       "    .dataframe tbody tr th {\n",
       "        vertical-align: top;\n",
       "    }\n",
       "\n",
       "    .dataframe thead th {\n",
       "        text-align: right;\n",
       "    }\n",
       "</style>\n",
       "<table border=\"1\" class=\"dataframe\">\n",
       "  <thead>\n",
       "    <tr style=\"text-align: right;\">\n",
       "      <th></th>\n",
       "      <th>Pozo</th>\n",
       "      <th>fecha_produccion</th>\n",
       "      <th>Qomes_b_t_6</th>\n",
       "      <th>Qomes_b_t_5</th>\n",
       "      <th>Qomes_b_t_4</th>\n",
       "      <th>Qomes_b_t_3</th>\n",
       "      <th>Qomes_b_t_2</th>\n",
       "      <th>Qomes_b_t_1</th>\n",
       "      <th>Qomes_b_t</th>\n",
       "      <th>diff_t_6_t_5</th>\n",
       "      <th>...</th>\n",
       "      <th>cluster_0</th>\n",
       "      <th>cluster_1</th>\n",
       "      <th>cluster_2</th>\n",
       "      <th>cluster_3</th>\n",
       "      <th>cluster_4</th>\n",
       "      <th>cluster_5</th>\n",
       "      <th>cluster</th>\n",
       "      <th>latitud</th>\n",
       "      <th>longitud</th>\n",
       "      <th>prediction</th>\n",
       "    </tr>\n",
       "  </thead>\n",
       "  <tbody>\n",
       "    <tr>\n",
       "      <th>221</th>\n",
       "      <td>MOLOACAN-111</td>\n",
       "      <td>1999-01-01</td>\n",
       "      <td>169.92</td>\n",
       "      <td>159.46</td>\n",
       "      <td>193.95</td>\n",
       "      <td>169.10</td>\n",
       "      <td>182.03</td>\n",
       "      <td>177.28</td>\n",
       "      <td>191.66</td>\n",
       "      <td>10.46</td>\n",
       "      <td>...</td>\n",
       "      <td>0</td>\n",
       "      <td>1</td>\n",
       "      <td>0</td>\n",
       "      <td>0</td>\n",
       "      <td>0</td>\n",
       "      <td>0</td>\n",
       "      <td>1</td>\n",
       "      <td>17.985929</td>\n",
       "      <td>-94.370707</td>\n",
       "      <td>180.627594</td>\n",
       "    </tr>\n",
       "    <tr>\n",
       "      <th>222</th>\n",
       "      <td>MOLOACAN-111</td>\n",
       "      <td>1999-02-01</td>\n",
       "      <td>159.46</td>\n",
       "      <td>193.95</td>\n",
       "      <td>169.10</td>\n",
       "      <td>182.03</td>\n",
       "      <td>177.28</td>\n",
       "      <td>191.66</td>\n",
       "      <td>186.59</td>\n",
       "      <td>-34.49</td>\n",
       "      <td>...</td>\n",
       "      <td>0</td>\n",
       "      <td>1</td>\n",
       "      <td>0</td>\n",
       "      <td>0</td>\n",
       "      <td>0</td>\n",
       "      <td>0</td>\n",
       "      <td>1</td>\n",
       "      <td>17.985929</td>\n",
       "      <td>-94.370707</td>\n",
       "      <td>180.134310</td>\n",
       "    </tr>\n",
       "    <tr>\n",
       "      <th>223</th>\n",
       "      <td>MOLOACAN-111</td>\n",
       "      <td>1999-03-01</td>\n",
       "      <td>193.95</td>\n",
       "      <td>169.10</td>\n",
       "      <td>182.03</td>\n",
       "      <td>177.28</td>\n",
       "      <td>191.66</td>\n",
       "      <td>186.59</td>\n",
       "      <td>197.52</td>\n",
       "      <td>24.85</td>\n",
       "      <td>...</td>\n",
       "      <td>0</td>\n",
       "      <td>1</td>\n",
       "      <td>0</td>\n",
       "      <td>0</td>\n",
       "      <td>0</td>\n",
       "      <td>0</td>\n",
       "      <td>1</td>\n",
       "      <td>17.985929</td>\n",
       "      <td>-94.370707</td>\n",
       "      <td>178.277909</td>\n",
       "    </tr>\n",
       "    <tr>\n",
       "      <th>224</th>\n",
       "      <td>MOLOACAN-111</td>\n",
       "      <td>1999-04-01</td>\n",
       "      <td>169.10</td>\n",
       "      <td>182.03</td>\n",
       "      <td>177.28</td>\n",
       "      <td>191.66</td>\n",
       "      <td>186.59</td>\n",
       "      <td>197.52</td>\n",
       "      <td>215.72</td>\n",
       "      <td>-12.93</td>\n",
       "      <td>...</td>\n",
       "      <td>0</td>\n",
       "      <td>1</td>\n",
       "      <td>0</td>\n",
       "      <td>0</td>\n",
       "      <td>0</td>\n",
       "      <td>0</td>\n",
       "      <td>1</td>\n",
       "      <td>17.985929</td>\n",
       "      <td>-94.370707</td>\n",
       "      <td>187.970227</td>\n",
       "    </tr>\n",
       "    <tr>\n",
       "      <th>225</th>\n",
       "      <td>MOLOACAN-111</td>\n",
       "      <td>1999-05-01</td>\n",
       "      <td>182.03</td>\n",
       "      <td>177.28</td>\n",
       "      <td>191.66</td>\n",
       "      <td>186.59</td>\n",
       "      <td>197.52</td>\n",
       "      <td>215.72</td>\n",
       "      <td>185.47</td>\n",
       "      <td>4.75</td>\n",
       "      <td>...</td>\n",
       "      <td>0</td>\n",
       "      <td>1</td>\n",
       "      <td>0</td>\n",
       "      <td>0</td>\n",
       "      <td>0</td>\n",
       "      <td>0</td>\n",
       "      <td>1</td>\n",
       "      <td>17.985929</td>\n",
       "      <td>-94.370707</td>\n",
       "      <td>197.399264</td>\n",
       "    </tr>\n",
       "  </tbody>\n",
       "</table>\n",
       "<p>5 rows × 42 columns</p>\n",
       "</div>"
      ],
      "text/plain": [
       "             Pozo fecha_produccion  Qomes_b_t_6  Qomes_b_t_5  Qomes_b_t_4  \\\n",
       "221  MOLOACAN-111       1999-01-01       169.92       159.46       193.95   \n",
       "222  MOLOACAN-111       1999-02-01       159.46       193.95       169.10   \n",
       "223  MOLOACAN-111       1999-03-01       193.95       169.10       182.03   \n",
       "224  MOLOACAN-111       1999-04-01       169.10       182.03       177.28   \n",
       "225  MOLOACAN-111       1999-05-01       182.03       177.28       191.66   \n",
       "\n",
       "     Qomes_b_t_3  Qomes_b_t_2  Qomes_b_t_1  Qomes_b_t  diff_t_6_t_5  ...  \\\n",
       "221       169.10       182.03       177.28     191.66         10.46  ...   \n",
       "222       182.03       177.28       191.66     186.59        -34.49  ...   \n",
       "223       177.28       191.66       186.59     197.52         24.85  ...   \n",
       "224       191.66       186.59       197.52     215.72        -12.93  ...   \n",
       "225       186.59       197.52       215.72     185.47          4.75  ...   \n",
       "\n",
       "     cluster_0  cluster_1  cluster_2  cluster_3  cluster_4  cluster_5  \\\n",
       "221          0          1          0          0          0          0   \n",
       "222          0          1          0          0          0          0   \n",
       "223          0          1          0          0          0          0   \n",
       "224          0          1          0          0          0          0   \n",
       "225          0          1          0          0          0          0   \n",
       "\n",
       "     cluster    latitud   longitud  prediction  \n",
       "221        1  17.985929 -94.370707  180.627594  \n",
       "222        1  17.985929 -94.370707  180.134310  \n",
       "223        1  17.985929 -94.370707  178.277909  \n",
       "224        1  17.985929 -94.370707  187.970227  \n",
       "225        1  17.985929 -94.370707  197.399264  \n",
       "\n",
       "[5 rows x 42 columns]"
      ]
     },
     "execution_count": 94,
     "metadata": {},
     "output_type": "execute_result"
    }
   ],
   "source": [
    "df_train.head()"
   ]
  },
  {
   "cell_type": "code",
   "execution_count": 154,
   "metadata": {},
   "outputs": [
    {
     "data": {
      "text/plain": [
       "<matplotlib.axes._subplots.AxesSubplot at 0x1f599f93550>"
      ]
     },
     "execution_count": 154,
     "metadata": {},
     "output_type": "execute_result"
    },
    {
     "data": {
      "image/png": "[encoded data removed]",
      "text/plain": [
       "<Figure size 432x288 with 1 Axes>"
      ]
     },
     "metadata": {
      "needs_background": "light"
     },
     "output_type": "display_data"
    }
   ],
   "source": [
    "df_train.fecha_produccion.value_counts().plot()"
   ]
  },
  {
   "cell_type": "code",
   "execution_count": 96,
   "metadata": {},
   "outputs": [],
   "source": [
    "df_simul = df_train[df_train.Pozo == 'MOLOACAN-836'].reset_index(drop=True)\n",
    "#df_simul.drop(['Qomes_b_t_log','cluster'], 1, inplace=True)\n",
    "df_simul['y_real'] = df_simul.Qomes_b_t\n",
    "# se selecciono aleatoriamente"
   ]
  },
  {
   "cell_type": "code",
   "execution_count": 97,
   "metadata": {},
   "outputs": [
    {
     "data": {
      "text/plain": [
       "Index(['Pozo', 'fecha_produccion', 'Qomes_b_t_6', 'Qomes_b_t_5', 'Qomes_b_t_4',\n",
       "       'Qomes_b_t_3', 'Qomes_b_t_2', 'Qomes_b_t_1', 'Qomes_b_t',\n",
       "       'diff_t_6_t_5', 'diff_t_5_t_4', 'diff_t_4_t_3', 'diff_t_3_t_2',\n",
       "       'diff_t_2_t_1', 'std_t_6_t_1', 'mean_t_6_t_1', 'median_t_6_t_1',\n",
       "       'min_t_6_t_1', 'max_t_6_t_1', 'month_1', 'month_2', 'month_3',\n",
       "       'month_4', 'month_5', 'month_6', 'month_7', 'month_8', 'month_9',\n",
       "       'month_10', 'month_11', 'month_12', 'detenido_mes_antes', 'cluster_0',\n",
       "       'cluster_1', 'cluster_2', 'cluster_3', 'cluster_4', 'cluster_5',\n",
       "       'cluster', 'latitud', 'longitud', 'prediction', 'y_real'],\n",
       "      dtype='object')"
      ]
     },
     "execution_count": 97,
     "metadata": {},
     "output_type": "execute_result"
    }
   ],
   "source": [
    "df_simul.columns"
   ]
  },
  {
   "cell_type": "code",
   "execution_count": 105,
   "metadata": {},
   "outputs": [
    {
     "data": {
      "text/html": [
       "<div>\n",
       "<style scoped>\n",
       "    .dataframe tbody tr th:only-of-type {\n",
       "        vertical-align: middle;\n",
       "    }\n",
       "\n",
       "    .dataframe tbody tr th {\n",
       "        vertical-align: top;\n",
       "    }\n",
       "\n",
       "    .dataframe thead th {\n",
       "        text-align: right;\n",
       "    }\n",
       "</style>\n",
       "<table border=\"1\" class=\"dataframe\">\n",
       "  <thead>\n",
       "    <tr style=\"text-align: right;\">\n",
       "      <th></th>\n",
       "      <th>Pozo</th>\n",
       "      <th>fecha_produccion</th>\n",
       "      <th>Qomes_b_t_6</th>\n",
       "      <th>Qomes_b_t_5</th>\n",
       "      <th>Qomes_b_t_4</th>\n",
       "      <th>Qomes_b_t_3</th>\n",
       "      <th>Qomes_b_t_2</th>\n",
       "      <th>Qomes_b_t_1</th>\n",
       "      <th>Qomes_b_t</th>\n",
       "      <th>diff_t_6_t_5</th>\n",
       "      <th>...</th>\n",
       "      <th>cluster_1</th>\n",
       "      <th>cluster_2</th>\n",
       "      <th>cluster_3</th>\n",
       "      <th>cluster_4</th>\n",
       "      <th>cluster_5</th>\n",
       "      <th>cluster</th>\n",
       "      <th>latitud</th>\n",
       "      <th>longitud</th>\n",
       "      <th>prediction</th>\n",
       "      <th>y_real</th>\n",
       "    </tr>\n",
       "  </thead>\n",
       "  <tbody>\n",
       "    <tr>\n",
       "      <th>0</th>\n",
       "      <td>MOLOACAN-836</td>\n",
       "      <td>1999-01-01</td>\n",
       "      <td>169.43</td>\n",
       "      <td>150.43</td>\n",
       "      <td>164.86</td>\n",
       "      <td>162.94</td>\n",
       "      <td>174.67</td>\n",
       "      <td>167.18</td>\n",
       "      <td>187.99</td>\n",
       "      <td>19.00</td>\n",
       "      <td>...</td>\n",
       "      <td>1</td>\n",
       "      <td>0</td>\n",
       "      <td>0</td>\n",
       "      <td>0</td>\n",
       "      <td>0</td>\n",
       "      <td>1</td>\n",
       "      <td>17.965461</td>\n",
       "      <td>-94.384466</td>\n",
       "      <td>195.023480</td>\n",
       "      <td>187.99</td>\n",
       "    </tr>\n",
       "    <tr>\n",
       "      <th>1</th>\n",
       "      <td>MOLOACAN-836</td>\n",
       "      <td>1999-02-01</td>\n",
       "      <td>150.43</td>\n",
       "      <td>164.86</td>\n",
       "      <td>162.94</td>\n",
       "      <td>174.67</td>\n",
       "      <td>167.18</td>\n",
       "      <td>187.99</td>\n",
       "      <td>184.67</td>\n",
       "      <td>-14.43</td>\n",
       "      <td>...</td>\n",
       "      <td>1</td>\n",
       "      <td>0</td>\n",
       "      <td>0</td>\n",
       "      <td>0</td>\n",
       "      <td>0</td>\n",
       "      <td>1</td>\n",
       "      <td>17.965461</td>\n",
       "      <td>-94.384466</td>\n",
       "      <td>184.016083</td>\n",
       "      <td>184.67</td>\n",
       "    </tr>\n",
       "    <tr>\n",
       "      <th>2</th>\n",
       "      <td>MOLOACAN-836</td>\n",
       "      <td>1999-03-01</td>\n",
       "      <td>164.86</td>\n",
       "      <td>162.94</td>\n",
       "      <td>174.67</td>\n",
       "      <td>167.18</td>\n",
       "      <td>187.99</td>\n",
       "      <td>184.67</td>\n",
       "      <td>184.96</td>\n",
       "      <td>1.92</td>\n",
       "      <td>...</td>\n",
       "      <td>1</td>\n",
       "      <td>0</td>\n",
       "      <td>0</td>\n",
       "      <td>0</td>\n",
       "      <td>0</td>\n",
       "      <td>1</td>\n",
       "      <td>17.965461</td>\n",
       "      <td>-94.384466</td>\n",
       "      <td>179.810032</td>\n",
       "      <td>184.96</td>\n",
       "    </tr>\n",
       "    <tr>\n",
       "      <th>3</th>\n",
       "      <td>MOLOACAN-836</td>\n",
       "      <td>1999-05-01</td>\n",
       "      <td>174.67</td>\n",
       "      <td>167.18</td>\n",
       "      <td>187.99</td>\n",
       "      <td>184.67</td>\n",
       "      <td>184.96</td>\n",
       "      <td>25.30</td>\n",
       "      <td>381.54</td>\n",
       "      <td>7.49</td>\n",
       "      <td>...</td>\n",
       "      <td>1</td>\n",
       "      <td>0</td>\n",
       "      <td>0</td>\n",
       "      <td>0</td>\n",
       "      <td>0</td>\n",
       "      <td>1</td>\n",
       "      <td>17.965461</td>\n",
       "      <td>-94.384466</td>\n",
       "      <td>346.370887</td>\n",
       "      <td>381.54</td>\n",
       "    </tr>\n",
       "    <tr>\n",
       "      <th>4</th>\n",
       "      <td>MOLOACAN-836</td>\n",
       "      <td>1999-06-01</td>\n",
       "      <td>167.18</td>\n",
       "      <td>187.99</td>\n",
       "      <td>184.67</td>\n",
       "      <td>184.96</td>\n",
       "      <td>25.30</td>\n",
       "      <td>381.54</td>\n",
       "      <td>398.67</td>\n",
       "      <td>-20.81</td>\n",
       "      <td>...</td>\n",
       "      <td>0</td>\n",
       "      <td>0</td>\n",
       "      <td>1</td>\n",
       "      <td>0</td>\n",
       "      <td>0</td>\n",
       "      <td>3</td>\n",
       "      <td>17.965461</td>\n",
       "      <td>-94.384466</td>\n",
       "      <td>374.750904</td>\n",
       "      <td>398.67</td>\n",
       "    </tr>\n",
       "  </tbody>\n",
       "</table>\n",
       "<p>5 rows × 43 columns</p>\n",
       "</div>"
      ],
      "text/plain": [
       "           Pozo fecha_produccion  Qomes_b_t_6  Qomes_b_t_5  Qomes_b_t_4  \\\n",
       "0  MOLOACAN-836       1999-01-01       169.43       150.43       164.86   \n",
       "1  MOLOACAN-836       1999-02-01       150.43       164.86       162.94   \n",
       "2  MOLOACAN-836       1999-03-01       164.86       162.94       174.67   \n",
       "3  MOLOACAN-836       1999-05-01       174.67       167.18       187.99   \n",
       "4  MOLOACAN-836       1999-06-01       167.18       187.99       184.67   \n",
       "\n",
       "   Qomes_b_t_3  Qomes_b_t_2  Qomes_b_t_1  Qomes_b_t  diff_t_6_t_5  ...  \\\n",
       "0       162.94       174.67       167.18     187.99         19.00  ...   \n",
       "1       174.67       167.18       187.99     184.67        -14.43  ...   \n",
       "2       167.18       187.99       184.67     184.96          1.92  ...   \n",
       "3       184.67       184.96        25.30     381.54          7.49  ...   \n",
       "4       184.96        25.30       381.54     398.67        -20.81  ...   \n",
       "\n",
       "   cluster_1  cluster_2  cluster_3  cluster_4  cluster_5  cluster    latitud  \\\n",
       "0          1          0          0          0          0        1  17.965461   \n",
       "1          1          0          0          0          0        1  17.965461   \n",
       "2          1          0          0          0          0        1  17.965461   \n",
       "3          1          0          0          0          0        1  17.965461   \n",
       "4          0          0          1          0          0        3  17.965461   \n",
       "\n",
       "    longitud  prediction  y_real  \n",
       "0 -94.384466  195.023480  187.99  \n",
       "1 -94.384466  184.016083  184.67  \n",
       "2 -94.384466  179.810032  184.96  \n",
       "3 -94.384466  346.370887  381.54  \n",
       "4 -94.384466  374.750904  398.67  \n",
       "\n",
       "[5 rows x 43 columns]"
      ]
     },
     "execution_count": 105,
     "metadata": {},
     "output_type": "execute_result"
    }
   ],
   "source": [
    "df_simul.head()"
   ]
  },
  {
   "cell_type": "code",
   "execution_count": 98,
   "metadata": {},
   "outputs": [],
   "source": [
    "def gen_cols(df):\n",
    "    \n",
    "    df['diff_t_6_t_5'] = df['Qomes_b_t_6'] - df['Qomes_b_t_5']\n",
    "    df['diff_t_5_t_4'] = df['Qomes_b_t_5'] - df['Qomes_b_t_4']\n",
    "    df['diff_t_4_t_3'] = df['Qomes_b_t_4'] - df['Qomes_b_t_3']\n",
    "    df['diff_t_3_t_2'] = df['Qomes_b_t_3'] - df['Qomes_b_t_2']\n",
    "    df['diff_t_2_t_1'] = df['Qomes_b_t_2'] - df['Qomes_b_t_1']\n",
    "\n",
    "    df['std_t_6_t_1'] = df[['Qomes_b_t_6', 'Qomes_b_t_5', 'Qomes_b_t_4',\n",
    "                        'Qomes_b_t_3', 'Qomes_b_t_2', 'Qomes_b_t_1']].std(1)\n",
    "    df['mean_t_6_t_1'] = df[['Qomes_b_t_6', 'Qomes_b_t_5', 'Qomes_b_t_4',\n",
    "                        'Qomes_b_t_3', 'Qomes_b_t_2', 'Qomes_b_t_1']].mean(1)\n",
    "    df['median_t_6_t_1'] = df[['Qomes_b_t_6', 'Qomes_b_t_5', 'Qomes_b_t_4',\n",
    "                        'Qomes_b_t_3', 'Qomes_b_t_2', 'Qomes_b_t_1']].median(1)\n",
    "    df['min_t_6_t_1'] = df[['Qomes_b_t_6', 'Qomes_b_t_5', 'Qomes_b_t_4',\n",
    "                        'Qomes_b_t_3', 'Qomes_b_t_2', 'Qomes_b_t_1']].min(1) \n",
    "    df['max_t_6_t_1'] = df[['Qomes_b_t_6', 'Qomes_b_t_5', 'Qomes_b_t_4',\n",
    "                        'Qomes_b_t_3', 'Qomes_b_t_2', 'Qomes_b_t_1']].max(1)\n",
    "    return df"
   ]
  },
  {
   "cell_type": "code",
   "execution_count": 113,
   "metadata": {},
   "outputs": [
    {
     "data": {
      "text/html": [
       "<div>\n",
       "<style scoped>\n",
       "    .dataframe tbody tr th:only-of-type {\n",
       "        vertical-align: middle;\n",
       "    }\n",
       "\n",
       "    .dataframe tbody tr th {\n",
       "        vertical-align: top;\n",
       "    }\n",
       "\n",
       "    .dataframe thead th {\n",
       "        text-align: right;\n",
       "    }\n",
       "</style>\n",
       "<table border=\"1\" class=\"dataframe\">\n",
       "  <thead>\n",
       "    <tr style=\"text-align: right;\">\n",
       "      <th></th>\n",
       "      <th>Pozo</th>\n",
       "      <th>fecha_produccion</th>\n",
       "      <th>Qomes_b_t_6</th>\n",
       "      <th>Qomes_b_t_5</th>\n",
       "      <th>Qomes_b_t_4</th>\n",
       "      <th>Qomes_b_t_3</th>\n",
       "      <th>Qomes_b_t_2</th>\n",
       "      <th>Qomes_b_t_1</th>\n",
       "      <th>Qomes_b_t</th>\n",
       "      <th>diff_t_6_t_5</th>\n",
       "      <th>...</th>\n",
       "      <th>cluster_1</th>\n",
       "      <th>cluster_2</th>\n",
       "      <th>cluster_3</th>\n",
       "      <th>cluster_4</th>\n",
       "      <th>cluster_5</th>\n",
       "      <th>cluster</th>\n",
       "      <th>latitud</th>\n",
       "      <th>longitud</th>\n",
       "      <th>prediction</th>\n",
       "      <th>y_real</th>\n",
       "    </tr>\n",
       "  </thead>\n",
       "  <tbody>\n",
       "    <tr>\n",
       "      <th>0</th>\n",
       "      <td>MOLOACAN-836</td>\n",
       "      <td>1999-01-01 00:00:00</td>\n",
       "      <td>169.43</td>\n",
       "      <td>150.43</td>\n",
       "      <td>164.86</td>\n",
       "      <td>162.94</td>\n",
       "      <td>174.67</td>\n",
       "      <td>167.18</td>\n",
       "      <td>187.99</td>\n",
       "      <td>19</td>\n",
       "      <td>...</td>\n",
       "      <td>1</td>\n",
       "      <td>0</td>\n",
       "      <td>0</td>\n",
       "      <td>0</td>\n",
       "      <td>0</td>\n",
       "      <td>1</td>\n",
       "      <td>17.9655</td>\n",
       "      <td>-94.3845</td>\n",
       "      <td>195.023</td>\n",
       "      <td>187.99</td>\n",
       "    </tr>\n",
       "    <tr>\n",
       "      <th>1</th>\n",
       "      <td>MOLOACAN-836</td>\n",
       "      <td>1999-02-01 00:00:00</td>\n",
       "      <td>150.43</td>\n",
       "      <td>164.86</td>\n",
       "      <td>162.94</td>\n",
       "      <td>174.67</td>\n",
       "      <td>167.18</td>\n",
       "      <td>187.99</td>\n",
       "      <td>184.67</td>\n",
       "      <td>-14.43</td>\n",
       "      <td>...</td>\n",
       "      <td>1</td>\n",
       "      <td>0</td>\n",
       "      <td>0</td>\n",
       "      <td>0</td>\n",
       "      <td>0</td>\n",
       "      <td>1</td>\n",
       "      <td>17.9655</td>\n",
       "      <td>-94.3845</td>\n",
       "      <td>184.016</td>\n",
       "      <td>184.67</td>\n",
       "    </tr>\n",
       "  </tbody>\n",
       "</table>\n",
       "<p>2 rows × 43 columns</p>\n",
       "</div>"
      ],
      "text/plain": [
       "           Pozo     fecha_produccion Qomes_b_t_6 Qomes_b_t_5 Qomes_b_t_4  \\\n",
       "0  MOLOACAN-836  1999-01-01 00:00:00      169.43      150.43      164.86   \n",
       "1  MOLOACAN-836  1999-02-01 00:00:00      150.43      164.86      162.94   \n",
       "\n",
       "  Qomes_b_t_3 Qomes_b_t_2 Qomes_b_t_1 Qomes_b_t diff_t_6_t_5  ... cluster_1  \\\n",
       "0      162.94      174.67      167.18    187.99           19  ...         1   \n",
       "1      174.67      167.18      187.99    184.67       -14.43  ...         1   \n",
       "\n",
       "  cluster_2 cluster_3 cluster_4 cluster_5 cluster  latitud longitud  \\\n",
       "0         0         0         0         0       1  17.9655 -94.3845   \n",
       "1         0         0         0         0       1  17.9655 -94.3845   \n",
       "\n",
       "  prediction  y_real  \n",
       "0    195.023  187.99  \n",
       "1    184.016  184.67  \n",
       "\n",
       "[2 rows x 43 columns]"
      ]
     },
     "execution_count": 113,
     "metadata": {},
     "output_type": "execute_result"
    }
   ],
   "source": [
    "df_simulation = pd.DataFrame(df_simul.iloc[0]).T.reset_index(drop=True)\n",
    "df_simulation = df_simulation.append(df_simul.iloc[1])\n",
    "df_simulation"
   ]
  },
  {
   "cell_type": "code",
   "execution_count": 115,
   "metadata": {},
   "outputs": [
    {
     "data": {
      "text/html": [
       "<div>\n",
       "<style scoped>\n",
       "    .dataframe tbody tr th:only-of-type {\n",
       "        vertical-align: middle;\n",
       "    }\n",
       "\n",
       "    .dataframe tbody tr th {\n",
       "        vertical-align: top;\n",
       "    }\n",
       "\n",
       "    .dataframe thead th {\n",
       "        text-align: right;\n",
       "    }\n",
       "</style>\n",
       "<table border=\"1\" class=\"dataframe\">\n",
       "  <thead>\n",
       "    <tr style=\"text-align: right;\">\n",
       "      <th></th>\n",
       "      <th>Pozo</th>\n",
       "      <th>fecha_produccion</th>\n",
       "      <th>Qomes_b_t_6</th>\n",
       "      <th>Qomes_b_t_5</th>\n",
       "      <th>Qomes_b_t_4</th>\n",
       "      <th>Qomes_b_t_3</th>\n",
       "      <th>Qomes_b_t_2</th>\n",
       "      <th>Qomes_b_t_1</th>\n",
       "      <th>Qomes_b_t</th>\n",
       "      <th>diff_t_6_t_5</th>\n",
       "      <th>...</th>\n",
       "      <th>cluster_1</th>\n",
       "      <th>cluster_2</th>\n",
       "      <th>cluster_3</th>\n",
       "      <th>cluster_4</th>\n",
       "      <th>cluster_5</th>\n",
       "      <th>cluster</th>\n",
       "      <th>latitud</th>\n",
       "      <th>longitud</th>\n",
       "      <th>prediction</th>\n",
       "      <th>y_real</th>\n",
       "    </tr>\n",
       "  </thead>\n",
       "  <tbody>\n",
       "    <tr>\n",
       "      <th>0</th>\n",
       "      <td>MOLOACAN-836</td>\n",
       "      <td>1999-01-01 00:00:00</td>\n",
       "      <td>169.43</td>\n",
       "      <td>150.43</td>\n",
       "      <td>164.86</td>\n",
       "      <td>162.94</td>\n",
       "      <td>174.67</td>\n",
       "      <td>167.18</td>\n",
       "      <td>187.99</td>\n",
       "      <td>19</td>\n",
       "      <td>...</td>\n",
       "      <td>1</td>\n",
       "      <td>0</td>\n",
       "      <td>0</td>\n",
       "      <td>0</td>\n",
       "      <td>0</td>\n",
       "      <td>1</td>\n",
       "      <td>17.9655</td>\n",
       "      <td>-94.3845</td>\n",
       "      <td>195.023</td>\n",
       "      <td>187.99</td>\n",
       "    </tr>\n",
       "    <tr>\n",
       "      <th>1</th>\n",
       "      <td>MOLOACAN-836</td>\n",
       "      <td>1999-02-01 00:00:00</td>\n",
       "      <td>150.43</td>\n",
       "      <td>164.86</td>\n",
       "      <td>162.94</td>\n",
       "      <td>174.67</td>\n",
       "      <td>167.18</td>\n",
       "      <td>187.99</td>\n",
       "      <td>195.023</td>\n",
       "      <td>-14.43</td>\n",
       "      <td>...</td>\n",
       "      <td>1</td>\n",
       "      <td>0</td>\n",
       "      <td>0</td>\n",
       "      <td>0</td>\n",
       "      <td>0</td>\n",
       "      <td>1</td>\n",
       "      <td>17.9655</td>\n",
       "      <td>-94.3845</td>\n",
       "      <td>184.016</td>\n",
       "      <td>184.67</td>\n",
       "    </tr>\n",
       "  </tbody>\n",
       "</table>\n",
       "<p>2 rows × 43 columns</p>\n",
       "</div>"
      ],
      "text/plain": [
       "           Pozo     fecha_produccion Qomes_b_t_6 Qomes_b_t_5 Qomes_b_t_4  \\\n",
       "0  MOLOACAN-836  1999-01-01 00:00:00      169.43      150.43      164.86   \n",
       "1  MOLOACAN-836  1999-02-01 00:00:00      150.43      164.86      162.94   \n",
       "\n",
       "  Qomes_b_t_3 Qomes_b_t_2 Qomes_b_t_1 Qomes_b_t diff_t_6_t_5  ... cluster_1  \\\n",
       "0      162.94      174.67      167.18    187.99           19  ...         1   \n",
       "1      174.67      167.18      187.99   195.023       -14.43  ...         1   \n",
       "\n",
       "  cluster_2 cluster_3 cluster_4  cluster_5  cluster  latitud  longitud  \\\n",
       "0         0         0         0          0        1  17.9655  -94.3845   \n",
       "1         0         0         0          0        1  17.9655  -94.3845   \n",
       "\n",
       "   prediction  y_real  \n",
       "0     195.023  187.99  \n",
       "1     184.016  184.67  \n",
       "\n",
       "[2 rows x 43 columns]"
      ]
     },
     "execution_count": 115,
     "metadata": {},
     "output_type": "execute_result"
    }
   ],
   "source": [
    "df_simulation=df_simulation.set_value(1,'Qomes_b_t', df_simulation.loc[0,'prediction'])\n",
    "df_simulation"
   ]
  },
  {
   "cell_type": "code",
   "execution_count": 116,
   "metadata": {},
   "outputs": [
    {
     "data": {
      "text/html": [
       "<div>\n",
       "<style scoped>\n",
       "    .dataframe tbody tr th:only-of-type {\n",
       "        vertical-align: middle;\n",
       "    }\n",
       "\n",
       "    .dataframe tbody tr th {\n",
       "        vertical-align: top;\n",
       "    }\n",
       "\n",
       "    .dataframe thead th {\n",
       "        text-align: right;\n",
       "    }\n",
       "</style>\n",
       "<table border=\"1\" class=\"dataframe\">\n",
       "  <thead>\n",
       "    <tr style=\"text-align: right;\">\n",
       "      <th></th>\n",
       "      <th>Pozo</th>\n",
       "      <th>fecha_produccion</th>\n",
       "      <th>Qomes_b_t_6</th>\n",
       "      <th>Qomes_b_t_5</th>\n",
       "      <th>Qomes_b_t_4</th>\n",
       "      <th>Qomes_b_t_3</th>\n",
       "      <th>Qomes_b_t_2</th>\n",
       "      <th>Qomes_b_t_1</th>\n",
       "      <th>Qomes_b_t</th>\n",
       "      <th>diff_t_6_t_5</th>\n",
       "      <th>...</th>\n",
       "      <th>cluster_1</th>\n",
       "      <th>cluster_2</th>\n",
       "      <th>cluster_3</th>\n",
       "      <th>cluster_4</th>\n",
       "      <th>cluster_5</th>\n",
       "      <th>cluster</th>\n",
       "      <th>latitud</th>\n",
       "      <th>longitud</th>\n",
       "      <th>prediction</th>\n",
       "      <th>y_real</th>\n",
       "    </tr>\n",
       "  </thead>\n",
       "  <tbody>\n",
       "    <tr>\n",
       "      <th>0</th>\n",
       "      <td>MOLOACAN-836</td>\n",
       "      <td>1999-01-01 00:00:00</td>\n",
       "      <td>169.43</td>\n",
       "      <td>150.43</td>\n",
       "      <td>164.86</td>\n",
       "      <td>162.94</td>\n",
       "      <td>174.67</td>\n",
       "      <td>167.18</td>\n",
       "      <td>187.99</td>\n",
       "      <td>19</td>\n",
       "      <td>...</td>\n",
       "      <td>1</td>\n",
       "      <td>0</td>\n",
       "      <td>0</td>\n",
       "      <td>0</td>\n",
       "      <td>0</td>\n",
       "      <td>1</td>\n",
       "      <td>17.9655</td>\n",
       "      <td>-94.3845</td>\n",
       "      <td>195.023</td>\n",
       "      <td>187.99</td>\n",
       "    </tr>\n",
       "    <tr>\n",
       "      <th>1</th>\n",
       "      <td>MOLOACAN-836</td>\n",
       "      <td>1999-02-01 00:00:00</td>\n",
       "      <td>150.43</td>\n",
       "      <td>164.86</td>\n",
       "      <td>162.94</td>\n",
       "      <td>174.67</td>\n",
       "      <td>167.18</td>\n",
       "      <td>187.99</td>\n",
       "      <td>195.023</td>\n",
       "      <td>-14.43</td>\n",
       "      <td>...</td>\n",
       "      <td>1</td>\n",
       "      <td>0</td>\n",
       "      <td>0</td>\n",
       "      <td>0</td>\n",
       "      <td>0</td>\n",
       "      <td>1</td>\n",
       "      <td>17.9655</td>\n",
       "      <td>-94.3845</td>\n",
       "      <td>184.016</td>\n",
       "      <td>184.67</td>\n",
       "    </tr>\n",
       "  </tbody>\n",
       "</table>\n",
       "<p>2 rows × 43 columns</p>\n",
       "</div>"
      ],
      "text/plain": [
       "           Pozo     fecha_produccion Qomes_b_t_6 Qomes_b_t_5 Qomes_b_t_4  \\\n",
       "0  MOLOACAN-836  1999-01-01 00:00:00      169.43      150.43      164.86   \n",
       "1  MOLOACAN-836  1999-02-01 00:00:00      150.43      164.86      162.94   \n",
       "\n",
       "  Qomes_b_t_3 Qomes_b_t_2 Qomes_b_t_1 Qomes_b_t diff_t_6_t_5  ... cluster_1  \\\n",
       "0      162.94      174.67      167.18    187.99           19  ...         1   \n",
       "1      174.67      167.18      187.99   195.023       -14.43  ...         1   \n",
       "\n",
       "  cluster_2 cluster_3 cluster_4  cluster_5  cluster  latitud  longitud  \\\n",
       "0         0         0         0          0        1  17.9655  -94.3845   \n",
       "1         0         0         0          0        1  17.9655  -94.3845   \n",
       "\n",
       "   prediction  y_real  \n",
       "0     195.023  187.99  \n",
       "1     184.016  184.67  \n",
       "\n",
       "[2 rows x 43 columns]"
      ]
     },
     "execution_count": 116,
     "metadata": {},
     "output_type": "execute_result"
    }
   ],
   "source": [
    "gen_cols(df_simulation)"
   ]
  },
  {
   "cell_type": "code",
   "execution_count": null,
   "metadata": {},
   "outputs": [],
   "source": [
    "# simulacion de prediccion"
   ]
  },
  {
   "cell_type": "code",
   "execution_count": 121,
   "metadata": {},
   "outputs": [
    {
     "data": {
      "text/html": [
       "<div>\n",
       "<style scoped>\n",
       "    .dataframe tbody tr th:only-of-type {\n",
       "        vertical-align: middle;\n",
       "    }\n",
       "\n",
       "    .dataframe tbody tr th {\n",
       "        vertical-align: top;\n",
       "    }\n",
       "\n",
       "    .dataframe thead th {\n",
       "        text-align: right;\n",
       "    }\n",
       "</style>\n",
       "<table border=\"1\" class=\"dataframe\">\n",
       "  <thead>\n",
       "    <tr style=\"text-align: right;\">\n",
       "      <th></th>\n",
       "      <th>Pozo</th>\n",
       "      <th>fecha_produccion</th>\n",
       "      <th>Qomes_b_t_6</th>\n",
       "      <th>Qomes_b_t_5</th>\n",
       "      <th>Qomes_b_t_4</th>\n",
       "      <th>Qomes_b_t_3</th>\n",
       "      <th>Qomes_b_t_2</th>\n",
       "      <th>Qomes_b_t_1</th>\n",
       "      <th>Qomes_b_t</th>\n",
       "      <th>diff_t_6_t_5</th>\n",
       "      <th>...</th>\n",
       "      <th>cluster_0</th>\n",
       "      <th>cluster_1</th>\n",
       "      <th>cluster_2</th>\n",
       "      <th>cluster_3</th>\n",
       "      <th>cluster_4</th>\n",
       "      <th>cluster_5</th>\n",
       "      <th>cluster</th>\n",
       "      <th>latitud</th>\n",
       "      <th>longitud</th>\n",
       "      <th>prediction</th>\n",
       "    </tr>\n",
       "  </thead>\n",
       "  <tbody>\n",
       "    <tr>\n",
       "      <th>0</th>\n",
       "      <td>MOLOACAN-836</td>\n",
       "      <td>1999-01-01</td>\n",
       "      <td>169.43</td>\n",
       "      <td>150.43</td>\n",
       "      <td>164.86</td>\n",
       "      <td>162.94</td>\n",
       "      <td>174.67</td>\n",
       "      <td>167.18</td>\n",
       "      <td>187.99</td>\n",
       "      <td>19.00</td>\n",
       "      <td>...</td>\n",
       "      <td>0</td>\n",
       "      <td>1</td>\n",
       "      <td>0</td>\n",
       "      <td>0</td>\n",
       "      <td>0</td>\n",
       "      <td>0</td>\n",
       "      <td>1</td>\n",
       "      <td>17.965461</td>\n",
       "      <td>-94.384466</td>\n",
       "      <td>195.023480</td>\n",
       "    </tr>\n",
       "    <tr>\n",
       "      <th>1</th>\n",
       "      <td>MOLOACAN-836</td>\n",
       "      <td>1999-02-01</td>\n",
       "      <td>150.43</td>\n",
       "      <td>164.86</td>\n",
       "      <td>162.94</td>\n",
       "      <td>174.67</td>\n",
       "      <td>167.18</td>\n",
       "      <td>187.99</td>\n",
       "      <td>184.67</td>\n",
       "      <td>-14.43</td>\n",
       "      <td>...</td>\n",
       "      <td>0</td>\n",
       "      <td>1</td>\n",
       "      <td>0</td>\n",
       "      <td>0</td>\n",
       "      <td>0</td>\n",
       "      <td>0</td>\n",
       "      <td>1</td>\n",
       "      <td>17.965461</td>\n",
       "      <td>-94.384466</td>\n",
       "      <td>184.016083</td>\n",
       "    </tr>\n",
       "    <tr>\n",
       "      <th>2</th>\n",
       "      <td>MOLOACAN-836</td>\n",
       "      <td>1999-03-01</td>\n",
       "      <td>164.86</td>\n",
       "      <td>162.94</td>\n",
       "      <td>174.67</td>\n",
       "      <td>167.18</td>\n",
       "      <td>187.99</td>\n",
       "      <td>184.67</td>\n",
       "      <td>184.96</td>\n",
       "      <td>1.92</td>\n",
       "      <td>...</td>\n",
       "      <td>0</td>\n",
       "      <td>1</td>\n",
       "      <td>0</td>\n",
       "      <td>0</td>\n",
       "      <td>0</td>\n",
       "      <td>0</td>\n",
       "      <td>1</td>\n",
       "      <td>17.965461</td>\n",
       "      <td>-94.384466</td>\n",
       "      <td>179.810032</td>\n",
       "    </tr>\n",
       "    <tr>\n",
       "      <th>3</th>\n",
       "      <td>MOLOACAN-836</td>\n",
       "      <td>1999-05-01</td>\n",
       "      <td>174.67</td>\n",
       "      <td>167.18</td>\n",
       "      <td>187.99</td>\n",
       "      <td>184.67</td>\n",
       "      <td>184.96</td>\n",
       "      <td>25.30</td>\n",
       "      <td>381.54</td>\n",
       "      <td>7.49</td>\n",
       "      <td>...</td>\n",
       "      <td>0</td>\n",
       "      <td>1</td>\n",
       "      <td>0</td>\n",
       "      <td>0</td>\n",
       "      <td>0</td>\n",
       "      <td>0</td>\n",
       "      <td>1</td>\n",
       "      <td>17.965461</td>\n",
       "      <td>-94.384466</td>\n",
       "      <td>346.370887</td>\n",
       "    </tr>\n",
       "    <tr>\n",
       "      <th>4</th>\n",
       "      <td>MOLOACAN-836</td>\n",
       "      <td>1999-06-01</td>\n",
       "      <td>167.18</td>\n",
       "      <td>187.99</td>\n",
       "      <td>184.67</td>\n",
       "      <td>184.96</td>\n",
       "      <td>25.30</td>\n",
       "      <td>381.54</td>\n",
       "      <td>398.67</td>\n",
       "      <td>-20.81</td>\n",
       "      <td>...</td>\n",
       "      <td>0</td>\n",
       "      <td>0</td>\n",
       "      <td>0</td>\n",
       "      <td>1</td>\n",
       "      <td>0</td>\n",
       "      <td>0</td>\n",
       "      <td>3</td>\n",
       "      <td>17.965461</td>\n",
       "      <td>-94.384466</td>\n",
       "      <td>374.750904</td>\n",
       "    </tr>\n",
       "  </tbody>\n",
       "</table>\n",
       "<p>5 rows × 42 columns</p>\n",
       "</div>"
      ],
      "text/plain": [
       "           Pozo fecha_produccion  Qomes_b_t_6  Qomes_b_t_5  Qomes_b_t_4  \\\n",
       "0  MOLOACAN-836       1999-01-01       169.43       150.43       164.86   \n",
       "1  MOLOACAN-836       1999-02-01       150.43       164.86       162.94   \n",
       "2  MOLOACAN-836       1999-03-01       164.86       162.94       174.67   \n",
       "3  MOLOACAN-836       1999-05-01       174.67       167.18       187.99   \n",
       "4  MOLOACAN-836       1999-06-01       167.18       187.99       184.67   \n",
       "\n",
       "   Qomes_b_t_3  Qomes_b_t_2  Qomes_b_t_1  Qomes_b_t  diff_t_6_t_5  ...  \\\n",
       "0       162.94       174.67       167.18     187.99         19.00  ...   \n",
       "1       174.67       167.18       187.99     184.67        -14.43  ...   \n",
       "2       167.18       187.99       184.67     184.96          1.92  ...   \n",
       "3       184.67       184.96        25.30     381.54          7.49  ...   \n",
       "4       184.96        25.30       381.54     398.67        -20.81  ...   \n",
       "\n",
       "   cluster_0  cluster_1  cluster_2  cluster_3  cluster_4  cluster_5  cluster  \\\n",
       "0          0          1          0          0          0          0        1   \n",
       "1          0          1          0          0          0          0        1   \n",
       "2          0          1          0          0          0          0        1   \n",
       "3          0          1          0          0          0          0        1   \n",
       "4          0          0          0          1          0          0        3   \n",
       "\n",
       "     latitud   longitud  prediction  \n",
       "0  17.965461 -94.384466  195.023480  \n",
       "1  17.965461 -94.384466  184.016083  \n",
       "2  17.965461 -94.384466  179.810032  \n",
       "3  17.965461 -94.384466  346.370887  \n",
       "4  17.965461 -94.384466  374.750904  \n",
       "\n",
       "[5 rows x 42 columns]"
      ]
     },
     "execution_count": 121,
     "metadata": {},
     "output_type": "execute_result"
    }
   ],
   "source": [
    "df_simul = df_train[df_train.Pozo == 'MOLOACAN-836'].reset_index(drop=True)\n",
    "df_simul.head(5)"
   ]
  },
  {
   "cell_type": "code",
   "execution_count": 305,
   "metadata": {},
   "outputs": [
    {
     "data": {
      "text/html": [
       "<div>\n",
       "<style scoped>\n",
       "    .dataframe tbody tr th:only-of-type {\n",
       "        vertical-align: middle;\n",
       "    }\n",
       "\n",
       "    .dataframe tbody tr th {\n",
       "        vertical-align: top;\n",
       "    }\n",
       "\n",
       "    .dataframe thead th {\n",
       "        text-align: right;\n",
       "    }\n",
       "</style>\n",
       "<table border=\"1\" class=\"dataframe\">\n",
       "  <thead>\n",
       "    <tr style=\"text-align: right;\">\n",
       "      <th></th>\n",
       "      <th>Pozo</th>\n",
       "      <th>fecha_produccion</th>\n",
       "      <th>Qomes_b_t_6</th>\n",
       "      <th>Qomes_b_t_5</th>\n",
       "      <th>Qomes_b_t_4</th>\n",
       "      <th>Qomes_b_t_3</th>\n",
       "      <th>Qomes_b_t_2</th>\n",
       "      <th>Qomes_b_t_1</th>\n",
       "      <th>Qomes_b_t</th>\n",
       "      <th>diff_t_6_t_5</th>\n",
       "      <th>...</th>\n",
       "      <th>cluster_0</th>\n",
       "      <th>cluster_1</th>\n",
       "      <th>cluster_2</th>\n",
       "      <th>cluster_3</th>\n",
       "      <th>cluster_4</th>\n",
       "      <th>cluster_5</th>\n",
       "      <th>latitud</th>\n",
       "      <th>longitud</th>\n",
       "      <th>prediction</th>\n",
       "      <th>y_real</th>\n",
       "    </tr>\n",
       "  </thead>\n",
       "  <tbody>\n",
       "    <tr>\n",
       "      <th>0</th>\n",
       "      <td>MOLOACAN-836</td>\n",
       "      <td>1999-01-01 00:00:00</td>\n",
       "      <td>169.43</td>\n",
       "      <td>150.43</td>\n",
       "      <td>164.86</td>\n",
       "      <td>162.94</td>\n",
       "      <td>174.67</td>\n",
       "      <td>167.18</td>\n",
       "      <td>187.99</td>\n",
       "      <td>19</td>\n",
       "      <td>...</td>\n",
       "      <td>1</td>\n",
       "      <td>0</td>\n",
       "      <td>0</td>\n",
       "      <td>0</td>\n",
       "      <td>0</td>\n",
       "      <td>0</td>\n",
       "      <td>17.9655</td>\n",
       "      <td>-94.3845</td>\n",
       "      <td>195.861</td>\n",
       "      <td>187.99</td>\n",
       "    </tr>\n",
       "    <tr>\n",
       "      <th>1</th>\n",
       "      <td>MOLOACAN-836</td>\n",
       "      <td>1999-02-01 00:00:00</td>\n",
       "      <td>150.43</td>\n",
       "      <td>164.86</td>\n",
       "      <td>162.94</td>\n",
       "      <td>174.67</td>\n",
       "      <td>167.18</td>\n",
       "      <td>187.99</td>\n",
       "      <td>195.861</td>\n",
       "      <td>-14.43</td>\n",
       "      <td>...</td>\n",
       "      <td>1</td>\n",
       "      <td>0</td>\n",
       "      <td>0</td>\n",
       "      <td>0</td>\n",
       "      <td>0</td>\n",
       "      <td>0</td>\n",
       "      <td>17.9655</td>\n",
       "      <td>-94.3845</td>\n",
       "      <td>185.202</td>\n",
       "      <td>184.67</td>\n",
       "    </tr>\n",
       "    <tr>\n",
       "      <th>2</th>\n",
       "      <td>MOLOACAN-836</td>\n",
       "      <td>1999-03-01 00:00:00</td>\n",
       "      <td>164.86</td>\n",
       "      <td>162.94</td>\n",
       "      <td>174.67</td>\n",
       "      <td>167.18</td>\n",
       "      <td>187.99</td>\n",
       "      <td>195.861</td>\n",
       "      <td>185.202</td>\n",
       "      <td>1.92</td>\n",
       "      <td>...</td>\n",
       "      <td>1</td>\n",
       "      <td>0</td>\n",
       "      <td>0</td>\n",
       "      <td>0</td>\n",
       "      <td>0</td>\n",
       "      <td>0</td>\n",
       "      <td>17.9655</td>\n",
       "      <td>-94.3845</td>\n",
       "      <td>178.961</td>\n",
       "      <td>184.96</td>\n",
       "    </tr>\n",
       "  </tbody>\n",
       "</table>\n",
       "<p>3 rows × 42 columns</p>\n",
       "</div>"
      ],
      "text/plain": [
       "           Pozo     fecha_produccion Qomes_b_t_6 Qomes_b_t_5 Qomes_b_t_4  \\\n",
       "0  MOLOACAN-836  1999-01-01 00:00:00      169.43      150.43      164.86   \n",
       "1  MOLOACAN-836  1999-02-01 00:00:00      150.43      164.86      162.94   \n",
       "2  MOLOACAN-836  1999-03-01 00:00:00      164.86      162.94      174.67   \n",
       "\n",
       "  Qomes_b_t_3 Qomes_b_t_2 Qomes_b_t_1 Qomes_b_t diff_t_6_t_5   ...    \\\n",
       "0      162.94      174.67      167.18    187.99           19   ...     \n",
       "1      174.67      167.18      187.99   195.861       -14.43   ...     \n",
       "2      167.18      187.99     195.861   185.202         1.92   ...     \n",
       "\n",
       "  cluster_0 cluster_1 cluster_2 cluster_3  cluster_4  cluster_5  latitud  \\\n",
       "0         1         0         0         0          0          0  17.9655   \n",
       "1         1         0         0         0          0          0  17.9655   \n",
       "2         1         0         0         0          0          0  17.9655   \n",
       "\n",
       "   longitud  prediction  y_real  \n",
       "0  -94.3845     195.861  187.99  \n",
       "1  -94.3845     185.202  184.67  \n",
       "2  -94.3845     178.961  184.96  \n",
       "\n",
       "[3 rows x 42 columns]"
      ]
     },
     "execution_count": 305,
     "metadata": {},
     "output_type": "execute_result"
    }
   ],
   "source": [
    "df_simulation"
   ]
  },
  {
   "cell_type": "code",
   "execution_count": 306,
   "metadata": {},
   "outputs": [
    {
     "name": "stdout",
     "output_type": "stream",
     "text": [
      "estimacion 178.961\n"
     ]
    }
   ],
   "source": [
    "df_simulation = df_simulation.append(df_simul.iloc[3])\n",
    "prediccion = clf.predict(df_simul.iloc[2:3][num_cols])[0]\n",
    "print('estimacion %1.3f' %prediccion)\n",
    "df_simulation.set_value(3,'Qomes_b_t', prediccion)\n",
    "df_simulation.set_value(3,'Qomes_b_t_1', df_simulation.loc[2,'Qomes_b_t'])\n",
    "df_simulation.set_value(3,'Qomes_b_t_2', df_simulation.loc[2,'Qomes_b_t_1'])\n",
    "df_simulation = gen_cols(df_simulation)"
   ]
  },
  {
   "cell_type": "code",
   "execution_count": 307,
   "metadata": {},
   "outputs": [
    {
     "data": {
      "text/html": [
       "<div>\n",
       "<style scoped>\n",
       "    .dataframe tbody tr th:only-of-type {\n",
       "        vertical-align: middle;\n",
       "    }\n",
       "\n",
       "    .dataframe tbody tr th {\n",
       "        vertical-align: top;\n",
       "    }\n",
       "\n",
       "    .dataframe thead th {\n",
       "        text-align: right;\n",
       "    }\n",
       "</style>\n",
       "<table border=\"1\" class=\"dataframe\">\n",
       "  <thead>\n",
       "    <tr style=\"text-align: right;\">\n",
       "      <th></th>\n",
       "      <th>Pozo</th>\n",
       "      <th>fecha_produccion</th>\n",
       "      <th>Qomes_b_t_6</th>\n",
       "      <th>Qomes_b_t_5</th>\n",
       "      <th>Qomes_b_t_4</th>\n",
       "      <th>Qomes_b_t_3</th>\n",
       "      <th>Qomes_b_t_2</th>\n",
       "      <th>Qomes_b_t_1</th>\n",
       "      <th>Qomes_b_t</th>\n",
       "      <th>diff_t_6_t_5</th>\n",
       "      <th>...</th>\n",
       "      <th>cluster_0</th>\n",
       "      <th>cluster_1</th>\n",
       "      <th>cluster_2</th>\n",
       "      <th>cluster_3</th>\n",
       "      <th>cluster_4</th>\n",
       "      <th>cluster_5</th>\n",
       "      <th>latitud</th>\n",
       "      <th>longitud</th>\n",
       "      <th>prediction</th>\n",
       "      <th>y_real</th>\n",
       "    </tr>\n",
       "  </thead>\n",
       "  <tbody>\n",
       "    <tr>\n",
       "      <th>0</th>\n",
       "      <td>MOLOACAN-836</td>\n",
       "      <td>1999-01-01 00:00:00</td>\n",
       "      <td>169.43</td>\n",
       "      <td>150.43</td>\n",
       "      <td>164.86</td>\n",
       "      <td>162.94</td>\n",
       "      <td>174.67</td>\n",
       "      <td>167.18</td>\n",
       "      <td>187.99</td>\n",
       "      <td>19</td>\n",
       "      <td>...</td>\n",
       "      <td>1</td>\n",
       "      <td>0</td>\n",
       "      <td>0</td>\n",
       "      <td>0</td>\n",
       "      <td>0</td>\n",
       "      <td>0</td>\n",
       "      <td>17.9655</td>\n",
       "      <td>-94.3845</td>\n",
       "      <td>195.861</td>\n",
       "      <td>187.99</td>\n",
       "    </tr>\n",
       "    <tr>\n",
       "      <th>1</th>\n",
       "      <td>MOLOACAN-836</td>\n",
       "      <td>1999-02-01 00:00:00</td>\n",
       "      <td>150.43</td>\n",
       "      <td>164.86</td>\n",
       "      <td>162.94</td>\n",
       "      <td>174.67</td>\n",
       "      <td>167.18</td>\n",
       "      <td>187.99</td>\n",
       "      <td>195.861</td>\n",
       "      <td>-14.43</td>\n",
       "      <td>...</td>\n",
       "      <td>1</td>\n",
       "      <td>0</td>\n",
       "      <td>0</td>\n",
       "      <td>0</td>\n",
       "      <td>0</td>\n",
       "      <td>0</td>\n",
       "      <td>17.9655</td>\n",
       "      <td>-94.3845</td>\n",
       "      <td>185.202</td>\n",
       "      <td>184.67</td>\n",
       "    </tr>\n",
       "    <tr>\n",
       "      <th>2</th>\n",
       "      <td>MOLOACAN-836</td>\n",
       "      <td>1999-03-01 00:00:00</td>\n",
       "      <td>164.86</td>\n",
       "      <td>162.94</td>\n",
       "      <td>174.67</td>\n",
       "      <td>167.18</td>\n",
       "      <td>187.99</td>\n",
       "      <td>195.861</td>\n",
       "      <td>185.202</td>\n",
       "      <td>1.92</td>\n",
       "      <td>...</td>\n",
       "      <td>1</td>\n",
       "      <td>0</td>\n",
       "      <td>0</td>\n",
       "      <td>0</td>\n",
       "      <td>0</td>\n",
       "      <td>0</td>\n",
       "      <td>17.9655</td>\n",
       "      <td>-94.3845</td>\n",
       "      <td>178.961</td>\n",
       "      <td>184.96</td>\n",
       "    </tr>\n",
       "    <tr>\n",
       "      <th>3</th>\n",
       "      <td>MOLOACAN-836</td>\n",
       "      <td>1999-05-01 00:00:00</td>\n",
       "      <td>174.67</td>\n",
       "      <td>167.18</td>\n",
       "      <td>187.99</td>\n",
       "      <td>184.67</td>\n",
       "      <td>195.861</td>\n",
       "      <td>185.202</td>\n",
       "      <td>178.961</td>\n",
       "      <td>7.49</td>\n",
       "      <td>...</td>\n",
       "      <td>1</td>\n",
       "      <td>0</td>\n",
       "      <td>0</td>\n",
       "      <td>0</td>\n",
       "      <td>0</td>\n",
       "      <td>0</td>\n",
       "      <td>17.9655</td>\n",
       "      <td>-94.3845</td>\n",
       "      <td>375.726</td>\n",
       "      <td>381.54</td>\n",
       "    </tr>\n",
       "  </tbody>\n",
       "</table>\n",
       "<p>4 rows × 42 columns</p>\n",
       "</div>"
      ],
      "text/plain": [
       "           Pozo     fecha_produccion Qomes_b_t_6 Qomes_b_t_5 Qomes_b_t_4  \\\n",
       "0  MOLOACAN-836  1999-01-01 00:00:00      169.43      150.43      164.86   \n",
       "1  MOLOACAN-836  1999-02-01 00:00:00      150.43      164.86      162.94   \n",
       "2  MOLOACAN-836  1999-03-01 00:00:00      164.86      162.94      174.67   \n",
       "3  MOLOACAN-836  1999-05-01 00:00:00      174.67      167.18      187.99   \n",
       "\n",
       "  Qomes_b_t_3 Qomes_b_t_2 Qomes_b_t_1 Qomes_b_t diff_t_6_t_5   ...    \\\n",
       "0      162.94      174.67      167.18    187.99           19   ...     \n",
       "1      174.67      167.18      187.99   195.861       -14.43   ...     \n",
       "2      167.18      187.99     195.861   185.202         1.92   ...     \n",
       "3      184.67     195.861     185.202   178.961         7.49   ...     \n",
       "\n",
       "  cluster_0 cluster_1 cluster_2 cluster_3  cluster_4  cluster_5  latitud  \\\n",
       "0         1         0         0         0          0          0  17.9655   \n",
       "1         1         0         0         0          0          0  17.9655   \n",
       "2         1         0         0         0          0          0  17.9655   \n",
       "3         1         0         0         0          0          0  17.9655   \n",
       "\n",
       "   longitud  prediction  y_real  \n",
       "0  -94.3845     195.861  187.99  \n",
       "1  -94.3845     185.202  184.67  \n",
       "2  -94.3845     178.961  184.96  \n",
       "3  -94.3845     375.726  381.54  \n",
       "\n",
       "[4 rows x 42 columns]"
      ]
     },
     "execution_count": 307,
     "metadata": {},
     "output_type": "execute_result"
    }
   ],
   "source": [
    "df_simulation"
   ]
  },
  {
   "cell_type": "code",
   "execution_count": 4,
   "metadata": {},
   "outputs": [],
   "source": [
    "import pandas as pd\n",
    "import numpy as np"
   ]
  },
  {
   "cell_type": "code",
   "execution_count": 91,
   "metadata": {},
   "outputs": [],
   "source": [
    "n_pred=3"
   ]
  },
  {
   "cell_type": "code",
   "execution_count": 127,
   "metadata": {},
   "outputs": [
    {
     "data": {
      "text/html": [
       "<div>\n",
       "<style scoped>\n",
       "    .dataframe tbody tr th:only-of-type {\n",
       "        vertical-align: middle;\n",
       "    }\n",
       "\n",
       "    .dataframe tbody tr th {\n",
       "        vertical-align: top;\n",
       "    }\n",
       "\n",
       "    .dataframe thead th {\n",
       "        text-align: right;\n",
       "    }\n",
       "</style>\n",
       "<table border=\"1\" class=\"dataframe\">\n",
       "  <thead>\n",
       "    <tr style=\"text-align: right;\">\n",
       "      <th></th>\n",
       "      <th>y_pred</th>\n",
       "    </tr>\n",
       "  </thead>\n",
       "  <tbody>\n",
       "    <tr>\n",
       "      <th>0</th>\n",
       "      <td>10</td>\n",
       "    </tr>\n",
       "    <tr>\n",
       "      <th>1</th>\n",
       "      <td>20</td>\n",
       "    </tr>\n",
       "    <tr>\n",
       "      <th>2</th>\n",
       "      <td>30</td>\n",
       "    </tr>\n",
       "  </tbody>\n",
       "</table>\n",
       "</div>"
      ],
      "text/plain": [
       "   y_pred\n",
       "0      10\n",
       "1      20\n",
       "2      30"
      ]
     },
     "execution_count": 127,
     "metadata": {},
     "output_type": "execute_result"
    }
   ],
   "source": [
    "y_predic=pd.DataFrame(np.array([10,20,30]),columns=['y_pred'])\n",
    "y_predic"
   ]
  },
  {
   "cell_type": "code",
   "execution_count": 182,
   "metadata": {},
   "outputs": [
    {
     "data": {
      "text/html": [
       "<div>\n",
       "<style scoped>\n",
       "    .dataframe tbody tr th:only-of-type {\n",
       "        vertical-align: middle;\n",
       "    }\n",
       "\n",
       "    .dataframe tbody tr th {\n",
       "        vertical-align: top;\n",
       "    }\n",
       "\n",
       "    .dataframe thead th {\n",
       "        text-align: right;\n",
       "    }\n",
       "</style>\n",
       "<table border=\"1\" class=\"dataframe\">\n",
       "  <thead>\n",
       "    <tr style=\"text-align: right;\">\n",
       "      <th></th>\n",
       "      <th>t-3</th>\n",
       "      <th>t-2</th>\n",
       "      <th>t-1</th>\n",
       "      <th>t</th>\n",
       "    </tr>\n",
       "  </thead>\n",
       "  <tbody>\n",
       "    <tr>\n",
       "      <th>0</th>\n",
       "      <td>10</td>\n",
       "      <td>1</td>\n",
       "      <td>2</td>\n",
       "      <td>3</td>\n",
       "    </tr>\n",
       "    <tr>\n",
       "      <th>1</th>\n",
       "      <td>1</td>\n",
       "      <td>2</td>\n",
       "      <td>3</td>\n",
       "      <td>4</td>\n",
       "    </tr>\n",
       "    <tr>\n",
       "      <th>2</th>\n",
       "      <td>2</td>\n",
       "      <td>3</td>\n",
       "      <td>4</td>\n",
       "      <td>5</td>\n",
       "    </tr>\n",
       "  </tbody>\n",
       "</table>\n",
       "</div>"
      ],
      "text/plain": [
       "   t-3  t-2  t-1  t\n",
       "0   10    1    2  3\n",
       "1    1    2    3  4\n",
       "2    2    3    4  5"
      ]
     },
     "execution_count": 182,
     "metadata": {},
     "output_type": "execute_result"
    }
   ],
   "source": [
    "df2 = pd.DataFrame(np.array([ [10,1,2,3],[1, 2, 3,4], [2, 3, 4,5]]),\n",
    "...                    columns=['t-3','t-2', 't-1', 't'])\n",
    "df2"
   ]
  },
  {
   "cell_type": "code",
   "execution_count": 183,
   "metadata": {},
   "outputs": [
    {
     "name": "stdout",
     "output_type": "stream",
     "text": [
      "   t-3  t-2  t-1   t\n",
      "0    1    2    3  10\n",
      "1    1    2    3  10\n",
      "2    1    2    3   4\n",
      "3    2    3    4   5\n",
      "   t-3  t-2  t-1   t\n",
      "0    2    3   10  20\n",
      "1    2    3   10  20\n",
      "2    1    2    3  10\n",
      "3    1    2    3   4\n",
      "4    2    3    4   5\n",
      "   t-3  t-2  t-1   t\n",
      "0    3   10   20  30\n",
      "1    3   10   20  30\n",
      "2    2    3   10  20\n",
      "3    1    2    3  10\n",
      "4    1    2    3   4\n",
      "5    2    3    4   5\n"
     ]
    }
   ],
   "source": [
    "df3=df2\n",
    "for i in range(n_pred):\n",
    "    for j in range(df3.shape[1]-1):\n",
    "        # recorrer valores\n",
    "        df3.iloc[0,j] = df3.iloc[0,j+1]\n",
    "    # colocar el valor de la predicción\n",
    "    valor=y_predic.loc[i,'y_pred']\n",
    "    df3.iloc[0,df3.shape[1]-1]=valor\n",
    "    # guardar registro\n",
    "    df4=pd.concat([df3.loc[:0],df3],ignore_index=True)\n",
    "    #df4.drop(df4.index[0])\n",
    "    df3=df4\n",
    "    #df3=df3.drop(0).reset_index(drop=True)\n",
    "    print(df3)"
   ]
  },
  {
   "cell_type": "code",
   "execution_count": null,
   "metadata": {},
   "outputs": [],
   "source": [
    "results=[]\n",
    "for i in range(7):\n",
    "    parcial=model.predict(x_test)\n",
    "    results.append(parcial[0])\n",
    "    print(x_test)\n",
    "    x_test=agregarNuevoValor(x_test,parcial[0])"
   ]
  },
  {
   "cell_type": "code",
   "execution_count": 185,
   "metadata": {},
   "outputs": [
    {
     "data": {
      "text/plain": [
       "(6, 4)"
      ]
     },
     "execution_count": 185,
     "metadata": {},
     "output_type": "execute_result"
    }
   ],
   "source": [
    "df3.shape"
   ]
  },
  {
   "cell_type": "code",
   "execution_count": null,
   "metadata": {},
   "outputs": [],
   "source": []
  }
 ],
 "metadata": {
  "kernelspec": {
   "display_name": "Python 3",
   "language": "python",
   "name": "python3"
  },
  "language_info": {
   "codemirror_mode": {
    "name": "ipython",
    "version": 3
   },
   "file_extension": ".py",
   "mimetype": "text/x-python",
   "name": "python",
   "nbconvert_exporter": "python",
   "pygments_lexer": "ipython3",
   "version": "3.7.3"
  }
 },
 "nbformat": 4,
 "nbformat_minor": 2
}
