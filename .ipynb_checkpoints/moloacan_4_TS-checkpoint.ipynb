{
 "cells": [
  {
   "cell_type": "markdown",
   "metadata": {},
   "source": [
    "# Estimacion de produccion de Aceite"
   ]
  },
  {
   "cell_type": "code",
   "execution_count": 1,
   "metadata": {},
   "outputs": [],
   "source": [
    "import pandas as pd\n",
    "import numpy as np\n",
    "import matplotlib.pyplot as plt\n",
    "import seaborn as sns\n",
    "# import pandas_profiling\n",
    "\n",
    "font = {'family' : 'sans',\n",
    "        'weight' : 'bold',\n",
    "        'size'   : 20}\n",
    "plt.rc('font', **font)\n",
    "plt.rcParams['xtick.labelsize'] = 16\n",
    "plt.rcParams['ytick.labelsize'] = 16\n",
    "plt.rcParams[u'figure.figsize'] = (16,12)\n",
    "params = {'legend.fontsize': 'x-large',\n",
    "         'axes.labelsize': 'x-large',\n",
    "         }\n",
    "# plt.style.use('seaborn-poster')\n",
    "plt.style.use('ggplot')\n",
    "\n",
    "import sys\n",
    "sys.path.append('serch_tools/')\n",
    "import serch_tools as st\n",
    "\n",
    "from pdpbox import pdp, info_plots\n",
    "from sklearn.cluster import KMeans\n",
    "import plotly\n",
    "import cufflinks"
   ]
  },
  {
   "cell_type": "code",
   "execution_count": 2,
   "metadata": {},
   "outputs": [],
   "source": [
    "# Modelos\n",
    "import lightgbm as lgb\n",
    "from sklearn.ensemble import GradientBoostingClassifier\n",
    "\n",
    "# metricas de evaluacion\n",
    "from sklearn.metrics import (roc_auc_score, classification_report, confusion_matrix,\n",
    "                            roc_curve, accuracy_score)\n",
    "# lo mismo pero en grafico\n",
    "import scikitplot as skplt\n",
    "\n",
    "# Interpretacion\n",
    "from sklearn.ensemble.partial_dependence import plot_partial_dependence\n",
    "import shap"
   ]
  },
  {
   "cell_type": "code",
   "execution_count": 3,
   "metadata": {},
   "outputs": [],
   "source": [
    "aforos = pd.read_csv(\"aforos.csv\")\n",
    "analisis_fluidos = pd.read_csv(\"Analisis_fluidos.csv\")\n",
    "columna_geologica = pd.read_csv('columna_geologica.csv')\n",
    "eval_petrofisica = pd.read_csv('eval_petrofisica.csv')\n",
    "intervalo_disparado = pd.read_csv('IntervalosDisparados.csv')\n",
    "parametros_petrofisicos = pd.read_csv('parametros_petrofisicos.csv')"
   ]
  },
  {
   "cell_type": "code",
   "execution_count": 4,
   "metadata": {},
   "outputs": [],
   "source": [
    "datos_generales_pozos = pd.read_csv('datos_generales_de_pozos.csv')\n",
    "datos_generales_pozos['CLASIFICACION_LAHEE'] = datos_generales_pozos[\n",
    "    'CLASIFICACION_LAHEE'].str[:6] + datos_generales_pozos[\n",
    "    'CLASIFICACION_LAHEE'].str[8:]\n",
    "datos_generales_pozos['CLASIFICACION_LAHEE'] = datos_generales_pozos['CLASIFICACION_LAHEE'].str.replace(\"/\",\"-\")"
   ]
  },
  {
   "cell_type": "code",
   "execution_count": 5,
   "metadata": {},
   "outputs": [
    {
     "data": {
      "text/html": [
       "<div>\n",
       "<style scoped>\n",
       "    .dataframe tbody tr th:only-of-type {\n",
       "        vertical-align: middle;\n",
       "    }\n",
       "\n",
       "    .dataframe tbody tr th {\n",
       "        vertical-align: top;\n",
       "    }\n",
       "\n",
       "    .dataframe thead th {\n",
       "        text-align: right;\n",
       "    }\n",
       "</style>\n",
       "<table border=\"1\" class=\"dataframe\">\n",
       "  <thead>\n",
       "    <tr style=\"text-align: right;\">\n",
       "      <th></th>\n",
       "      <th>index</th>\n",
       "      <th>NOMBRE_DEL_POZO</th>\n",
       "      <th>CIMA_INTERVALO_(md)</th>\n",
       "      <th>BASE_INTERVALO_(md)</th>\n",
       "      <th>CONDICION_DE_FLUJO_(Fluyente/SAP)</th>\n",
       "      <th>FECHA_DE_LA_PRODUCCION_(dd/mm/aaaa)</th>\n",
       "      <th>RELACION_GAS_LIQUIDO_(m3/m3)</th>\n",
       "      <th>RELACION_GAS_ACEITE_(m3/m3)</th>\n",
       "      <th>CORTE_DE_AGUA_(bl/bl)</th>\n",
       "      <th>SALINIDAD_(PPM)</th>\n",
       "      <th>...</th>\n",
       "      <th>RELACION_CONDENSADO_GAS_(m3/m3)</th>\n",
       "      <th>RELACION_AGUA_GAS_(m3/m3)</th>\n",
       "      <th>RELACION_AGUA_CONDENSADO_(m3/m3)</th>\n",
       "      <th>FRACCION_DEL_SEDIMENTO</th>\n",
       "      <th>DIAMETRO_DEL_ESTRANGULADOR _(in)</th>\n",
       "      <th>VOLUMEN_DE_ACEITE_(m3)</th>\n",
       "      <th>VOLUMEN_DE_GAS_(m3)</th>\n",
       "      <th>VOLUMEN_DE_CONDENSADO_(m3)</th>\n",
       "      <th>DIAS_DE_PRODUCCION</th>\n",
       "      <th>DESCRIPCION_DE_LA_PRODUCCION</th>\n",
       "    </tr>\n",
       "  </thead>\n",
       "  <tbody>\n",
       "    <tr>\n",
       "      <th>0</th>\n",
       "      <td>0</td>\n",
       "      <td>MOLOACAN-102A</td>\n",
       "      <td>SIN INFORMACION</td>\n",
       "      <td>SIN INFORMACION</td>\n",
       "      <td>SAP</td>\n",
       "      <td>01/10/2013</td>\n",
       "      <td>101.175571</td>\n",
       "      <td>203.152074</td>\n",
       "      <td>50.205197</td>\n",
       "      <td>SIN INFORMACION</td>\n",
       "      <td>...</td>\n",
       "      <td>NO APLICA</td>\n",
       "      <td>0.004962</td>\n",
       "      <td>NO APLICA</td>\n",
       "      <td>NO APLICA</td>\n",
       "      <td>NO APLICA</td>\n",
       "      <td>31.803914</td>\n",
       "      <td>6462.078342</td>\n",
       "      <td>NO APLICA</td>\n",
       "      <td>31</td>\n",
       "      <td>SIN INFORMACION</td>\n",
       "    </tr>\n",
       "    <tr>\n",
       "      <th>1</th>\n",
       "      <td>1</td>\n",
       "      <td>MOLOACAN-102A</td>\n",
       "      <td>SIN INFORMACION</td>\n",
       "      <td>SIN INFORMACION</td>\n",
       "      <td>SAP</td>\n",
       "      <td>01/11/2013</td>\n",
       "      <td>100.298703</td>\n",
       "      <td>203.279313</td>\n",
       "      <td>50.667656</td>\n",
       "      <td>SIN INFORMACION</td>\n",
       "      <td>...</td>\n",
       "      <td>NO APLICA</td>\n",
       "      <td>0.005052</td>\n",
       "      <td>NO APLICA</td>\n",
       "      <td>NO APLICA</td>\n",
       "      <td>NO APLICA</td>\n",
       "      <td>29.536942</td>\n",
       "      <td>6005.222347</td>\n",
       "      <td>NO APLICA</td>\n",
       "      <td>30</td>\n",
       "      <td>SIN INFORMACION</td>\n",
       "    </tr>\n",
       "    <tr>\n",
       "      <th>2</th>\n",
       "      <td>2</td>\n",
       "      <td>MOLOACAN-102A</td>\n",
       "      <td>SIN INFORMACION</td>\n",
       "      <td>SIN INFORMACION</td>\n",
       "      <td>SAP</td>\n",
       "      <td>01/12/2013</td>\n",
       "      <td>101.159166</td>\n",
       "      <td>203.859067</td>\n",
       "      <td>50.385933</td>\n",
       "      <td>SIN INFORMACION</td>\n",
       "      <td>...</td>\n",
       "      <td>NO APLICA</td>\n",
       "      <td>0.004981</td>\n",
       "      <td>NO APLICA</td>\n",
       "      <td>NO APLICA</td>\n",
       "      <td>NO APLICA</td>\n",
       "      <td>30.852725</td>\n",
       "      <td>6290.627114</td>\n",
       "      <td>NO APLICA</td>\n",
       "      <td>31</td>\n",
       "      <td>SIN INFORMACION</td>\n",
       "    </tr>\n",
       "    <tr>\n",
       "      <th>3</th>\n",
       "      <td>3</td>\n",
       "      <td>MOLOACAN-102A</td>\n",
       "      <td>SIN INFORMACION</td>\n",
       "      <td>SIN INFORMACION</td>\n",
       "      <td>SAP</td>\n",
       "      <td>01/01/2014</td>\n",
       "      <td>101.316590</td>\n",
       "      <td>203.424976</td>\n",
       "      <td>50.202687</td>\n",
       "      <td>SIN INFORMACION</td>\n",
       "      <td>...</td>\n",
       "      <td>NO APLICA</td>\n",
       "      <td>0.004955</td>\n",
       "      <td>NO APLICA</td>\n",
       "      <td>NO APLICA</td>\n",
       "      <td>NO APLICA</td>\n",
       "      <td>31.774044</td>\n",
       "      <td>6464.681785</td>\n",
       "      <td>NO APLICA</td>\n",
       "      <td>31</td>\n",
       "      <td>SIN INFORMACION</td>\n",
       "    </tr>\n",
       "    <tr>\n",
       "      <th>4</th>\n",
       "      <td>4</td>\n",
       "      <td>MOLOACAN-102A</td>\n",
       "      <td>SIN INFORMACION</td>\n",
       "      <td>SIN INFORMACION</td>\n",
       "      <td>SAP</td>\n",
       "      <td>01/02/2014</td>\n",
       "      <td>101.316590</td>\n",
       "      <td>203.424976</td>\n",
       "      <td>50.202687</td>\n",
       "      <td>SIN INFORMACION</td>\n",
       "      <td>...</td>\n",
       "      <td>NO APLICA</td>\n",
       "      <td>0.004955</td>\n",
       "      <td>NO APLICA</td>\n",
       "      <td>NO APLICA</td>\n",
       "      <td>NO APLICA</td>\n",
       "      <td>28.699137</td>\n",
       "      <td>5839.067419</td>\n",
       "      <td>NO APLICA</td>\n",
       "      <td>28</td>\n",
       "      <td>SIN INFORMACION</td>\n",
       "    </tr>\n",
       "  </tbody>\n",
       "</table>\n",
       "<p>5 rows × 21 columns</p>\n",
       "</div>"
      ],
      "text/plain": [
       "   index NOMBRE_DEL_POZO CIMA_INTERVALO_(md) BASE_INTERVALO_(md)  \\\n",
       "0      0   MOLOACAN-102A     SIN INFORMACION     SIN INFORMACION   \n",
       "1      1   MOLOACAN-102A     SIN INFORMACION     SIN INFORMACION   \n",
       "2      2   MOLOACAN-102A     SIN INFORMACION     SIN INFORMACION   \n",
       "3      3   MOLOACAN-102A     SIN INFORMACION     SIN INFORMACION   \n",
       "4      4   MOLOACAN-102A     SIN INFORMACION     SIN INFORMACION   \n",
       "\n",
       "  CONDICION_DE_FLUJO_(Fluyente/SAP) FECHA_DE_LA_PRODUCCION_(dd/mm/aaaa)  \\\n",
       "0                               SAP                          01/10/2013   \n",
       "1                               SAP                          01/11/2013   \n",
       "2                               SAP                          01/12/2013   \n",
       "3                               SAP                          01/01/2014   \n",
       "4                               SAP                          01/02/2014   \n",
       "\n",
       "   RELACION_GAS_LIQUIDO_(m3/m3)  RELACION_GAS_ACEITE_(m3/m3)  \\\n",
       "0                    101.175571                   203.152074   \n",
       "1                    100.298703                   203.279313   \n",
       "2                    101.159166                   203.859067   \n",
       "3                    101.316590                   203.424976   \n",
       "4                    101.316590                   203.424976   \n",
       "\n",
       "   CORTE_DE_AGUA_(bl/bl)  SALINIDAD_(PPM)              ...                \\\n",
       "0              50.205197  SIN INFORMACION              ...                 \n",
       "1              50.667656  SIN INFORMACION              ...                 \n",
       "2              50.385933  SIN INFORMACION              ...                 \n",
       "3              50.202687  SIN INFORMACION              ...                 \n",
       "4              50.202687  SIN INFORMACION              ...                 \n",
       "\n",
       "   RELACION_CONDENSADO_GAS_(m3/m3) RELACION_AGUA_GAS_(m3/m3)  \\\n",
       "0                        NO APLICA                  0.004962   \n",
       "1                        NO APLICA                  0.005052   \n",
       "2                        NO APLICA                  0.004981   \n",
       "3                        NO APLICA                  0.004955   \n",
       "4                        NO APLICA                  0.004955   \n",
       "\n",
       "   RELACION_AGUA_CONDENSADO_(m3/m3) FRACCION_DEL_SEDIMENTO  \\\n",
       "0                         NO APLICA              NO APLICA   \n",
       "1                         NO APLICA              NO APLICA   \n",
       "2                         NO APLICA              NO APLICA   \n",
       "3                         NO APLICA              NO APLICA   \n",
       "4                         NO APLICA              NO APLICA   \n",
       "\n",
       "  DIAMETRO_DEL_ESTRANGULADOR _(in) VOLUMEN_DE_ACEITE_(m3)  \\\n",
       "0                        NO APLICA              31.803914   \n",
       "1                        NO APLICA              29.536942   \n",
       "2                        NO APLICA              30.852725   \n",
       "3                        NO APLICA              31.774044   \n",
       "4                        NO APLICA              28.699137   \n",
       "\n",
       "   VOLUMEN_DE_GAS_(m3)  VOLUMEN_DE_CONDENSADO_(m3) DIAS_DE_PRODUCCION   \\\n",
       "0          6462.078342                   NO APLICA                  31   \n",
       "1          6005.222347                   NO APLICA                  30   \n",
       "2          6290.627114                   NO APLICA                  31   \n",
       "3          6464.681785                   NO APLICA                  31   \n",
       "4          5839.067419                   NO APLICA                  28   \n",
       "\n",
       "   DESCRIPCION_DE_LA_PRODUCCION   \n",
       "0                SIN INFORMACION  \n",
       "1                SIN INFORMACION  \n",
       "2                SIN INFORMACION  \n",
       "3                SIN INFORMACION  \n",
       "4                SIN INFORMACION  \n",
       "\n",
       "[5 rows x 21 columns]"
      ]
     },
     "execution_count": 5,
     "metadata": {},
     "output_type": "execute_result"
    }
   ],
   "source": [
    "prod_mens = pd.read_csv('produccion_mensual.csv')\n",
    "prod_mens.head()"
   ]
  },
  {
   "cell_type": "code",
   "execution_count": 6,
   "metadata": {},
   "outputs": [
    {
     "data": {
      "text/plain": [
       "Index(['index', 'NOMBRE_DEL_POZO', 'CIMA_INTERVALO_(md)',\n",
       "       'BASE_INTERVALO_(md)', 'CONDICION_DE_FLUJO_(Fluyente/SAP)',\n",
       "       'FECHA_DE_LA_PRODUCCION_(dd/mm/aaaa)', 'RELACION_GAS_LIQUIDO_(m3/m3)',\n",
       "       'RELACION_GAS_ACEITE_(m3/m3)', 'CORTE_DE_AGUA_(bl/bl)',\n",
       "       'SALINIDAD_(PPM)', 'RELACION_AGUA_ACEITE_(m3/m3)',\n",
       "       'RELACION_CONDENSADO_GAS_(m3/m3)', 'RELACION_AGUA_GAS_(m3/m3)',\n",
       "       'RELACION_AGUA_CONDENSADO_(m3/m3)', 'FRACCION_DEL_SEDIMENTO',\n",
       "       'DIAMETRO_DEL_ESTRANGULADOR _(in)', 'VOLUMEN_DE_ACEITE_(m3)',\n",
       "       'VOLUMEN_DE_GAS_(m3)', 'VOLUMEN_DE_CONDENSADO_(m3)',\n",
       "       'DIAS_DE_PRODUCCION ', 'DESCRIPCION_DE_LA_PRODUCCION '],\n",
       "      dtype='object')"
      ]
     },
     "execution_count": 6,
     "metadata": {},
     "output_type": "execute_result"
    }
   ],
   "source": [
    "prod_mens.columns"
   ]
  },
  {
   "cell_type": "code",
   "execution_count": 7,
   "metadata": {},
   "outputs": [
    {
     "data": {
      "text/plain": [
       "121.0"
      ]
     },
     "execution_count": 7,
     "metadata": {},
     "output_type": "execute_result"
    }
   ],
   "source": [
    "prod_mens.groupby(['NOMBRE_DEL_POZO'])['FECHA_DE_LA_PRODUCCION_(dd/mm/aaaa)'].count().median()"
   ]
  },
  {
   "cell_type": "code",
   "execution_count": 8,
   "metadata": {},
   "outputs": [],
   "source": [
    "prod_mens['fecha_produccion'] = pd.to_datetime(prod_mens['FECHA_DE_LA_PRODUCCION_(dd/mm/aaaa)'], \n",
    "                                               format=\"%d/%m/%Y\")"
   ]
  },
  {
   "cell_type": "code",
   "execution_count": 9,
   "metadata": {},
   "outputs": [
    {
     "data": {
      "text/plain": [
       "count                   20821\n",
       "unique                    187\n",
       "top       1999-01-01 00:00:00\n",
       "freq                      156\n",
       "first     1999-01-01 00:00:00\n",
       "last      2014-07-01 00:00:00\n",
       "Name: fecha_produccion, dtype: object"
      ]
     },
     "execution_count": 9,
     "metadata": {},
     "output_type": "execute_result"
    }
   ],
   "source": [
    "prod_mens['fecha_produccion'].describe()"
   ]
  },
  {
   "cell_type": "markdown",
   "metadata": {},
   "source": [
    "En algunos posos tenemos un historico de 1999 hasta 2014"
   ]
  },
  {
   "cell_type": "markdown",
   "metadata": {},
   "source": [
    "# Tabla DB_produccion_Moloacan\n",
    "\n",
    "Tabla con historico de produccion en unidades de barriles mensuales\n",
    "\n",
    "    Fecha - Fecha de registro\n",
    "    Pozo -  Nombre del pozo\n",
    "    Dias - Numero de dias del mes en curso\n",
    "    Qo_mes_b - Numero de Barriles de Oil mensuales\n",
    "    Qo_prom_mesbd - Promedio de barriles diarios Qo_mes_b / Dias\n",
    "    Qg_mes_MMpc - \n",
    "    Qg_prom_mes_MMpcd - Qg_mes_MMpc / Dias\n",
    "    Qw_mes_b - Numero de barriles de agua mensual\n",
    "    Qw_prom_mes_bd - Promedio de barriles mensuales de agua  Qw_mes_b / Dias\n",
    "    Fw_% - Porcentaje de Agua\n",
    "    RGA_m3/m3 - Relacion Gas Aceite\n",
    "    Dias_de_Operacion - Dias que estuvo operando la plataforma"
   ]
  },
  {
   "cell_type": "code",
   "execution_count": 10,
   "metadata": {},
   "outputs": [],
   "source": [
    "db_prod_mol = pd.read_csv('DB_prod_moloacan.csv')\n",
    "db_prod_mol.columns = db_prod_mol.columns.str.replace(\" \",\"_\").str.replace(\n",
    "    \"(\",\"\").str.replace(\")\",\"\").str.replace(\".\",\"\").str.replace('á',\"a\").str.replace('é',\"e\").str.replace(\n",
    "    'í',\"i\").str.replace('ó',\"o\").str.replace('ú',\"u\")\n",
    "# transfromaciones\n",
    "db_prod_mol['Qo_mes_b'] = db_prod_mol['Qo_mes_b'].str.replace(',', '').astype(float)\n",
    "db_prod_mol['Qw_mes_b'] = db_prod_mol['Qw_mes_b'].str.replace(',', '').astype(float)\n",
    "db_prod_mol['RGA_m3/m3'] = db_prod_mol['RGA_m3/m3'].str.replace(',', '').astype(float)\n",
    "db_prod_mol[\"Pozo\"] = db_prod_mol.Pozo.str.replace(\"Á\",\"A\")"
   ]
  },
  {
   "cell_type": "code",
   "execution_count": 11,
   "metadata": {},
   "outputs": [
    {
     "data": {
      "text/plain": [
       "Index(['Fecha', 'Pozo', 'Dias', 'Qo_mes_b', 'Qo_prom_mesbd', 'Qg_mes_MMpc',\n",
       "       'Qg_prom_mes_MMpcd', 'Qw_mes_b', 'Qw_prom_mes_bd', 'Fw_%', 'RGA_m3/m3',\n",
       "       'Dias_de_Operacion'],\n",
       "      dtype='object')"
      ]
     },
     "execution_count": 11,
     "metadata": {},
     "output_type": "execute_result"
    }
   ],
   "source": [
    "db_prod_mol.columns"
   ]
  },
  {
   "cell_type": "code",
   "execution_count": 12,
   "metadata": {},
   "outputs": [],
   "source": [
    "db_prod_mol['fecha_produccion'] = pd.to_datetime(db_prod_mol.Fecha, format=\"%d/%m/%Y\")"
   ]
  },
  {
   "cell_type": "code",
   "execution_count": 13,
   "metadata": {},
   "outputs": [
    {
     "name": "stdout",
     "output_type": "stream",
     "text": [
      "<class 'pandas.core.frame.DataFrame'>\n",
      "RangeIndex: 20886 entries, 0 to 20885\n",
      "Data columns (total 13 columns):\n",
      "Fecha                20886 non-null object\n",
      "Pozo                 20886 non-null object\n",
      "Dias                 20886 non-null int64\n",
      "Qo_mes_b             20886 non-null float64\n",
      "Qo_prom_mesbd        20886 non-null float64\n",
      "Qg_mes_MMpc          20886 non-null float64\n",
      "Qg_prom_mes_MMpcd    20886 non-null float64\n",
      "Qw_mes_b             20886 non-null float64\n",
      "Qw_prom_mes_bd       20886 non-null float64\n",
      "Fw_%                 20886 non-null float64\n",
      "RGA_m3/m3            20886 non-null float64\n",
      "Dias_de_Operacion    20886 non-null int64\n",
      "fecha_produccion     20886 non-null datetime64[ns]\n",
      "dtypes: datetime64[ns](1), float64(8), int64(2), object(2)\n",
      "memory usage: 2.1+ MB\n"
     ]
    }
   ],
   "source": [
    "db_prod_mol.info()"
   ]
  },
  {
   "cell_type": "markdown",
   "metadata": {},
   "source": [
    "# Se estimara el numero de barriles mensuales\n",
    "\n",
    "Se generan variables que expliquen la produccion en $P(t)$ con un historico de 6 meses con variables como $P(t-1), P(t-2), P(t-3)$\n",
    "\n",
    "Se estima\n",
    "$P(t) = \\alpha + \\beta_1 P(t-1)+ \\beta_1 P(t-2)+ \\beta_1 P(t-3)+ \\beta_1 P(t-4)+ \\beta_1 P(t-5)+ \\beta_1 P(t-6) + \\epsilon$"
   ]
  },
  {
   "cell_type": "code",
   "execution_count": 14,
   "metadata": {},
   "outputs": [],
   "source": [
    "# tabla (t-6)\n",
    "t = db_prod_mol.groupby(['Pozo','fecha_produccion']).Qo_mes_b.first()\n",
    "\n",
    "# tabla (t - 5)\n",
    "t_1 = db_prod_mol.groupby(['Pozo','fecha_produccion']).Qo_mes_b.first().shift(-1)\n",
    "\n",
    "# tabla (t -4)\n",
    "t_2 = db_prod_mol.groupby(['Pozo','fecha_produccion']).Qo_mes_b.first().shift(-2)\n",
    "\n",
    "# tabla (t - 3)\n",
    "t_3 = db_prod_mol.groupby(['Pozo','fecha_produccion']).Qo_mes_b.first().shift(-3)\n",
    "\n",
    "# tabla (t - 2)\n",
    "t_4 = db_prod_mol.groupby(['Pozo','fecha_produccion']).Qo_mes_b.first().shift(-4)\n",
    "\n",
    "# tabla (t -1)\n",
    "t_5 = db_prod_mol.groupby(['Pozo','fecha_produccion']).Qo_mes_b.first().shift(-5)\n",
    "\n",
    "# tabla (t) variable a estimar\n",
    "t_6 = db_prod_mol.groupby(['Pozo','fecha_produccion']).Qo_mes_b.first().shift(-6)\n",
    "\n",
    "# tabla (t + 1) se genera para quitar picos abajo o rellenarlo con media movil\n",
    "# t_7 = db_prod_mol.groupby(['Pozo','fecha_produccion']).Qo_mes_b.first().shift(-7)"
   ]
  },
  {
   "cell_type": "markdown",
   "metadata": {},
   "source": [
    "Variables de produccion anterior, pensando que produciran semejante al mes anterior"
   ]
  },
  {
   "cell_type": "code",
   "execution_count": 15,
   "metadata": {},
   "outputs": [],
   "source": [
    "df = pd.concat([t,t_1,t_2,t_3,t_4,t_5,t_6],1).dropna()\n",
    "df.columns = ['Produccion_barriles_t_6','Produccion_barriles_t_5','Produccion_barriles_t_4',\n",
    "              'Produccion_barriles_t_3','Produccion_barriles_t_2','Produccion_barriles_t_1',\n",
    "              'Produccion_barriles_t']"
   ]
  },
  {
   "cell_type": "code",
   "execution_count": 16,
   "metadata": {},
   "outputs": [],
   "source": [
    "# df = pd.concat([df,t_7],1)\n",
    "# df.columns = ['Produccion_barriles_t_6','Produccion_barriles_t_5','Produccion_barriles_t_4',\n",
    "#               'Produccion_barriles_t_3','Produccion_barriles_t_2','Produccion_barriles_t_1',\n",
    "#               'Produccion_barriles_t','Produccion_barriles_t_mas_1']"
   ]
  },
  {
   "cell_type": "code",
   "execution_count": 17,
   "metadata": {},
   "outputs": [
    {
     "data": {
      "text/plain": [
       "(20880, 7)"
      ]
     },
     "execution_count": 17,
     "metadata": {},
     "output_type": "execute_result"
    }
   ],
   "source": [
    "df.shape # numero de registros"
   ]
  },
  {
   "cell_type": "code",
   "execution_count": 18,
   "metadata": {},
   "outputs": [],
   "source": [
    "df['diff_t_6_t_5'] = df.Produccion_barriles_t_6 - df.Produccion_barriles_t_5\n",
    "df['diff_t_5_t_4'] = df.Produccion_barriles_t_5 - df.Produccion_barriles_t_4\n",
    "df['diff_t_4_t_3'] = df.Produccion_barriles_t_4 - df.Produccion_barriles_t_3\n",
    "df['diff_t_3_t_2'] = df.Produccion_barriles_t_3 - df.Produccion_barriles_t_2\n",
    "df['diff_t_2_t_1'] = df.Produccion_barriles_t_2 - df.Produccion_barriles_t_1\n",
    "\n",
    "df['diff_t_6_t_1'] = df.Produccion_barriles_t_6 - df.Produccion_barriles_t_1\n",
    "df['diff_t_5_t_1'] = df.Produccion_barriles_t_5 - df.Produccion_barriles_t_1\n",
    "df['diff_t_4_t_1'] = df.Produccion_barriles_t_4 - df.Produccion_barriles_t_1\n",
    "df['diff_t_3_t_1'] = df.Produccion_barriles_t_3 - df.Produccion_barriles_t_1\n",
    "\n",
    "df['aceleracion_de_produccion _t3t2_t2t1'] = df['diff_t_3_t_2'] - df['diff_t_2_t_1']\n",
    "df['aceleracion_de_produccion _t4t3_t2t1'] = df['diff_t_4_t_3'] - df['diff_t_2_t_1']"
   ]
  },
  {
   "cell_type": "code",
   "execution_count": 19,
   "metadata": {},
   "outputs": [
    {
     "data": {
      "text/plain": [
       "Index(['Produccion_barriles_t_6', 'Produccion_barriles_t_5',\n",
       "       'Produccion_barriles_t_4', 'Produccion_barriles_t_3',\n",
       "       'Produccion_barriles_t_2', 'Produccion_barriles_t_1',\n",
       "       'Produccion_barriles_t', 'diff_t_6_t_5', 'diff_t_5_t_4', 'diff_t_4_t_3',\n",
       "       'diff_t_3_t_2', 'diff_t_2_t_1', 'diff_t_6_t_1', 'diff_t_5_t_1',\n",
       "       'diff_t_4_t_1', 'diff_t_3_t_1', 'aceleracion_de_produccion _t3t2_t2t1',\n",
       "       'aceleracion_de_produccion _t4t3_t2t1'],\n",
       "      dtype='object')"
      ]
     },
     "execution_count": 19,
     "metadata": {},
     "output_type": "execute_result"
    }
   ],
   "source": [
    "df.columns"
   ]
  },
  {
   "cell_type": "markdown",
   "metadata": {},
   "source": [
    "Variables de diferencia entre periodos, como una velocidad de produccion entre un mes y otro."
   ]
  },
  {
   "cell_type": "code",
   "execution_count": 20,
   "metadata": {},
   "outputs": [],
   "source": [
    "# desviacion estandar\n",
    "df['std_t_6_t_1'] = df[['Produccion_barriles_t_6', 'Produccion_barriles_t_5',\n",
    "       'Produccion_barriles_t_4', 'Produccion_barriles_t_3',\n",
    "       'Produccion_barriles_t_2', 'Produccion_barriles_t_1']].std(1)\n",
    "# mediana\n",
    "df['median_t_6_t_1'] = df[['Produccion_barriles_t_6', 'Produccion_barriles_t_5',\n",
    "       'Produccion_barriles_t_4', 'Produccion_barriles_t_3',\n",
    "       'Produccion_barriles_t_2', 'Produccion_barriles_t_1']].median(1)\n",
    "# minimo\n",
    "df['min_t_6_t_1'] = df[['Produccion_barriles_t_6', 'Produccion_barriles_t_5',\n",
    "       'Produccion_barriles_t_4', 'Produccion_barriles_t_3',\n",
    "       'Produccion_barriles_t_2', 'Produccion_barriles_t_1']].min(1)\n",
    "#quantiles\n",
    "df['q75_t_6_t_1'] = df[['Produccion_barriles_t_6', 'Produccion_barriles_t_5',\n",
    "       'Produccion_barriles_t_4', 'Produccion_barriles_t_3',\n",
    "       'Produccion_barriles_t_2', 'Produccion_barriles_t_1']].quantile(0.75,axis=1)\n",
    "df['q25_t_6_t_1'] = df[['Produccion_barriles_t_6', 'Produccion_barriles_t_5',\n",
    "       'Produccion_barriles_t_4', 'Produccion_barriles_t_3',\n",
    "       'Produccion_barriles_t_2', 'Produccion_barriles_t_1']].quantile(0.25,axis=1)\n",
    "df['q90_t_6_t_1'] = df[['Produccion_barriles_t_6', 'Produccion_barriles_t_5',\n",
    "       'Produccion_barriles_t_4', 'Produccion_barriles_t_3',\n",
    "       'Produccion_barriles_t_2', 'Produccion_barriles_t_1']].quantile(0.90,axis=1)\n",
    "df['q10_t_6_t_1'] = df[['Produccion_barriles_t_6', 'Produccion_barriles_t_5',\n",
    "       'Produccion_barriles_t_4', 'Produccion_barriles_t_3',\n",
    "       'Produccion_barriles_t_2', 'Produccion_barriles_t_1']].quantile(0.10,axis=1)\n",
    "#maximo\n",
    "df['max_t_6_t_1'] = df[['Produccion_barriles_t_6', 'Produccion_barriles_t_5',\n",
    "       'Produccion_barriles_t_4', 'Produccion_barriles_t_3',\n",
    "       'Produccion_barriles_t_2', 'Produccion_barriles_t_1']].max(1)\n",
    "\n",
    "#rango\n",
    "df['rango_t6_t1'] = df['max_t_6_t_1'] - df['min_t_6_t_1']"
   ]
  },
  {
   "cell_type": "markdown",
   "metadata": {},
   "source": [
    "Variables estadisticas sobre el historico de 6 meses.\n",
    "+ std si varia mucho puede que ayude a predecir la produccion\n",
    "+ median, mean es probable que produzca al menos el promedio que ha producido antes\n",
    "+ min Si ya paso por un bache de produccion puede indicarnos si seguira ahi... NO ESTOY SEGURO\n",
    "+ max Si esta en un pico de produccion o ya lo paso, al menos no va a sobrepasar este valor\n",
    "+  rango Acota la produccion esperada para no sobreestimar\n",
    "+ quantiles en 6 meses"
   ]
  },
  {
   "cell_type": "code",
   "execution_count": 21,
   "metadata": {},
   "outputs": [],
   "source": [
    "# medias moviles\n",
    "df['media_movil_t_2_t_1'] = df[['Produccion_barriles_t_2', 'Produccion_barriles_t_1']].mean(1)\n",
    "df['media_movil_t_3_t_1'] = df[[ 'Produccion_barriles_t_3',\n",
    "                                'Produccion_barriles_t_2', 'Produccion_barriles_t_1']].mean(1)\n",
    "df['media_movil_t_4_t_1'] = df[['Produccion_barriles_t_4', 'Produccion_barriles_t_3',\n",
    "                               'Produccion_barriles_t_2', 'Produccion_barriles_t_1']].mean(1)\n",
    "df['media_movil_t_5_t_1'] = df[['Produccion_barriles_t_5',\n",
    "                               'Produccion_barriles_t_4', 'Produccion_barriles_t_3',\n",
    "                               'Produccion_barriles_t_2', 'Produccion_barriles_t_1']].mean(1)\n",
    "\n",
    "df['media_movil_t_6_t_1'] = df[['Produccion_barriles_t_6', 'Produccion_barriles_t_5',\n",
    "                               'Produccion_barriles_t_4', 'Produccion_barriles_t_3',\n",
    "                               'Produccion_barriles_t_2', 'Produccion_barriles_t_1']].mean(1)"
   ]
  },
  {
   "cell_type": "markdown",
   "metadata": {},
   "source": [
    "Se crean variables de medias moviles"
   ]
  },
  {
   "cell_type": "code",
   "execution_count": 22,
   "metadata": {},
   "outputs": [
    {
     "data": {
      "text/html": [
       "[['Produccion_barriles_t_1', 'Produccion_barriles_t', 'Produccion_barriles_t_mas_1', 'std_t_6_t_1']]"
      ],
      "text/plain": [
       "[['Produccion_barriles_t_1',\n",
       "  'Produccion_barriles_t',\n",
       "  'Produccion_barriles_t_mas_1',\n",
       "  'std_t_6_t_1']]"
      ]
     },
     "execution_count": 22,
     "metadata": {},
     "output_type": "execute_result"
    }
   ],
   "source": [
    "[['Produccion_barriles_t_1','Produccion_barriles_t','Produccion_barriles_t_mas_1','std_t_6_t_1']]"
   ]
  },
  {
   "cell_type": "code",
   "execution_count": 23,
   "metadata": {},
   "outputs": [],
   "source": [
    "df['dummi_pico_bajo'] = np.where(df.media_movil_t_6_t_1 - 5*df.std_t_6_t_1 > df.Produccion_barriles_t,1,0)"
   ]
  },
  {
   "cell_type": "code",
   "execution_count": 25,
   "metadata": {},
   "outputs": [],
   "source": [
    "# df[df.dummi_pico_bajo==1][['Produccion_barriles_t_1','Produccion_barriles_t','Produccion_barriles_t_mas_1',\n",
    "#                            'std_t_6_t_1','media_movil_t_6_t_1']].head()"
   ]
  },
  {
   "cell_type": "code",
   "execution_count": 26,
   "metadata": {},
   "outputs": [
    {
     "data": {
      "text/plain": [
       "(856, 33)"
      ]
     },
     "execution_count": 26,
     "metadata": {},
     "output_type": "execute_result"
    }
   ],
   "source": [
    "df[df.dummi_pico_bajo==1].shape"
   ]
  },
  {
   "cell_type": "code",
   "execution_count": 27,
   "metadata": {},
   "outputs": [],
   "source": [
    "df = df[df.dummi_pico_bajo!=1]"
   ]
  },
  {
   "cell_type": "code",
   "execution_count": 28,
   "metadata": {},
   "outputs": [],
   "source": [
    "db_prod_mol['f_prod'] = db_prod_mol.fecha_produccion"
   ]
  },
  {
   "cell_type": "markdown",
   "metadata": {},
   "source": [
    "dummie de mes"
   ]
  },
  {
   "cell_type": "code",
   "execution_count": 29,
   "metadata": {},
   "outputs": [
    {
     "data": {
      "text/html": [
       "<div>\n",
       "<style scoped>\n",
       "    .dataframe tbody tr th:only-of-type {\n",
       "        vertical-align: middle;\n",
       "    }\n",
       "\n",
       "    .dataframe tbody tr th {\n",
       "        vertical-align: top;\n",
       "    }\n",
       "\n",
       "    .dataframe thead th {\n",
       "        text-align: right;\n",
       "    }\n",
       "</style>\n",
       "<table border=\"1\" class=\"dataframe\">\n",
       "  <thead>\n",
       "    <tr style=\"text-align: right;\">\n",
       "      <th></th>\n",
       "      <th></th>\n",
       "      <th>month_1</th>\n",
       "      <th>month_2</th>\n",
       "      <th>month_3</th>\n",
       "      <th>month_4</th>\n",
       "      <th>month_5</th>\n",
       "      <th>month_6</th>\n",
       "      <th>month_7</th>\n",
       "      <th>month_8</th>\n",
       "      <th>month_9</th>\n",
       "      <th>month_10</th>\n",
       "      <th>month_11</th>\n",
       "      <th>month_12</th>\n",
       "    </tr>\n",
       "    <tr>\n",
       "      <th>Pozo</th>\n",
       "      <th>fecha_produccion</th>\n",
       "      <th></th>\n",
       "      <th></th>\n",
       "      <th></th>\n",
       "      <th></th>\n",
       "      <th></th>\n",
       "      <th></th>\n",
       "      <th></th>\n",
       "      <th></th>\n",
       "      <th></th>\n",
       "      <th></th>\n",
       "      <th></th>\n",
       "      <th></th>\n",
       "    </tr>\n",
       "  </thead>\n",
       "  <tbody>\n",
       "    <tr>\n",
       "      <th rowspan=\"5\" valign=\"top\">MOLOACAN-1004</th>\n",
       "      <th>2002-06-01</th>\n",
       "      <td>1</td>\n",
       "      <td>0</td>\n",
       "      <td>0</td>\n",
       "      <td>0</td>\n",
       "      <td>0</td>\n",
       "      <td>0</td>\n",
       "      <td>0</td>\n",
       "      <td>0</td>\n",
       "      <td>0</td>\n",
       "      <td>0</td>\n",
       "      <td>0</td>\n",
       "      <td>0</td>\n",
       "    </tr>\n",
       "    <tr>\n",
       "      <th>2002-07-01</th>\n",
       "      <td>0</td>\n",
       "      <td>1</td>\n",
       "      <td>0</td>\n",
       "      <td>0</td>\n",
       "      <td>0</td>\n",
       "      <td>0</td>\n",
       "      <td>0</td>\n",
       "      <td>0</td>\n",
       "      <td>0</td>\n",
       "      <td>0</td>\n",
       "      <td>0</td>\n",
       "      <td>0</td>\n",
       "    </tr>\n",
       "    <tr>\n",
       "      <th>2002-08-01</th>\n",
       "      <td>0</td>\n",
       "      <td>0</td>\n",
       "      <td>1</td>\n",
       "      <td>0</td>\n",
       "      <td>0</td>\n",
       "      <td>0</td>\n",
       "      <td>0</td>\n",
       "      <td>0</td>\n",
       "      <td>0</td>\n",
       "      <td>0</td>\n",
       "      <td>0</td>\n",
       "      <td>0</td>\n",
       "    </tr>\n",
       "    <tr>\n",
       "      <th>2002-09-01</th>\n",
       "      <td>0</td>\n",
       "      <td>0</td>\n",
       "      <td>0</td>\n",
       "      <td>1</td>\n",
       "      <td>0</td>\n",
       "      <td>0</td>\n",
       "      <td>0</td>\n",
       "      <td>0</td>\n",
       "      <td>0</td>\n",
       "      <td>0</td>\n",
       "      <td>0</td>\n",
       "      <td>0</td>\n",
       "    </tr>\n",
       "    <tr>\n",
       "      <th>2002-10-01</th>\n",
       "      <td>0</td>\n",
       "      <td>0</td>\n",
       "      <td>0</td>\n",
       "      <td>0</td>\n",
       "      <td>1</td>\n",
       "      <td>0</td>\n",
       "      <td>0</td>\n",
       "      <td>0</td>\n",
       "      <td>0</td>\n",
       "      <td>0</td>\n",
       "      <td>0</td>\n",
       "      <td>0</td>\n",
       "    </tr>\n",
       "  </tbody>\n",
       "</table>\n",
       "</div>"
      ],
      "text/plain": [
       "                                month_1  month_2  month_3  month_4  month_5  \\\n",
       "Pozo          fecha_produccion                                                \n",
       "MOLOACAN-1004 2002-06-01              1        0        0        0        0   \n",
       "              2002-07-01              0        1        0        0        0   \n",
       "              2002-08-01              0        0        1        0        0   \n",
       "              2002-09-01              0        0        0        1        0   \n",
       "              2002-10-01              0        0        0        0        1   \n",
       "\n",
       "                                month_6  month_7  month_8  month_9  month_10  \\\n",
       "Pozo          fecha_produccion                                                 \n",
       "MOLOACAN-1004 2002-06-01              0        0        0        0         0   \n",
       "              2002-07-01              0        0        0        0         0   \n",
       "              2002-08-01              0        0        0        0         0   \n",
       "              2002-09-01              0        0        0        0         0   \n",
       "              2002-10-01              0        0        0        0         0   \n",
       "\n",
       "                                month_11  month_12  \n",
       "Pozo          fecha_produccion                      \n",
       "MOLOACAN-1004 2002-06-01               0         0  \n",
       "              2002-07-01               0         0  \n",
       "              2002-08-01               0         0  \n",
       "              2002-09-01               0         0  \n",
       "              2002-10-01               0         0  "
      ]
     },
     "execution_count": 29,
     "metadata": {},
     "output_type": "execute_result"
    }
   ],
   "source": [
    "# tabla dummies_month\n",
    "dummi_month = pd.get_dummies(db_prod_mol.groupby(\n",
    "    ['Pozo','fecha_produccion']).f_prod.first().shift(-6).dt.month.dropna().astype(int).dropna(),prefix='month')\n",
    "dummi_month.head()"
   ]
  },
  {
   "cell_type": "code",
   "execution_count": 30,
   "metadata": {},
   "outputs": [],
   "source": [
    "df = pd.merge(df, dummi_month, right_index=True, left_index=True)"
   ]
  },
  {
   "cell_type": "markdown",
   "metadata": {},
   "source": [
    "## Si estuvo detenido"
   ]
  },
  {
   "cell_type": "code",
   "execution_count": 31,
   "metadata": {},
   "outputs": [],
   "source": [
    "# detenido_mes_anterior = pd.DataFrame(np.where(((db_prod_mol.groupby(\n",
    "#     ['Pozo','fecha_produccion']).f_prod.first().shift(-6) - db_prod_mol.groupby(\n",
    "#     ['Pozo','fecha_produccion']).f_prod.first().shift(-5))/np.timedelta64(1,\"D\")) < 31, 1, 0), index=db_prod_mol.groupby(\n",
    "#     ['Pozo','fecha_produccion']).f_prod.first().index, columns=['detenido_mes_antes'])\n",
    "# detenido_mes_anterior.head()"
   ]
  },
  {
   "cell_type": "code",
   "execution_count": 32,
   "metadata": {},
   "outputs": [],
   "source": [
    "# df = pd.merge(df, detenido_mes_anterior, right_index=True, left_index=True)"
   ]
  },
  {
   "cell_type": "markdown",
   "metadata": {},
   "source": [
    "# Latitud y longitud"
   ]
  },
  {
   "cell_type": "code",
   "execution_count": 33,
   "metadata": {},
   "outputs": [
    {
     "data": {
      "text/html": [
       "<div>\n",
       "<style scoped>\n",
       "    .dataframe tbody tr th:only-of-type {\n",
       "        vertical-align: middle;\n",
       "    }\n",
       "\n",
       "    .dataframe tbody tr th {\n",
       "        vertical-align: top;\n",
       "    }\n",
       "\n",
       "    .dataframe thead th {\n",
       "        text-align: right;\n",
       "    }\n",
       "</style>\n",
       "<table border=\"1\" class=\"dataframe\">\n",
       "  <thead>\n",
       "    <tr style=\"text-align: right;\">\n",
       "      <th></th>\n",
       "      <th>Pozo</th>\n",
       "      <th>latitud</th>\n",
       "      <th>longitud</th>\n",
       "    </tr>\n",
       "  </thead>\n",
       "  <tbody>\n",
       "    <tr>\n",
       "      <th>0</th>\n",
       "      <td>MOLOACAN-1</td>\n",
       "      <td>17.987072</td>\n",
       "      <td>-94.381714</td>\n",
       "    </tr>\n",
       "    <tr>\n",
       "      <th>1</th>\n",
       "      <td>MOLOACAN-101</td>\n",
       "      <td>17.982659</td>\n",
       "      <td>-94.369994</td>\n",
       "    </tr>\n",
       "    <tr>\n",
       "      <th>2</th>\n",
       "      <td>MOLOACAN-102</td>\n",
       "      <td>17.982043</td>\n",
       "      <td>-94.367304</td>\n",
       "    </tr>\n",
       "    <tr>\n",
       "      <th>3</th>\n",
       "      <td>MOLOACAN-102A</td>\n",
       "      <td>17.982088</td>\n",
       "      <td>-94.367397</td>\n",
       "    </tr>\n",
       "    <tr>\n",
       "      <th>4</th>\n",
       "      <td>MOLOACAN-11</td>\n",
       "      <td>17.986597</td>\n",
       "      <td>-94.373105</td>\n",
       "    </tr>\n",
       "  </tbody>\n",
       "</table>\n",
       "</div>"
      ],
      "text/plain": [
       "            Pozo    latitud   longitud\n",
       "0     MOLOACAN-1  17.987072 -94.381714\n",
       "1   MOLOACAN-101  17.982659 -94.369994\n",
       "2   MOLOACAN-102  17.982043 -94.367304\n",
       "3  MOLOACAN-102A  17.982088 -94.367397\n",
       "4    MOLOACAN-11  17.986597 -94.373105"
      ]
     },
     "execution_count": 33,
     "metadata": {},
     "output_type": "execute_result"
    }
   ],
   "source": [
    "lat_lon_pozo = datos_generales_pozos.groupby('NOMBRE_DE_POZO')[['LATITUD','LONGITUD']].first()\n",
    "lat_lon_pozo.reset_index(inplace=True)\n",
    "lat_lon_pozo.columns = ['Pozo','latitud', 'longitud']\n",
    "lat_lon_pozo.head()"
   ]
  },
  {
   "cell_type": "code",
   "execution_count": 34,
   "metadata": {},
   "outputs": [],
   "source": [
    "df_train = df.reset_index().merge(lat_lon_pozo, how='left',on='Pozo').dropna()"
   ]
  },
  {
   "cell_type": "code",
   "execution_count": 35,
   "metadata": {},
   "outputs": [
    {
     "data": {
      "text/html": [
       "<div>\n",
       "<style scoped>\n",
       "    .dataframe tbody tr th:only-of-type {\n",
       "        vertical-align: middle;\n",
       "    }\n",
       "\n",
       "    .dataframe tbody tr th {\n",
       "        vertical-align: top;\n",
       "    }\n",
       "\n",
       "    .dataframe thead th {\n",
       "        text-align: right;\n",
       "    }\n",
       "</style>\n",
       "<table border=\"1\" class=\"dataframe\">\n",
       "  <thead>\n",
       "    <tr style=\"text-align: right;\">\n",
       "      <th></th>\n",
       "      <th>Pozo</th>\n",
       "      <th>fecha_produccion</th>\n",
       "      <th>Produccion_barriles_t_6</th>\n",
       "      <th>Produccion_barriles_t_5</th>\n",
       "      <th>Produccion_barriles_t_4</th>\n",
       "      <th>Produccion_barriles_t_3</th>\n",
       "      <th>Produccion_barriles_t_2</th>\n",
       "      <th>Produccion_barriles_t_1</th>\n",
       "      <th>Produccion_barriles_t</th>\n",
       "      <th>diff_t_6_t_5</th>\n",
       "      <th>...</th>\n",
       "      <th>month_5</th>\n",
       "      <th>month_6</th>\n",
       "      <th>month_7</th>\n",
       "      <th>month_8</th>\n",
       "      <th>month_9</th>\n",
       "      <th>month_10</th>\n",
       "      <th>month_11</th>\n",
       "      <th>month_12</th>\n",
       "      <th>latitud</th>\n",
       "      <th>longitud</th>\n",
       "    </tr>\n",
       "  </thead>\n",
       "  <tbody>\n",
       "    <tr>\n",
       "      <th>214</th>\n",
       "      <td>MOLOACAN-111</td>\n",
       "      <td>1999-01-01</td>\n",
       "      <td>169.92</td>\n",
       "      <td>159.46</td>\n",
       "      <td>193.95</td>\n",
       "      <td>169.10</td>\n",
       "      <td>182.03</td>\n",
       "      <td>177.28</td>\n",
       "      <td>191.66</td>\n",
       "      <td>10.46</td>\n",
       "      <td>...</td>\n",
       "      <td>0</td>\n",
       "      <td>0</td>\n",
       "      <td>1</td>\n",
       "      <td>0</td>\n",
       "      <td>0</td>\n",
       "      <td>0</td>\n",
       "      <td>0</td>\n",
       "      <td>0</td>\n",
       "      <td>17.985929</td>\n",
       "      <td>-94.370707</td>\n",
       "    </tr>\n",
       "    <tr>\n",
       "      <th>215</th>\n",
       "      <td>MOLOACAN-111</td>\n",
       "      <td>1999-02-01</td>\n",
       "      <td>159.46</td>\n",
       "      <td>193.95</td>\n",
       "      <td>169.10</td>\n",
       "      <td>182.03</td>\n",
       "      <td>177.28</td>\n",
       "      <td>191.66</td>\n",
       "      <td>186.59</td>\n",
       "      <td>-34.49</td>\n",
       "      <td>...</td>\n",
       "      <td>0</td>\n",
       "      <td>0</td>\n",
       "      <td>0</td>\n",
       "      <td>1</td>\n",
       "      <td>0</td>\n",
       "      <td>0</td>\n",
       "      <td>0</td>\n",
       "      <td>0</td>\n",
       "      <td>17.985929</td>\n",
       "      <td>-94.370707</td>\n",
       "    </tr>\n",
       "    <tr>\n",
       "      <th>216</th>\n",
       "      <td>MOLOACAN-111</td>\n",
       "      <td>1999-03-01</td>\n",
       "      <td>193.95</td>\n",
       "      <td>169.10</td>\n",
       "      <td>182.03</td>\n",
       "      <td>177.28</td>\n",
       "      <td>191.66</td>\n",
       "      <td>186.59</td>\n",
       "      <td>197.52</td>\n",
       "      <td>24.85</td>\n",
       "      <td>...</td>\n",
       "      <td>0</td>\n",
       "      <td>0</td>\n",
       "      <td>0</td>\n",
       "      <td>0</td>\n",
       "      <td>1</td>\n",
       "      <td>0</td>\n",
       "      <td>0</td>\n",
       "      <td>0</td>\n",
       "      <td>17.985929</td>\n",
       "      <td>-94.370707</td>\n",
       "    </tr>\n",
       "    <tr>\n",
       "      <th>217</th>\n",
       "      <td>MOLOACAN-111</td>\n",
       "      <td>1999-04-01</td>\n",
       "      <td>169.10</td>\n",
       "      <td>182.03</td>\n",
       "      <td>177.28</td>\n",
       "      <td>191.66</td>\n",
       "      <td>186.59</td>\n",
       "      <td>197.52</td>\n",
       "      <td>215.72</td>\n",
       "      <td>-12.93</td>\n",
       "      <td>...</td>\n",
       "      <td>0</td>\n",
       "      <td>0</td>\n",
       "      <td>0</td>\n",
       "      <td>0</td>\n",
       "      <td>0</td>\n",
       "      <td>1</td>\n",
       "      <td>0</td>\n",
       "      <td>0</td>\n",
       "      <td>17.985929</td>\n",
       "      <td>-94.370707</td>\n",
       "    </tr>\n",
       "    <tr>\n",
       "      <th>218</th>\n",
       "      <td>MOLOACAN-111</td>\n",
       "      <td>1999-05-01</td>\n",
       "      <td>182.03</td>\n",
       "      <td>177.28</td>\n",
       "      <td>191.66</td>\n",
       "      <td>186.59</td>\n",
       "      <td>197.52</td>\n",
       "      <td>215.72</td>\n",
       "      <td>185.47</td>\n",
       "      <td>4.75</td>\n",
       "      <td>...</td>\n",
       "      <td>0</td>\n",
       "      <td>0</td>\n",
       "      <td>0</td>\n",
       "      <td>0</td>\n",
       "      <td>0</td>\n",
       "      <td>0</td>\n",
       "      <td>1</td>\n",
       "      <td>0</td>\n",
       "      <td>17.985929</td>\n",
       "      <td>-94.370707</td>\n",
       "    </tr>\n",
       "  </tbody>\n",
       "</table>\n",
       "<p>5 rows × 49 columns</p>\n",
       "</div>"
      ],
      "text/plain": [
       "             Pozo fecha_produccion  Produccion_barriles_t_6  \\\n",
       "214  MOLOACAN-111       1999-01-01                   169.92   \n",
       "215  MOLOACAN-111       1999-02-01                   159.46   \n",
       "216  MOLOACAN-111       1999-03-01                   193.95   \n",
       "217  MOLOACAN-111       1999-04-01                   169.10   \n",
       "218  MOLOACAN-111       1999-05-01                   182.03   \n",
       "\n",
       "     Produccion_barriles_t_5  Produccion_barriles_t_4  \\\n",
       "214                   159.46                   193.95   \n",
       "215                   193.95                   169.10   \n",
       "216                   169.10                   182.03   \n",
       "217                   182.03                   177.28   \n",
       "218                   177.28                   191.66   \n",
       "\n",
       "     Produccion_barriles_t_3  Produccion_barriles_t_2  \\\n",
       "214                   169.10                   182.03   \n",
       "215                   182.03                   177.28   \n",
       "216                   177.28                   191.66   \n",
       "217                   191.66                   186.59   \n",
       "218                   186.59                   197.52   \n",
       "\n",
       "     Produccion_barriles_t_1  Produccion_barriles_t  diff_t_6_t_5    ...      \\\n",
       "214                   177.28                 191.66         10.46    ...       \n",
       "215                   191.66                 186.59        -34.49    ...       \n",
       "216                   186.59                 197.52         24.85    ...       \n",
       "217                   197.52                 215.72        -12.93    ...       \n",
       "218                   215.72                 185.47          4.75    ...       \n",
       "\n",
       "     month_5  month_6  month_7  month_8  month_9  month_10  month_11  \\\n",
       "214        0        0        1        0        0         0         0   \n",
       "215        0        0        0        1        0         0         0   \n",
       "216        0        0        0        0        1         0         0   \n",
       "217        0        0        0        0        0         1         0   \n",
       "218        0        0        0        0        0         0         1   \n",
       "\n",
       "     month_12    latitud   longitud  \n",
       "214         0  17.985929 -94.370707  \n",
       "215         0  17.985929 -94.370707  \n",
       "216         0  17.985929 -94.370707  \n",
       "217         0  17.985929 -94.370707  \n",
       "218         0  17.985929 -94.370707  \n",
       "\n",
       "[5 rows x 49 columns]"
      ]
     },
     "execution_count": 35,
     "metadata": {},
     "output_type": "execute_result"
    }
   ],
   "source": [
    "df_train.head()"
   ]
  },
  {
   "cell_type": "code",
   "execution_count": 36,
   "metadata": {},
   "outputs": [
    {
     "data": {
      "text/plain": [
       "Index(['Pozo', 'fecha_produccion', 'Produccion_barriles_t_6',\n",
       "       'Produccion_barriles_t_5', 'Produccion_barriles_t_4',\n",
       "       'Produccion_barriles_t_3', 'Produccion_barriles_t_2',\n",
       "       'Produccion_barriles_t_1', 'Produccion_barriles_t', 'diff_t_6_t_5',\n",
       "       'diff_t_5_t_4', 'diff_t_4_t_3', 'diff_t_3_t_2', 'diff_t_2_t_1',\n",
       "       'diff_t_6_t_1', 'diff_t_5_t_1', 'diff_t_4_t_1', 'diff_t_3_t_1',\n",
       "       'aceleracion_de_produccion _t3t2_t2t1',\n",
       "       'aceleracion_de_produccion _t4t3_t2t1', 'std_t_6_t_1', 'median_t_6_t_1',\n",
       "       'min_t_6_t_1', 'q75_t_6_t_1', 'q25_t_6_t_1', 'q90_t_6_t_1',\n",
       "       'q10_t_6_t_1', 'max_t_6_t_1', 'rango_t6_t1', 'media_movil_t_2_t_1',\n",
       "       'media_movil_t_3_t_1', 'media_movil_t_4_t_1', 'media_movil_t_5_t_1',\n",
       "       'media_movil_t_6_t_1', 'dummi_pico_bajo', 'month_1', 'month_2',\n",
       "       'month_3', 'month_4', 'month_5', 'month_6', 'month_7', 'month_8',\n",
       "       'month_9', 'month_10', 'month_11', 'month_12', 'latitud', 'longitud'],\n",
       "      dtype='object')"
      ]
     },
     "execution_count": 36,
     "metadata": {},
     "output_type": "execute_result"
    }
   ],
   "source": [
    "df_train.columns"
   ]
  },
  {
   "cell_type": "markdown",
   "metadata": {},
   "source": [
    "# Variable de tecnologia\n",
    "Se le pega el nombre del equipo de perforacion para saber si es mejor o peor para la produccion"
   ]
  },
  {
   "cell_type": "code",
   "execution_count": 37,
   "metadata": {},
   "outputs": [
    {
     "data": {
      "text/html": [
       "<div>\n",
       "<style scoped>\n",
       "    .dataframe tbody tr th:only-of-type {\n",
       "        vertical-align: middle;\n",
       "    }\n",
       "\n",
       "    .dataframe tbody tr th {\n",
       "        vertical-align: top;\n",
       "    }\n",
       "\n",
       "    .dataframe thead th {\n",
       "        text-align: right;\n",
       "    }\n",
       "</style>\n",
       "<table border=\"1\" class=\"dataframe\">\n",
       "  <thead>\n",
       "    <tr style=\"text-align: right;\">\n",
       "      <th></th>\n",
       "      <th>Pozo</th>\n",
       "      <th>equipo_perforacion</th>\n",
       "    </tr>\n",
       "  </thead>\n",
       "  <tbody>\n",
       "    <tr>\n",
       "      <th>0</th>\n",
       "      <td>MOLOACAN-1</td>\n",
       "      <td>SIN INFORMACION</td>\n",
       "    </tr>\n",
       "    <tr>\n",
       "      <th>1</th>\n",
       "      <td>MOLOACAN-101</td>\n",
       "      <td>SIN INFORMACION</td>\n",
       "    </tr>\n",
       "    <tr>\n",
       "      <th>2</th>\n",
       "      <td>MOLOACAN-102</td>\n",
       "      <td>SIN INFORMACION</td>\n",
       "    </tr>\n",
       "    <tr>\n",
       "      <th>3</th>\n",
       "      <td>MOLOACAN-102A</td>\n",
       "      <td>PM-5597</td>\n",
       "    </tr>\n",
       "    <tr>\n",
       "      <th>4</th>\n",
       "      <td>MOLOACAN-11</td>\n",
       "      <td>PM-111</td>\n",
       "    </tr>\n",
       "  </tbody>\n",
       "</table>\n",
       "</div>"
      ],
      "text/plain": [
       "            Pozo equipo_perforacion\n",
       "0     MOLOACAN-1    SIN INFORMACION\n",
       "1   MOLOACAN-101    SIN INFORMACION\n",
       "2   MOLOACAN-102    SIN INFORMACION\n",
       "3  MOLOACAN-102A            PM-5597\n",
       "4    MOLOACAN-11             PM-111"
      ]
     },
     "execution_count": 37,
     "metadata": {},
     "output_type": "execute_result"
    }
   ],
   "source": [
    "# pegar a pozo nombre_equipo_perfo\n",
    "nombre_equi_perfo = pd.DataFrame(datos_generales_pozos.groupby(\n",
    "    'NOMBRE_DE_POZO')['NOMBRE_EQUIPO_DE_PERFORACION'].first())\n",
    "nombre_equi_perfo.reset_index(inplace=True)\n",
    "nombre_equi_perfo.columns = ['Pozo','equipo_perforacion']\n",
    "# se encontraron inconsistencias en la info\n",
    "nombre_equi_perfo[\"equipo_perforacion\"] = nombre_equi_perfo.equipo_perforacion.str.replace(\n",
    "    \"PM5597-\",\"PM-5597\").str.replace(\n",
    "    \"PM.-5597\",\"PM-5597\").str.replace(\n",
    "    \"PM.5599\",\"PM-5599\")\n",
    "nombre_equi_perfo.head()"
   ]
  },
  {
   "cell_type": "code",
   "execution_count": 38,
   "metadata": {},
   "outputs": [],
   "source": [
    "df_train = df_train.merge(nombre_equi_perfo, how='left',on='Pozo').dropna()"
   ]
  },
  {
   "cell_type": "code",
   "execution_count": 39,
   "metadata": {},
   "outputs": [],
   "source": [
    "df_train = pd.get_dummies(df_train, columns=['equipo_perforacion'])"
   ]
  },
  {
   "cell_type": "code",
   "execution_count": 40,
   "metadata": {},
   "outputs": [
    {
     "data": {
      "text/plain": [
       "(19630, 63)"
      ]
     },
     "execution_count": 40,
     "metadata": {},
     "output_type": "execute_result"
    }
   ],
   "source": [
    "df_train.shape"
   ]
  },
  {
   "cell_type": "markdown",
   "metadata": {},
   "source": [
    "# variable clasificaccion LAHEE\n",
    "La Clasificación Lahee, los pozos pueden ser identificados como:\n",
    "+ Pozo Exploratorio\n",
    "+ Pozos Productores\n",
    "+ Pozos no Productores (Secos)\n",
    "+ Pozos de Desarrollo\n",
    "+ Pozo de Avanzada\n",
    "\n",
    "Codigos\n",
    "\n",
    "    07-07-01 - Pozo de desarrollo, productor aceite\n",
    "    07-07-06 - Pozo de desarrollo, improductivo, invadido de agua salada\n",
    "    07-07-13 - 07 Pozo de desarrollo\n",
    "    07-07-04 - Pozo de desarrollo, productor incosteable\n",
    "    07-07-07 - Pozo de desarrollo, improductivo seco\n",
    "    04-04-01 - Pozo en busca de nueva acumulacion en campo ya productor, productor de aceite\n",
    "    07-01-00 - 07 Pozo de desarrollo\n",
    "    04-04-06 - Pozo en busca de nueva acumulacion en campo ya productor, improductivo, invadido de agua salada\n",
    "    01-01-06 - Pozo en busca de nueva acumulacion, improductivo, invadido de agua salada\n",
    "    SIN INFORMACION\n",
    "\n",
    "Referencia de codigos https://bndh.gob.do/wp-content/uploads/2016/04/4.3-MEM-BNDH-RD-Tercer-Informe-de-Avances_v2-1.pdf"
   ]
  },
  {
   "cell_type": "code",
   "execution_count": 41,
   "metadata": {},
   "outputs": [
    {
     "data": {
      "text/html": [
       "<div>\n",
       "<style scoped>\n",
       "    .dataframe tbody tr th:only-of-type {\n",
       "        vertical-align: middle;\n",
       "    }\n",
       "\n",
       "    .dataframe tbody tr th {\n",
       "        vertical-align: top;\n",
       "    }\n",
       "\n",
       "    .dataframe thead th {\n",
       "        text-align: right;\n",
       "    }\n",
       "</style>\n",
       "<table border=\"1\" class=\"dataframe\">\n",
       "  <thead>\n",
       "    <tr style=\"text-align: right;\">\n",
       "      <th></th>\n",
       "      <th>Pozo</th>\n",
       "      <th>clasificacion_lahee</th>\n",
       "    </tr>\n",
       "  </thead>\n",
       "  <tbody>\n",
       "    <tr>\n",
       "      <th>0</th>\n",
       "      <td>MOLOACAN-1</td>\n",
       "      <td>07-07-01</td>\n",
       "    </tr>\n",
       "    <tr>\n",
       "      <th>1</th>\n",
       "      <td>MOLOACAN-101</td>\n",
       "      <td>07-07-07</td>\n",
       "    </tr>\n",
       "    <tr>\n",
       "      <th>2</th>\n",
       "      <td>MOLOACAN-102</td>\n",
       "      <td>07-07-06</td>\n",
       "    </tr>\n",
       "    <tr>\n",
       "      <th>3</th>\n",
       "      <td>MOLOACAN-102A</td>\n",
       "      <td>07-07-01</td>\n",
       "    </tr>\n",
       "    <tr>\n",
       "      <th>4</th>\n",
       "      <td>MOLOACAN-11</td>\n",
       "      <td>07-07-01</td>\n",
       "    </tr>\n",
       "  </tbody>\n",
       "</table>\n",
       "</div>"
      ],
      "text/plain": [
       "            Pozo clasificacion_lahee\n",
       "0     MOLOACAN-1            07-07-01\n",
       "1   MOLOACAN-101            07-07-07\n",
       "2   MOLOACAN-102            07-07-06\n",
       "3  MOLOACAN-102A            07-07-01\n",
       "4    MOLOACAN-11            07-07-01"
      ]
     },
     "execution_count": 41,
     "metadata": {},
     "output_type": "execute_result"
    }
   ],
   "source": [
    "clasifi_lahee = pd.DataFrame(datos_generales_pozos.groupby(\n",
    "    'NOMBRE_DE_POZO')['CLASIFICACION_LAHEE'].first())\n",
    "clasifi_lahee.reset_index(inplace=True)\n",
    "clasifi_lahee.columns = ['Pozo','clasificacion_lahee']\n",
    "clasifi_lahee.head()"
   ]
  },
  {
   "cell_type": "code",
   "execution_count": 42,
   "metadata": {},
   "outputs": [],
   "source": [
    "df_train = df_train.merge(clasifi_lahee, how='left',on='Pozo').dropna()"
   ]
  },
  {
   "cell_type": "code",
   "execution_count": 43,
   "metadata": {},
   "outputs": [],
   "source": [
    "df_train = pd.get_dummies(df_train, columns=['clasificacion_lahee'])"
   ]
  },
  {
   "cell_type": "code",
   "execution_count": 44,
   "metadata": {},
   "outputs": [
    {
     "data": {
      "text/plain": [
       "(19630, 65)"
      ]
     },
     "execution_count": 44,
     "metadata": {},
     "output_type": "execute_result"
    }
   ],
   "source": [
    "df_train.shape"
   ]
  },
  {
   "cell_type": "code",
   "execution_count": 45,
   "metadata": {},
   "outputs": [
    {
     "data": {
      "text/html": [
       "<div>\n",
       "<style scoped>\n",
       "    .dataframe tbody tr th:only-of-type {\n",
       "        vertical-align: middle;\n",
       "    }\n",
       "\n",
       "    .dataframe tbody tr th {\n",
       "        vertical-align: top;\n",
       "    }\n",
       "\n",
       "    .dataframe thead th {\n",
       "        text-align: right;\n",
       "    }\n",
       "</style>\n",
       "<table border=\"1\" class=\"dataframe\">\n",
       "  <thead>\n",
       "    <tr style=\"text-align: right;\">\n",
       "      <th></th>\n",
       "      <th>Pozo</th>\n",
       "      <th>fecha_produccion</th>\n",
       "      <th>Produccion_barriles_t_6</th>\n",
       "      <th>Produccion_barriles_t_5</th>\n",
       "      <th>Produccion_barriles_t_4</th>\n",
       "      <th>Produccion_barriles_t_3</th>\n",
       "      <th>Produccion_barriles_t_2</th>\n",
       "      <th>Produccion_barriles_t_1</th>\n",
       "      <th>Produccion_barriles_t</th>\n",
       "      <th>diff_t_6_t_5</th>\n",
       "      <th>...</th>\n",
       "      <th>equipo_perforacion_PM-5599</th>\n",
       "      <th>equipo_perforacion_PM-5620</th>\n",
       "      <th>equipo_perforacion_PM-5626</th>\n",
       "      <th>equipo_perforacion_PM-5627</th>\n",
       "      <th>equipo_perforacion_PM-73</th>\n",
       "      <th>equipo_perforacion_PM-78</th>\n",
       "      <th>equipo_perforacion_PM-92</th>\n",
       "      <th>equipo_perforacion_SIN INFORMACION</th>\n",
       "      <th>clasificacion_lahee_07-07-01</th>\n",
       "      <th>clasificacion_lahee_SIN INRMACION</th>\n",
       "    </tr>\n",
       "  </thead>\n",
       "  <tbody>\n",
       "    <tr>\n",
       "      <th>0</th>\n",
       "      <td>MOLOACAN-111</td>\n",
       "      <td>1999-01-01</td>\n",
       "      <td>169.92</td>\n",
       "      <td>159.46</td>\n",
       "      <td>193.95</td>\n",
       "      <td>169.10</td>\n",
       "      <td>182.03</td>\n",
       "      <td>177.28</td>\n",
       "      <td>191.66</td>\n",
       "      <td>10.46</td>\n",
       "      <td>...</td>\n",
       "      <td>0</td>\n",
       "      <td>0</td>\n",
       "      <td>0</td>\n",
       "      <td>0</td>\n",
       "      <td>0</td>\n",
       "      <td>0</td>\n",
       "      <td>0</td>\n",
       "      <td>1</td>\n",
       "      <td>1</td>\n",
       "      <td>0</td>\n",
       "    </tr>\n",
       "    <tr>\n",
       "      <th>1</th>\n",
       "      <td>MOLOACAN-111</td>\n",
       "      <td>1999-02-01</td>\n",
       "      <td>159.46</td>\n",
       "      <td>193.95</td>\n",
       "      <td>169.10</td>\n",
       "      <td>182.03</td>\n",
       "      <td>177.28</td>\n",
       "      <td>191.66</td>\n",
       "      <td>186.59</td>\n",
       "      <td>-34.49</td>\n",
       "      <td>...</td>\n",
       "      <td>0</td>\n",
       "      <td>0</td>\n",
       "      <td>0</td>\n",
       "      <td>0</td>\n",
       "      <td>0</td>\n",
       "      <td>0</td>\n",
       "      <td>0</td>\n",
       "      <td>1</td>\n",
       "      <td>1</td>\n",
       "      <td>0</td>\n",
       "    </tr>\n",
       "    <tr>\n",
       "      <th>2</th>\n",
       "      <td>MOLOACAN-111</td>\n",
       "      <td>1999-03-01</td>\n",
       "      <td>193.95</td>\n",
       "      <td>169.10</td>\n",
       "      <td>182.03</td>\n",
       "      <td>177.28</td>\n",
       "      <td>191.66</td>\n",
       "      <td>186.59</td>\n",
       "      <td>197.52</td>\n",
       "      <td>24.85</td>\n",
       "      <td>...</td>\n",
       "      <td>0</td>\n",
       "      <td>0</td>\n",
       "      <td>0</td>\n",
       "      <td>0</td>\n",
       "      <td>0</td>\n",
       "      <td>0</td>\n",
       "      <td>0</td>\n",
       "      <td>1</td>\n",
       "      <td>1</td>\n",
       "      <td>0</td>\n",
       "    </tr>\n",
       "    <tr>\n",
       "      <th>3</th>\n",
       "      <td>MOLOACAN-111</td>\n",
       "      <td>1999-04-01</td>\n",
       "      <td>169.10</td>\n",
       "      <td>182.03</td>\n",
       "      <td>177.28</td>\n",
       "      <td>191.66</td>\n",
       "      <td>186.59</td>\n",
       "      <td>197.52</td>\n",
       "      <td>215.72</td>\n",
       "      <td>-12.93</td>\n",
       "      <td>...</td>\n",
       "      <td>0</td>\n",
       "      <td>0</td>\n",
       "      <td>0</td>\n",
       "      <td>0</td>\n",
       "      <td>0</td>\n",
       "      <td>0</td>\n",
       "      <td>0</td>\n",
       "      <td>1</td>\n",
       "      <td>1</td>\n",
       "      <td>0</td>\n",
       "    </tr>\n",
       "    <tr>\n",
       "      <th>4</th>\n",
       "      <td>MOLOACAN-111</td>\n",
       "      <td>1999-05-01</td>\n",
       "      <td>182.03</td>\n",
       "      <td>177.28</td>\n",
       "      <td>191.66</td>\n",
       "      <td>186.59</td>\n",
       "      <td>197.52</td>\n",
       "      <td>215.72</td>\n",
       "      <td>185.47</td>\n",
       "      <td>4.75</td>\n",
       "      <td>...</td>\n",
       "      <td>0</td>\n",
       "      <td>0</td>\n",
       "      <td>0</td>\n",
       "      <td>0</td>\n",
       "      <td>0</td>\n",
       "      <td>0</td>\n",
       "      <td>0</td>\n",
       "      <td>1</td>\n",
       "      <td>1</td>\n",
       "      <td>0</td>\n",
       "    </tr>\n",
       "  </tbody>\n",
       "</table>\n",
       "<p>5 rows × 65 columns</p>\n",
       "</div>"
      ],
      "text/plain": [
       "           Pozo fecha_produccion  Produccion_barriles_t_6  \\\n",
       "0  MOLOACAN-111       1999-01-01                   169.92   \n",
       "1  MOLOACAN-111       1999-02-01                   159.46   \n",
       "2  MOLOACAN-111       1999-03-01                   193.95   \n",
       "3  MOLOACAN-111       1999-04-01                   169.10   \n",
       "4  MOLOACAN-111       1999-05-01                   182.03   \n",
       "\n",
       "   Produccion_barriles_t_5  Produccion_barriles_t_4  Produccion_barriles_t_3  \\\n",
       "0                   159.46                   193.95                   169.10   \n",
       "1                   193.95                   169.10                   182.03   \n",
       "2                   169.10                   182.03                   177.28   \n",
       "3                   182.03                   177.28                   191.66   \n",
       "4                   177.28                   191.66                   186.59   \n",
       "\n",
       "   Produccion_barriles_t_2  Produccion_barriles_t_1  Produccion_barriles_t  \\\n",
       "0                   182.03                   177.28                 191.66   \n",
       "1                   177.28                   191.66                 186.59   \n",
       "2                   191.66                   186.59                 197.52   \n",
       "3                   186.59                   197.52                 215.72   \n",
       "4                   197.52                   215.72                 185.47   \n",
       "\n",
       "   diff_t_6_t_5                ...                  \\\n",
       "0         10.46                ...                   \n",
       "1        -34.49                ...                   \n",
       "2         24.85                ...                   \n",
       "3        -12.93                ...                   \n",
       "4          4.75                ...                   \n",
       "\n",
       "   equipo_perforacion_PM-5599  equipo_perforacion_PM-5620  \\\n",
       "0                           0                           0   \n",
       "1                           0                           0   \n",
       "2                           0                           0   \n",
       "3                           0                           0   \n",
       "4                           0                           0   \n",
       "\n",
       "   equipo_perforacion_PM-5626  equipo_perforacion_PM-5627  \\\n",
       "0                           0                           0   \n",
       "1                           0                           0   \n",
       "2                           0                           0   \n",
       "3                           0                           0   \n",
       "4                           0                           0   \n",
       "\n",
       "   equipo_perforacion_PM-73  equipo_perforacion_PM-78  \\\n",
       "0                         0                         0   \n",
       "1                         0                         0   \n",
       "2                         0                         0   \n",
       "3                         0                         0   \n",
       "4                         0                         0   \n",
       "\n",
       "   equipo_perforacion_PM-92  equipo_perforacion_SIN INFORMACION  \\\n",
       "0                         0                                   1   \n",
       "1                         0                                   1   \n",
       "2                         0                                   1   \n",
       "3                         0                                   1   \n",
       "4                         0                                   1   \n",
       "\n",
       "   clasificacion_lahee_07-07-01  clasificacion_lahee_SIN INRMACION  \n",
       "0                             1                                  0  \n",
       "1                             1                                  0  \n",
       "2                             1                                  0  \n",
       "3                             1                                  0  \n",
       "4                             1                                  0  \n",
       "\n",
       "[5 rows x 65 columns]"
      ]
     },
     "execution_count": 45,
     "metadata": {},
     "output_type": "execute_result"
    }
   ],
   "source": [
    "df_train.head()"
   ]
  },
  {
   "cell_type": "markdown",
   "metadata": {},
   "source": [
    "# pendiente pico historico"
   ]
  },
  {
   "cell_type": "code",
   "execution_count": 46,
   "metadata": {},
   "outputs": [],
   "source": [
    "# df_d_prod = db_prod_mol.groupby(['Pozo','fecha_produccion']).f_prod.first().shift(-6).reset_index()\n",
    "# db_prod_mol['fecha_y'] = df_d_prod.f_prod"
   ]
  },
  {
   "cell_type": "code",
   "execution_count": 47,
   "metadata": {},
   "outputs": [],
   "source": [
    "# for i in db_prod_mol.groupby('Pozo')[['Qo_mes_b','fecha_produccion','fecha_y']]:\n",
    "#     print(i[0])\n",
    "#     print(i[1][i[1].fecha_produccion >= i[1].fecha_y])"
   ]
  },
  {
   "cell_type": "code",
   "execution_count": null,
   "metadata": {},
   "outputs": [],
   "source": []
  },
  {
   "cell_type": "code",
   "execution_count": 48,
   "metadata": {},
   "outputs": [],
   "source": [
    "# y_temp = []\n",
    "# for i in sample_prod_data.groupby('API')['Liquid']:\n",
    "# #     print(i[0])\n",
    "# #     print(i[1][i[1].index >= idx_prod_max_api[i[0]]].sum())\n",
    "#     y_temp.append([i[0], i[1][i[1].index >= idx_prod_max_api[i[0]]].sum()])"
   ]
  },
  {
   "cell_type": "code",
   "execution_count": 49,
   "metadata": {},
   "outputs": [],
   "source": [
    "# idx_prod_max_api = prod_data_train.groupby('API').Liquid.idxmax()"
   ]
  },
  {
   "cell_type": "code",
   "execution_count": 50,
   "metadata": {},
   "outputs": [],
   "source": [
    "# # AQUI SE CREA LA Y (se puede hacer lista de comprension)\n",
    "# pico_temp = []\n",
    "# for i in db_prod_mol.groupby('Pozo')['Qo_mes_b']:\n",
    "#     pico_temp.append([i[0], i[1][i[1].fecha_produccion >= idx_prod_max_api[i[0]]].sum()])"
   ]
  },
  {
   "cell_type": "code",
   "execution_count": 51,
   "metadata": {},
   "outputs": [],
   "source": [
    "# db_prod_mol.columns"
   ]
  },
  {
   "cell_type": "code",
   "execution_count": 52,
   "metadata": {},
   "outputs": [],
   "source": [
    "# db_prod_mol.groupby('Pozo')[['fecha_produccion','f_prod']].last()"
   ]
  },
  {
   "cell_type": "code",
   "execution_count": 53,
   "metadata": {},
   "outputs": [],
   "source": [
    "# db_prod_mol.groupby(\n",
    "#     ['Pozo','fecha_produccion'])"
   ]
  },
  {
   "cell_type": "code",
   "execution_count": 54,
   "metadata": {},
   "outputs": [
    {
     "data": {
      "text/plain": [
       "(19630, 65)"
      ]
     },
     "execution_count": 54,
     "metadata": {},
     "output_type": "execute_result"
    }
   ],
   "source": [
    "df_train.shape"
   ]
  },
  {
   "cell_type": "markdown",
   "metadata": {},
   "source": [
    "## Quitamos Outliers"
   ]
  },
  {
   "cell_type": "code",
   "execution_count": 55,
   "metadata": {},
   "outputs": [
    {
     "data": {
      "text/plain": [
       "Index(['Pozo', 'fecha_produccion', 'Produccion_barriles_t_6',\n",
       "       'Produccion_barriles_t_5', 'Produccion_barriles_t_4',\n",
       "       'Produccion_barriles_t_3', 'Produccion_barriles_t_2',\n",
       "       'Produccion_barriles_t_1', 'Produccion_barriles_t', 'diff_t_6_t_5',\n",
       "       'diff_t_5_t_4', 'diff_t_4_t_3', 'diff_t_3_t_2', 'diff_t_2_t_1',\n",
       "       'diff_t_6_t_1', 'diff_t_5_t_1', 'diff_t_4_t_1', 'diff_t_3_t_1',\n",
       "       'aceleracion_de_produccion _t3t2_t2t1',\n",
       "       'aceleracion_de_produccion _t4t3_t2t1', 'std_t_6_t_1', 'median_t_6_t_1',\n",
       "       'min_t_6_t_1', 'q75_t_6_t_1', 'q25_t_6_t_1', 'q90_t_6_t_1',\n",
       "       'q10_t_6_t_1', 'max_t_6_t_1', 'rango_t6_t1', 'media_movil_t_2_t_1',\n",
       "       'media_movil_t_3_t_1', 'media_movil_t_4_t_1', 'media_movil_t_5_t_1',\n",
       "       'media_movil_t_6_t_1', 'dummi_pico_bajo', 'month_1', 'month_2',\n",
       "       'month_3', 'month_4', 'month_5', 'month_6', 'month_7', 'month_8',\n",
       "       'month_9', 'month_10', 'month_11', 'month_12', 'latitud', 'longitud',\n",
       "       'equipo_perforacion_PM-113', 'equipo_perforacion_PM-472',\n",
       "       'equipo_perforacion_PM-504', 'equipo_perforacion_PM-5571',\n",
       "       'equipo_perforacion_PM-5596', 'equipo_perforacion_PM-5597',\n",
       "       'equipo_perforacion_PM-5599', 'equipo_perforacion_PM-5620',\n",
       "       'equipo_perforacion_PM-5626', 'equipo_perforacion_PM-5627',\n",
       "       'equipo_perforacion_PM-73', 'equipo_perforacion_PM-78',\n",
       "       'equipo_perforacion_PM-92', 'equipo_perforacion_SIN INFORMACION',\n",
       "       'clasificacion_lahee_07-07-01', 'clasificacion_lahee_SIN INRMACION'],\n",
       "      dtype='object')"
      ]
     },
     "execution_count": 55,
     "metadata": {},
     "output_type": "execute_result"
    }
   ],
   "source": [
    "df_train.columns"
   ]
  },
  {
   "cell_type": "code",
   "execution_count": 56,
   "metadata": {},
   "outputs": [],
   "source": [
    "df_train = df_train[df_train.Produccion_barriles_t > df_train.Produccion_barriles_t.quantile(0.005)]\n",
    "df_train = df_train[df_train.Produccion_barriles_t_1 > df_train.Produccion_barriles_t_1.quantile(0.001)]\n",
    "df_train = df_train[df_train.Produccion_barriles_t_2 > df_train.Produccion_barriles_t_2.quantile(0.001)]\n",
    "df_train = df_train[df_train.Produccion_barriles_t_3 > df_train.Produccion_barriles_t_3.quantile(0.001)]\n",
    "df_train = df_train[df_train.Produccion_barriles_t_4 > df_train.Produccion_barriles_t_4.quantile(0.001)]\n",
    "df_train = df_train[df_train.Produccion_barriles_t_5 > df_train.Produccion_barriles_t_5.quantile(0.001)]\n",
    "df_train = df_train[df_train.Produccion_barriles_t_6 > df_train.Produccion_barriles_t_6.quantile(0.001)]"
   ]
  },
  {
   "cell_type": "code",
   "execution_count": 57,
   "metadata": {},
   "outputs": [],
   "source": [
    "df_train = df_train[df_train.Produccion_barriles_t < df_train.Produccion_barriles_t.quantile(0.99)]"
   ]
  },
  {
   "cell_type": "code",
   "execution_count": 58,
   "metadata": {},
   "outputs": [],
   "source": [
    "df_train = df_train[df_train.Produccion_barriles_t_1 < df_train.Produccion_barriles_t_1.quantile(0.99)]\n",
    "df_train = df_train[df_train.Produccion_barriles_t_2 < df_train.Produccion_barriles_t_2.quantile(0.99)]\n",
    "df_train = df_train[df_train.Produccion_barriles_t_3 < df_train.Produccion_barriles_t_3.quantile(0.99)]\n",
    "df_train = df_train[df_train.Produccion_barriles_t_4 < df_train.Produccion_barriles_t_4.quantile(0.99)]\n",
    "df_train = df_train[df_train.Produccion_barriles_t_5 < df_train.Produccion_barriles_t_5.quantile(0.99)]\n",
    "df_train = df_train[df_train.Produccion_barriles_t_6 < df_train.Produccion_barriles_t_6.quantile(0.99)]"
   ]
  },
  {
   "cell_type": "code",
   "execution_count": 59,
   "metadata": {},
   "outputs": [],
   "source": [
    "df_train.reset_index(inplace=True, drop=True)"
   ]
  },
  {
   "cell_type": "code",
   "execution_count": 60,
   "metadata": {},
   "outputs": [
    {
     "data": {
      "text/plain": [
       "(18046, 65)"
      ]
     },
     "execution_count": 60,
     "metadata": {},
     "output_type": "execute_result"
    }
   ],
   "source": [
    "df_train.shape"
   ]
  },
  {
   "cell_type": "markdown",
   "metadata": {},
   "source": [
    "# Clustering Vemos que hay tipos de pozos con produccion similar"
   ]
  },
  {
   "cell_type": "code",
   "execution_count": 61,
   "metadata": {},
   "outputs": [],
   "source": [
    "from sklearn.cluster import KMeans"
   ]
  },
  {
   "cell_type": "code",
   "execution_count": 62,
   "metadata": {},
   "outputs": [
    {
     "data": {
      "text/plain": [
       "Index(['Pozo', 'fecha_produccion', 'Produccion_barriles_t_6',\n",
       "       'Produccion_barriles_t_5', 'Produccion_barriles_t_4',\n",
       "       'Produccion_barriles_t_3', 'Produccion_barriles_t_2',\n",
       "       'Produccion_barriles_t_1', 'Produccion_barriles_t', 'diff_t_6_t_5',\n",
       "       'diff_t_5_t_4', 'diff_t_4_t_3', 'diff_t_3_t_2', 'diff_t_2_t_1',\n",
       "       'diff_t_6_t_1', 'diff_t_5_t_1', 'diff_t_4_t_1', 'diff_t_3_t_1',\n",
       "       'aceleracion_de_produccion _t3t2_t2t1',\n",
       "       'aceleracion_de_produccion _t4t3_t2t1', 'std_t_6_t_1', 'median_t_6_t_1',\n",
       "       'min_t_6_t_1', 'q75_t_6_t_1', 'q25_t_6_t_1', 'q90_t_6_t_1',\n",
       "       'q10_t_6_t_1', 'max_t_6_t_1', 'rango_t6_t1', 'media_movil_t_2_t_1',\n",
       "       'media_movil_t_3_t_1', 'media_movil_t_4_t_1', 'media_movil_t_5_t_1',\n",
       "       'media_movil_t_6_t_1', 'dummi_pico_bajo', 'month_1', 'month_2',\n",
       "       'month_3', 'month_4', 'month_5', 'month_6', 'month_7', 'month_8',\n",
       "       'month_9', 'month_10', 'month_11', 'month_12', 'latitud', 'longitud',\n",
       "       'equipo_perforacion_PM-113', 'equipo_perforacion_PM-472',\n",
       "       'equipo_perforacion_PM-504', 'equipo_perforacion_PM-5571',\n",
       "       'equipo_perforacion_PM-5596', 'equipo_perforacion_PM-5597',\n",
       "       'equipo_perforacion_PM-5599', 'equipo_perforacion_PM-5620',\n",
       "       'equipo_perforacion_PM-5626', 'equipo_perforacion_PM-5627',\n",
       "       'equipo_perforacion_PM-73', 'equipo_perforacion_PM-78',\n",
       "       'equipo_perforacion_PM-92', 'equipo_perforacion_SIN INFORMACION',\n",
       "       'clasificacion_lahee_07-07-01', 'clasificacion_lahee_SIN INRMACION'],\n",
       "      dtype='object')"
      ]
     },
     "execution_count": 62,
     "metadata": {},
     "output_type": "execute_result"
    }
   ],
   "source": [
    "df_train.columns"
   ]
  },
  {
   "cell_type": "code",
   "execution_count": 63,
   "metadata": {},
   "outputs": [],
   "source": [
    "num_cols = ['Produccion_barriles_t_6',\n",
    "       'Produccion_barriles_t_5', 'Produccion_barriles_t_4',\n",
    "       'Produccion_barriles_t_3', 'Produccion_barriles_t_2',\n",
    "       'Produccion_barriles_t_1',\n",
    "        \n",
    "        'diff_t_6_t_5', 'diff_t_5_t_4',\n",
    "       'diff_t_4_t_3', 'diff_t_3_t_2', 'diff_t_2_t_1', 'diff_t_6_t_1',\n",
    "       'diff_t_5_t_1', 'diff_t_4_t_1', 'diff_t_3_t_1',\n",
    "            \n",
    "       'aceleracion_de_produccion _t3t2_t2t1', \n",
    "            'std_t_6_t_1', 'median_t_6_t_1',\n",
    "       'min_t_6_t_1', 'q75_t_6_t_1', 'q25_t_6_t_1', 'q90_t_6_t_1',\n",
    "       'q10_t_6_t_1', 'max_t_6_t_1', 'rango_t6_t1', \n",
    "            'media_movil_t_2_t_1',\n",
    "       'media_movil_t_3_t_1', 'media_movil_t_4_t_1', 'media_movil_t_5_t_1',\n",
    "       'media_movil_t_6_t_1',\n",
    "         'month_1', 'month_2',\n",
    "       'month_3', 'month_4', 'month_5', 'month_6', 'month_7', 'month_8',\n",
    "       'month_9', 'month_10', 'month_11', 'month_12', \n",
    "#             'detenido_mes_antes',\n",
    "       'latitud', 'longitud', \n",
    "            'equipo_perforacion_PM-113',\n",
    "       'equipo_perforacion_PM-472', 'equipo_perforacion_PM-504',\n",
    "       'equipo_perforacion_PM-5571', 'equipo_perforacion_PM-5596',\n",
    "       'equipo_perforacion_PM-5597', 'equipo_perforacion_PM-5599',\n",
    "       'equipo_perforacion_PM-5620', 'equipo_perforacion_PM-5626',\n",
    "       'equipo_perforacion_PM-5627', 'equipo_perforacion_PM-73',\n",
    "       'equipo_perforacion_PM-78', 'equipo_perforacion_PM-92',\n",
    "       'equipo_perforacion_SIN INFORMACION', \n",
    "            'clasificacion_lahee_07-07-01',\n",
    "       'clasificacion_lahee_SIN INRMACION']"
   ]
  },
  {
   "cell_type": "code",
   "execution_count": 64,
   "metadata": {},
   "outputs": [],
   "source": [
    "df_std = (df_train[num_cols] - df_train[num_cols].mean()) / df_train[num_cols].std()"
   ]
  },
  {
   "cell_type": "code",
   "execution_count": 65,
   "metadata": {},
   "outputs": [],
   "source": [
    "Sum_of_squared_distances = []\n",
    "K = range(1,15)\n",
    "for k in K:\n",
    "    km = KMeans(n_clusters=k)\n",
    "    km = km.fit(df_std)\n",
    "    Sum_of_squared_distances.append(km.inertia_)"
   ]
  },
  {
   "cell_type": "code",
   "execution_count": 66,
   "metadata": {},
   "outputs": [
    {
     "data": {
      "image/png": "[encoded data removed]",
      "text/plain": [
       "<Figure size 432x288 with 1 Axes>"
      ]
     },
     "metadata": {
      "needs_background": "light"
     },
     "output_type": "display_data"
    }
   ],
   "source": [
    "plt.plot(K, Sum_of_squared_distances, 'bx-')\n",
    "plt.xlabel('k')\n",
    "plt.ylabel('Sum_of_squared_distances')\n",
    "plt.title('Elbow Method For Optimal k')\n",
    "plt.xticks(np.arange(1,15));"
   ]
  },
  {
   "cell_type": "code",
   "execution_count": 67,
   "metadata": {},
   "outputs": [
    {
     "data": {
      "text/plain": [
       "KMeans(algorithm='auto', copy_x=True, init='k-means++', max_iter=300,\n",
       "    n_clusters=5, n_init=10, n_jobs=1, precompute_distances='auto',\n",
       "    random_state=None, tol=0.0001, verbose=0)"
      ]
     },
     "execution_count": 67,
     "metadata": {},
     "output_type": "execute_result"
    }
   ],
   "source": [
    "kmeans = KMeans(n_clusters=5)\n",
    "kmeans.fit(df_std)"
   ]
  },
  {
   "cell_type": "code",
   "execution_count": 68,
   "metadata": {},
   "outputs": [],
   "source": [
    "df_train = pd.concat([df_train,pd.get_dummies(kmeans.predict(df_std),prefix=\"cluster\")],1).dropna()"
   ]
  },
  {
   "cell_type": "code",
   "execution_count": 69,
   "metadata": {},
   "outputs": [],
   "source": [
    "df_train[\"cluster\"] = kmeans.predict(df_std)"
   ]
  },
  {
   "cell_type": "markdown",
   "metadata": {},
   "source": [
    "Si ayuda agregar clusters, vemos que hay pozos que producen menos."
   ]
  },
  {
   "cell_type": "markdown",
   "metadata": {},
   "source": [
    "# Caracteristicas del pozo"
   ]
  },
  {
   "cell_type": "code",
   "execution_count": 70,
   "metadata": {},
   "outputs": [
    {
     "data": {
      "text/plain": [
       "Index(['Pozo', 'fecha_produccion', 'Produccion_barriles_t_6',\n",
       "       'Produccion_barriles_t_5', 'Produccion_barriles_t_4',\n",
       "       'Produccion_barriles_t_3', 'Produccion_barriles_t_2',\n",
       "       'Produccion_barriles_t_1', 'Produccion_barriles_t', 'diff_t_6_t_5',\n",
       "       'diff_t_5_t_4', 'diff_t_4_t_3', 'diff_t_3_t_2', 'diff_t_2_t_1',\n",
       "       'diff_t_6_t_1', 'diff_t_5_t_1', 'diff_t_4_t_1', 'diff_t_3_t_1',\n",
       "       'aceleracion_de_produccion _t3t2_t2t1',\n",
       "       'aceleracion_de_produccion _t4t3_t2t1', 'std_t_6_t_1', 'median_t_6_t_1',\n",
       "       'min_t_6_t_1', 'q75_t_6_t_1', 'q25_t_6_t_1', 'q90_t_6_t_1',\n",
       "       'q10_t_6_t_1', 'max_t_6_t_1', 'rango_t6_t1', 'media_movil_t_2_t_1',\n",
       "       'media_movil_t_3_t_1', 'media_movil_t_4_t_1', 'media_movil_t_5_t_1',\n",
       "       'media_movil_t_6_t_1', 'dummi_pico_bajo', 'month_1', 'month_2',\n",
       "       'month_3', 'month_4', 'month_5', 'month_6', 'month_7', 'month_8',\n",
       "       'month_9', 'month_10', 'month_11', 'month_12', 'latitud', 'longitud',\n",
       "       'equipo_perforacion_PM-113', 'equipo_perforacion_PM-472',\n",
       "       'equipo_perforacion_PM-504', 'equipo_perforacion_PM-5571',\n",
       "       'equipo_perforacion_PM-5596', 'equipo_perforacion_PM-5597',\n",
       "       'equipo_perforacion_PM-5599', 'equipo_perforacion_PM-5620',\n",
       "       'equipo_perforacion_PM-5626', 'equipo_perforacion_PM-5627',\n",
       "       'equipo_perforacion_PM-73', 'equipo_perforacion_PM-78',\n",
       "       'equipo_perforacion_PM-92', 'equipo_perforacion_SIN INFORMACION',\n",
       "       'clasificacion_lahee_07-07-01', 'clasificacion_lahee_SIN INRMACION',\n",
       "       'cluster_0', 'cluster_1', 'cluster_2', 'cluster_3', 'cluster_4',\n",
       "       'cluster'],\n",
       "      dtype='object')"
      ]
     },
     "execution_count": 70,
     "metadata": {},
     "output_type": "execute_result"
    }
   ],
   "source": [
    "df_train.columns"
   ]
  },
  {
   "cell_type": "markdown",
   "metadata": {},
   "source": [
    "# AED"
   ]
  },
  {
   "cell_type": "code",
   "execution_count": 71,
   "metadata": {},
   "outputs": [
    {
     "data": {
      "image/png": "[encoded data removed]",
      "text/plain": [
       "<Figure size 1080x360 with 1 Axes>"
      ]
     },
     "metadata": {
      "needs_background": "light"
     },
     "output_type": "display_data"
    }
   ],
   "source": [
    "df_train.Produccion_barriles_t.hist(bins=25, figsize=(15,5))\n",
    "plt.title('Histograma de variable predictiva')\n",
    "plt.xticks(np.linspace(0,4000,15));"
   ]
  },
  {
   "cell_type": "markdown",
   "metadata": {},
   "source": [
    "# Dispersiones"
   ]
  },
  {
   "cell_type": "code",
   "execution_count": 72,
   "metadata": {},
   "outputs": [
    {
     "data": {
      "text/plain": [
       "Index(['Pozo', 'fecha_produccion', 'Produccion_barriles_t_6',\n",
       "       'Produccion_barriles_t_5', 'Produccion_barriles_t_4',\n",
       "       'Produccion_barriles_t_3', 'Produccion_barriles_t_2',\n",
       "       'Produccion_barriles_t_1', 'Produccion_barriles_t', 'diff_t_6_t_5',\n",
       "       'diff_t_5_t_4', 'diff_t_4_t_3', 'diff_t_3_t_2', 'diff_t_2_t_1',\n",
       "       'diff_t_6_t_1', 'diff_t_5_t_1', 'diff_t_4_t_1', 'diff_t_3_t_1',\n",
       "       'aceleracion_de_produccion _t3t2_t2t1',\n",
       "       'aceleracion_de_produccion _t4t3_t2t1', 'std_t_6_t_1', 'median_t_6_t_1',\n",
       "       'min_t_6_t_1', 'q75_t_6_t_1', 'q25_t_6_t_1', 'q90_t_6_t_1',\n",
       "       'q10_t_6_t_1', 'max_t_6_t_1', 'rango_t6_t1', 'media_movil_t_2_t_1',\n",
       "       'media_movil_t_3_t_1', 'media_movil_t_4_t_1', 'media_movil_t_5_t_1',\n",
       "       'media_movil_t_6_t_1', 'dummi_pico_bajo', 'month_1', 'month_2',\n",
       "       'month_3', 'month_4', 'month_5', 'month_6', 'month_7', 'month_8',\n",
       "       'month_9', 'month_10', 'month_11', 'month_12', 'latitud', 'longitud',\n",
       "       'equipo_perforacion_PM-113', 'equipo_perforacion_PM-472',\n",
       "       'equipo_perforacion_PM-504', 'equipo_perforacion_PM-5571',\n",
       "       'equipo_perforacion_PM-5596', 'equipo_perforacion_PM-5597',\n",
       "       'equipo_perforacion_PM-5599', 'equipo_perforacion_PM-5620',\n",
       "       'equipo_perforacion_PM-5626', 'equipo_perforacion_PM-5627',\n",
       "       'equipo_perforacion_PM-73', 'equipo_perforacion_PM-78',\n",
       "       'equipo_perforacion_PM-92', 'equipo_perforacion_SIN INFORMACION',\n",
       "       'clasificacion_lahee_07-07-01', 'clasificacion_lahee_SIN INRMACION',\n",
       "       'cluster_0', 'cluster_1', 'cluster_2', 'cluster_3', 'cluster_4',\n",
       "       'cluster'],\n",
       "      dtype='object')"
      ]
     },
     "execution_count": 72,
     "metadata": {},
     "output_type": "execute_result"
    }
   ],
   "source": [
    "df_train.columns"
   ]
  },
  {
   "cell_type": "code",
   "execution_count": 73,
   "metadata": {},
   "outputs": [],
   "source": [
    "num_cols = ['Produccion_barriles_t_6',\n",
    "       'Produccion_barriles_t_5', 'Produccion_barriles_t_4',\n",
    "       'Produccion_barriles_t_3', 'Produccion_barriles_t_2',\n",
    "       'Produccion_barriles_t_1', \n",
    "            'diff_t_6_t_5', 'diff_t_5_t_4',\n",
    "       'diff_t_4_t_3', 'diff_t_3_t_2', 'diff_t_2_t_1', 'diff_t_6_t_1',\n",
    "       'diff_t_5_t_1', 'diff_t_4_t_1', 'diff_t_3_t_1',\n",
    "       'aceleracion_de_produccion _t3t2_t2t1', 'std_t_6_t_1', 'median_t_6_t_1',\n",
    "       'min_t_6_t_1', 'q75_t_6_t_1', 'q25_t_6_t_1', 'q90_t_6_t_1',\n",
    "       'q10_t_6_t_1', 'max_t_6_t_1', 'rango_t6_t1', 'media_movil_t_2_t_1',\n",
    "       'media_movil_t_3_t_1', 'media_movil_t_4_t_1', 'media_movil_t_5_t_1',\n",
    "       'media_movil_t_6_t_1', \n",
    "            'month_1', 'month_2',\n",
    "       'month_3', 'month_4', 'month_5', 'month_6', 'month_7', 'month_8',\n",
    "       'month_9', 'month_10', 'month_11', 'month_12', \n",
    "#             'detenido_mes_antes',\n",
    "       'latitud', 'longitud',\n",
    "            'equipo_perforacion_PM-113',\n",
    "       'equipo_perforacion_PM-472', 'equipo_perforacion_PM-504',\n",
    "       'equipo_perforacion_PM-5571', 'equipo_perforacion_PM-5596',\n",
    "       'equipo_perforacion_PM-5597', 'equipo_perforacion_PM-5599',\n",
    "       'equipo_perforacion_PM-5620', 'equipo_perforacion_PM-5626',\n",
    "       'equipo_perforacion_PM-5627', 'equipo_perforacion_PM-73',\n",
    "       'equipo_perforacion_PM-78', 'equipo_perforacion_PM-92',\n",
    "       'equipo_perforacion_SIN INFORMACION', 'clasificacion_lahee_07-07-01',\n",
    "       'clasificacion_lahee_SIN INRMACION', \n",
    "            'cluster_0', 'cluster_1',\n",
    "       'cluster_2', 'cluster_3', 'cluster_4', 'cluster']"
   ]
  },
  {
   "cell_type": "code",
   "execution_count": null,
   "metadata": {},
   "outputs": [],
   "source": []
  },
  {
   "cell_type": "markdown",
   "metadata": {},
   "source": [
    "En algun momento dibujaras un mapa aqui"
   ]
  },
  {
   "cell_type": "code",
   "execution_count": 74,
   "metadata": {},
   "outputs": [],
   "source": [
    "lat = df_train.groupby('Pozo')[['latitud','longitud']].first().latitud.values\n",
    "lon = df_train.groupby('Pozo')[['latitud','longitud']].first().latitud.values\n",
    "idx = df_train.groupby('Pozo')[['latitud','longitud']].first().index.values"
   ]
  },
  {
   "cell_type": "code",
   "execution_count": 75,
   "metadata": {},
   "outputs": [
    {
     "data": {
      "text/plain": [
       "Index(['Pozo', 'fecha_produccion', 'Produccion_barriles_t_6',\n",
       "       'Produccion_barriles_t_5', 'Produccion_barriles_t_4',\n",
       "       'Produccion_barriles_t_3', 'Produccion_barriles_t_2',\n",
       "       'Produccion_barriles_t_1', 'Produccion_barriles_t', 'diff_t_6_t_5',\n",
       "       'diff_t_5_t_4', 'diff_t_4_t_3', 'diff_t_3_t_2', 'diff_t_2_t_1',\n",
       "       'diff_t_6_t_1', 'diff_t_5_t_1', 'diff_t_4_t_1', 'diff_t_3_t_1',\n",
       "       'aceleracion_de_produccion _t3t2_t2t1',\n",
       "       'aceleracion_de_produccion _t4t3_t2t1', 'std_t_6_t_1', 'median_t_6_t_1',\n",
       "       'min_t_6_t_1', 'q75_t_6_t_1', 'q25_t_6_t_1', 'q90_t_6_t_1',\n",
       "       'q10_t_6_t_1', 'max_t_6_t_1', 'rango_t6_t1', 'media_movil_t_2_t_1',\n",
       "       'media_movil_t_3_t_1', 'media_movil_t_4_t_1', 'media_movil_t_5_t_1',\n",
       "       'media_movil_t_6_t_1', 'dummi_pico_bajo', 'month_1', 'month_2',\n",
       "       'month_3', 'month_4', 'month_5', 'month_6', 'month_7', 'month_8',\n",
       "       'month_9', 'month_10', 'month_11', 'month_12', 'latitud', 'longitud',\n",
       "       'equipo_perforacion_PM-113', 'equipo_perforacion_PM-472',\n",
       "       'equipo_perforacion_PM-504', 'equipo_perforacion_PM-5571',\n",
       "       'equipo_perforacion_PM-5596', 'equipo_perforacion_PM-5597',\n",
       "       'equipo_perforacion_PM-5599', 'equipo_perforacion_PM-5620',\n",
       "       'equipo_perforacion_PM-5626', 'equipo_perforacion_PM-5627',\n",
       "       'equipo_perforacion_PM-73', 'equipo_perforacion_PM-78',\n",
       "       'equipo_perforacion_PM-92', 'equipo_perforacion_SIN INFORMACION',\n",
       "       'clasificacion_lahee_07-07-01', 'clasificacion_lahee_SIN INRMACION',\n",
       "       'cluster_0', 'cluster_1', 'cluster_2', 'cluster_3', 'cluster_4',\n",
       "       'cluster'],\n",
       "      dtype='object')"
      ]
     },
     "execution_count": 75,
     "metadata": {},
     "output_type": "execute_result"
    }
   ],
   "source": [
    "df_train.columns"
   ]
  },
  {
   "cell_type": "code",
   "execution_count": 76,
   "metadata": {},
   "outputs": [
    {
     "data": {
      "text/plain": [
       "Text(0.5, 1.0, 'Observamos que hay pozos estables en cantidad de produccion y\\n            otros que ascienden o descienden en produccion')"
      ]
     },
     "execution_count": 76,
     "metadata": {},
     "output_type": "execute_result"
    },
    {
     "data": {
      "image/png": "[encoded data removed]",
      "text/plain": [
       "<Figure size 432x288 with 2 Axes>"
      ]
     },
     "metadata": {
      "needs_background": "light"
     },
     "output_type": "display_data"
    }
   ],
   "source": [
    "sns.heatmap(df_train.groupby('cluster')[[ 'Produccion_barriles_t_6',\n",
    "       'Produccion_barriles_t_5', 'Produccion_barriles_t_4',\n",
    "       'Produccion_barriles_t_3', 'Produccion_barriles_t_2',\n",
    "       'Produccion_barriles_t_1']].mean(),cmap='jet')\n",
    "plt.title('''Observamos que hay pozos estables en cantidad de produccion y\n",
    "            otros que ascienden o descienden en produccion''')"
   ]
  },
  {
   "cell_type": "markdown",
   "metadata": {},
   "source": [
    "# Entrenamiento"
   ]
  },
  {
   "cell_type": "code",
   "execution_count": 77,
   "metadata": {},
   "outputs": [
    {
     "data": {
      "text/plain": [
       "Index(['Pozo', 'fecha_produccion', 'Produccion_barriles_t_6',\n",
       "       'Produccion_barriles_t_5', 'Produccion_barriles_t_4',\n",
       "       'Produccion_barriles_t_3', 'Produccion_barriles_t_2',\n",
       "       'Produccion_barriles_t_1', 'Produccion_barriles_t', 'diff_t_6_t_5',\n",
       "       'diff_t_5_t_4', 'diff_t_4_t_3', 'diff_t_3_t_2', 'diff_t_2_t_1',\n",
       "       'diff_t_6_t_1', 'diff_t_5_t_1', 'diff_t_4_t_1', 'diff_t_3_t_1',\n",
       "       'aceleracion_de_produccion _t3t2_t2t1',\n",
       "       'aceleracion_de_produccion _t4t3_t2t1', 'std_t_6_t_1', 'median_t_6_t_1',\n",
       "       'min_t_6_t_1', 'q75_t_6_t_1', 'q25_t_6_t_1', 'q90_t_6_t_1',\n",
       "       'q10_t_6_t_1', 'max_t_6_t_1', 'rango_t6_t1', 'media_movil_t_2_t_1',\n",
       "       'media_movil_t_3_t_1', 'media_movil_t_4_t_1', 'media_movil_t_5_t_1',\n",
       "       'media_movil_t_6_t_1', 'dummi_pico_bajo', 'month_1', 'month_2',\n",
       "       'month_3', 'month_4', 'month_5', 'month_6', 'month_7', 'month_8',\n",
       "       'month_9', 'month_10', 'month_11', 'month_12', 'latitud', 'longitud',\n",
       "       'equipo_perforacion_PM-113', 'equipo_perforacion_PM-472',\n",
       "       'equipo_perforacion_PM-504', 'equipo_perforacion_PM-5571',\n",
       "       'equipo_perforacion_PM-5596', 'equipo_perforacion_PM-5597',\n",
       "       'equipo_perforacion_PM-5599', 'equipo_perforacion_PM-5620',\n",
       "       'equipo_perforacion_PM-5626', 'equipo_perforacion_PM-5627',\n",
       "       'equipo_perforacion_PM-73', 'equipo_perforacion_PM-78',\n",
       "       'equipo_perforacion_PM-92', 'equipo_perforacion_SIN INFORMACION',\n",
       "       'clasificacion_lahee_07-07-01', 'clasificacion_lahee_SIN INRMACION',\n",
       "       'cluster_0', 'cluster_1', 'cluster_2', 'cluster_3', 'cluster_4',\n",
       "       'cluster'],\n",
       "      dtype='object')"
      ]
     },
     "execution_count": 77,
     "metadata": {},
     "output_type": "execute_result"
    }
   ],
   "source": [
    "df_train.columns"
   ]
  },
  {
   "cell_type": "code",
   "execution_count": 78,
   "metadata": {},
   "outputs": [],
   "source": [
    "num_cols =['Produccion_barriles_t_6',\n",
    "       'Produccion_barriles_t_5', 'Produccion_barriles_t_4',\n",
    "       'Produccion_barriles_t_3', 'Produccion_barriles_t_2',\n",
    "       'Produccion_barriles_t_1', \n",
    "           'diff_t_6_t_5', 'diff_t_5_t_4',\n",
    "       'diff_t_4_t_3', 'diff_t_3_t_2', 'diff_t_2_t_1', 'diff_t_6_t_1',\n",
    "       'diff_t_5_t_1', 'diff_t_4_t_1', 'diff_t_3_t_1',\n",
    "           \n",
    "       'aceleracion_de_produccion _t3t2_t2t1',\n",
    "           'std_t_6_t_1', 'median_t_6_t_1',\n",
    "       'min_t_6_t_1', 'q75_t_6_t_1', 'q25_t_6_t_1', 'q90_t_6_t_1',\n",
    "       'q10_t_6_t_1', 'max_t_6_t_1', 'rango_t6_t1', \n",
    "           'media_movil_t_2_t_1',\n",
    "       'media_movil_t_3_t_1', 'media_movil_t_4_t_1', 'media_movil_t_5_t_1',\n",
    "       'media_movil_t_6_t_1', \n",
    "            'month_1', 'month_2',\n",
    "       'month_3', 'month_4', 'month_5', 'month_6', 'month_7', 'month_8',\n",
    "       'month_9', 'month_10', 'month_11', 'month_12',\n",
    "#            'detenido_mes_antes',\n",
    "       'latitud', 'longitud',\n",
    "           'equipo_perforacion_PM-113',\n",
    "       'equipo_perforacion_PM-472', 'equipo_perforacion_PM-504',\n",
    "       'equipo_perforacion_PM-5571', 'equipo_perforacion_PM-5596',\n",
    "       'equipo_perforacion_PM-5597', 'equipo_perforacion_PM-5599',\n",
    "       'equipo_perforacion_PM-5620', 'equipo_perforacion_PM-5626',\n",
    "       'equipo_perforacion_PM-5627', 'equipo_perforacion_PM-73',\n",
    "       'equipo_perforacion_PM-78', 'equipo_perforacion_PM-92',\n",
    "       'equipo_perforacion_SIN INFORMACION',\n",
    "           'clasificacion_lahee_07-07-01',\n",
    "       'clasificacion_lahee_SIN INRMACION', \n",
    "           'cluster_0', 'cluster_1',\n",
    "       'cluster_2', 'cluster_3', 'cluster_4']"
   ]
  },
  {
   "cell_type": "code",
   "execution_count": 79,
   "metadata": {},
   "outputs": [],
   "source": [
    "x_train, x_test, x_valid, y_train, y_test, y_valid = st.train_test_valid_split(df_train, num_cols, 'Produccion_barriles_t')"
   ]
  },
  {
   "cell_type": "code",
   "execution_count": 80,
   "metadata": {},
   "outputs": [
    {
     "data": {
      "text/plain": [
       "(12992, 65)"
      ]
     },
     "execution_count": 80,
     "metadata": {},
     "output_type": "execute_result"
    }
   ],
   "source": [
    "x_train.shape"
   ]
  },
  {
   "cell_type": "code",
   "execution_count": null,
   "metadata": {},
   "outputs": [],
   "source": [
    "d_train = lgb.Dataset(x_train, y_train)\n",
    "d_test = lgb.Dataset(x_test, label=y_test)\n",
    "\n",
    "params = {}\n",
    "params['learning_rate'] = 0.01\n",
    "params['boosting_type'] = 'gbdt'\n",
    "params['objective'] = 'regression'\n",
    "params['metric'] = 'mae'\n",
    "params['sub_feature'] = 0.8\n",
    "params['num_leaves'] = 25\n",
    "params['min_data'] = 10\n",
    "params['max_depth'] = -1\n",
    "params['num_iterations'] = 100000\n",
    "\n",
    "clf = lgb.train(params, d_train, 100, valid_sets=[d_test], early_stopping_rounds=25,verbose_eval=10000)"
   ]
  },
  {
   "cell_type": "code",
   "execution_count": 82,
   "metadata": {},
   "outputs": [
    {
     "data": {
      "text/plain": [
       "10183"
      ]
     },
     "execution_count": 82,
     "metadata": {},
     "output_type": "execute_result"
    }
   ],
   "source": [
    "clf.num_trees()"
   ]
  },
  {
   "cell_type": "markdown",
   "metadata": {},
   "source": [
    "# Evaluacion"
   ]
  },
  {
   "cell_type": "code",
   "execution_count": 100,
   "metadata": {},
   "outputs": [],
   "source": [
    "y_pred = gs_sample_weight.predict(x_valid)"
   ]
  },
  {
   "cell_type": "code",
   "execution_count": 101,
   "metadata": {},
   "outputs": [],
   "source": [
    "from sklearn import metrics\n",
    "def report_evaluation_regression(y_real, y_pred, num_features):\n",
    "    \"\"\"Reporte de evaluacion,\n",
    "    y_real, y_pred=y_estimada,num_features=numero de variables\"\"\"\n",
    "    R2=metrics.r2_score(y_real,y_pred)\n",
    "    n=len(y_real)\n",
    "    p=num_features\n",
    "    r2 = 1-(1-R2)*(n-1)/(n-p-1)\n",
    "    \n",
    "    \n",
    "    print(\"$R^2$: %1.4f\" % R2)\n",
    "    \n",
    "    print(\"$R^2$ ajustada$: %1.4f\" % r2)\n",
    "    \n",
    "    print(\"MEA: %1.4f\" % metrics.mean_absolute_error(y_real,y_pred))\n",
    "    print(\"MSE %1.4f\" % metrics.mean_squared_error(y_real,y_pred))\n",
    "    print(\"RMSE %1.4f\" % np.sqrt(metrics.mean_squared_error(y_real,y_pred)))\n",
    "    "
   ]
  },
  {
   "cell_type": "code",
   "execution_count": 102,
   "metadata": {},
   "outputs": [
    {
     "name": "stdout",
     "output_type": "stream",
     "text": [
      "$R^2$: 0.8880\n",
      "$R^2$ ajustada$: 0.8838\n",
      "MEA: 22.5717\n",
      "MSE 3264.0275\n",
      "RMSE 57.1317\n"
     ]
    }
   ],
   "source": [
    "report_evaluation_regression(y_valid, y_pred, x_train.shape[1])"
   ]
  },
  {
   "cell_type": "code",
   "execution_count": 103,
   "metadata": {},
   "outputs": [
    {
     "data": {
      "image/png": "[encoded data removed]",
      "text/plain": [
       "<Figure size 432x288 with 1 Axes>"
      ]
     },
     "metadata": {
      "needs_background": "light"
     },
     "output_type": "display_data"
    }
   ],
   "source": [
    "st.yy_plot(y_valid, y_pred)"
   ]
  },
  {
   "cell_type": "markdown",
   "metadata": {},
   "source": [
    "## Residuos"
   ]
  },
  {
   "cell_type": "code",
   "execution_count": 104,
   "metadata": {},
   "outputs": [],
   "source": [
    "res = (y_valid - y_pred) / y_valid"
   ]
  },
  {
   "cell_type": "code",
   "execution_count": 105,
   "metadata": {},
   "outputs": [
    {
     "data": {
      "text/plain": [
       "<matplotlib.collections.PathCollection at 0x1c066cff710>"
      ]
     },
     "execution_count": 105,
     "metadata": {},
     "output_type": "execute_result"
    },
    {
     "data": {
      "image/png": "[encoded data removed]",
      "text/plain": [
       "<Figure size 432x288 with 1 Axes>"
      ]
     },
     "metadata": {
      "needs_background": "light"
     },
     "output_type": "display_data"
    }
   ],
   "source": [
    "plt.scatter(y_valid, res, alpha=0.5)"
   ]
  },
  {
   "cell_type": "code",
   "execution_count": 106,
   "metadata": {},
   "outputs": [
    {
     "data": {
      "text/plain": [
       "0.11934341943576231"
      ]
     },
     "execution_count": 106,
     "metadata": {},
     "output_type": "execute_result"
    }
   ],
   "source": [
    "res.median() * 100"
   ]
  },
  {
   "cell_type": "code",
   "execution_count": 107,
   "metadata": {},
   "outputs": [
    {
     "data": {
      "text/plain": [
       "-1.9625298752123357"
      ]
     },
     "execution_count": 107,
     "metadata": {},
     "output_type": "execute_result"
    }
   ],
   "source": [
    "res.mean() * 100"
   ]
  },
  {
   "cell_type": "code",
   "execution_count": 108,
   "metadata": {},
   "outputs": [
    {
     "data": {
      "text/html": [
       "<div>\n",
       "<style scoped>\n",
       "    .dataframe tbody tr th:only-of-type {\n",
       "        vertical-align: middle;\n",
       "    }\n",
       "\n",
       "    .dataframe tbody tr th {\n",
       "        vertical-align: top;\n",
       "    }\n",
       "\n",
       "    .dataframe thead th {\n",
       "        text-align: right;\n",
       "    }\n",
       "</style>\n",
       "<table border=\"1\" class=\"dataframe\">\n",
       "  <thead>\n",
       "    <tr style=\"text-align: right;\">\n",
       "      <th></th>\n",
       "      <th>Pozo</th>\n",
       "      <th>fecha_produccion</th>\n",
       "      <th>Produccion_barriles_t_6</th>\n",
       "      <th>Produccion_barriles_t_5</th>\n",
       "      <th>Produccion_barriles_t_4</th>\n",
       "      <th>Produccion_barriles_t_3</th>\n",
       "      <th>Produccion_barriles_t_2</th>\n",
       "      <th>Produccion_barriles_t_1</th>\n",
       "      <th>Produccion_barriles_t</th>\n",
       "      <th>diff_t_6_t_5</th>\n",
       "      <th>...</th>\n",
       "      <th>equipo_perforacion_PM-92</th>\n",
       "      <th>equipo_perforacion_SIN INFORMACION</th>\n",
       "      <th>clasificacion_lahee_07-07-01</th>\n",
       "      <th>clasificacion_lahee_SIN INRMACION</th>\n",
       "      <th>cluster_0</th>\n",
       "      <th>cluster_1</th>\n",
       "      <th>cluster_2</th>\n",
       "      <th>cluster_3</th>\n",
       "      <th>cluster_4</th>\n",
       "      <th>cluster</th>\n",
       "    </tr>\n",
       "  </thead>\n",
       "  <tbody>\n",
       "  </tbody>\n",
       "</table>\n",
       "<p>0 rows × 71 columns</p>\n",
       "</div>"
      ],
      "text/plain": [
       "Empty DataFrame\n",
       "Columns: [Pozo, fecha_produccion, Produccion_barriles_t_6, Produccion_barriles_t_5, Produccion_barriles_t_4, Produccion_barriles_t_3, Produccion_barriles_t_2, Produccion_barriles_t_1, Produccion_barriles_t, diff_t_6_t_5, diff_t_5_t_4, diff_t_4_t_3, diff_t_3_t_2, diff_t_2_t_1, diff_t_6_t_1, diff_t_5_t_1, diff_t_4_t_1, diff_t_3_t_1, aceleracion_de_produccion _t3t2_t2t1, aceleracion_de_produccion _t4t3_t2t1, std_t_6_t_1, median_t_6_t_1, min_t_6_t_1, q75_t_6_t_1, q25_t_6_t_1, q90_t_6_t_1, q10_t_6_t_1, max_t_6_t_1, rango_t6_t1, media_movil_t_2_t_1, media_movil_t_3_t_1, media_movil_t_4_t_1, media_movil_t_5_t_1, media_movil_t_6_t_1, dummi_pico_bajo, month_1, month_2, month_3, month_4, month_5, month_6, month_7, month_8, month_9, month_10, month_11, month_12, latitud, longitud, equipo_perforacion_PM-113, equipo_perforacion_PM-472, equipo_perforacion_PM-504, equipo_perforacion_PM-5571, equipo_perforacion_PM-5596, equipo_perforacion_PM-5597, equipo_perforacion_PM-5599, equipo_perforacion_PM-5620, equipo_perforacion_PM-5626, equipo_perforacion_PM-5627, equipo_perforacion_PM-73, equipo_perforacion_PM-78, equipo_perforacion_PM-92, equipo_perforacion_SIN INFORMACION, clasificacion_lahee_07-07-01, clasificacion_lahee_SIN INRMACION, cluster_0, cluster_1, cluster_2, cluster_3, cluster_4, cluster]\n",
       "Index: []\n",
       "\n",
       "[0 rows x 71 columns]"
      ]
     },
     "execution_count": 108,
     "metadata": {},
     "output_type": "execute_result"
    }
   ],
   "source": [
    "df_train.loc[res[res<-5].index]"
   ]
  },
  {
   "cell_type": "code",
   "execution_count": 109,
   "metadata": {},
   "outputs": [
    {
     "data": {
      "text/plain": [
       "Series([], Name: Produccion_barriles_t, dtype: float64)"
      ]
     },
     "execution_count": 109,
     "metadata": {},
     "output_type": "execute_result"
    }
   ],
   "source": [
    "res[res<-5]"
   ]
  },
  {
   "cell_type": "markdown",
   "metadata": {},
   "source": [
    "## Autocorrelacion"
   ]
  },
  {
   "cell_type": "code",
   "execution_count": 110,
   "metadata": {},
   "outputs": [
    {
     "data": {
      "image/png": "[encoded data removed]",
      "text/plain": [
       "<Figure size 432x288 with 1 Axes>"
      ]
     },
     "metadata": {
      "needs_background": "light"
     },
     "output_type": "display_data"
    }
   ],
   "source": [
    "plt.xcorr(df_train.Produccion_barriles_t, df_train.Produccion_barriles_t,maxlags=120, usevlines=1)\n",
    "plt.show()"
   ]
  },
  {
   "cell_type": "markdown",
   "metadata": {},
   "source": [
    "Blogs indican que es mejor hacer la estimacion de $\\hat{y}=P(t)-P(t-1)=\\alpha + \\sum {\\beta X_i} + \\epsilon$\n",
    "\n",
    "Se generan mas variables para ayudarle al modelo"
   ]
  },
  {
   "cell_type": "markdown",
   "metadata": {},
   "source": [
    "# Interpretacion"
   ]
  },
  {
   "cell_type": "code",
   "execution_count": 111,
   "metadata": {},
   "outputs": [
    {
     "ename": "NotFittedError",
     "evalue": "No booster found. Need to call fit beforehand.",
     "output_type": "error",
     "traceback": [
      "\u001b[1;31m---------------------------------------------------------------------------\u001b[0m",
      "\u001b[1;31mNotFittedError\u001b[0m                            Traceback (most recent call last)",
      "\u001b[1;32m<ipython-input-111-b285e6be4b09>\u001b[0m in \u001b[0;36m<module>\u001b[1;34m()\u001b[0m\n\u001b[1;32m----> 1\u001b[1;33m \u001b[0mlgb\u001b[0m\u001b[1;33m.\u001b[0m\u001b[0mplot_importance\u001b[0m\u001b[1;33m(\u001b[0m\u001b[0mclf\u001b[0m\u001b[1;33m,\u001b[0m\u001b[0mmax_num_features\u001b[0m\u001b[1;33m=\u001b[0m\u001b[1;36m10\u001b[0m\u001b[1;33m,\u001b[0m \u001b[0mtitle\u001b[0m\u001b[1;33m=\u001b[0m\u001b[1;34m'Importancia de variables - Top 10'\u001b[0m\u001b[1;33m)\u001b[0m\u001b[1;33m\u001b[0m\u001b[0m\n\u001b[0m",
      "\u001b[1;32m~\\Anaconda3\\lib\\site-packages\\lightgbm\\plotting.py\u001b[0m in \u001b[0;36mplot_importance\u001b[1;34m(booster, ax, height, xlim, ylim, title, xlabel, ylabel, importance_type, max_num_features, ignore_zero, figsize, grid, precision, **kwargs)\u001b[0m\n\u001b[0;32m     87\u001b[0m \u001b[1;33m\u001b[0m\u001b[0m\n\u001b[0;32m     88\u001b[0m     \u001b[1;32mif\u001b[0m \u001b[0misinstance\u001b[0m\u001b[1;33m(\u001b[0m\u001b[0mbooster\u001b[0m\u001b[1;33m,\u001b[0m \u001b[0mLGBMModel\u001b[0m\u001b[1;33m)\u001b[0m\u001b[1;33m:\u001b[0m\u001b[1;33m\u001b[0m\u001b[0m\n\u001b[1;32m---> 89\u001b[1;33m         \u001b[0mbooster\u001b[0m \u001b[1;33m=\u001b[0m \u001b[0mbooster\u001b[0m\u001b[1;33m.\u001b[0m\u001b[0mbooster_\u001b[0m\u001b[1;33m\u001b[0m\u001b[0m\n\u001b[0m\u001b[0;32m     90\u001b[0m     \u001b[1;32melif\u001b[0m \u001b[1;32mnot\u001b[0m \u001b[0misinstance\u001b[0m\u001b[1;33m(\u001b[0m\u001b[0mbooster\u001b[0m\u001b[1;33m,\u001b[0m \u001b[0mBooster\u001b[0m\u001b[1;33m)\u001b[0m\u001b[1;33m:\u001b[0m\u001b[1;33m\u001b[0m\u001b[0m\n\u001b[0;32m     91\u001b[0m         \u001b[1;32mraise\u001b[0m \u001b[0mTypeError\u001b[0m\u001b[1;33m(\u001b[0m\u001b[1;34m'booster must be Booster or LGBMModel.'\u001b[0m\u001b[1;33m)\u001b[0m\u001b[1;33m\u001b[0m\u001b[0m\n",
      "\u001b[1;32m~\\Anaconda3\\lib\\site-packages\\lightgbm\\sklearn.py\u001b[0m in \u001b[0;36mbooster_\u001b[1;34m(self)\u001b[0m\n\u001b[0;32m    639\u001b[0m         \u001b[1;34m\"\"\"Get the underlying lightgbm Booster of this model.\"\"\"\u001b[0m\u001b[1;33m\u001b[0m\u001b[0m\n\u001b[0;32m    640\u001b[0m         \u001b[1;32mif\u001b[0m \u001b[0mself\u001b[0m\u001b[1;33m.\u001b[0m\u001b[0m_Booster\u001b[0m \u001b[1;32mis\u001b[0m \u001b[1;32mNone\u001b[0m\u001b[1;33m:\u001b[0m\u001b[1;33m\u001b[0m\u001b[0m\n\u001b[1;32m--> 641\u001b[1;33m             \u001b[1;32mraise\u001b[0m \u001b[0mLGBMNotFittedError\u001b[0m\u001b[1;33m(\u001b[0m\u001b[1;34m'No booster found. Need to call fit beforehand.'\u001b[0m\u001b[1;33m)\u001b[0m\u001b[1;33m\u001b[0m\u001b[0m\n\u001b[0m\u001b[0;32m    642\u001b[0m         \u001b[1;32mreturn\u001b[0m \u001b[0mself\u001b[0m\u001b[1;33m.\u001b[0m\u001b[0m_Booster\u001b[0m\u001b[1;33m\u001b[0m\u001b[0m\n\u001b[0;32m    643\u001b[0m \u001b[1;33m\u001b[0m\u001b[0m\n",
      "\u001b[1;31mNotFittedError\u001b[0m: No booster found. Need to call fit beforehand."
     ]
    }
   ],
   "source": [
    "lgb.plot_importance(clf,max_num_features=10, title='Importancia de variables - Top 10')"
   ]
  },
  {
   "cell_type": "code",
   "execution_count": 112,
   "metadata": {},
   "outputs": [
    {
     "ename": "NotFittedError",
     "evalue": "No booster found. Need to call fit beforehand.",
     "output_type": "error",
     "traceback": [
      "\u001b[1;31m---------------------------------------------------------------------------\u001b[0m",
      "\u001b[1;31mNotFittedError\u001b[0m                            Traceback (most recent call last)",
      "\u001b[1;32m<ipython-input-112-1db528c4a46f>\u001b[0m in \u001b[0;36m<module>\u001b[1;34m()\u001b[0m\n\u001b[1;32m----> 1\u001b[1;33m \u001b[0mexplainer\u001b[0m\u001b[1;33m,\u001b[0m \u001b[0mshap_values\u001b[0m \u001b[1;33m=\u001b[0m \u001b[0mst\u001b[0m\u001b[1;33m.\u001b[0m\u001b[0mshap_shap\u001b[0m\u001b[1;33m(\u001b[0m\u001b[0mclf\u001b[0m\u001b[1;33m,\u001b[0m \u001b[0mx_valid\u001b[0m\u001b[1;33m)\u001b[0m\u001b[1;33m\u001b[0m\u001b[0m\n\u001b[0m",
      "\u001b[1;32m~\\oil_moloacan_prediction\\serch_tools\\serch_tools.py\u001b[0m in \u001b[0;36mshap_shap\u001b[1;34m(clf, x_valid)\u001b[0m\n\u001b[0;32m     68\u001b[0m \u001b[1;33m\u001b[0m\u001b[0m\n\u001b[0;32m     69\u001b[0m \u001b[1;32mdef\u001b[0m \u001b[0mshap_shap\u001b[0m\u001b[1;33m(\u001b[0m\u001b[0mclf\u001b[0m\u001b[1;33m,\u001b[0m \u001b[0mx_valid\u001b[0m\u001b[1;33m)\u001b[0m\u001b[1;33m:\u001b[0m\u001b[1;33m\u001b[0m\u001b[0m\n\u001b[1;32m---> 70\u001b[1;33m     \u001b[0mexplainer\u001b[0m \u001b[1;33m=\u001b[0m \u001b[0mshap\u001b[0m\u001b[1;33m.\u001b[0m\u001b[0mTreeExplainer\u001b[0m\u001b[1;33m(\u001b[0m\u001b[0mclf\u001b[0m\u001b[1;33m)\u001b[0m\u001b[1;33m\u001b[0m\u001b[0m\n\u001b[0m\u001b[0;32m     71\u001b[0m     \u001b[1;32mreturn\u001b[0m \u001b[0mexplainer\u001b[0m\u001b[1;33m,\u001b[0m \u001b[0mexplainer\u001b[0m\u001b[1;33m.\u001b[0m\u001b[0mshap_values\u001b[0m\u001b[1;33m(\u001b[0m\u001b[0mx_valid\u001b[0m\u001b[1;33m)\u001b[0m\u001b[1;33m\u001b[0m\u001b[0m\n\u001b[0;32m     72\u001b[0m \u001b[1;33m\u001b[0m\u001b[0m\n",
      "\u001b[1;32m~\\Anaconda3\\lib\\site-packages\\shap\\explainers\\tree.py\u001b[0m in \u001b[0;36m__init__\u001b[1;34m(self, model, **kwargs)\u001b[0m\n\u001b[0;32m     95\u001b[0m         \u001b[1;32melif\u001b[0m \u001b[0mstr\u001b[0m\u001b[1;33m(\u001b[0m\u001b[0mtype\u001b[0m\u001b[1;33m(\u001b[0m\u001b[0mmodel\u001b[0m\u001b[1;33m)\u001b[0m\u001b[1;33m)\u001b[0m\u001b[1;33m.\u001b[0m\u001b[0mendswith\u001b[0m\u001b[1;33m(\u001b[0m\u001b[1;34m\"lightgbm.sklearn.LGBMRegressor'>\"\u001b[0m\u001b[1;33m)\u001b[0m\u001b[1;33m:\u001b[0m\u001b[1;33m\u001b[0m\u001b[0m\n\u001b[0;32m     96\u001b[0m             \u001b[0mself\u001b[0m\u001b[1;33m.\u001b[0m\u001b[0mmodel_type\u001b[0m \u001b[1;33m=\u001b[0m \u001b[1;34m\"lightgbm\"\u001b[0m\u001b[1;33m\u001b[0m\u001b[0m\n\u001b[1;32m---> 97\u001b[1;33m             \u001b[0mself\u001b[0m\u001b[1;33m.\u001b[0m\u001b[0mmodel\u001b[0m \u001b[1;33m=\u001b[0m \u001b[0mmodel\u001b[0m\u001b[1;33m.\u001b[0m\u001b[0mbooster_\u001b[0m\u001b[1;33m\u001b[0m\u001b[0m\n\u001b[0m\u001b[0;32m     98\u001b[0m         \u001b[1;32melif\u001b[0m \u001b[0mstr\u001b[0m\u001b[1;33m(\u001b[0m\u001b[0mtype\u001b[0m\u001b[1;33m(\u001b[0m\u001b[0mmodel\u001b[0m\u001b[1;33m)\u001b[0m\u001b[1;33m)\u001b[0m\u001b[1;33m.\u001b[0m\u001b[0mendswith\u001b[0m\u001b[1;33m(\u001b[0m\u001b[1;34m\"lightgbm.sklearn.LGBMClassifier'>\"\u001b[0m\u001b[1;33m)\u001b[0m\u001b[1;33m:\u001b[0m\u001b[1;33m\u001b[0m\u001b[0m\n\u001b[0;32m     99\u001b[0m             \u001b[0mself\u001b[0m\u001b[1;33m.\u001b[0m\u001b[0mmodel_type\u001b[0m \u001b[1;33m=\u001b[0m \u001b[1;34m\"lightgbm\"\u001b[0m\u001b[1;33m\u001b[0m\u001b[0m\n",
      "\u001b[1;32m~\\Anaconda3\\lib\\site-packages\\lightgbm\\sklearn.py\u001b[0m in \u001b[0;36mbooster_\u001b[1;34m(self)\u001b[0m\n\u001b[0;32m    639\u001b[0m         \u001b[1;34m\"\"\"Get the underlying lightgbm Booster of this model.\"\"\"\u001b[0m\u001b[1;33m\u001b[0m\u001b[0m\n\u001b[0;32m    640\u001b[0m         \u001b[1;32mif\u001b[0m \u001b[0mself\u001b[0m\u001b[1;33m.\u001b[0m\u001b[0m_Booster\u001b[0m \u001b[1;32mis\u001b[0m \u001b[1;32mNone\u001b[0m\u001b[1;33m:\u001b[0m\u001b[1;33m\u001b[0m\u001b[0m\n\u001b[1;32m--> 641\u001b[1;33m             \u001b[1;32mraise\u001b[0m \u001b[0mLGBMNotFittedError\u001b[0m\u001b[1;33m(\u001b[0m\u001b[1;34m'No booster found. Need to call fit beforehand.'\u001b[0m\u001b[1;33m)\u001b[0m\u001b[1;33m\u001b[0m\u001b[0m\n\u001b[0m\u001b[0;32m    642\u001b[0m         \u001b[1;32mreturn\u001b[0m \u001b[0mself\u001b[0m\u001b[1;33m.\u001b[0m\u001b[0m_Booster\u001b[0m\u001b[1;33m\u001b[0m\u001b[0m\n\u001b[0;32m    643\u001b[0m \u001b[1;33m\u001b[0m\u001b[0m\n",
      "\u001b[1;31mNotFittedError\u001b[0m: No booster found. Need to call fit beforehand."
     ]
    }
   ],
   "source": [
    "explainer, shap_values = st.shap_shap(clf, x_valid)"
   ]
  },
  {
   "cell_type": "code",
   "execution_count": null,
   "metadata": {},
   "outputs": [],
   "source": [
    "shap.force_plot(explainer.expected_value, shap_values[5,:], x_valid.iloc[5,:])"
   ]
  },
  {
   "cell_type": "markdown",
   "metadata": {},
   "source": [
    "## Efectos Marginales"
   ]
  },
  {
   "cell_type": "code",
   "execution_count": null,
   "metadata": {},
   "outputs": [],
   "source": [
    "a = pd.DataFrame(clf.feature_importance(), index=x_valid.columns,\n",
    "             columns=['imp']).sort_values('imp')"
   ]
  },
  {
   "cell_type": "code",
   "execution_count": null,
   "metadata": {},
   "outputs": [],
   "source": [
    "for col in a.sort_values('imp',ascending=False).head(5).index:\n",
    "    shap.dependence_plot(col, shap_values, x_valid)"
   ]
  },
  {
   "cell_type": "markdown",
   "metadata": {},
   "source": [
    "# Check de pozos aleatorios"
   ]
  },
  {
   "cell_type": "code",
   "execution_count": null,
   "metadata": {},
   "outputs": [],
   "source": [
    "idx = df_train.Pozo.sample(10)"
   ]
  },
  {
   "cell_type": "code",
   "execution_count": null,
   "metadata": {},
   "outputs": [],
   "source": [
    "index = df_train[df_train.Pozo.isin(idx)].groupby(['Pozo','fecha_produccion']).Produccion_barriles_t.first().index"
   ]
  },
  {
   "cell_type": "code",
   "execution_count": null,
   "metadata": {},
   "outputs": [],
   "source": [
    "validacion = df_train[df_train.Pozo.isin(idx)].groupby(['Pozo','fecha_produccion']).Produccion_barriles_t.first().unstack(0)"
   ]
  },
  {
   "cell_type": "code",
   "execution_count": null,
   "metadata": {},
   "outputs": [],
   "source": [
    "prediction = clf.predict(df_train[df_train.Pozo.isin(idx)][num_cols])"
   ]
  },
  {
   "cell_type": "code",
   "execution_count": null,
   "metadata": {},
   "outputs": [],
   "source": [
    "prediccion_validacion = pd.DataFrame(prediction,columns=['prediction']).set_index(index).unstack(0)"
   ]
  },
  {
   "cell_type": "code",
   "execution_count": null,
   "metadata": {},
   "outputs": [],
   "source": [
    "ax = validacion.plot(figsize=(17,9),color='navy')\n",
    "prediccion_validacion.plot(ax = ax,color='cyan')"
   ]
  },
  {
   "cell_type": "code",
   "execution_count": null,
   "metadata": {},
   "outputs": [],
   "source": [
    "# pd.merge(validacion,prediccion_validacion,right_index=True, left_index=True).iplot()"
   ]
  },
  {
   "cell_type": "markdown",
   "metadata": {},
   "source": [
    "# Pozo promedio"
   ]
  },
  {
   "cell_type": "code",
   "execution_count": null,
   "metadata": {},
   "outputs": [],
   "source": [
    "preds = clf.predict(df_train[num_cols])\n",
    "real = df_train.Produccion_barriles_t"
   ]
  },
  {
   "cell_type": "code",
   "execution_count": null,
   "metadata": {},
   "outputs": [],
   "source": [
    "df_train['prediction'] = preds"
   ]
  },
  {
   "cell_type": "code",
   "execution_count": null,
   "metadata": {},
   "outputs": [],
   "source": [
    "df_train.groupby('fecha_produccion')[['Produccion_barriles_t','prediction']].mean().plot(\n",
    "    figsize=(15,6), title='Produccion promedio')\n",
    "plt.legend(['Produccion real', 'Produccion estimada'])"
   ]
  },
  {
   "cell_type": "markdown",
   "metadata": {},
   "source": [
    "# Pozo Tipo Promedio Base 0\n",
    "Seleccionar pozos que tengan al menos 10 anios de vida\n",
    "\n",
    "En promedio tienen 110 mediciones, es decir, al menos 9 anios de vida"
   ]
  },
  {
   "cell_type": "code",
   "execution_count": null,
   "metadata": {},
   "outputs": [],
   "source": [
    " df_train.groupby('Pozo').fecha_produccion.count().median()"
   ]
  },
  {
   "cell_type": "code",
   "execution_count": null,
   "metadata": {},
   "outputs": [],
   "source": [
    "pozos_vivos = df_train.groupby('Pozo').fecha_produccion.count()[df_train.groupby('Pozo').fecha_produccion.count() > 110].index"
   ]
  },
  {
   "cell_type": "code",
   "execution_count": null,
   "metadata": {},
   "outputs": [],
   "source": [
    "df_vivos = df_train[df_train.Pozo.isin(pozos_vivos)]"
   ]
  },
  {
   "cell_type": "code",
   "execution_count": null,
   "metadata": {},
   "outputs": [],
   "source": [
    "# ax = df_vivos.groupby('fecha_produccion')[['Qomes_b_t','prediction']].mean().plot(\n",
    "#     figsize=(15,6), title='Produccion promedio en un pozo tipo base 0',linewidth=4.0)\n",
    "\n",
    "# ax.fill_between(sorted(df_vivos.fecha_produccion.unique()), \n",
    "#                 df_vivos.groupby('fecha_produccion')['prediction'].mean(),\n",
    "#                 df_vivos.groupby('fecha_produccion')['prediction'].quantile(0.90),\n",
    "#                alpha=0.3, color='navy')\n",
    "\n",
    "# ax.fill_between(sorted(df_vivos.fecha_produccion.unique()), \n",
    "#                 df_vivos.groupby('fecha_produccion')['prediction'].quantile(0.10),\n",
    "#                 df_vivos.groupby('fecha_produccion')['prediction'].mean(),\n",
    "#                alpha=0.3, color='navy')\n",
    "\n",
    "# plt.legend(['Produccion real', 'Produccion estimada','quantil-90','quantil-10'])"
   ]
  },
  {
   "cell_type": "code",
   "execution_count": null,
   "metadata": {},
   "outputs": [],
   "source": [
    "df_vivos2 = df_vivos.groupby('fecha_produccion')[['Produccion_barriles_t','prediction']].mean()\n",
    "df_vivos2[\"Qomes_b_t_q90\"] = df_vivos.groupby('fecha_produccion')['Produccion_barriles_t'].quantile(0.90)\n",
    "df_vivos2[\"Qomes_b_t_q10\"] = df_vivos.groupby('fecha_produccion')['Produccion_barriles_t'].quantile(0.10)\n",
    "df_vivos2[\"prediccion_q90\"] = df_vivos.groupby('fecha_produccion')['prediction'].quantile(0.90)\n",
    "df_vivos2[\"prediccion_q10\"] = df_vivos.groupby('fecha_produccion')['prediction'].quantile(0.10)"
   ]
  },
  {
   "cell_type": "code",
   "execution_count": null,
   "metadata": {},
   "outputs": [],
   "source": [
    "# df_vivos2.columns = ['Produccion_promedio', 'prediction', 'prediccion_q90', 'prediccion_q10']"
   ]
  },
  {
   "cell_type": "code",
   "execution_count": null,
   "metadata": {},
   "outputs": [],
   "source": [
    "df_vivos2.iplot(title='Perfiles de pozos con su estimacion')"
   ]
  },
  {
   "cell_type": "markdown",
   "metadata": {},
   "source": [
    "# Generador de serie de tiempo"
   ]
  },
  {
   "cell_type": "code",
   "execution_count": null,
   "metadata": {},
   "outputs": [],
   "source": [
    "# from sklearn.externals import joblib\n",
    "\n",
    "# # load model\n",
    "# gbm_pickle = joblib.load('lgb.pkl')"
   ]
  },
  {
   "cell_type": "code",
   "execution_count": null,
   "metadata": {},
   "outputs": [],
   "source": [
    "# clf = gbm_pickle"
   ]
  },
  {
   "cell_type": "code",
   "execution_count": null,
   "metadata": {},
   "outputs": [],
   "source": [
    "num_cols"
   ]
  },
  {
   "cell_type": "code",
   "execution_count": null,
   "metadata": {},
   "outputs": [],
   "source": [
    "num_cols = ['Qomes_b_t_6', 'Qomes_b_t_5', 'Qomes_b_t_4', 'Qomes_b_t_3', 'Qomes_b_t_2', 'Qomes_b_t_1',\n",
    "            'diff_t_6_t_5', 'diff_t_5_t_4',\n",
    "            'diff_t_4_t_3', 'diff_t_3_t_2', 'diff_t_2_t_1', 'std_t_6_t_1', 'mean_t_6_t_1', \n",
    "            'median_t_6_t_1', 'min_t_6_t_1', \n",
    "            'max_t_6_t_1', 'month_1', 'month_2', 'month_3', 'month_4', 'month_5', 'month_6', \n",
    "            'month_7', 'month_8', 'month_9',\n",
    "            'month_10', 'month_11', 'month_12', \n",
    "            'detenido_mes_antes', 'cluster_0', 'cluster_1', 'cluster_2', 'cluster_3', 'cluster_4',\n",
    "            'cluster_5', 'latitud', 'longitud']"
   ]
  },
  {
   "cell_type": "code",
   "execution_count": null,
   "metadata": {},
   "outputs": [],
   "source": [
    "df_train.head()"
   ]
  },
  {
   "cell_type": "code",
   "execution_count": null,
   "metadata": {},
   "outputs": [],
   "source": [
    "df_simul = df_train[df_train.Pozo == 'MOLOACAN-836'].reset_index(drop=True)\n",
    "df_simul.drop(['Qomes_b_t_log','cluster'], 1, inplace=True)\n",
    "df_simul['y_real'] = df_simul.Qomes_b_t\n",
    "# se selecciono aleatoriamente"
   ]
  },
  {
   "cell_type": "code",
   "execution_count": null,
   "metadata": {},
   "outputs": [],
   "source": [
    "df_simul.columns"
   ]
  },
  {
   "cell_type": "code",
   "execution_count": null,
   "metadata": {},
   "outputs": [],
   "source": [
    "def gen_cols(df):\n",
    "    \n",
    "    df['diff_t_6_t_5'] = df['Qomes_b_t_6'] - df['Qomes_b_t_5']\n",
    "    df['diff_t_5_t_4'] = df['Qomes_b_t_5'] - df['Qomes_b_t_4']\n",
    "    df['diff_t_4_t_3'] = df['Qomes_b_t_4'] - df['Qomes_b_t_3']\n",
    "    df['diff_t_3_t_2'] = df['Qomes_b_t_3'] - df['Qomes_b_t_2']\n",
    "    df['diff_t_2_t_1'] = df['Qomes_b_t_2'] - df['Qomes_b_t_1']\n",
    "\n",
    "    df['std_t_6_t_1'] = df[['Qomes_b_t_6', 'Qomes_b_t_5', 'Qomes_b_t_4',\n",
    "                        'Qomes_b_t_3', 'Qomes_b_t_2', 'Qomes_b_t_1']].std(1)\n",
    "    df['mean_t_6_t_1'] = df[['Qomes_b_t_6', 'Qomes_b_t_5', 'Qomes_b_t_4',\n",
    "                        'Qomes_b_t_3', 'Qomes_b_t_2', 'Qomes_b_t_1']].mean(1)\n",
    "    df['median_t_6_t_1'] = df[['Qomes_b_t_6', 'Qomes_b_t_5', 'Qomes_b_t_4',\n",
    "                        'Qomes_b_t_3', 'Qomes_b_t_2', 'Qomes_b_t_1']].median(1)\n",
    "    df['min_t_6_t_1'] = df[['Qomes_b_t_6', 'Qomes_b_t_5', 'Qomes_b_t_4',\n",
    "                        'Qomes_b_t_3', 'Qomes_b_t_2', 'Qomes_b_t_1']].min(1) \n",
    "    df['max_t_6_t_1'] = df[['Qomes_b_t_6', 'Qomes_b_t_5', 'Qomes_b_t_4',\n",
    "                        'Qomes_b_t_3', 'Qomes_b_t_2', 'Qomes_b_t_1']].max(1)\n",
    "    return df"
   ]
  },
  {
   "cell_type": "code",
   "execution_count": null,
   "metadata": {},
   "outputs": [],
   "source": [
    "df_simulation = pd.DataFrame(df_simul.iloc[0]).T.reset_index(drop=True)\n",
    "df_simulation = df_simulation.append(df_simul.iloc[1])\n",
    "df_simulation.set_value(1,'Qomes_b_t', df_simulation.loc[0,'prediction'])\n"
   ]
  },
  {
   "cell_type": "code",
   "execution_count": null,
   "metadata": {},
   "outputs": [],
   "source": [
    "gen_cols(df_simulation)"
   ]
  },
  {
   "cell_type": "code",
   "execution_count": null,
   "metadata": {},
   "outputs": [],
   "source": [
    "df_simulation = df_simulation.append(df_simul.iloc[2])\n",
    "prediccion = clf.predict(df_simul.iloc[1:2][num_cols])[0]\n",
    "print('estimacion %1.3f' %prediccion)\n",
    "df_simulation.set_value(2,'Qomes_b_t', prediccion)\n",
    "df_simulation.set_value(2,'Qomes_b_t_1', df_simulation.loc[1,'Qomes_b_t'])\n",
    "df_simulation = gen_cols(df_simulation)"
   ]
  },
  {
   "cell_type": "code",
   "execution_count": null,
   "metadata": {},
   "outputs": [],
   "source": [
    "df_simulation"
   ]
  },
  {
   "cell_type": "code",
   "execution_count": null,
   "metadata": {},
   "outputs": [],
   "source": [
    "df_simulation = df_simulation.append(df_simul.iloc[3])\n",
    "prediccion = clf.predict(df_simul.iloc[2:3][num_cols])[0]\n",
    "print('estimacion %1.3f' %prediccion)\n",
    "df_simulation.set_value(3,'Qomes_b_t', prediccion)\n",
    "df_simulation.set_value(3,'Qomes_b_t_1', df_simulation.loc[2,'Qomes_b_t'])\n",
    "df_simulation.set_value(3,'Qomes_b_t_2', df_simulation.loc[2,'Qomes_b_t_1'])\n",
    "df_simulation = gen_cols(df_simulation)"
   ]
  },
  {
   "cell_type": "code",
   "execution_count": null,
   "metadata": {},
   "outputs": [],
   "source": [
    "df_simulation"
   ]
  },
  {
   "cell_type": "markdown",
   "metadata": {},
   "source": [
    "# Conjunto de validacion"
   ]
  },
  {
   "cell_type": "code",
   "execution_count": null,
   "metadata": {},
   "outputs": [],
   "source": [
    "y_valid.index.tolist()"
   ]
  },
  {
   "cell_type": "code",
   "execution_count": null,
   "metadata": {},
   "outputs": [],
   "source": []
  }
 ],
 "metadata": {
  "kernelspec": {
   "display_name": "Python 3",
   "language": "python",
   "name": "python3"
  },
  "language_info": {
   "codemirror_mode": {
    "name": "ipython",
    "version": 3
   },
   "file_extension": ".py",
   "mimetype": "text/x-python",
   "name": "python",
   "nbconvert_exporter": "python",
   "pygments_lexer": "ipython3",
   "version": "3.7.0"
  }
 },
 "nbformat": 4,
 "nbformat_minor": 2
}
