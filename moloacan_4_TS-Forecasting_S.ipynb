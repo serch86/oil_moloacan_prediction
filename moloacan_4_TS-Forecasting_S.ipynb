{
 "cells": [
  {
   "cell_type": "markdown",
   "metadata": {},
   "source": [
    "# Estimacion de produccion de Aceite"
   ]
  },
  {
   "cell_type": "code",
   "execution_count": 2,
   "metadata": {},
   "outputs": [],
   "source": [
    "import pandas as pd\n",
    "import numpy as np\n",
    "import matplotlib.pyplot as plt\n",
    "import seaborn as sns\n",
    "# import pandas_profiling\n",
    "\n",
    "font = {'family' : 'sans',\n",
    "        'weight' : 'bold',\n",
    "        'size'   : 20}\n",
    "plt.rc('font', **font)\n",
    "plt.rcParams['xtick.labelsize'] = 16\n",
    "plt.rcParams['ytick.labelsize'] = 16\n",
    "plt.rcParams[u'figure.figsize'] = (16,12)\n",
    "params = {'legend.fontsize': 'x-large',\n",
    "         'axes.labelsize': 'x-large',\n",
    "         }\n",
    "# plt.style.use('seaborn-poster')\n",
    "plt.style.use('ggplot')\n",
    "\n",
    "import sys\n",
    "sys.path.append('../serch_tools/')\n",
    "import serch_tools as st\n",
    "\n",
    "from pdpbox import pdp, info_plots\n",
    "from sklearn.cluster import KMeans\n",
    "import plotly\n",
    "import cufflinks"
   ]
  },
  {
   "cell_type": "code",
   "execution_count": 3,
   "metadata": {},
   "outputs": [],
   "source": [
    "# Modelos\n",
    "import lightgbm as lgb\n",
    "from sklearn.ensemble import GradientBoostingClassifier\n",
    "\n",
    "# metricas de evaluacion\n",
    "from sklearn.metrics import (roc_auc_score, classification_report, confusion_matrix,\n",
    "                            roc_curve, accuracy_score)\n",
    "# lo mismo pero en grafico\n",
    "import scikitplot as skplt\n",
    "\n",
    "# Interpretacion\n",
    "from sklearn.ensemble.partial_dependence import plot_partial_dependence\n",
    "import shap"
   ]
  },
  {
   "cell_type": "code",
   "execution_count": 4,
   "metadata": {},
   "outputs": [],
   "source": [
    "aforos = pd.read_csv(\"datos/aforos.csv\")\n",
    "analisis_fluidos = pd.read_csv(\"datos/Analisis_fluidos.csv\")\n",
    "columna_geologica = pd.read_csv('datos/columna_geologica.csv')\n",
    "eval_petrofisica = pd.read_csv('datos/eval_petrofisica.csv')\n",
    "intervalo_disparado = pd.read_csv('datos/IntervalosDisparados.csv')\n",
    "parametros_petrofisicos = pd.read_csv('datos/parametros_petrofisicos.csv')"
   ]
  },
  {
   "cell_type": "code",
   "execution_count": 5,
   "metadata": {},
   "outputs": [],
   "source": [
    "datos_generales_pozos = pd.read_csv('datos/datos_generales_de_pozos.csv')\n",
    "datos_generales_pozos['CLASIFICACION_LAHEE'] = datos_generales_pozos[\n",
    "    'CLASIFICACION_LAHEE'].str[:6] + datos_generales_pozos[\n",
    "    'CLASIFICACION_LAHEE'].str[8:]\n",
    "datos_generales_pozos['CLASIFICACION_LAHEE'] = datos_generales_pozos['CLASIFICACION_LAHEE'].str.replace(\"/\",\"-\")"
   ]
  },
  {
   "cell_type": "code",
   "execution_count": 6,
   "metadata": {},
   "outputs": [
    {
     "data": {
      "text/html": [
       "<div>\n",
       "<style scoped>\n",
       "    .dataframe tbody tr th:only-of-type {\n",
       "        vertical-align: middle;\n",
       "    }\n",
       "\n",
       "    .dataframe tbody tr th {\n",
       "        vertical-align: top;\n",
       "    }\n",
       "\n",
       "    .dataframe thead th {\n",
       "        text-align: right;\n",
       "    }\n",
       "</style>\n",
       "<table border=\"1\" class=\"dataframe\">\n",
       "  <thead>\n",
       "    <tr style=\"text-align: right;\">\n",
       "      <th></th>\n",
       "      <th>index</th>\n",
       "      <th>NOMBRE_DEL_POZO</th>\n",
       "      <th>CIMA_INTERVALO_(md)</th>\n",
       "      <th>BASE_INTERVALO_(md)</th>\n",
       "      <th>CONDICION_DE_FLUJO_(Fluyente/SAP)</th>\n",
       "      <th>FECHA_DE_LA_PRODUCCION_(dd/mm/aaaa)</th>\n",
       "      <th>RELACION_GAS_LIQUIDO_(m3/m3)</th>\n",
       "      <th>RELACION_GAS_ACEITE_(m3/m3)</th>\n",
       "      <th>CORTE_DE_AGUA_(bl/bl)</th>\n",
       "      <th>SALINIDAD_(PPM)</th>\n",
       "      <th>...</th>\n",
       "      <th>RELACION_CONDENSADO_GAS_(m3/m3)</th>\n",
       "      <th>RELACION_AGUA_GAS_(m3/m3)</th>\n",
       "      <th>RELACION_AGUA_CONDENSADO_(m3/m3)</th>\n",
       "      <th>FRACCION_DEL_SEDIMENTO</th>\n",
       "      <th>DIAMETRO_DEL_ESTRANGULADOR _(in)</th>\n",
       "      <th>VOLUMEN_DE_ACEITE_(m3)</th>\n",
       "      <th>VOLUMEN_DE_GAS_(m3)</th>\n",
       "      <th>VOLUMEN_DE_CONDENSADO_(m3)</th>\n",
       "      <th>DIAS_DE_PRODUCCION</th>\n",
       "      <th>DESCRIPCION_DE_LA_PRODUCCION</th>\n",
       "    </tr>\n",
       "  </thead>\n",
       "  <tbody>\n",
       "    <tr>\n",
       "      <th>0</th>\n",
       "      <td>0</td>\n",
       "      <td>MOLOACAN-102A</td>\n",
       "      <td>SIN INFORMACION</td>\n",
       "      <td>SIN INFORMACION</td>\n",
       "      <td>SAP</td>\n",
       "      <td>01/10/2013</td>\n",
       "      <td>101.175571</td>\n",
       "      <td>203.152074</td>\n",
       "      <td>50.205197</td>\n",
       "      <td>SIN INFORMACION</td>\n",
       "      <td>...</td>\n",
       "      <td>NO APLICA</td>\n",
       "      <td>0.004962</td>\n",
       "      <td>NO APLICA</td>\n",
       "      <td>NO APLICA</td>\n",
       "      <td>NO APLICA</td>\n",
       "      <td>31.803914</td>\n",
       "      <td>6462.078342</td>\n",
       "      <td>NO APLICA</td>\n",
       "      <td>31</td>\n",
       "      <td>SIN INFORMACION</td>\n",
       "    </tr>\n",
       "    <tr>\n",
       "      <th>1</th>\n",
       "      <td>1</td>\n",
       "      <td>MOLOACAN-102A</td>\n",
       "      <td>SIN INFORMACION</td>\n",
       "      <td>SIN INFORMACION</td>\n",
       "      <td>SAP</td>\n",
       "      <td>01/11/2013</td>\n",
       "      <td>100.298703</td>\n",
       "      <td>203.279313</td>\n",
       "      <td>50.667656</td>\n",
       "      <td>SIN INFORMACION</td>\n",
       "      <td>...</td>\n",
       "      <td>NO APLICA</td>\n",
       "      <td>0.005052</td>\n",
       "      <td>NO APLICA</td>\n",
       "      <td>NO APLICA</td>\n",
       "      <td>NO APLICA</td>\n",
       "      <td>29.536942</td>\n",
       "      <td>6005.222347</td>\n",
       "      <td>NO APLICA</td>\n",
       "      <td>30</td>\n",
       "      <td>SIN INFORMACION</td>\n",
       "    </tr>\n",
       "    <tr>\n",
       "      <th>2</th>\n",
       "      <td>2</td>\n",
       "      <td>MOLOACAN-102A</td>\n",
       "      <td>SIN INFORMACION</td>\n",
       "      <td>SIN INFORMACION</td>\n",
       "      <td>SAP</td>\n",
       "      <td>01/12/2013</td>\n",
       "      <td>101.159166</td>\n",
       "      <td>203.859067</td>\n",
       "      <td>50.385933</td>\n",
       "      <td>SIN INFORMACION</td>\n",
       "      <td>...</td>\n",
       "      <td>NO APLICA</td>\n",
       "      <td>0.004981</td>\n",
       "      <td>NO APLICA</td>\n",
       "      <td>NO APLICA</td>\n",
       "      <td>NO APLICA</td>\n",
       "      <td>30.852725</td>\n",
       "      <td>6290.627114</td>\n",
       "      <td>NO APLICA</td>\n",
       "      <td>31</td>\n",
       "      <td>SIN INFORMACION</td>\n",
       "    </tr>\n",
       "    <tr>\n",
       "      <th>3</th>\n",
       "      <td>3</td>\n",
       "      <td>MOLOACAN-102A</td>\n",
       "      <td>SIN INFORMACION</td>\n",
       "      <td>SIN INFORMACION</td>\n",
       "      <td>SAP</td>\n",
       "      <td>01/01/2014</td>\n",
       "      <td>101.316590</td>\n",
       "      <td>203.424976</td>\n",
       "      <td>50.202687</td>\n",
       "      <td>SIN INFORMACION</td>\n",
       "      <td>...</td>\n",
       "      <td>NO APLICA</td>\n",
       "      <td>0.004955</td>\n",
       "      <td>NO APLICA</td>\n",
       "      <td>NO APLICA</td>\n",
       "      <td>NO APLICA</td>\n",
       "      <td>31.774044</td>\n",
       "      <td>6464.681785</td>\n",
       "      <td>NO APLICA</td>\n",
       "      <td>31</td>\n",
       "      <td>SIN INFORMACION</td>\n",
       "    </tr>\n",
       "    <tr>\n",
       "      <th>4</th>\n",
       "      <td>4</td>\n",
       "      <td>MOLOACAN-102A</td>\n",
       "      <td>SIN INFORMACION</td>\n",
       "      <td>SIN INFORMACION</td>\n",
       "      <td>SAP</td>\n",
       "      <td>01/02/2014</td>\n",
       "      <td>101.316590</td>\n",
       "      <td>203.424976</td>\n",
       "      <td>50.202687</td>\n",
       "      <td>SIN INFORMACION</td>\n",
       "      <td>...</td>\n",
       "      <td>NO APLICA</td>\n",
       "      <td>0.004955</td>\n",
       "      <td>NO APLICA</td>\n",
       "      <td>NO APLICA</td>\n",
       "      <td>NO APLICA</td>\n",
       "      <td>28.699137</td>\n",
       "      <td>5839.067419</td>\n",
       "      <td>NO APLICA</td>\n",
       "      <td>28</td>\n",
       "      <td>SIN INFORMACION</td>\n",
       "    </tr>\n",
       "  </tbody>\n",
       "</table>\n",
       "<p>5 rows × 21 columns</p>\n",
       "</div>"
      ],
      "text/plain": [
       "   index NOMBRE_DEL_POZO CIMA_INTERVALO_(md) BASE_INTERVALO_(md)  \\\n",
       "0      0   MOLOACAN-102A     SIN INFORMACION     SIN INFORMACION   \n",
       "1      1   MOLOACAN-102A     SIN INFORMACION     SIN INFORMACION   \n",
       "2      2   MOLOACAN-102A     SIN INFORMACION     SIN INFORMACION   \n",
       "3      3   MOLOACAN-102A     SIN INFORMACION     SIN INFORMACION   \n",
       "4      4   MOLOACAN-102A     SIN INFORMACION     SIN INFORMACION   \n",
       "\n",
       "  CONDICION_DE_FLUJO_(Fluyente/SAP) FECHA_DE_LA_PRODUCCION_(dd/mm/aaaa)  \\\n",
       "0                               SAP                          01/10/2013   \n",
       "1                               SAP                          01/11/2013   \n",
       "2                               SAP                          01/12/2013   \n",
       "3                               SAP                          01/01/2014   \n",
       "4                               SAP                          01/02/2014   \n",
       "\n",
       "   RELACION_GAS_LIQUIDO_(m3/m3)  RELACION_GAS_ACEITE_(m3/m3)  \\\n",
       "0                    101.175571                   203.152074   \n",
       "1                    100.298703                   203.279313   \n",
       "2                    101.159166                   203.859067   \n",
       "3                    101.316590                   203.424976   \n",
       "4                    101.316590                   203.424976   \n",
       "\n",
       "   CORTE_DE_AGUA_(bl/bl)  SALINIDAD_(PPM)              ...                \\\n",
       "0              50.205197  SIN INFORMACION              ...                 \n",
       "1              50.667656  SIN INFORMACION              ...                 \n",
       "2              50.385933  SIN INFORMACION              ...                 \n",
       "3              50.202687  SIN INFORMACION              ...                 \n",
       "4              50.202687  SIN INFORMACION              ...                 \n",
       "\n",
       "   RELACION_CONDENSADO_GAS_(m3/m3) RELACION_AGUA_GAS_(m3/m3)  \\\n",
       "0                        NO APLICA                  0.004962   \n",
       "1                        NO APLICA                  0.005052   \n",
       "2                        NO APLICA                  0.004981   \n",
       "3                        NO APLICA                  0.004955   \n",
       "4                        NO APLICA                  0.004955   \n",
       "\n",
       "   RELACION_AGUA_CONDENSADO_(m3/m3) FRACCION_DEL_SEDIMENTO  \\\n",
       "0                         NO APLICA              NO APLICA   \n",
       "1                         NO APLICA              NO APLICA   \n",
       "2                         NO APLICA              NO APLICA   \n",
       "3                         NO APLICA              NO APLICA   \n",
       "4                         NO APLICA              NO APLICA   \n",
       "\n",
       "  DIAMETRO_DEL_ESTRANGULADOR _(in) VOLUMEN_DE_ACEITE_(m3)  \\\n",
       "0                        NO APLICA              31.803914   \n",
       "1                        NO APLICA              29.536942   \n",
       "2                        NO APLICA              30.852725   \n",
       "3                        NO APLICA              31.774044   \n",
       "4                        NO APLICA              28.699137   \n",
       "\n",
       "   VOLUMEN_DE_GAS_(m3)  VOLUMEN_DE_CONDENSADO_(m3) DIAS_DE_PRODUCCION   \\\n",
       "0          6462.078342                   NO APLICA                  31   \n",
       "1          6005.222347                   NO APLICA                  30   \n",
       "2          6290.627114                   NO APLICA                  31   \n",
       "3          6464.681785                   NO APLICA                  31   \n",
       "4          5839.067419                   NO APLICA                  28   \n",
       "\n",
       "   DESCRIPCION_DE_LA_PRODUCCION   \n",
       "0                SIN INFORMACION  \n",
       "1                SIN INFORMACION  \n",
       "2                SIN INFORMACION  \n",
       "3                SIN INFORMACION  \n",
       "4                SIN INFORMACION  \n",
       "\n",
       "[5 rows x 21 columns]"
      ]
     },
     "execution_count": 6,
     "metadata": {},
     "output_type": "execute_result"
    }
   ],
   "source": [
    "prod_mens = pd.read_csv('datos/produccion_mensual.csv')\n",
    "prod_mens.head()"
   ]
  },
  {
   "cell_type": "code",
   "execution_count": 7,
   "metadata": {},
   "outputs": [
    {
     "data": {
      "text/plain": [
       "Index(['index', 'NOMBRE_DEL_POZO', 'CIMA_INTERVALO_(md)',\n",
       "       'BASE_INTERVALO_(md)', 'CONDICION_DE_FLUJO_(Fluyente/SAP)',\n",
       "       'FECHA_DE_LA_PRODUCCION_(dd/mm/aaaa)', 'RELACION_GAS_LIQUIDO_(m3/m3)',\n",
       "       'RELACION_GAS_ACEITE_(m3/m3)', 'CORTE_DE_AGUA_(bl/bl)',\n",
       "       'SALINIDAD_(PPM)', 'RELACION_AGUA_ACEITE_(m3/m3)',\n",
       "       'RELACION_CONDENSADO_GAS_(m3/m3)', 'RELACION_AGUA_GAS_(m3/m3)',\n",
       "       'RELACION_AGUA_CONDENSADO_(m3/m3)', 'FRACCION_DEL_SEDIMENTO',\n",
       "       'DIAMETRO_DEL_ESTRANGULADOR _(in)', 'VOLUMEN_DE_ACEITE_(m3)',\n",
       "       'VOLUMEN_DE_GAS_(m3)', 'VOLUMEN_DE_CONDENSADO_(m3)',\n",
       "       'DIAS_DE_PRODUCCION ', 'DESCRIPCION_DE_LA_PRODUCCION '],\n",
       "      dtype='object')"
      ]
     },
     "execution_count": 7,
     "metadata": {},
     "output_type": "execute_result"
    }
   ],
   "source": [
    "prod_mens.columns"
   ]
  },
  {
   "cell_type": "code",
   "execution_count": 8,
   "metadata": {},
   "outputs": [
    {
     "data": {
      "text/plain": [
       "121.0"
      ]
     },
     "execution_count": 8,
     "metadata": {},
     "output_type": "execute_result"
    }
   ],
   "source": [
    "prod_mens.groupby(['NOMBRE_DEL_POZO'])['FECHA_DE_LA_PRODUCCION_(dd/mm/aaaa)'].count().median()"
   ]
  },
  {
   "cell_type": "code",
   "execution_count": 9,
   "metadata": {},
   "outputs": [],
   "source": [
    "prod_mens['fecha_produccion'] = pd.to_datetime(prod_mens['FECHA_DE_LA_PRODUCCION_(dd/mm/aaaa)'], \n",
    "                                               format=\"%d/%m/%Y\")"
   ]
  },
  {
   "cell_type": "code",
   "execution_count": 10,
   "metadata": {},
   "outputs": [
    {
     "data": {
      "text/plain": [
       "count                   20821\n",
       "unique                    187\n",
       "top       1999-01-01 00:00:00\n",
       "freq                      156\n",
       "first     1999-01-01 00:00:00\n",
       "last      2014-07-01 00:00:00\n",
       "Name: fecha_produccion, dtype: object"
      ]
     },
     "execution_count": 10,
     "metadata": {},
     "output_type": "execute_result"
    }
   ],
   "source": [
    "prod_mens['fecha_produccion'].describe()"
   ]
  },
  {
   "cell_type": "markdown",
   "metadata": {},
   "source": [
    "En algunos posos tenemos un historico de 1999 hasta 2014"
   ]
  },
  {
   "cell_type": "markdown",
   "metadata": {},
   "source": [
    "# Tabla DB_produccion_Moloacan\n",
    "\n",
    "Tabla con historico de produccion en unidades de barriles mensuales\n",
    "\n",
    "    Fecha - Fecha de registro\n",
    "    Pozo -  Nombre del pozo\n",
    "    Dias - Numero de dias del mes en curso\n",
    "    Qo_mes_b - Numero de Barriles de Oil mensuales\n",
    "    Qo_prom_mesbd - Promedio de barriles diarios Qo_mes_b / Dias\n",
    "    Qg_mes_MMpc - \n",
    "    Qg_prom_mes_MMpcd - Qg_mes_MMpc / Dias\n",
    "    Qw_mes_b - Numero de barriles de agua mensual\n",
    "    Qw_prom_mes_bd - Promedio de barriles mensuales de agua  Qw_mes_b / Dias\n",
    "    Fw_% - Porcentaje de Agua\n",
    "    RGA_m3/m3 - Relacion Gas Aceite\n",
    "    Dias_de_Operacion - Dias que estuvo operando la plataforma"
   ]
  },
  {
   "cell_type": "code",
   "execution_count": 11,
   "metadata": {},
   "outputs": [],
   "source": [
    "db_prod_mol = pd.read_csv('datos/DB_prod_moloacan.csv')\n",
    "db_prod_mol.columns = db_prod_mol.columns.str.replace(\" \",\"_\").str.replace(\n",
    "    \"(\",\"\").str.replace(\")\",\"\").str.replace(\".\",\"\").str.replace('á',\"a\").str.replace('é',\"e\").str.replace(\n",
    "    'í',\"i\").str.replace('ó',\"o\").str.replace('ú',\"u\")\n",
    "# transfromaciones\n",
    "db_prod_mol['Qo_mes_b'] = db_prod_mol['Qo_mes_b'].str.replace(',', '').astype(float)\n",
    "db_prod_mol['Qw_mes_b'] = db_prod_mol['Qw_mes_b'].str.replace(',', '').astype(float)\n",
    "db_prod_mol['RGA_m3/m3'] = db_prod_mol['RGA_m3/m3'].str.replace(',', '').astype(float)\n",
    "db_prod_mol[\"Pozo\"] = db_prod_mol.Pozo.str.replace(\"Á\",\"A\")"
   ]
  },
  {
   "cell_type": "code",
   "execution_count": 12,
   "metadata": {},
   "outputs": [
    {
     "data": {
      "text/plain": [
       "Index(['Fecha', 'Pozo', 'Dias', 'Qo_mes_b', 'Qo_prom_mesbd', 'Qg_mes_MMpc',\n",
       "       'Qg_prom_mes_MMpcd', 'Qw_mes_b', 'Qw_prom_mes_bd', 'Fw_%', 'RGA_m3/m3',\n",
       "       'Dias_de_Operacion'],\n",
       "      dtype='object')"
      ]
     },
     "execution_count": 12,
     "metadata": {},
     "output_type": "execute_result"
    }
   ],
   "source": [
    "db_prod_mol.columns"
   ]
  },
  {
   "cell_type": "code",
   "execution_count": 13,
   "metadata": {},
   "outputs": [],
   "source": [
    "db_prod_mol['fecha_produccion'] = pd.to_datetime(db_prod_mol.Fecha, format=\"%d/%m/%Y\")"
   ]
  },
  {
   "cell_type": "code",
   "execution_count": 14,
   "metadata": {},
   "outputs": [
    {
     "name": "stdout",
     "output_type": "stream",
     "text": [
      "<class 'pandas.core.frame.DataFrame'>\n",
      "RangeIndex: 20886 entries, 0 to 20885\n",
      "Data columns (total 13 columns):\n",
      "Fecha                20886 non-null object\n",
      "Pozo                 20886 non-null object\n",
      "Dias                 20886 non-null int64\n",
      "Qo_mes_b             20886 non-null float64\n",
      "Qo_prom_mesbd        20886 non-null float64\n",
      "Qg_mes_MMpc          20886 non-null float64\n",
      "Qg_prom_mes_MMpcd    20886 non-null float64\n",
      "Qw_mes_b             20886 non-null float64\n",
      "Qw_prom_mes_bd       20886 non-null float64\n",
      "Fw_%                 20886 non-null float64\n",
      "RGA_m3/m3            20886 non-null float64\n",
      "Dias_de_Operacion    20886 non-null int64\n",
      "fecha_produccion     20886 non-null datetime64[ns]\n",
      "dtypes: datetime64[ns](1), float64(8), int64(2), object(2)\n",
      "memory usage: 2.1+ MB\n"
     ]
    }
   ],
   "source": [
    "db_prod_mol.info()"
   ]
  },
  {
   "cell_type": "markdown",
   "metadata": {},
   "source": [
    "# Se estimara el numero de barriles mensuales\n",
    "\n",
    "Se generan variables que expliquen la produccion en $P(t)$ con un historico de 6 meses con variables como $P(t-1), P(t-2), P(t-3)$\n",
    "\n",
    "Se estima\n",
    "$P(t) = \\alpha + \\beta_1 P(t-1)+ \\beta_1 P(t-2)+ \\beta_1 P(t-3)+ \\beta_1 P(t-4)+ \\beta_1 P(t-5)+ \\beta_1 P(t-6) + \\epsilon$"
   ]
  },
  {
   "cell_type": "code",
   "execution_count": 15,
   "metadata": {},
   "outputs": [],
   "source": [
    "# tabla (t-6)\n",
    "t = db_prod_mol.groupby(['Pozo','fecha_produccion']).Qo_mes_b.first()\n",
    "\n",
    "# tabla (t - 5)\n",
    "t_1 = db_prod_mol.groupby(['Pozo','fecha_produccion']).Qo_mes_b.first().shift(-1)\n",
    "\n",
    "# tabla (t -4)\n",
    "t_2 = db_prod_mol.groupby(['Pozo','fecha_produccion']).Qo_mes_b.first().shift(-2)\n",
    "\n",
    "# tabla (t - 3)\n",
    "t_3 = db_prod_mol.groupby(['Pozo','fecha_produccion']).Qo_mes_b.first().shift(-3)\n",
    "\n",
    "# tabla (t - 2)\n",
    "t_4 = db_prod_mol.groupby(['Pozo','fecha_produccion']).Qo_mes_b.first().shift(-4)\n",
    "\n",
    "# tabla (t -1)\n",
    "t_5 = db_prod_mol.groupby(['Pozo','fecha_produccion']).Qo_mes_b.first().shift(-5)\n",
    "\n",
    "# tabla (t) variable a estimar\n",
    "t_6 = db_prod_mol.groupby(['Pozo','fecha_produccion']).Qo_mes_b.first().shift(-6)\n",
    "\n",
    "# tabla (t + 1) se genera para quitar picos abajo o rellenarlo con media movil\n",
    "t_7 = db_prod_mol.groupby(['Pozo','fecha_produccion']).Qo_mes_b.first().shift(-7)"
   ]
  },
  {
   "cell_type": "markdown",
   "metadata": {},
   "source": [
    "Variables de produccion anterior, pensando que produciran semejante al mes anterior"
   ]
  },
  {
   "cell_type": "code",
   "execution_count": 16,
   "metadata": {},
   "outputs": [],
   "source": [
    "df = pd.concat([t,t_1,t_2,t_3,t_4,t_5,t_6],1).dropna()\n",
    "df.columns = ['Produccion_barriles_t_6','Produccion_barriles_t_5','Produccion_barriles_t_4',\n",
    "              'Produccion_barriles_t_3','Produccion_barriles_t_2','Produccion_barriles_t_1',\n",
    "              'Produccion_barriles_t']"
   ]
  },
  {
   "cell_type": "code",
   "execution_count": 17,
   "metadata": {},
   "outputs": [],
   "source": [
    "df = pd.concat([df,t_7],1)\n",
    "df.columns = ['Produccion_barriles_t_6','Produccion_barriles_t_5','Produccion_barriles_t_4',\n",
    "              'Produccion_barriles_t_3','Produccion_barriles_t_2','Produccion_barriles_t_1',\n",
    "              'Produccion_barriles_t','Produccion_barriles_t_mas_1']"
   ]
  },
  {
   "cell_type": "code",
   "execution_count": 18,
   "metadata": {},
   "outputs": [
    {
     "data": {
      "text/plain": [
       "(20886, 8)"
      ]
     },
     "execution_count": 18,
     "metadata": {},
     "output_type": "execute_result"
    }
   ],
   "source": [
    "df.shape # numero de registros"
   ]
  },
  {
   "cell_type": "code",
   "execution_count": 19,
   "metadata": {},
   "outputs": [],
   "source": [
    "df['diff_t_6_t_5'] = df.Produccion_barriles_t_6 - df.Produccion_barriles_t_5\n",
    "df['diff_t_5_t_4'] = df.Produccion_barriles_t_5 - df.Produccion_barriles_t_4\n",
    "df['diff_t_4_t_3'] = df.Produccion_barriles_t_4 - df.Produccion_barriles_t_3\n",
    "df['diff_t_3_t_2'] = df.Produccion_barriles_t_3 - df.Produccion_barriles_t_2\n",
    "df['diff_t_2_t_1'] = df.Produccion_barriles_t_2 - df.Produccion_barriles_t_1\n",
    "\n",
    "df['diff_t_6_t_1'] = df.Produccion_barriles_t_6 - df.Produccion_barriles_t_1\n",
    "df['diff_t_5_t_1'] = df.Produccion_barriles_t_5 - df.Produccion_barriles_t_1\n",
    "df['diff_t_4_t_1'] = df.Produccion_barriles_t_4 - df.Produccion_barriles_t_1\n",
    "df['diff_t_3_t_1'] = df.Produccion_barriles_t_3 - df.Produccion_barriles_t_1\n",
    "\n",
    "df['aceleracion_de_produccion _t3t2_t2t1'] = df['diff_t_3_t_2'] - df['diff_t_2_t_1']\n",
    "df['aceleracion_de_produccion _t4t3_t2t1'] = df['diff_t_4_t_3'] - df['diff_t_2_t_1']"
   ]
  },
  {
   "cell_type": "code",
   "execution_count": 20,
   "metadata": {},
   "outputs": [
    {
     "data": {
      "text/plain": [
       "Index(['Produccion_barriles_t_6', 'Produccion_barriles_t_5',\n",
       "       'Produccion_barriles_t_4', 'Produccion_barriles_t_3',\n",
       "       'Produccion_barriles_t_2', 'Produccion_barriles_t_1',\n",
       "       'Produccion_barriles_t', 'Produccion_barriles_t_mas_1', 'diff_t_6_t_5',\n",
       "       'diff_t_5_t_4', 'diff_t_4_t_3', 'diff_t_3_t_2', 'diff_t_2_t_1',\n",
       "       'diff_t_6_t_1', 'diff_t_5_t_1', 'diff_t_4_t_1', 'diff_t_3_t_1',\n",
       "       'aceleracion_de_produccion _t3t2_t2t1',\n",
       "       'aceleracion_de_produccion _t4t3_t2t1'],\n",
       "      dtype='object')"
      ]
     },
     "execution_count": 20,
     "metadata": {},
     "output_type": "execute_result"
    }
   ],
   "source": [
    "df.columns"
   ]
  },
  {
   "cell_type": "markdown",
   "metadata": {},
   "source": [
    "Variables de diferencia entre periodos, como una velocidad de produccion entre un mes y otro."
   ]
  },
  {
   "cell_type": "code",
   "execution_count": 21,
   "metadata": {},
   "outputs": [],
   "source": [
    "# desviacion estandar\n",
    "df['std_t_6_t_1'] = df[['Produccion_barriles_t_6', 'Produccion_barriles_t_5',\n",
    "       'Produccion_barriles_t_4', 'Produccion_barriles_t_3',\n",
    "       'Produccion_barriles_t_2', 'Produccion_barriles_t_1']].std(1)\n",
    "# mediana\n",
    "df['median_t_6_t_1'] = df[['Produccion_barriles_t_6', 'Produccion_barriles_t_5',\n",
    "       'Produccion_barriles_t_4', 'Produccion_barriles_t_3',\n",
    "       'Produccion_barriles_t_2', 'Produccion_barriles_t_1']].median(1)\n",
    "# minimo\n",
    "df['min_t_6_t_1'] = df[['Produccion_barriles_t_6', 'Produccion_barriles_t_5',\n",
    "       'Produccion_barriles_t_4', 'Produccion_barriles_t_3',\n",
    "       'Produccion_barriles_t_2', 'Produccion_barriles_t_1']].min(1)\n",
    "#quantiles\n",
    "df['q75_t_6_t_1'] = df[['Produccion_barriles_t_6', 'Produccion_barriles_t_5',\n",
    "       'Produccion_barriles_t_4', 'Produccion_barriles_t_3',\n",
    "       'Produccion_barriles_t_2', 'Produccion_barriles_t_1']].quantile(0.75,axis=1)\n",
    "df['q25_t_6_t_1'] = df[['Produccion_barriles_t_6', 'Produccion_barriles_t_5',\n",
    "       'Produccion_barriles_t_4', 'Produccion_barriles_t_3',\n",
    "       'Produccion_barriles_t_2', 'Produccion_barriles_t_1']].quantile(0.25,axis=1)\n",
    "df['q90_t_6_t_1'] = df[['Produccion_barriles_t_6', 'Produccion_barriles_t_5',\n",
    "       'Produccion_barriles_t_4', 'Produccion_barriles_t_3',\n",
    "       'Produccion_barriles_t_2', 'Produccion_barriles_t_1']].quantile(0.90,axis=1)\n",
    "df['q10_t_6_t_1'] = df[['Produccion_barriles_t_6', 'Produccion_barriles_t_5',\n",
    "       'Produccion_barriles_t_4', 'Produccion_barriles_t_3',\n",
    "       'Produccion_barriles_t_2', 'Produccion_barriles_t_1']].quantile(0.10,axis=1)\n",
    "#maximo\n",
    "df['max_t_6_t_1'] = df[['Produccion_barriles_t_6', 'Produccion_barriles_t_5',\n",
    "       'Produccion_barriles_t_4', 'Produccion_barriles_t_3',\n",
    "       'Produccion_barriles_t_2', 'Produccion_barriles_t_1']].max(1)\n",
    "\n",
    "#rango\n",
    "df['rango_t6_t1'] = df['max_t_6_t_1'] - df['min_t_6_t_1']"
   ]
  },
  {
   "cell_type": "markdown",
   "metadata": {},
   "source": [
    "Variables estadisticas sobre el historico de 6 meses.\n",
    "+ std si varia mucho puede que ayude a predecir la produccion\n",
    "+ median, mean es probable que produzca al menos el promedio que ha producido antes\n",
    "+ min Si ya paso por un bache de produccion puede indicarnos si seguira ahi... NO ESTOY SEGURO\n",
    "+ max Si esta en un pico de produccion o ya lo paso, al menos no va a sobrepasar este valor\n",
    "+  rango Acota la produccion esperada para no sobreestimar\n",
    "+ quantiles en 6 meses"
   ]
  },
  {
   "cell_type": "code",
   "execution_count": 22,
   "metadata": {},
   "outputs": [],
   "source": [
    "# medias moviles\n",
    "df['media_movil_t_2_t_1'] = df[['Produccion_barriles_t_2', 'Produccion_barriles_t_1']].mean(1)\n",
    "df['media_movil_t_3_t_1'] = df[[ 'Produccion_barriles_t_3',\n",
    "                                'Produccion_barriles_t_2', 'Produccion_barriles_t_1']].mean(1)\n",
    "df['media_movil_t_4_t_1'] = df[['Produccion_barriles_t_4', 'Produccion_barriles_t_3',\n",
    "                               'Produccion_barriles_t_2', 'Produccion_barriles_t_1']].mean(1)\n",
    "df['media_movil_t_5_t_1'] = df[['Produccion_barriles_t_5',\n",
    "                               'Produccion_barriles_t_4', 'Produccion_barriles_t_3',\n",
    "                               'Produccion_barriles_t_2', 'Produccion_barriles_t_1']].mean(1)\n",
    "\n",
    "df['media_movil_t_6_t_1'] = df[['Produccion_barriles_t_6', 'Produccion_barriles_t_5',\n",
    "                               'Produccion_barriles_t_4', 'Produccion_barriles_t_3',\n",
    "                               'Produccion_barriles_t_2', 'Produccion_barriles_t_1']].mean(1)"
   ]
  },
  {
   "cell_type": "markdown",
   "metadata": {},
   "source": [
    "Se crean variables de medias moviles"
   ]
  },
  {
   "cell_type": "code",
   "execution_count": 23,
   "metadata": {},
   "outputs": [
    {
     "data": {
      "text/html": [
       "[['Produccion_barriles_t_1', 'Produccion_barriles_t', 'Produccion_barriles_t_mas_1', 'std_t_6_t_1']]"
      ],
      "text/plain": [
       "[['Produccion_barriles_t_1',\n",
       "  'Produccion_barriles_t',\n",
       "  'Produccion_barriles_t_mas_1',\n",
       "  'std_t_6_t_1']]"
      ]
     },
     "execution_count": 23,
     "metadata": {},
     "output_type": "execute_result"
    }
   ],
   "source": [
    "[['Produccion_barriles_t_1','Produccion_barriles_t','Produccion_barriles_t_mas_1','std_t_6_t_1']]"
   ]
  },
  {
   "cell_type": "code",
   "execution_count": 24,
   "metadata": {},
   "outputs": [],
   "source": [
    "df['dummi_pico_bajo'] = np.where(df.media_movil_t_6_t_1 - 5*df.std_t_6_t_1 > df.Produccion_barriles_t,1,0)"
   ]
  },
  {
   "cell_type": "code",
   "execution_count": 25,
   "metadata": {},
   "outputs": [
    {
     "data": {
      "text/html": [
       "<div>\n",
       "<style scoped>\n",
       "    .dataframe tbody tr th:only-of-type {\n",
       "        vertical-align: middle;\n",
       "    }\n",
       "\n",
       "    .dataframe tbody tr th {\n",
       "        vertical-align: top;\n",
       "    }\n",
       "\n",
       "    .dataframe thead th {\n",
       "        text-align: right;\n",
       "    }\n",
       "</style>\n",
       "<table border=\"1\" class=\"dataframe\">\n",
       "  <thead>\n",
       "    <tr style=\"text-align: right;\">\n",
       "      <th></th>\n",
       "      <th></th>\n",
       "      <th>Produccion_barriles_t_1</th>\n",
       "      <th>Produccion_barriles_t</th>\n",
       "      <th>Produccion_barriles_t_mas_1</th>\n",
       "      <th>std_t_6_t_1</th>\n",
       "      <th>media_movil_t_6_t_1</th>\n",
       "    </tr>\n",
       "    <tr>\n",
       "      <th>Pozo</th>\n",
       "      <th>fecha_produccion</th>\n",
       "      <th></th>\n",
       "      <th></th>\n",
       "      <th></th>\n",
       "      <th></th>\n",
       "      <th></th>\n",
       "    </tr>\n",
       "  </thead>\n",
       "  <tbody>\n",
       "    <tr>\n",
       "      <th>MOLOACAN-1004</th>\n",
       "      <th>2004-08-01</th>\n",
       "      <td>194.98</td>\n",
       "      <td>157.25</td>\n",
       "      <td>147.68</td>\n",
       "      <td>5.215265</td>\n",
       "      <td>190.136667</td>\n",
       "    </tr>\n",
       "    <tr>\n",
       "      <th rowspan=\"4\" valign=\"top\">MOLOACAN-102D</th>\n",
       "      <th>1999-06-01</th>\n",
       "      <td>278.20</td>\n",
       "      <td>137.72</td>\n",
       "      <td>158.48</td>\n",
       "      <td>19.174908</td>\n",
       "      <td>289.156667</td>\n",
       "    </tr>\n",
       "    <tr>\n",
       "      <th>2001-08-01</th>\n",
       "      <td>353.60</td>\n",
       "      <td>295.96</td>\n",
       "      <td>365.47</td>\n",
       "      <td>9.395236</td>\n",
       "      <td>343.876667</td>\n",
       "    </tr>\n",
       "    <tr>\n",
       "      <th>2002-03-01</th>\n",
       "      <td>343.05</td>\n",
       "      <td>100.67</td>\n",
       "      <td>171.54</td>\n",
       "      <td>16.882444</td>\n",
       "      <td>346.775000</td>\n",
       "    </tr>\n",
       "    <tr>\n",
       "      <th>2006-03-01</th>\n",
       "      <td>210.84</td>\n",
       "      <td>180.66</td>\n",
       "      <td>196.87</td>\n",
       "      <td>3.918645</td>\n",
       "      <td>210.891667</td>\n",
       "    </tr>\n",
       "  </tbody>\n",
       "</table>\n",
       "</div>"
      ],
      "text/plain": [
       "                                Produccion_barriles_t_1  \\\n",
       "Pozo          fecha_produccion                            \n",
       "MOLOACAN-1004 2004-08-01                         194.98   \n",
       "MOLOACAN-102D 1999-06-01                         278.20   \n",
       "              2001-08-01                         353.60   \n",
       "              2002-03-01                         343.05   \n",
       "              2006-03-01                         210.84   \n",
       "\n",
       "                                Produccion_barriles_t  \\\n",
       "Pozo          fecha_produccion                          \n",
       "MOLOACAN-1004 2004-08-01                       157.25   \n",
       "MOLOACAN-102D 1999-06-01                       137.72   \n",
       "              2001-08-01                       295.96   \n",
       "              2002-03-01                       100.67   \n",
       "              2006-03-01                       180.66   \n",
       "\n",
       "                                Produccion_barriles_t_mas_1  std_t_6_t_1  \\\n",
       "Pozo          fecha_produccion                                             \n",
       "MOLOACAN-1004 2004-08-01                             147.68     5.215265   \n",
       "MOLOACAN-102D 1999-06-01                             158.48    19.174908   \n",
       "              2001-08-01                             365.47     9.395236   \n",
       "              2002-03-01                             171.54    16.882444   \n",
       "              2006-03-01                             196.87     3.918645   \n",
       "\n",
       "                                media_movil_t_6_t_1  \n",
       "Pozo          fecha_produccion                       \n",
       "MOLOACAN-1004 2004-08-01                 190.136667  \n",
       "MOLOACAN-102D 1999-06-01                 289.156667  \n",
       "              2001-08-01                 343.876667  \n",
       "              2002-03-01                 346.775000  \n",
       "              2006-03-01                 210.891667  "
      ]
     },
     "execution_count": 25,
     "metadata": {},
     "output_type": "execute_result"
    }
   ],
   "source": [
    "df[df.dummi_pico_bajo==1][['Produccion_barriles_t_1','Produccion_barriles_t','Produccion_barriles_t_mas_1',\n",
    "                           'std_t_6_t_1','media_movil_t_6_t_1']].head()"
   ]
  },
  {
   "cell_type": "code",
   "execution_count": 26,
   "metadata": {},
   "outputs": [
    {
     "data": {
      "text/plain": [
       "(856, 34)"
      ]
     },
     "execution_count": 26,
     "metadata": {},
     "output_type": "execute_result"
    }
   ],
   "source": [
    "df[df.dummi_pico_bajo==1].shape"
   ]
  },
  {
   "cell_type": "code",
   "execution_count": 27,
   "metadata": {},
   "outputs": [],
   "source": [
    "df = df[df.dummi_pico_bajo!=1]"
   ]
  },
  {
   "cell_type": "code",
   "execution_count": 28,
   "metadata": {},
   "outputs": [],
   "source": [
    "db_prod_mol['f_prod'] = db_prod_mol.fecha_produccion"
   ]
  },
  {
   "cell_type": "markdown",
   "metadata": {},
   "source": [
    "dummie de mes"
   ]
  },
  {
   "cell_type": "code",
   "execution_count": 29,
   "metadata": {},
   "outputs": [
    {
     "data": {
      "text/html": [
       "<div>\n",
       "<style scoped>\n",
       "    .dataframe tbody tr th:only-of-type {\n",
       "        vertical-align: middle;\n",
       "    }\n",
       "\n",
       "    .dataframe tbody tr th {\n",
       "        vertical-align: top;\n",
       "    }\n",
       "\n",
       "    .dataframe thead th {\n",
       "        text-align: right;\n",
       "    }\n",
       "</style>\n",
       "<table border=\"1\" class=\"dataframe\">\n",
       "  <thead>\n",
       "    <tr style=\"text-align: right;\">\n",
       "      <th></th>\n",
       "      <th></th>\n",
       "      <th>month_1</th>\n",
       "      <th>month_2</th>\n",
       "      <th>month_3</th>\n",
       "      <th>month_4</th>\n",
       "      <th>month_5</th>\n",
       "      <th>month_6</th>\n",
       "      <th>month_7</th>\n",
       "      <th>month_8</th>\n",
       "      <th>month_9</th>\n",
       "      <th>month_10</th>\n",
       "      <th>month_11</th>\n",
       "      <th>month_12</th>\n",
       "    </tr>\n",
       "    <tr>\n",
       "      <th>Pozo</th>\n",
       "      <th>fecha_produccion</th>\n",
       "      <th></th>\n",
       "      <th></th>\n",
       "      <th></th>\n",
       "      <th></th>\n",
       "      <th></th>\n",
       "      <th></th>\n",
       "      <th></th>\n",
       "      <th></th>\n",
       "      <th></th>\n",
       "      <th></th>\n",
       "      <th></th>\n",
       "      <th></th>\n",
       "    </tr>\n",
       "  </thead>\n",
       "  <tbody>\n",
       "    <tr>\n",
       "      <th rowspan=\"5\" valign=\"top\">MOLOACAN-1004</th>\n",
       "      <th>2002-06-01</th>\n",
       "      <td>1</td>\n",
       "      <td>0</td>\n",
       "      <td>0</td>\n",
       "      <td>0</td>\n",
       "      <td>0</td>\n",
       "      <td>0</td>\n",
       "      <td>0</td>\n",
       "      <td>0</td>\n",
       "      <td>0</td>\n",
       "      <td>0</td>\n",
       "      <td>0</td>\n",
       "      <td>0</td>\n",
       "    </tr>\n",
       "    <tr>\n",
       "      <th>2002-07-01</th>\n",
       "      <td>0</td>\n",
       "      <td>1</td>\n",
       "      <td>0</td>\n",
       "      <td>0</td>\n",
       "      <td>0</td>\n",
       "      <td>0</td>\n",
       "      <td>0</td>\n",
       "      <td>0</td>\n",
       "      <td>0</td>\n",
       "      <td>0</td>\n",
       "      <td>0</td>\n",
       "      <td>0</td>\n",
       "    </tr>\n",
       "    <tr>\n",
       "      <th>2002-08-01</th>\n",
       "      <td>0</td>\n",
       "      <td>0</td>\n",
       "      <td>1</td>\n",
       "      <td>0</td>\n",
       "      <td>0</td>\n",
       "      <td>0</td>\n",
       "      <td>0</td>\n",
       "      <td>0</td>\n",
       "      <td>0</td>\n",
       "      <td>0</td>\n",
       "      <td>0</td>\n",
       "      <td>0</td>\n",
       "    </tr>\n",
       "    <tr>\n",
       "      <th>2002-09-01</th>\n",
       "      <td>0</td>\n",
       "      <td>0</td>\n",
       "      <td>0</td>\n",
       "      <td>1</td>\n",
       "      <td>0</td>\n",
       "      <td>0</td>\n",
       "      <td>0</td>\n",
       "      <td>0</td>\n",
       "      <td>0</td>\n",
       "      <td>0</td>\n",
       "      <td>0</td>\n",
       "      <td>0</td>\n",
       "    </tr>\n",
       "    <tr>\n",
       "      <th>2002-10-01</th>\n",
       "      <td>0</td>\n",
       "      <td>0</td>\n",
       "      <td>0</td>\n",
       "      <td>0</td>\n",
       "      <td>1</td>\n",
       "      <td>0</td>\n",
       "      <td>0</td>\n",
       "      <td>0</td>\n",
       "      <td>0</td>\n",
       "      <td>0</td>\n",
       "      <td>0</td>\n",
       "      <td>0</td>\n",
       "    </tr>\n",
       "  </tbody>\n",
       "</table>\n",
       "</div>"
      ],
      "text/plain": [
       "                                month_1  month_2  month_3  month_4  month_5  \\\n",
       "Pozo          fecha_produccion                                                \n",
       "MOLOACAN-1004 2002-06-01              1        0        0        0        0   \n",
       "              2002-07-01              0        1        0        0        0   \n",
       "              2002-08-01              0        0        1        0        0   \n",
       "              2002-09-01              0        0        0        1        0   \n",
       "              2002-10-01              0        0        0        0        1   \n",
       "\n",
       "                                month_6  month_7  month_8  month_9  month_10  \\\n",
       "Pozo          fecha_produccion                                                 \n",
       "MOLOACAN-1004 2002-06-01              0        0        0        0         0   \n",
       "              2002-07-01              0        0        0        0         0   \n",
       "              2002-08-01              0        0        0        0         0   \n",
       "              2002-09-01              0        0        0        0         0   \n",
       "              2002-10-01              0        0        0        0         0   \n",
       "\n",
       "                                month_11  month_12  \n",
       "Pozo          fecha_produccion                      \n",
       "MOLOACAN-1004 2002-06-01               0         0  \n",
       "              2002-07-01               0         0  \n",
       "              2002-08-01               0         0  \n",
       "              2002-09-01               0         0  \n",
       "              2002-10-01               0         0  "
      ]
     },
     "execution_count": 29,
     "metadata": {},
     "output_type": "execute_result"
    }
   ],
   "source": [
    "# tabla dummies_month\n",
    "dummi_month = pd.get_dummies(db_prod_mol.groupby(\n",
    "    ['Pozo','fecha_produccion']).f_prod.first().shift(-6).dt.month.dropna().astype(int).dropna(),prefix='month')\n",
    "dummi_month.head()"
   ]
  },
  {
   "cell_type": "code",
   "execution_count": 30,
   "metadata": {},
   "outputs": [],
   "source": [
    "df = pd.merge(df, dummi_month, right_index=True, left_index=True)"
   ]
  },
  {
   "cell_type": "markdown",
   "metadata": {},
   "source": [
    "## Si estuvo detenido"
   ]
  },
  {
   "cell_type": "code",
   "execution_count": 31,
   "metadata": {},
   "outputs": [],
   "source": [
    "# detenido_mes_anterior = pd.DataFrame(np.where(((db_prod_mol.groupby(\n",
    "#     ['Pozo','fecha_produccion']).f_prod.first().shift(-6) - db_prod_mol.groupby(\n",
    "#     ['Pozo','fecha_produccion']).f_prod.first().shift(-5))/np.timedelta64(1,\"D\")) < 31, 1, 0), index=db_prod_mol.groupby(\n",
    "#     ['Pozo','fecha_produccion']).f_prod.first().index, columns=['detenido_mes_antes'])\n",
    "# detenido_mes_anterior.head()"
   ]
  },
  {
   "cell_type": "code",
   "execution_count": 32,
   "metadata": {},
   "outputs": [],
   "source": [
    "# df = pd.merge(df, detenido_mes_anterior, right_index=True, left_index=True)"
   ]
  },
  {
   "cell_type": "markdown",
   "metadata": {},
   "source": [
    "# Latitud y longitud"
   ]
  },
  {
   "cell_type": "code",
   "execution_count": 33,
   "metadata": {},
   "outputs": [
    {
     "data": {
      "text/html": [
       "<div>\n",
       "<style scoped>\n",
       "    .dataframe tbody tr th:only-of-type {\n",
       "        vertical-align: middle;\n",
       "    }\n",
       "\n",
       "    .dataframe tbody tr th {\n",
       "        vertical-align: top;\n",
       "    }\n",
       "\n",
       "    .dataframe thead th {\n",
       "        text-align: right;\n",
       "    }\n",
       "</style>\n",
       "<table border=\"1\" class=\"dataframe\">\n",
       "  <thead>\n",
       "    <tr style=\"text-align: right;\">\n",
       "      <th></th>\n",
       "      <th>Pozo</th>\n",
       "      <th>latitud</th>\n",
       "      <th>longitud</th>\n",
       "    </tr>\n",
       "  </thead>\n",
       "  <tbody>\n",
       "    <tr>\n",
       "      <th>0</th>\n",
       "      <td>MOLOACAN-1</td>\n",
       "      <td>17.987072</td>\n",
       "      <td>-94.381714</td>\n",
       "    </tr>\n",
       "    <tr>\n",
       "      <th>1</th>\n",
       "      <td>MOLOACAN-101</td>\n",
       "      <td>17.982659</td>\n",
       "      <td>-94.369994</td>\n",
       "    </tr>\n",
       "    <tr>\n",
       "      <th>2</th>\n",
       "      <td>MOLOACAN-102</td>\n",
       "      <td>17.982043</td>\n",
       "      <td>-94.367304</td>\n",
       "    </tr>\n",
       "    <tr>\n",
       "      <th>3</th>\n",
       "      <td>MOLOACAN-102A</td>\n",
       "      <td>17.982088</td>\n",
       "      <td>-94.367397</td>\n",
       "    </tr>\n",
       "    <tr>\n",
       "      <th>4</th>\n",
       "      <td>MOLOACAN-11</td>\n",
       "      <td>17.986597</td>\n",
       "      <td>-94.373105</td>\n",
       "    </tr>\n",
       "  </tbody>\n",
       "</table>\n",
       "</div>"
      ],
      "text/plain": [
       "            Pozo    latitud   longitud\n",
       "0     MOLOACAN-1  17.987072 -94.381714\n",
       "1   MOLOACAN-101  17.982659 -94.369994\n",
       "2   MOLOACAN-102  17.982043 -94.367304\n",
       "3  MOLOACAN-102A  17.982088 -94.367397\n",
       "4    MOLOACAN-11  17.986597 -94.373105"
      ]
     },
     "execution_count": 33,
     "metadata": {},
     "output_type": "execute_result"
    }
   ],
   "source": [
    "lat_lon_pozo = datos_generales_pozos.groupby('NOMBRE_DE_POZO')[['LATITUD','LONGITUD']].first()\n",
    "lat_lon_pozo.reset_index(inplace=True)\n",
    "lat_lon_pozo.columns = ['Pozo','latitud', 'longitud']\n",
    "lat_lon_pozo.head()"
   ]
  },
  {
   "cell_type": "code",
   "execution_count": 34,
   "metadata": {},
   "outputs": [],
   "source": [
    "df_train = df.reset_index().merge(lat_lon_pozo, how='left',on='Pozo').dropna()"
   ]
  },
  {
   "cell_type": "code",
   "execution_count": 35,
   "metadata": {},
   "outputs": [
    {
     "data": {
      "text/html": [
       "<div>\n",
       "<style scoped>\n",
       "    .dataframe tbody tr th:only-of-type {\n",
       "        vertical-align: middle;\n",
       "    }\n",
       "\n",
       "    .dataframe tbody tr th {\n",
       "        vertical-align: top;\n",
       "    }\n",
       "\n",
       "    .dataframe thead th {\n",
       "        text-align: right;\n",
       "    }\n",
       "</style>\n",
       "<table border=\"1\" class=\"dataframe\">\n",
       "  <thead>\n",
       "    <tr style=\"text-align: right;\">\n",
       "      <th></th>\n",
       "      <th>Pozo</th>\n",
       "      <th>fecha_produccion</th>\n",
       "      <th>Produccion_barriles_t_6</th>\n",
       "      <th>Produccion_barriles_t_5</th>\n",
       "      <th>Produccion_barriles_t_4</th>\n",
       "      <th>Produccion_barriles_t_3</th>\n",
       "      <th>Produccion_barriles_t_2</th>\n",
       "      <th>Produccion_barriles_t_1</th>\n",
       "      <th>Produccion_barriles_t</th>\n",
       "      <th>Produccion_barriles_t_mas_1</th>\n",
       "      <th>...</th>\n",
       "      <th>month_5</th>\n",
       "      <th>month_6</th>\n",
       "      <th>month_7</th>\n",
       "      <th>month_8</th>\n",
       "      <th>month_9</th>\n",
       "      <th>month_10</th>\n",
       "      <th>month_11</th>\n",
       "      <th>month_12</th>\n",
       "      <th>latitud</th>\n",
       "      <th>longitud</th>\n",
       "    </tr>\n",
       "  </thead>\n",
       "  <tbody>\n",
       "    <tr>\n",
       "      <th>214</th>\n",
       "      <td>MOLOACAN-111</td>\n",
       "      <td>1999-01-01</td>\n",
       "      <td>169.92</td>\n",
       "      <td>159.46</td>\n",
       "      <td>193.95</td>\n",
       "      <td>169.10</td>\n",
       "      <td>182.03</td>\n",
       "      <td>177.28</td>\n",
       "      <td>191.66</td>\n",
       "      <td>186.59</td>\n",
       "      <td>...</td>\n",
       "      <td>0</td>\n",
       "      <td>0</td>\n",
       "      <td>1</td>\n",
       "      <td>0</td>\n",
       "      <td>0</td>\n",
       "      <td>0</td>\n",
       "      <td>0</td>\n",
       "      <td>0</td>\n",
       "      <td>17.985929</td>\n",
       "      <td>-94.370707</td>\n",
       "    </tr>\n",
       "    <tr>\n",
       "      <th>215</th>\n",
       "      <td>MOLOACAN-111</td>\n",
       "      <td>1999-02-01</td>\n",
       "      <td>159.46</td>\n",
       "      <td>193.95</td>\n",
       "      <td>169.10</td>\n",
       "      <td>182.03</td>\n",
       "      <td>177.28</td>\n",
       "      <td>191.66</td>\n",
       "      <td>186.59</td>\n",
       "      <td>197.52</td>\n",
       "      <td>...</td>\n",
       "      <td>0</td>\n",
       "      <td>0</td>\n",
       "      <td>0</td>\n",
       "      <td>1</td>\n",
       "      <td>0</td>\n",
       "      <td>0</td>\n",
       "      <td>0</td>\n",
       "      <td>0</td>\n",
       "      <td>17.985929</td>\n",
       "      <td>-94.370707</td>\n",
       "    </tr>\n",
       "    <tr>\n",
       "      <th>216</th>\n",
       "      <td>MOLOACAN-111</td>\n",
       "      <td>1999-03-01</td>\n",
       "      <td>193.95</td>\n",
       "      <td>169.10</td>\n",
       "      <td>182.03</td>\n",
       "      <td>177.28</td>\n",
       "      <td>191.66</td>\n",
       "      <td>186.59</td>\n",
       "      <td>197.52</td>\n",
       "      <td>215.72</td>\n",
       "      <td>...</td>\n",
       "      <td>0</td>\n",
       "      <td>0</td>\n",
       "      <td>0</td>\n",
       "      <td>0</td>\n",
       "      <td>1</td>\n",
       "      <td>0</td>\n",
       "      <td>0</td>\n",
       "      <td>0</td>\n",
       "      <td>17.985929</td>\n",
       "      <td>-94.370707</td>\n",
       "    </tr>\n",
       "    <tr>\n",
       "      <th>217</th>\n",
       "      <td>MOLOACAN-111</td>\n",
       "      <td>1999-04-01</td>\n",
       "      <td>169.10</td>\n",
       "      <td>182.03</td>\n",
       "      <td>177.28</td>\n",
       "      <td>191.66</td>\n",
       "      <td>186.59</td>\n",
       "      <td>197.52</td>\n",
       "      <td>215.72</td>\n",
       "      <td>185.47</td>\n",
       "      <td>...</td>\n",
       "      <td>0</td>\n",
       "      <td>0</td>\n",
       "      <td>0</td>\n",
       "      <td>0</td>\n",
       "      <td>0</td>\n",
       "      <td>1</td>\n",
       "      <td>0</td>\n",
       "      <td>0</td>\n",
       "      <td>17.985929</td>\n",
       "      <td>-94.370707</td>\n",
       "    </tr>\n",
       "    <tr>\n",
       "      <th>218</th>\n",
       "      <td>MOLOACAN-111</td>\n",
       "      <td>1999-05-01</td>\n",
       "      <td>182.03</td>\n",
       "      <td>177.28</td>\n",
       "      <td>191.66</td>\n",
       "      <td>186.59</td>\n",
       "      <td>197.52</td>\n",
       "      <td>215.72</td>\n",
       "      <td>185.47</td>\n",
       "      <td>137.72</td>\n",
       "      <td>...</td>\n",
       "      <td>0</td>\n",
       "      <td>0</td>\n",
       "      <td>0</td>\n",
       "      <td>0</td>\n",
       "      <td>0</td>\n",
       "      <td>0</td>\n",
       "      <td>1</td>\n",
       "      <td>0</td>\n",
       "      <td>17.985929</td>\n",
       "      <td>-94.370707</td>\n",
       "    </tr>\n",
       "  </tbody>\n",
       "</table>\n",
       "<p>5 rows × 50 columns</p>\n",
       "</div>"
      ],
      "text/plain": [
       "             Pozo fecha_produccion  Produccion_barriles_t_6  \\\n",
       "214  MOLOACAN-111       1999-01-01                   169.92   \n",
       "215  MOLOACAN-111       1999-02-01                   159.46   \n",
       "216  MOLOACAN-111       1999-03-01                   193.95   \n",
       "217  MOLOACAN-111       1999-04-01                   169.10   \n",
       "218  MOLOACAN-111       1999-05-01                   182.03   \n",
       "\n",
       "     Produccion_barriles_t_5  Produccion_barriles_t_4  \\\n",
       "214                   159.46                   193.95   \n",
       "215                   193.95                   169.10   \n",
       "216                   169.10                   182.03   \n",
       "217                   182.03                   177.28   \n",
       "218                   177.28                   191.66   \n",
       "\n",
       "     Produccion_barriles_t_3  Produccion_barriles_t_2  \\\n",
       "214                   169.10                   182.03   \n",
       "215                   182.03                   177.28   \n",
       "216                   177.28                   191.66   \n",
       "217                   191.66                   186.59   \n",
       "218                   186.59                   197.52   \n",
       "\n",
       "     Produccion_barriles_t_1  Produccion_barriles_t  \\\n",
       "214                   177.28                 191.66   \n",
       "215                   191.66                 186.59   \n",
       "216                   186.59                 197.52   \n",
       "217                   197.52                 215.72   \n",
       "218                   215.72                 185.47   \n",
       "\n",
       "     Produccion_barriles_t_mas_1    ...      month_5  month_6  month_7  \\\n",
       "214                       186.59    ...            0        0        1   \n",
       "215                       197.52    ...            0        0        0   \n",
       "216                       215.72    ...            0        0        0   \n",
       "217                       185.47    ...            0        0        0   \n",
       "218                       137.72    ...            0        0        0   \n",
       "\n",
       "     month_8  month_9  month_10  month_11  month_12    latitud   longitud  \n",
       "214        0        0         0         0         0  17.985929 -94.370707  \n",
       "215        1        0         0         0         0  17.985929 -94.370707  \n",
       "216        0        1         0         0         0  17.985929 -94.370707  \n",
       "217        0        0         1         0         0  17.985929 -94.370707  \n",
       "218        0        0         0         1         0  17.985929 -94.370707  \n",
       "\n",
       "[5 rows x 50 columns]"
      ]
     },
     "execution_count": 35,
     "metadata": {},
     "output_type": "execute_result"
    }
   ],
   "source": [
    "df_train.head()"
   ]
  },
  {
   "cell_type": "code",
   "execution_count": 36,
   "metadata": {},
   "outputs": [
    {
     "data": {
      "text/plain": [
       "Index(['Pozo', 'fecha_produccion', 'Produccion_barriles_t_6',\n",
       "       'Produccion_barriles_t_5', 'Produccion_barriles_t_4',\n",
       "       'Produccion_barriles_t_3', 'Produccion_barriles_t_2',\n",
       "       'Produccion_barriles_t_1', 'Produccion_barriles_t',\n",
       "       'Produccion_barriles_t_mas_1', 'diff_t_6_t_5', 'diff_t_5_t_4',\n",
       "       'diff_t_4_t_3', 'diff_t_3_t_2', 'diff_t_2_t_1', 'diff_t_6_t_1',\n",
       "       'diff_t_5_t_1', 'diff_t_4_t_1', 'diff_t_3_t_1',\n",
       "       'aceleracion_de_produccion _t3t2_t2t1',\n",
       "       'aceleracion_de_produccion _t4t3_t2t1', 'std_t_6_t_1', 'median_t_6_t_1',\n",
       "       'min_t_6_t_1', 'q75_t_6_t_1', 'q25_t_6_t_1', 'q90_t_6_t_1',\n",
       "       'q10_t_6_t_1', 'max_t_6_t_1', 'rango_t6_t1', 'media_movil_t_2_t_1',\n",
       "       'media_movil_t_3_t_1', 'media_movil_t_4_t_1', 'media_movil_t_5_t_1',\n",
       "       'media_movil_t_6_t_1', 'dummi_pico_bajo', 'month_1', 'month_2',\n",
       "       'month_3', 'month_4', 'month_5', 'month_6', 'month_7', 'month_8',\n",
       "       'month_9', 'month_10', 'month_11', 'month_12', 'latitud', 'longitud'],\n",
       "      dtype='object')"
      ]
     },
     "execution_count": 36,
     "metadata": {},
     "output_type": "execute_result"
    }
   ],
   "source": [
    "df_train.columns"
   ]
  },
  {
   "cell_type": "markdown",
   "metadata": {},
   "source": [
    "# Variable de tecnologia\n",
    "Se le pega el nombre del equipo de perforacion para saber si es mejor o peor para la produccion"
   ]
  },
  {
   "cell_type": "code",
   "execution_count": 37,
   "metadata": {},
   "outputs": [
    {
     "data": {
      "text/html": [
       "<div>\n",
       "<style scoped>\n",
       "    .dataframe tbody tr th:only-of-type {\n",
       "        vertical-align: middle;\n",
       "    }\n",
       "\n",
       "    .dataframe tbody tr th {\n",
       "        vertical-align: top;\n",
       "    }\n",
       "\n",
       "    .dataframe thead th {\n",
       "        text-align: right;\n",
       "    }\n",
       "</style>\n",
       "<table border=\"1\" class=\"dataframe\">\n",
       "  <thead>\n",
       "    <tr style=\"text-align: right;\">\n",
       "      <th></th>\n",
       "      <th>Pozo</th>\n",
       "      <th>equipo_perforacion</th>\n",
       "    </tr>\n",
       "  </thead>\n",
       "  <tbody>\n",
       "    <tr>\n",
       "      <th>0</th>\n",
       "      <td>MOLOACAN-1</td>\n",
       "      <td>SIN INFORMACION</td>\n",
       "    </tr>\n",
       "    <tr>\n",
       "      <th>1</th>\n",
       "      <td>MOLOACAN-101</td>\n",
       "      <td>SIN INFORMACION</td>\n",
       "    </tr>\n",
       "    <tr>\n",
       "      <th>2</th>\n",
       "      <td>MOLOACAN-102</td>\n",
       "      <td>SIN INFORMACION</td>\n",
       "    </tr>\n",
       "    <tr>\n",
       "      <th>3</th>\n",
       "      <td>MOLOACAN-102A</td>\n",
       "      <td>PM-5597</td>\n",
       "    </tr>\n",
       "    <tr>\n",
       "      <th>4</th>\n",
       "      <td>MOLOACAN-11</td>\n",
       "      <td>PM-111</td>\n",
       "    </tr>\n",
       "  </tbody>\n",
       "</table>\n",
       "</div>"
      ],
      "text/plain": [
       "            Pozo equipo_perforacion\n",
       "0     MOLOACAN-1    SIN INFORMACION\n",
       "1   MOLOACAN-101    SIN INFORMACION\n",
       "2   MOLOACAN-102    SIN INFORMACION\n",
       "3  MOLOACAN-102A            PM-5597\n",
       "4    MOLOACAN-11             PM-111"
      ]
     },
     "execution_count": 37,
     "metadata": {},
     "output_type": "execute_result"
    }
   ],
   "source": [
    "# pegar a pozo nombre_equipo_perfo\n",
    "nombre_equi_perfo = pd.DataFrame(datos_generales_pozos.groupby(\n",
    "    'NOMBRE_DE_POZO')['NOMBRE_EQUIPO_DE_PERFORACION'].first())\n",
    "nombre_equi_perfo.reset_index(inplace=True)\n",
    "nombre_equi_perfo.columns = ['Pozo','equipo_perforacion']\n",
    "# se encontraron inconsistencias en la info\n",
    "nombre_equi_perfo[\"equipo_perforacion\"] = nombre_equi_perfo.equipo_perforacion.str.replace(\n",
    "    \"PM5597-\",\"PM-5597\").str.replace(\n",
    "    \"PM.-5597\",\"PM-5597\").str.replace(\n",
    "    \"PM.5599\",\"PM-5599\")\n",
    "nombre_equi_perfo.head()"
   ]
  },
  {
   "cell_type": "code",
   "execution_count": 38,
   "metadata": {},
   "outputs": [],
   "source": [
    "df_train = df_train.merge(nombre_equi_perfo, how='left',on='Pozo').dropna()"
   ]
  },
  {
   "cell_type": "code",
   "execution_count": 39,
   "metadata": {},
   "outputs": [],
   "source": [
    "df_train = pd.get_dummies(df_train, columns=['equipo_perforacion'])"
   ]
  },
  {
   "cell_type": "code",
   "execution_count": 40,
   "metadata": {},
   "outputs": [
    {
     "data": {
      "text/plain": [
       "(19629, 64)"
      ]
     },
     "execution_count": 40,
     "metadata": {},
     "output_type": "execute_result"
    }
   ],
   "source": [
    "df_train.shape"
   ]
  },
  {
   "cell_type": "markdown",
   "metadata": {},
   "source": [
    "# variable clasificaccion LAHEE\n",
    "La Clasificación Lahee, los pozos pueden ser identificados como:\n",
    "+ Pozo Exploratorio\n",
    "+ Pozos Productores\n",
    "+ Pozos no Productores (Secos)\n",
    "+ Pozos de Desarrollo\n",
    "+ Pozo de Avanzada\n",
    "\n",
    "Codigos\n",
    "\n",
    "    07-07-01 - Pozo de desarrollo, productor aceite\n",
    "    07-07-06 - Pozo de desarrollo, improductivo, invadido de agua salada\n",
    "    07-07-13 - 07 Pozo de desarrollo\n",
    "    07-07-04 - Pozo de desarrollo, productor incosteable\n",
    "    07-07-07 - Pozo de desarrollo, improductivo seco\n",
    "    04-04-01 - Pozo en busca de nueva acumulacion en campo ya productor, productor de aceite\n",
    "    07-01-00 - 07 Pozo de desarrollo\n",
    "    04-04-06 - Pozo en busca de nueva acumulacion en campo ya productor, improductivo, invadido de agua salada\n",
    "    01-01-06 - Pozo en busca de nueva acumulacion, improductivo, invadido de agua salada\n",
    "    SIN INFORMACION\n",
    "\n",
    "Referencia de codigos https://bndh.gob.do/wp-content/uploads/2016/04/4.3-MEM-BNDH-RD-Tercer-Informe-de-Avances_v2-1.pdf"
   ]
  },
  {
   "cell_type": "code",
   "execution_count": 41,
   "metadata": {},
   "outputs": [
    {
     "data": {
      "text/html": [
       "<div>\n",
       "<style scoped>\n",
       "    .dataframe tbody tr th:only-of-type {\n",
       "        vertical-align: middle;\n",
       "    }\n",
       "\n",
       "    .dataframe tbody tr th {\n",
       "        vertical-align: top;\n",
       "    }\n",
       "\n",
       "    .dataframe thead th {\n",
       "        text-align: right;\n",
       "    }\n",
       "</style>\n",
       "<table border=\"1\" class=\"dataframe\">\n",
       "  <thead>\n",
       "    <tr style=\"text-align: right;\">\n",
       "      <th></th>\n",
       "      <th>Pozo</th>\n",
       "      <th>clasificacion_lahee</th>\n",
       "    </tr>\n",
       "  </thead>\n",
       "  <tbody>\n",
       "    <tr>\n",
       "      <th>0</th>\n",
       "      <td>MOLOACAN-1</td>\n",
       "      <td>07-07-01</td>\n",
       "    </tr>\n",
       "    <tr>\n",
       "      <th>1</th>\n",
       "      <td>MOLOACAN-101</td>\n",
       "      <td>07-07-07</td>\n",
       "    </tr>\n",
       "    <tr>\n",
       "      <th>2</th>\n",
       "      <td>MOLOACAN-102</td>\n",
       "      <td>07-07-06</td>\n",
       "    </tr>\n",
       "    <tr>\n",
       "      <th>3</th>\n",
       "      <td>MOLOACAN-102A</td>\n",
       "      <td>07-07-01</td>\n",
       "    </tr>\n",
       "    <tr>\n",
       "      <th>4</th>\n",
       "      <td>MOLOACAN-11</td>\n",
       "      <td>07-07-01</td>\n",
       "    </tr>\n",
       "  </tbody>\n",
       "</table>\n",
       "</div>"
      ],
      "text/plain": [
       "            Pozo clasificacion_lahee\n",
       "0     MOLOACAN-1            07-07-01\n",
       "1   MOLOACAN-101            07-07-07\n",
       "2   MOLOACAN-102            07-07-06\n",
       "3  MOLOACAN-102A            07-07-01\n",
       "4    MOLOACAN-11            07-07-01"
      ]
     },
     "execution_count": 41,
     "metadata": {},
     "output_type": "execute_result"
    }
   ],
   "source": [
    "clasifi_lahee = pd.DataFrame(datos_generales_pozos.groupby(\n",
    "    'NOMBRE_DE_POZO')['CLASIFICACION_LAHEE'].first())\n",
    "clasifi_lahee.reset_index(inplace=True)\n",
    "clasifi_lahee.columns = ['Pozo','clasificacion_lahee']\n",
    "clasifi_lahee.head()"
   ]
  },
  {
   "cell_type": "code",
   "execution_count": 42,
   "metadata": {},
   "outputs": [],
   "source": [
    "df_train = df_train.merge(clasifi_lahee, how='left',on='Pozo').dropna()"
   ]
  },
  {
   "cell_type": "code",
   "execution_count": 43,
   "metadata": {},
   "outputs": [],
   "source": [
    "df_train = pd.get_dummies(df_train, columns=['clasificacion_lahee'])"
   ]
  },
  {
   "cell_type": "code",
   "execution_count": 44,
   "metadata": {},
   "outputs": [
    {
     "data": {
      "text/plain": [
       "(19629, 66)"
      ]
     },
     "execution_count": 44,
     "metadata": {},
     "output_type": "execute_result"
    }
   ],
   "source": [
    "df_train.shape"
   ]
  },
  {
   "cell_type": "code",
   "execution_count": 45,
   "metadata": {},
   "outputs": [
    {
     "data": {
      "text/html": [
       "<div>\n",
       "<style scoped>\n",
       "    .dataframe tbody tr th:only-of-type {\n",
       "        vertical-align: middle;\n",
       "    }\n",
       "\n",
       "    .dataframe tbody tr th {\n",
       "        vertical-align: top;\n",
       "    }\n",
       "\n",
       "    .dataframe thead th {\n",
       "        text-align: right;\n",
       "    }\n",
       "</style>\n",
       "<table border=\"1\" class=\"dataframe\">\n",
       "  <thead>\n",
       "    <tr style=\"text-align: right;\">\n",
       "      <th></th>\n",
       "      <th>Pozo</th>\n",
       "      <th>fecha_produccion</th>\n",
       "      <th>Produccion_barriles_t_6</th>\n",
       "      <th>Produccion_barriles_t_5</th>\n",
       "      <th>Produccion_barriles_t_4</th>\n",
       "      <th>Produccion_barriles_t_3</th>\n",
       "      <th>Produccion_barriles_t_2</th>\n",
       "      <th>Produccion_barriles_t_1</th>\n",
       "      <th>Produccion_barriles_t</th>\n",
       "      <th>Produccion_barriles_t_mas_1</th>\n",
       "      <th>...</th>\n",
       "      <th>equipo_perforacion_PM-5599</th>\n",
       "      <th>equipo_perforacion_PM-5620</th>\n",
       "      <th>equipo_perforacion_PM-5626</th>\n",
       "      <th>equipo_perforacion_PM-5627</th>\n",
       "      <th>equipo_perforacion_PM-73</th>\n",
       "      <th>equipo_perforacion_PM-78</th>\n",
       "      <th>equipo_perforacion_PM-92</th>\n",
       "      <th>equipo_perforacion_SIN INFORMACION</th>\n",
       "      <th>clasificacion_lahee_07-07-01</th>\n",
       "      <th>clasificacion_lahee_SIN INRMACION</th>\n",
       "    </tr>\n",
       "  </thead>\n",
       "  <tbody>\n",
       "    <tr>\n",
       "      <th>0</th>\n",
       "      <td>MOLOACAN-111</td>\n",
       "      <td>1999-01-01</td>\n",
       "      <td>169.92</td>\n",
       "      <td>159.46</td>\n",
       "      <td>193.95</td>\n",
       "      <td>169.10</td>\n",
       "      <td>182.03</td>\n",
       "      <td>177.28</td>\n",
       "      <td>191.66</td>\n",
       "      <td>186.59</td>\n",
       "      <td>...</td>\n",
       "      <td>0</td>\n",
       "      <td>0</td>\n",
       "      <td>0</td>\n",
       "      <td>0</td>\n",
       "      <td>0</td>\n",
       "      <td>0</td>\n",
       "      <td>0</td>\n",
       "      <td>1</td>\n",
       "      <td>1</td>\n",
       "      <td>0</td>\n",
       "    </tr>\n",
       "    <tr>\n",
       "      <th>1</th>\n",
       "      <td>MOLOACAN-111</td>\n",
       "      <td>1999-02-01</td>\n",
       "      <td>159.46</td>\n",
       "      <td>193.95</td>\n",
       "      <td>169.10</td>\n",
       "      <td>182.03</td>\n",
       "      <td>177.28</td>\n",
       "      <td>191.66</td>\n",
       "      <td>186.59</td>\n",
       "      <td>197.52</td>\n",
       "      <td>...</td>\n",
       "      <td>0</td>\n",
       "      <td>0</td>\n",
       "      <td>0</td>\n",
       "      <td>0</td>\n",
       "      <td>0</td>\n",
       "      <td>0</td>\n",
       "      <td>0</td>\n",
       "      <td>1</td>\n",
       "      <td>1</td>\n",
       "      <td>0</td>\n",
       "    </tr>\n",
       "    <tr>\n",
       "      <th>2</th>\n",
       "      <td>MOLOACAN-111</td>\n",
       "      <td>1999-03-01</td>\n",
       "      <td>193.95</td>\n",
       "      <td>169.10</td>\n",
       "      <td>182.03</td>\n",
       "      <td>177.28</td>\n",
       "      <td>191.66</td>\n",
       "      <td>186.59</td>\n",
       "      <td>197.52</td>\n",
       "      <td>215.72</td>\n",
       "      <td>...</td>\n",
       "      <td>0</td>\n",
       "      <td>0</td>\n",
       "      <td>0</td>\n",
       "      <td>0</td>\n",
       "      <td>0</td>\n",
       "      <td>0</td>\n",
       "      <td>0</td>\n",
       "      <td>1</td>\n",
       "      <td>1</td>\n",
       "      <td>0</td>\n",
       "    </tr>\n",
       "    <tr>\n",
       "      <th>3</th>\n",
       "      <td>MOLOACAN-111</td>\n",
       "      <td>1999-04-01</td>\n",
       "      <td>169.10</td>\n",
       "      <td>182.03</td>\n",
       "      <td>177.28</td>\n",
       "      <td>191.66</td>\n",
       "      <td>186.59</td>\n",
       "      <td>197.52</td>\n",
       "      <td>215.72</td>\n",
       "      <td>185.47</td>\n",
       "      <td>...</td>\n",
       "      <td>0</td>\n",
       "      <td>0</td>\n",
       "      <td>0</td>\n",
       "      <td>0</td>\n",
       "      <td>0</td>\n",
       "      <td>0</td>\n",
       "      <td>0</td>\n",
       "      <td>1</td>\n",
       "      <td>1</td>\n",
       "      <td>0</td>\n",
       "    </tr>\n",
       "    <tr>\n",
       "      <th>4</th>\n",
       "      <td>MOLOACAN-111</td>\n",
       "      <td>1999-05-01</td>\n",
       "      <td>182.03</td>\n",
       "      <td>177.28</td>\n",
       "      <td>191.66</td>\n",
       "      <td>186.59</td>\n",
       "      <td>197.52</td>\n",
       "      <td>215.72</td>\n",
       "      <td>185.47</td>\n",
       "      <td>137.72</td>\n",
       "      <td>...</td>\n",
       "      <td>0</td>\n",
       "      <td>0</td>\n",
       "      <td>0</td>\n",
       "      <td>0</td>\n",
       "      <td>0</td>\n",
       "      <td>0</td>\n",
       "      <td>0</td>\n",
       "      <td>1</td>\n",
       "      <td>1</td>\n",
       "      <td>0</td>\n",
       "    </tr>\n",
       "  </tbody>\n",
       "</table>\n",
       "<p>5 rows × 66 columns</p>\n",
       "</div>"
      ],
      "text/plain": [
       "           Pozo fecha_produccion  Produccion_barriles_t_6  \\\n",
       "0  MOLOACAN-111       1999-01-01                   169.92   \n",
       "1  MOLOACAN-111       1999-02-01                   159.46   \n",
       "2  MOLOACAN-111       1999-03-01                   193.95   \n",
       "3  MOLOACAN-111       1999-04-01                   169.10   \n",
       "4  MOLOACAN-111       1999-05-01                   182.03   \n",
       "\n",
       "   Produccion_barriles_t_5  Produccion_barriles_t_4  Produccion_barriles_t_3  \\\n",
       "0                   159.46                   193.95                   169.10   \n",
       "1                   193.95                   169.10                   182.03   \n",
       "2                   169.10                   182.03                   177.28   \n",
       "3                   182.03                   177.28                   191.66   \n",
       "4                   177.28                   191.66                   186.59   \n",
       "\n",
       "   Produccion_barriles_t_2  Produccion_barriles_t_1  Produccion_barriles_t  \\\n",
       "0                   182.03                   177.28                 191.66   \n",
       "1                   177.28                   191.66                 186.59   \n",
       "2                   191.66                   186.59                 197.52   \n",
       "3                   186.59                   197.52                 215.72   \n",
       "4                   197.52                   215.72                 185.47   \n",
       "\n",
       "   Produccion_barriles_t_mas_1                ...                  \\\n",
       "0                       186.59                ...                   \n",
       "1                       197.52                ...                   \n",
       "2                       215.72                ...                   \n",
       "3                       185.47                ...                   \n",
       "4                       137.72                ...                   \n",
       "\n",
       "   equipo_perforacion_PM-5599  equipo_perforacion_PM-5620  \\\n",
       "0                           0                           0   \n",
       "1                           0                           0   \n",
       "2                           0                           0   \n",
       "3                           0                           0   \n",
       "4                           0                           0   \n",
       "\n",
       "   equipo_perforacion_PM-5626  equipo_perforacion_PM-5627  \\\n",
       "0                           0                           0   \n",
       "1                           0                           0   \n",
       "2                           0                           0   \n",
       "3                           0                           0   \n",
       "4                           0                           0   \n",
       "\n",
       "   equipo_perforacion_PM-73  equipo_perforacion_PM-78  \\\n",
       "0                         0                         0   \n",
       "1                         0                         0   \n",
       "2                         0                         0   \n",
       "3                         0                         0   \n",
       "4                         0                         0   \n",
       "\n",
       "   equipo_perforacion_PM-92  equipo_perforacion_SIN INFORMACION  \\\n",
       "0                         0                                   1   \n",
       "1                         0                                   1   \n",
       "2                         0                                   1   \n",
       "3                         0                                   1   \n",
       "4                         0                                   1   \n",
       "\n",
       "   clasificacion_lahee_07-07-01  clasificacion_lahee_SIN INRMACION  \n",
       "0                             1                                  0  \n",
       "1                             1                                  0  \n",
       "2                             1                                  0  \n",
       "3                             1                                  0  \n",
       "4                             1                                  0  \n",
       "\n",
       "[5 rows x 66 columns]"
      ]
     },
     "execution_count": 45,
     "metadata": {},
     "output_type": "execute_result"
    }
   ],
   "source": [
    "df_train.head()"
   ]
  },
  {
   "cell_type": "markdown",
   "metadata": {},
   "source": [
    "# pendiente pico historico"
   ]
  },
  {
   "cell_type": "code",
   "execution_count": 46,
   "metadata": {},
   "outputs": [],
   "source": [
    "# df_d_prod = db_prod_mol.groupby(['Pozo','fecha_produccion']).f_prod.first().shift(-6).reset_index()\n",
    "# db_prod_mol['fecha_y'] = df_d_prod.f_prod"
   ]
  },
  {
   "cell_type": "code",
   "execution_count": 47,
   "metadata": {},
   "outputs": [],
   "source": [
    "# for i in db_prod_mol.groupby('Pozo')[['Qo_mes_b','fecha_produccion','fecha_y']]:\n",
    "#     print(i[0])\n",
    "#     print(i[1][i[1].fecha_produccion >= i[1].fecha_y])"
   ]
  },
  {
   "cell_type": "code",
   "execution_count": null,
   "metadata": {},
   "outputs": [],
   "source": []
  },
  {
   "cell_type": "code",
   "execution_count": 48,
   "metadata": {},
   "outputs": [],
   "source": [
    "# y_temp = []\n",
    "# for i in sample_prod_data.groupby('API')['Liquid']:\n",
    "# #     print(i[0])\n",
    "# #     print(i[1][i[1].index >= idx_prod_max_api[i[0]]].sum())\n",
    "#     y_temp.append([i[0], i[1][i[1].index >= idx_prod_max_api[i[0]]].sum()])"
   ]
  },
  {
   "cell_type": "code",
   "execution_count": 49,
   "metadata": {},
   "outputs": [],
   "source": [
    "# idx_prod_max_api = prod_data_train.groupby('API').Liquid.idxmax()"
   ]
  },
  {
   "cell_type": "code",
   "execution_count": 50,
   "metadata": {},
   "outputs": [],
   "source": [
    "# # AQUI SE CREA LA Y (se puede hacer lista de comprension)\n",
    "# pico_temp = []\n",
    "# for i in db_prod_mol.groupby('Pozo')['Qo_mes_b']:\n",
    "#     pico_temp.append([i[0], i[1][i[1].fecha_produccion >= idx_prod_max_api[i[0]]].sum()])"
   ]
  },
  {
   "cell_type": "code",
   "execution_count": 51,
   "metadata": {},
   "outputs": [],
   "source": [
    "# db_prod_mol.columns"
   ]
  },
  {
   "cell_type": "code",
   "execution_count": 52,
   "metadata": {},
   "outputs": [],
   "source": [
    "# db_prod_mol.groupby('Pozo')[['fecha_produccion','f_prod']].last()"
   ]
  },
  {
   "cell_type": "code",
   "execution_count": 53,
   "metadata": {},
   "outputs": [],
   "source": [
    "# db_prod_mol.groupby(\n",
    "#     ['Pozo','fecha_produccion'])"
   ]
  },
  {
   "cell_type": "code",
   "execution_count": 54,
   "metadata": {},
   "outputs": [
    {
     "data": {
      "text/plain": [
       "(19629, 66)"
      ]
     },
     "execution_count": 54,
     "metadata": {},
     "output_type": "execute_result"
    }
   ],
   "source": [
    "df_train.shape"
   ]
  },
  {
   "cell_type": "markdown",
   "metadata": {},
   "source": [
    "## Quitamos Outliers"
   ]
  },
  {
   "cell_type": "code",
   "execution_count": 55,
   "metadata": {},
   "outputs": [
    {
     "data": {
      "text/plain": [
       "Index(['Pozo', 'fecha_produccion', 'Produccion_barriles_t_6',\n",
       "       'Produccion_barriles_t_5', 'Produccion_barriles_t_4',\n",
       "       'Produccion_barriles_t_3', 'Produccion_barriles_t_2',\n",
       "       'Produccion_barriles_t_1', 'Produccion_barriles_t',\n",
       "       'Produccion_barriles_t_mas_1', 'diff_t_6_t_5', 'diff_t_5_t_4',\n",
       "       'diff_t_4_t_3', 'diff_t_3_t_2', 'diff_t_2_t_1', 'diff_t_6_t_1',\n",
       "       'diff_t_5_t_1', 'diff_t_4_t_1', 'diff_t_3_t_1',\n",
       "       'aceleracion_de_produccion _t3t2_t2t1',\n",
       "       'aceleracion_de_produccion _t4t3_t2t1', 'std_t_6_t_1', 'median_t_6_t_1',\n",
       "       'min_t_6_t_1', 'q75_t_6_t_1', 'q25_t_6_t_1', 'q90_t_6_t_1',\n",
       "       'q10_t_6_t_1', 'max_t_6_t_1', 'rango_t6_t1', 'media_movil_t_2_t_1',\n",
       "       'media_movil_t_3_t_1', 'media_movil_t_4_t_1', 'media_movil_t_5_t_1',\n",
       "       'media_movil_t_6_t_1', 'dummi_pico_bajo', 'month_1', 'month_2',\n",
       "       'month_3', 'month_4', 'month_5', 'month_6', 'month_7', 'month_8',\n",
       "       'month_9', 'month_10', 'month_11', 'month_12', 'latitud', 'longitud',\n",
       "       'equipo_perforacion_PM-113', 'equipo_perforacion_PM-472',\n",
       "       'equipo_perforacion_PM-504', 'equipo_perforacion_PM-5571',\n",
       "       'equipo_perforacion_PM-5596', 'equipo_perforacion_PM-5597',\n",
       "       'equipo_perforacion_PM-5599', 'equipo_perforacion_PM-5620',\n",
       "       'equipo_perforacion_PM-5626', 'equipo_perforacion_PM-5627',\n",
       "       'equipo_perforacion_PM-73', 'equipo_perforacion_PM-78',\n",
       "       'equipo_perforacion_PM-92', 'equipo_perforacion_SIN INFORMACION',\n",
       "       'clasificacion_lahee_07-07-01', 'clasificacion_lahee_SIN INRMACION'],\n",
       "      dtype='object')"
      ]
     },
     "execution_count": 55,
     "metadata": {},
     "output_type": "execute_result"
    }
   ],
   "source": [
    "df_train.columns"
   ]
  },
  {
   "cell_type": "code",
   "execution_count": 56,
   "metadata": {},
   "outputs": [],
   "source": [
    "df_train = df_train[df_train.Produccion_barriles_t > df_train.Produccion_barriles_t.quantile(0.005)]\n",
    "df_train = df_train[df_train.Produccion_barriles_t_1 > df_train.Produccion_barriles_t_1.quantile(0.001)]\n",
    "df_train = df_train[df_train.Produccion_barriles_t_2 > df_train.Produccion_barriles_t_2.quantile(0.001)]\n",
    "df_train = df_train[df_train.Produccion_barriles_t_3 > df_train.Produccion_barriles_t_3.quantile(0.001)]\n",
    "df_train = df_train[df_train.Produccion_barriles_t_4 > df_train.Produccion_barriles_t_4.quantile(0.001)]\n",
    "df_train = df_train[df_train.Produccion_barriles_t_5 > df_train.Produccion_barriles_t_5.quantile(0.001)]\n",
    "df_train = df_train[df_train.Produccion_barriles_t_6 > df_train.Produccion_barriles_t_6.quantile(0.001)]"
   ]
  },
  {
   "cell_type": "code",
   "execution_count": 57,
   "metadata": {},
   "outputs": [],
   "source": [
    "df_train = df_train[df_train.Produccion_barriles_t < df_train.Produccion_barriles_t.quantile(0.99)]"
   ]
  },
  {
   "cell_type": "code",
   "execution_count": 58,
   "metadata": {},
   "outputs": [],
   "source": [
    "df_train = df_train[df_train.Produccion_barriles_t_1 < df_train.Produccion_barriles_t_1.quantile(0.99)]\n",
    "df_train = df_train[df_train.Produccion_barriles_t_2 < df_train.Produccion_barriles_t_2.quantile(0.99)]\n",
    "df_train = df_train[df_train.Produccion_barriles_t_3 < df_train.Produccion_barriles_t_3.quantile(0.99)]\n",
    "df_train = df_train[df_train.Produccion_barriles_t_4 < df_train.Produccion_barriles_t_4.quantile(0.99)]\n",
    "df_train = df_train[df_train.Produccion_barriles_t_5 < df_train.Produccion_barriles_t_5.quantile(0.99)]\n",
    "df_train = df_train[df_train.Produccion_barriles_t_6 < df_train.Produccion_barriles_t_6.quantile(0.99)]"
   ]
  },
  {
   "cell_type": "code",
   "execution_count": 59,
   "metadata": {},
   "outputs": [],
   "source": [
    "df_train.reset_index(inplace=True, drop=True)"
   ]
  },
  {
   "cell_type": "code",
   "execution_count": 60,
   "metadata": {},
   "outputs": [
    {
     "data": {
      "text/plain": [
       "(18044, 66)"
      ]
     },
     "execution_count": 60,
     "metadata": {},
     "output_type": "execute_result"
    }
   ],
   "source": [
    "df_train.shape"
   ]
  },
  {
   "cell_type": "markdown",
   "metadata": {},
   "source": [
    "# Clustering Vemos que hay tipos de pozos con produccion similar"
   ]
  },
  {
   "cell_type": "code",
   "execution_count": 61,
   "metadata": {},
   "outputs": [],
   "source": [
    "from sklearn.cluster import KMeans"
   ]
  },
  {
   "cell_type": "code",
   "execution_count": 62,
   "metadata": {},
   "outputs": [
    {
     "data": {
      "text/plain": [
       "Index(['Pozo', 'fecha_produccion', 'Produccion_barriles_t_6',\n",
       "       'Produccion_barriles_t_5', 'Produccion_barriles_t_4',\n",
       "       'Produccion_barriles_t_3', 'Produccion_barriles_t_2',\n",
       "       'Produccion_barriles_t_1', 'Produccion_barriles_t',\n",
       "       'Produccion_barriles_t_mas_1', 'diff_t_6_t_5', 'diff_t_5_t_4',\n",
       "       'diff_t_4_t_3', 'diff_t_3_t_2', 'diff_t_2_t_1', 'diff_t_6_t_1',\n",
       "       'diff_t_5_t_1', 'diff_t_4_t_1', 'diff_t_3_t_1',\n",
       "       'aceleracion_de_produccion _t3t2_t2t1',\n",
       "       'aceleracion_de_produccion _t4t3_t2t1', 'std_t_6_t_1', 'median_t_6_t_1',\n",
       "       'min_t_6_t_1', 'q75_t_6_t_1', 'q25_t_6_t_1', 'q90_t_6_t_1',\n",
       "       'q10_t_6_t_1', 'max_t_6_t_1', 'rango_t6_t1', 'media_movil_t_2_t_1',\n",
       "       'media_movil_t_3_t_1', 'media_movil_t_4_t_1', 'media_movil_t_5_t_1',\n",
       "       'media_movil_t_6_t_1', 'dummi_pico_bajo', 'month_1', 'month_2',\n",
       "       'month_3', 'month_4', 'month_5', 'month_6', 'month_7', 'month_8',\n",
       "       'month_9', 'month_10', 'month_11', 'month_12', 'latitud', 'longitud',\n",
       "       'equipo_perforacion_PM-113', 'equipo_perforacion_PM-472',\n",
       "       'equipo_perforacion_PM-504', 'equipo_perforacion_PM-5571',\n",
       "       'equipo_perforacion_PM-5596', 'equipo_perforacion_PM-5597',\n",
       "       'equipo_perforacion_PM-5599', 'equipo_perforacion_PM-5620',\n",
       "       'equipo_perforacion_PM-5626', 'equipo_perforacion_PM-5627',\n",
       "       'equipo_perforacion_PM-73', 'equipo_perforacion_PM-78',\n",
       "       'equipo_perforacion_PM-92', 'equipo_perforacion_SIN INFORMACION',\n",
       "       'clasificacion_lahee_07-07-01', 'clasificacion_lahee_SIN INRMACION'],\n",
       "      dtype='object')"
      ]
     },
     "execution_count": 62,
     "metadata": {},
     "output_type": "execute_result"
    }
   ],
   "source": [
    "df_train.columns"
   ]
  },
  {
   "cell_type": "code",
   "execution_count": 63,
   "metadata": {},
   "outputs": [],
   "source": [
    "num_cols = ['Produccion_barriles_t_6',\n",
    "       'Produccion_barriles_t_5', 'Produccion_barriles_t_4',\n",
    "       'Produccion_barriles_t_3', 'Produccion_barriles_t_2',\n",
    "       'Produccion_barriles_t_1',\n",
    "        \n",
    "        'diff_t_6_t_5', 'diff_t_5_t_4',\n",
    "       'diff_t_4_t_3', 'diff_t_3_t_2', 'diff_t_2_t_1', 'diff_t_6_t_1',\n",
    "       'diff_t_5_t_1', 'diff_t_4_t_1', 'diff_t_3_t_1',\n",
    "            \n",
    "       'aceleracion_de_produccion _t3t2_t2t1', \n",
    "            'std_t_6_t_1', 'median_t_6_t_1',\n",
    "       'min_t_6_t_1', 'q75_t_6_t_1', 'q25_t_6_t_1', 'q90_t_6_t_1',\n",
    "       'q10_t_6_t_1', 'max_t_6_t_1', 'rango_t6_t1', \n",
    "            'media_movil_t_2_t_1',\n",
    "       'media_movil_t_3_t_1', 'media_movil_t_4_t_1', 'media_movil_t_5_t_1',\n",
    "       'media_movil_t_6_t_1',\n",
    "         'month_1', 'month_2',\n",
    "       'month_3', 'month_4', 'month_5', 'month_6', 'month_7', 'month_8',\n",
    "       'month_9', 'month_10', 'month_11', 'month_12', \n",
    "            #'detenido_mes_antes',\n",
    "       'latitud', 'longitud', \n",
    "            'equipo_perforacion_PM-113',\n",
    "       'equipo_perforacion_PM-472', 'equipo_perforacion_PM-504',\n",
    "       'equipo_perforacion_PM-5571', 'equipo_perforacion_PM-5596',\n",
    "       'equipo_perforacion_PM-5597', 'equipo_perforacion_PM-5599',\n",
    "       'equipo_perforacion_PM-5620', 'equipo_perforacion_PM-5626',\n",
    "       'equipo_perforacion_PM-5627', 'equipo_perforacion_PM-73',\n",
    "       'equipo_perforacion_PM-78', 'equipo_perforacion_PM-92',\n",
    "       'equipo_perforacion_SIN INFORMACION', \n",
    "            'clasificacion_lahee_07-07-01',\n",
    "       'clasificacion_lahee_SIN INRMACION']"
   ]
  },
  {
   "cell_type": "code",
   "execution_count": 64,
   "metadata": {},
   "outputs": [],
   "source": [
    "df_std = (df_train[num_cols] - df_train[num_cols].mean()) / df_train[num_cols].std()"
   ]
  },
  {
   "cell_type": "code",
   "execution_count": 65,
   "metadata": {},
   "outputs": [],
   "source": [
    "Sum_of_squared_distances = []\n",
    "K = range(1,15)\n",
    "for k in K:\n",
    "    km = KMeans(n_clusters=k)\n",
    "    km = km.fit(df_std)\n",
    "    Sum_of_squared_distances.append(km.inertia_)"
   ]
  },
  {
   "cell_type": "code",
   "execution_count": 66,
   "metadata": {},
   "outputs": [
    {
     "data": {
      "image/png": "[encoded data removed]",
      "text/plain": [
       "<Figure size 1152x864 with 1 Axes>"
      ]
     },
     "metadata": {},
     "output_type": "display_data"
    }
   ],
   "source": [
    "plt.plot(K, Sum_of_squared_distances, 'bx-')\n",
    "plt.xlabel('k')\n",
    "plt.ylabel('Sum_of_squared_distances')\n",
    "plt.title('Elbow Method For Optimal k')\n",
    "plt.xticks(np.arange(1,15));"
   ]
  },
  {
   "cell_type": "code",
   "execution_count": 67,
   "metadata": {},
   "outputs": [
    {
     "data": {
      "text/plain": [
       "KMeans(algorithm='auto', copy_x=True, init='k-means++', max_iter=300,\n",
       "    n_clusters=5, n_init=10, n_jobs=1, precompute_distances='auto',\n",
       "    random_state=None, tol=0.0001, verbose=0)"
      ]
     },
     "execution_count": 67,
     "metadata": {},
     "output_type": "execute_result"
    }
   ],
   "source": [
    "kmeans = KMeans(n_clusters=5)\n",
    "kmeans.fit(df_std)"
   ]
  },
  {
   "cell_type": "code",
   "execution_count": 68,
   "metadata": {},
   "outputs": [],
   "source": [
    "df_train = pd.concat([df_train,pd.get_dummies(kmeans.predict(df_std),prefix=\"cluster\")],1).dropna()"
   ]
  },
  {
   "cell_type": "code",
   "execution_count": 69,
   "metadata": {},
   "outputs": [],
   "source": [
    "df_train[\"cluster\"] = kmeans.predict(df_std)"
   ]
  },
  {
   "cell_type": "markdown",
   "metadata": {},
   "source": [
    "Si ayuda agregar clusters, vemos que hay pozos que producen menos."
   ]
  },
  {
   "cell_type": "markdown",
   "metadata": {},
   "source": [
    "# Caracteristicas del pozo"
   ]
  },
  {
   "cell_type": "code",
   "execution_count": 70,
   "metadata": {},
   "outputs": [
    {
     "data": {
      "text/plain": [
       "Index(['Pozo', 'fecha_produccion', 'Produccion_barriles_t_6',\n",
       "       'Produccion_barriles_t_5', 'Produccion_barriles_t_4',\n",
       "       'Produccion_barriles_t_3', 'Produccion_barriles_t_2',\n",
       "       'Produccion_barriles_t_1', 'Produccion_barriles_t',\n",
       "       'Produccion_barriles_t_mas_1', 'diff_t_6_t_5', 'diff_t_5_t_4',\n",
       "       'diff_t_4_t_3', 'diff_t_3_t_2', 'diff_t_2_t_1', 'diff_t_6_t_1',\n",
       "       'diff_t_5_t_1', 'diff_t_4_t_1', 'diff_t_3_t_1',\n",
       "       'aceleracion_de_produccion _t3t2_t2t1',\n",
       "       'aceleracion_de_produccion _t4t3_t2t1', 'std_t_6_t_1', 'median_t_6_t_1',\n",
       "       'min_t_6_t_1', 'q75_t_6_t_1', 'q25_t_6_t_1', 'q90_t_6_t_1',\n",
       "       'q10_t_6_t_1', 'max_t_6_t_1', 'rango_t6_t1', 'media_movil_t_2_t_1',\n",
       "       'media_movil_t_3_t_1', 'media_movil_t_4_t_1', 'media_movil_t_5_t_1',\n",
       "       'media_movil_t_6_t_1', 'dummi_pico_bajo', 'month_1', 'month_2',\n",
       "       'month_3', 'month_4', 'month_5', 'month_6', 'month_7', 'month_8',\n",
       "       'month_9', 'month_10', 'month_11', 'month_12', 'latitud', 'longitud',\n",
       "       'equipo_perforacion_PM-113', 'equipo_perforacion_PM-472',\n",
       "       'equipo_perforacion_PM-504', 'equipo_perforacion_PM-5571',\n",
       "       'equipo_perforacion_PM-5596', 'equipo_perforacion_PM-5597',\n",
       "       'equipo_perforacion_PM-5599', 'equipo_perforacion_PM-5620',\n",
       "       'equipo_perforacion_PM-5626', 'equipo_perforacion_PM-5627',\n",
       "       'equipo_perforacion_PM-73', 'equipo_perforacion_PM-78',\n",
       "       'equipo_perforacion_PM-92', 'equipo_perforacion_SIN INFORMACION',\n",
       "       'clasificacion_lahee_07-07-01', 'clasificacion_lahee_SIN INRMACION',\n",
       "       'cluster_0', 'cluster_1', 'cluster_2', 'cluster_3', 'cluster_4',\n",
       "       'cluster'],\n",
       "      dtype='object')"
      ]
     },
     "execution_count": 70,
     "metadata": {},
     "output_type": "execute_result"
    }
   ],
   "source": [
    "df_train.columns"
   ]
  },
  {
   "cell_type": "markdown",
   "metadata": {},
   "source": [
    "# AED"
   ]
  },
  {
   "cell_type": "code",
   "execution_count": 71,
   "metadata": {},
   "outputs": [
    {
     "data": {
      "image/png": "[encoded data removed]",
      "text/plain": [
       "<Figure size 1080x360 with 1 Axes>"
      ]
     },
     "metadata": {},
     "output_type": "display_data"
    }
   ],
   "source": [
    "df_train.Produccion_barriles_t.hist(bins=25, figsize=(15,5))\n",
    "plt.title('Histograma de variable predictiva')\n",
    "plt.xticks(np.linspace(0,4000,15));"
   ]
  },
  {
   "cell_type": "markdown",
   "metadata": {},
   "source": [
    "# Dispersiones"
   ]
  },
  {
   "cell_type": "code",
   "execution_count": 72,
   "metadata": {},
   "outputs": [
    {
     "data": {
      "text/plain": [
       "Index(['Pozo', 'fecha_produccion', 'Produccion_barriles_t_6',\n",
       "       'Produccion_barriles_t_5', 'Produccion_barriles_t_4',\n",
       "       'Produccion_barriles_t_3', 'Produccion_barriles_t_2',\n",
       "       'Produccion_barriles_t_1', 'Produccion_barriles_t',\n",
       "       'Produccion_barriles_t_mas_1', 'diff_t_6_t_5', 'diff_t_5_t_4',\n",
       "       'diff_t_4_t_3', 'diff_t_3_t_2', 'diff_t_2_t_1', 'diff_t_6_t_1',\n",
       "       'diff_t_5_t_1', 'diff_t_4_t_1', 'diff_t_3_t_1',\n",
       "       'aceleracion_de_produccion _t3t2_t2t1',\n",
       "       'aceleracion_de_produccion _t4t3_t2t1', 'std_t_6_t_1', 'median_t_6_t_1',\n",
       "       'min_t_6_t_1', 'q75_t_6_t_1', 'q25_t_6_t_1', 'q90_t_6_t_1',\n",
       "       'q10_t_6_t_1', 'max_t_6_t_1', 'rango_t6_t1', 'media_movil_t_2_t_1',\n",
       "       'media_movil_t_3_t_1', 'media_movil_t_4_t_1', 'media_movil_t_5_t_1',\n",
       "       'media_movil_t_6_t_1', 'dummi_pico_bajo', 'month_1', 'month_2',\n",
       "       'month_3', 'month_4', 'month_5', 'month_6', 'month_7', 'month_8',\n",
       "       'month_9', 'month_10', 'month_11', 'month_12', 'latitud', 'longitud',\n",
       "       'equipo_perforacion_PM-113', 'equipo_perforacion_PM-472',\n",
       "       'equipo_perforacion_PM-504', 'equipo_perforacion_PM-5571',\n",
       "       'equipo_perforacion_PM-5596', 'equipo_perforacion_PM-5597',\n",
       "       'equipo_perforacion_PM-5599', 'equipo_perforacion_PM-5620',\n",
       "       'equipo_perforacion_PM-5626', 'equipo_perforacion_PM-5627',\n",
       "       'equipo_perforacion_PM-73', 'equipo_perforacion_PM-78',\n",
       "       'equipo_perforacion_PM-92', 'equipo_perforacion_SIN INFORMACION',\n",
       "       'clasificacion_lahee_07-07-01', 'clasificacion_lahee_SIN INRMACION',\n",
       "       'cluster_0', 'cluster_1', 'cluster_2', 'cluster_3', 'cluster_4',\n",
       "       'cluster'],\n",
       "      dtype='object')"
      ]
     },
     "execution_count": 72,
     "metadata": {},
     "output_type": "execute_result"
    }
   ],
   "source": [
    "df_train.columns"
   ]
  },
  {
   "cell_type": "code",
   "execution_count": 73,
   "metadata": {},
   "outputs": [],
   "source": [
    "num_cols = ['Produccion_barriles_t_6',\n",
    "       'Produccion_barriles_t_5', 'Produccion_barriles_t_4',\n",
    "       'Produccion_barriles_t_3', 'Produccion_barriles_t_2',\n",
    "       'Produccion_barriles_t_1', \n",
    "            'diff_t_6_t_5', 'diff_t_5_t_4',\n",
    "       'diff_t_4_t_3', 'diff_t_3_t_2', 'diff_t_2_t_1', 'diff_t_6_t_1',\n",
    "       'diff_t_5_t_1', 'diff_t_4_t_1', 'diff_t_3_t_1',\n",
    "       'aceleracion_de_produccion _t3t2_t2t1', 'std_t_6_t_1', 'median_t_6_t_1',\n",
    "       'min_t_6_t_1', 'q75_t_6_t_1', 'q25_t_6_t_1', 'q90_t_6_t_1',\n",
    "       'q10_t_6_t_1', 'max_t_6_t_1', 'rango_t6_t1', 'media_movil_t_2_t_1',\n",
    "       'media_movil_t_3_t_1', 'media_movil_t_4_t_1', 'media_movil_t_5_t_1',\n",
    "       'media_movil_t_6_t_1', \n",
    "            'month_1', 'month_2',\n",
    "       'month_3', 'month_4', 'month_5', 'month_6', 'month_7', 'month_8',\n",
    "       'month_9', 'month_10', 'month_11', 'month_12', \n",
    "            #'detenido_mes_antes',\n",
    "       'latitud', 'longitud',\n",
    "            'equipo_perforacion_PM-113',\n",
    "       'equipo_perforacion_PM-472', 'equipo_perforacion_PM-504',\n",
    "       'equipo_perforacion_PM-5571', 'equipo_perforacion_PM-5596',\n",
    "       'equipo_perforacion_PM-5597', 'equipo_perforacion_PM-5599',\n",
    "       'equipo_perforacion_PM-5620', 'equipo_perforacion_PM-5626',\n",
    "       'equipo_perforacion_PM-5627', 'equipo_perforacion_PM-73',\n",
    "       'equipo_perforacion_PM-78', 'equipo_perforacion_PM-92',\n",
    "       'equipo_perforacion_SIN INFORMACION', 'clasificacion_lahee_07-07-01',\n",
    "       'clasificacion_lahee_SIN INRMACION', \n",
    "            'cluster_0', 'cluster_1',\n",
    "       'cluster_2', 'cluster_3', 'cluster_4', 'cluster']"
   ]
  },
  {
   "cell_type": "markdown",
   "metadata": {},
   "source": [
    "En algun momento dibujaras un mapa aqui"
   ]
  },
  {
   "cell_type": "code",
   "execution_count": 74,
   "metadata": {},
   "outputs": [],
   "source": [
    "lat = df_train.groupby('Pozo')[['latitud','longitud']].first().latitud.values\n",
    "lon = df_train.groupby('Pozo')[['latitud','longitud']].first().latitud.values\n",
    "idx = df_train.groupby('Pozo')[['latitud','longitud']].first().index.values"
   ]
  },
  {
   "cell_type": "code",
   "execution_count": 75,
   "metadata": {},
   "outputs": [
    {
     "data": {
      "text/plain": [
       "Index(['Pozo', 'fecha_produccion', 'Produccion_barriles_t_6',\n",
       "       'Produccion_barriles_t_5', 'Produccion_barriles_t_4',\n",
       "       'Produccion_barriles_t_3', 'Produccion_barriles_t_2',\n",
       "       'Produccion_barriles_t_1', 'Produccion_barriles_t',\n",
       "       'Produccion_barriles_t_mas_1', 'diff_t_6_t_5', 'diff_t_5_t_4',\n",
       "       'diff_t_4_t_3', 'diff_t_3_t_2', 'diff_t_2_t_1', 'diff_t_6_t_1',\n",
       "       'diff_t_5_t_1', 'diff_t_4_t_1', 'diff_t_3_t_1',\n",
       "       'aceleracion_de_produccion _t3t2_t2t1',\n",
       "       'aceleracion_de_produccion _t4t3_t2t1', 'std_t_6_t_1', 'median_t_6_t_1',\n",
       "       'min_t_6_t_1', 'q75_t_6_t_1', 'q25_t_6_t_1', 'q90_t_6_t_1',\n",
       "       'q10_t_6_t_1', 'max_t_6_t_1', 'rango_t6_t1', 'media_movil_t_2_t_1',\n",
       "       'media_movil_t_3_t_1', 'media_movil_t_4_t_1', 'media_movil_t_5_t_1',\n",
       "       'media_movil_t_6_t_1', 'dummi_pico_bajo', 'month_1', 'month_2',\n",
       "       'month_3', 'month_4', 'month_5', 'month_6', 'month_7', 'month_8',\n",
       "       'month_9', 'month_10', 'month_11', 'month_12', 'latitud', 'longitud',\n",
       "       'equipo_perforacion_PM-113', 'equipo_perforacion_PM-472',\n",
       "       'equipo_perforacion_PM-504', 'equipo_perforacion_PM-5571',\n",
       "       'equipo_perforacion_PM-5596', 'equipo_perforacion_PM-5597',\n",
       "       'equipo_perforacion_PM-5599', 'equipo_perforacion_PM-5620',\n",
       "       'equipo_perforacion_PM-5626', 'equipo_perforacion_PM-5627',\n",
       "       'equipo_perforacion_PM-73', 'equipo_perforacion_PM-78',\n",
       "       'equipo_perforacion_PM-92', 'equipo_perforacion_SIN INFORMACION',\n",
       "       'clasificacion_lahee_07-07-01', 'clasificacion_lahee_SIN INRMACION',\n",
       "       'cluster_0', 'cluster_1', 'cluster_2', 'cluster_3', 'cluster_4',\n",
       "       'cluster'],\n",
       "      dtype='object')"
      ]
     },
     "execution_count": 75,
     "metadata": {},
     "output_type": "execute_result"
    }
   ],
   "source": [
    "df_train.columns"
   ]
  },
  {
   "cell_type": "code",
   "execution_count": 76,
   "metadata": {},
   "outputs": [
    {
     "data": {
      "text/plain": [
       "Text(0.5, 1.0, 'Observamos que hay pozos estables en cantidad de produccion y\\n            otros que ascienden o descienden en produccion')"
      ]
     },
     "execution_count": 76,
     "metadata": {},
     "output_type": "execute_result"
    },
    {
     "data": {
      "image/png": "[encoded data removed]",
      "text/plain": [
       "<Figure size 1152x864 with 2 Axes>"
      ]
     },
     "metadata": {},
     "output_type": "display_data"
    }
   ],
   "source": [
    "sns.heatmap(df_train.groupby('cluster')[[ 'Produccion_barriles_t_6',\n",
    "       'Produccion_barriles_t_5', 'Produccion_barriles_t_4',\n",
    "       'Produccion_barriles_t_3', 'Produccion_barriles_t_2',\n",
    "       'Produccion_barriles_t_1']].mean(),cmap='jet')\n",
    "plt.title('''Observamos que hay pozos estables en cantidad de produccion y\n",
    "            otros que ascienden o descienden en produccion''')"
   ]
  },
  {
   "cell_type": "markdown",
   "metadata": {},
   "source": [
    "# Entrenamiento\n",
    "\n",
    "Analisis con h2o no obtuvo mejores resultados, se carga el modelo light_gbm_31-07-2019.pkl"
   ]
  },
  {
   "cell_type": "code",
   "execution_count": 77,
   "metadata": {},
   "outputs": [
    {
     "data": {
      "text/plain": [
       "Index(['Pozo', 'fecha_produccion', 'Produccion_barriles_t_6',\n",
       "       'Produccion_barriles_t_5', 'Produccion_barriles_t_4',\n",
       "       'Produccion_barriles_t_3', 'Produccion_barriles_t_2',\n",
       "       'Produccion_barriles_t_1', 'Produccion_barriles_t',\n",
       "       'Produccion_barriles_t_mas_1', 'diff_t_6_t_5', 'diff_t_5_t_4',\n",
       "       'diff_t_4_t_3', 'diff_t_3_t_2', 'diff_t_2_t_1', 'diff_t_6_t_1',\n",
       "       'diff_t_5_t_1', 'diff_t_4_t_1', 'diff_t_3_t_1',\n",
       "       'aceleracion_de_produccion _t3t2_t2t1',\n",
       "       'aceleracion_de_produccion _t4t3_t2t1', 'std_t_6_t_1', 'median_t_6_t_1',\n",
       "       'min_t_6_t_1', 'q75_t_6_t_1', 'q25_t_6_t_1', 'q90_t_6_t_1',\n",
       "       'q10_t_6_t_1', 'max_t_6_t_1', 'rango_t6_t1', 'media_movil_t_2_t_1',\n",
       "       'media_movil_t_3_t_1', 'media_movil_t_4_t_1', 'media_movil_t_5_t_1',\n",
       "       'media_movil_t_6_t_1', 'dummi_pico_bajo', 'month_1', 'month_2',\n",
       "       'month_3', 'month_4', 'month_5', 'month_6', 'month_7', 'month_8',\n",
       "       'month_9', 'month_10', 'month_11', 'month_12', 'latitud', 'longitud',\n",
       "       'equipo_perforacion_PM-113', 'equipo_perforacion_PM-472',\n",
       "       'equipo_perforacion_PM-504', 'equipo_perforacion_PM-5571',\n",
       "       'equipo_perforacion_PM-5596', 'equipo_perforacion_PM-5597',\n",
       "       'equipo_perforacion_PM-5599', 'equipo_perforacion_PM-5620',\n",
       "       'equipo_perforacion_PM-5626', 'equipo_perforacion_PM-5627',\n",
       "       'equipo_perforacion_PM-73', 'equipo_perforacion_PM-78',\n",
       "       'equipo_perforacion_PM-92', 'equipo_perforacion_SIN INFORMACION',\n",
       "       'clasificacion_lahee_07-07-01', 'clasificacion_lahee_SIN INRMACION',\n",
       "       'cluster_0', 'cluster_1', 'cluster_2', 'cluster_3', 'cluster_4',\n",
       "       'cluster'],\n",
       "      dtype='object')"
      ]
     },
     "execution_count": 77,
     "metadata": {},
     "output_type": "execute_result"
    }
   ],
   "source": [
    "df_train.columns"
   ]
  },
  {
   "cell_type": "code",
   "execution_count": 78,
   "metadata": {},
   "outputs": [],
   "source": [
    "num_cols =['Produccion_barriles_t_6',\n",
    "       'Produccion_barriles_t_5', 'Produccion_barriles_t_4',\n",
    "       'Produccion_barriles_t_3', 'Produccion_barriles_t_2',\n",
    "       'Produccion_barriles_t_1', \n",
    "           'diff_t_6_t_5', 'diff_t_5_t_4',\n",
    "       'diff_t_4_t_3', 'diff_t_3_t_2', 'diff_t_2_t_1', 'diff_t_6_t_1',\n",
    "       'diff_t_5_t_1', 'diff_t_4_t_1', 'diff_t_3_t_1',\n",
    "           \n",
    "       'aceleracion_de_produccion _t3t2_t2t1',\n",
    "           'std_t_6_t_1', 'median_t_6_t_1',\n",
    "       'min_t_6_t_1', 'q75_t_6_t_1', 'q25_t_6_t_1', 'q90_t_6_t_1',\n",
    "       'q10_t_6_t_1', 'max_t_6_t_1', 'rango_t6_t1', \n",
    "           'media_movil_t_2_t_1',\n",
    "       'media_movil_t_3_t_1', 'media_movil_t_4_t_1', 'media_movil_t_5_t_1',\n",
    "       'media_movil_t_6_t_1', \n",
    "            'month_1', 'month_2',\n",
    "       'month_3', 'month_4', 'month_5', 'month_6', 'month_7', 'month_8',\n",
    "       'month_9', 'month_10', 'month_11', 'month_12',\n",
    "           #'detenido_mes_antes',\n",
    "       'latitud', 'longitud',\n",
    "           'equipo_perforacion_PM-113',\n",
    "       'equipo_perforacion_PM-472', 'equipo_perforacion_PM-504',\n",
    "       'equipo_perforacion_PM-5571', 'equipo_perforacion_PM-5596',\n",
    "       'equipo_perforacion_PM-5597', 'equipo_perforacion_PM-5599',\n",
    "       'equipo_perforacion_PM-5620', 'equipo_perforacion_PM-5626',\n",
    "       'equipo_perforacion_PM-5627', 'equipo_perforacion_PM-73',\n",
    "       'equipo_perforacion_PM-78', 'equipo_perforacion_PM-92',\n",
    "       'equipo_perforacion_SIN INFORMACION',\n",
    "           'clasificacion_lahee_07-07-01',\n",
    "       'clasificacion_lahee_SIN INRMACION', \n",
    "           'cluster_0', 'cluster_1',\n",
    "       'cluster_2', 'cluster_3', 'cluster_4']"
   ]
  },
  {
   "cell_type": "markdown",
   "metadata": {},
   "source": [
    "## AutoML h2o"
   ]
  },
  {
   "cell_type": "code",
   "execution_count": 79,
   "metadata": {},
   "outputs": [],
   "source": [
    "import h2o"
   ]
  },
  {
   "cell_type": "code",
   "execution_count": 80,
   "metadata": {},
   "outputs": [
    {
     "name": "stdout",
     "output_type": "stream",
     "text": [
      "Checking whether there is an H2O instance running at http://localhost:54321..... not found.\n",
      "Attempting to start a local H2O server...\n",
      "; Java HotSpot(TM) 64-Bit Server VM (build 25.221-b11, mixed mode)\n",
      "  Starting server from C:\\Users\\serch\\Anaconda3\\lib\\site-packages\\h2o\\backend\\bin\\h2o.jar\n",
      "  Ice root: C:\\Users\\serch\\AppData\\Local\\Temp\\tmpxfn32wyw\n",
      "  JVM stdout: C:\\Users\\serch\\AppData\\Local\\Temp\\tmpxfn32wyw\\h2o_serch_started_from_python.out\n",
      "  JVM stderr: C:\\Users\\serch\\AppData\\Local\\Temp\\tmpxfn32wyw\\h2o_serch_started_from_python.err\n",
      "  Server is running at http://127.0.0.1:54321\n",
      "Connecting to H2O server at http://127.0.0.1:54321... successful.\n",
      "Warning: Your H2O cluster version is too old (8 months and 10 days)! Please download and install the latest version from http://h2o.ai/download/\n"
     ]
    },
    {
     "data": {
      "text/html": [
       "<div style=\"overflow:auto\"><table style=\"width:50%\"><tr><td>H2O cluster uptime:</td>\n",
       "<td>04 secs</td></tr>\n",
       "<tr><td>H2O cluster timezone:</td>\n",
       "<td>America/Mexico_City</td></tr>\n",
       "<tr><td>H2O data parsing timezone:</td>\n",
       "<td>UTC</td></tr>\n",
       "<tr><td>H2O cluster version:</td>\n",
       "<td>3.22.0.2</td></tr>\n",
       "<tr><td>H2O cluster version age:</td>\n",
       "<td>8 months and 10 days !!!</td></tr>\n",
       "<tr><td>H2O cluster name:</td>\n",
       "<td>H2O_from_python_serch_v04yf1</td></tr>\n",
       "<tr><td>H2O cluster total nodes:</td>\n",
       "<td>1</td></tr>\n",
       "<tr><td>H2O cluster free memory:</td>\n",
       "<td>3.090 Gb</td></tr>\n",
       "<tr><td>H2O cluster total cores:</td>\n",
       "<td>8</td></tr>\n",
       "<tr><td>H2O cluster allowed cores:</td>\n",
       "<td>8</td></tr>\n",
       "<tr><td>H2O cluster status:</td>\n",
       "<td>accepting new members, healthy</td></tr>\n",
       "<tr><td>H2O connection url:</td>\n",
       "<td>http://127.0.0.1:54321</td></tr>\n",
       "<tr><td>H2O connection proxy:</td>\n",
       "<td>None</td></tr>\n",
       "<tr><td>H2O internal security:</td>\n",
       "<td>False</td></tr>\n",
       "<tr><td>H2O API Extensions:</td>\n",
       "<td>Algos, AutoML, Core V3, Core V4</td></tr>\n",
       "<tr><td>Python version:</td>\n",
       "<td>3.7.0 final</td></tr></table></div>"
      ],
      "text/plain": [
       "--------------------------  -------------------------------\n",
       "H2O cluster uptime:         04 secs\n",
       "H2O cluster timezone:       America/Mexico_City\n",
       "H2O data parsing timezone:  UTC\n",
       "H2O cluster version:        3.22.0.2\n",
       "H2O cluster version age:    8 months and 10 days !!!\n",
       "H2O cluster name:           H2O_from_python_serch_v04yf1\n",
       "H2O cluster total nodes:    1\n",
       "H2O cluster free memory:    3.090 Gb\n",
       "H2O cluster total cores:    8\n",
       "H2O cluster allowed cores:  8\n",
       "H2O cluster status:         accepting new members, healthy\n",
       "H2O connection url:         http://127.0.0.1:54321\n",
       "H2O connection proxy:\n",
       "H2O internal security:      False\n",
       "H2O API Extensions:         Algos, AutoML, Core V3, Core V4\n",
       "Python version:             3.7.0 final\n",
       "--------------------------  -------------------------------"
      ]
     },
     "metadata": {},
     "output_type": "display_data"
    }
   ],
   "source": [
    "h2o.init()"
   ]
  },
  {
   "cell_type": "code",
   "execution_count": 81,
   "metadata": {},
   "outputs": [],
   "source": [
    "from h2o.automl import H2OAutoML"
   ]
  },
  {
   "cell_type": "code",
   "execution_count": 82,
   "metadata": {},
   "outputs": [],
   "source": [
    "y='Produccion_barriles_t'"
   ]
  },
  {
   "cell_type": "code",
   "execution_count": 83,
   "metadata": {},
   "outputs": [],
   "source": [
    "idx_valid = [5469, 6240, 10002, 835, 15796, 1795, 16313, 15401, 11518, 16082, 11863, 929, 12271, 15054, 10878, 6184, 331, 223, 17301, 5285, 7693, 2295, 16175, 11771, 16528, 14935, 6266, 7262, 14692, 10958, 13365, 11017, 1331, 16073, 10693, 8164, 16851, 6489, 15255, 16093, 7301, 14261, 13588, 13377, 4014, 7496, 5775, 8610, 16032, 8613, 13269, 1743, 1389, 14155, 12832, 10523, 5820, 273, 16223, 4573, 14566, 3952, 365, 6146, 9282, 9942, 7350, 1760, 14057, 14738, 4331, 14061, 1010, 3393, 16656, 1958, 6765, 17090, 17098, 7862, 18023, 13770, 111, 3923, 4842, 11545, 2092, 6474, 1175, 15391, 4398, 169, 13392, 13817, 6917, 17496, 16209, 8952, 13777, 14746, 9116, 9819, 4571, 7069, 17714, 243, 1123, 9695, 654, 2137, 5511, 5258, 2858, 9683, 13448, 2594, 14205, 16867, 4742, 4146, 4151, 2215, 4136, 2045, 7367, 1114, 8877, 6762, 12158, 11381, 9999, 3534, 6620, 15769, 16823, 6334, 7438, 5337, 1100, 15294, 15554, 7339, 2157, 5811, 13831, 890, 9086, 16870, 10816, 5281, 8093, 10100, 2993, 17320, 6650, 156, 4434, 14686, 17634, 15766, 16152, 15835, 6810, 932, 16700, 5193, 5947, 6098, 2236, 11996, 10362, 18013, 13190, 12145, 15166, 1989, 5365, 9400, 10003, 4196, 3742, 11362, 4874, 7152, 5741, 12538, 928, 1319, 9924, 8085, 17701, 7434, 3056, 4147, 10375, 288, 17427, 13676, 17642, 6891, 1774, 11520, 12189, 17219, 17052, 5453, 6535, 6586, 7504, 4020, 12990, 2041, 12947, 5215, 3460, 7790, 2573, 16119, 13927, 4754, 12992, 15288, 16755, 10680, 5884, 5508, 12431, 1188, 159, 11687, 10642, 8590, 9247, 3344, 2595, 3617, 13313, 9103, 4480, 4727, 3464, 13170, 6955, 14836, 12238, 8160, 16911, 9677, 16858, 7015, 9761, 4702, 12610, 7814, 17030, 7533, 942, 13804, 17447, 256, 3597, 12266, 15733, 6707, 3935, 8861, 9696, 3240, 12067, 10814, 2100, 2288, 15425, 5504, 5003, 7327, 16721, 7830, 15232, 10235, 10309, 11472, 11761, 13528, 12970, 3354, 7688, 3186, 13502, 7916, 16351, 10230, 12380, 1555, 13470, 3911, 6193, 4908, 11690, 3600, 9656, 268, 12086, 17308, 2410, 7626, 15250, 12222, 14391, 6012, 15888, 5666, 7567, 13043, 7347, 5879, 4884, 7609, 14440, 14242, 14760, 5813, 5120, 644, 2768, 17000, 6615, 13873, 7218, 15948, 4566, 1907, 782, 6168, 11584, 14677, 12639, 17671, 15562, 11628, 10441, 13308, 16100, 2282, 4116, 9914, 12399, 13953, 11710, 2551, 8623, 5283, 206, 4823, 15743, 4245, 3610, 12066, 6718, 11849, 8886, 5582, 2836, 13824, 7704, 7960, 3677, 11226, 4308, 10641, 14554, 17201, 13988, 1180, 8443, 8997, 7945, 4659, 12472, 1379, 17893, 5354, 8747, 2854, 18002, 15661, 6703, 1226, 16279, 13004, 15605, 16917, 12442, 10929, 5114, 6324, 18020, 9795, 8808, 15031, 2102, 6648, 8123, 7308, 7455, 6923, 7534, 12195, 14319, 17349, 8321, 10714, 799, 4121, 4327, 17983, 14126, 176, 2934, 10972, 5232, 3499, 4544, 16388, 3692, 4359, 12634, 17871, 15872, 9059, 9940, 9391, 3173, 15073, 1157, 8856, 12710, 12460, 15313, 6179, 10883, 4555, 11611, 945, 17961, 8201, 9363, 4924, 1550, 6661, 526, 3839, 11192, 5066, 10601, 12782, 17034, 14594, 15271, 17970, 9664, 4729, 5333, 9794, 4958, 14244, 9134, 3465, 1747, 4405, 14209, 676, 5254, 7400, 7989, 16725, 11478, 16278, 3246, 17311, 4316, 12950, 473, 56, 8440, 8393, 15533, 8324, 7479, 568, 11305, 4881, 14408, 2882, 4293, 15714, 11494, 4296, 10011, 10287, 16743, 9950, 4841, 11613, 4999, 5864, 2806, 1292, 1588, 12777, 7317, 5731, 10616, 12906, 16316, 1325, 5099, 2332, 10315, 1440, 17777, 1410, 17978, 14460, 13185, 13577, 15410, 2774, 17392, 3905, 6970, 436, 1013, 13340, 7028, 574, 13638, 12916, 2318, 1633, 1299, 11092, 11458, 9377, 1302, 9577, 10935, 5022, 15571, 1819, 8999, 8851, 14857, 13131, 8521, 8899, 16658, 13806, 3832, 10215, 14437, 7052, 17529, 15078, 10154, 5882, 969, 13163, 3431, 11453, 16935, 15732, 9509, 1261, 11279, 16381, 2965, 16126, 4123, 3727, 16053, 13720, 11310, 4845, 13083, 18033, 9295, 6622, 9371, 15737, 10384, 9556, 13897, 9629, 9648, 10821, 4917, 7478, 5004, 15858, 17303, 8088, 196, 1374, 2932, 16103, 11065, 4553, 13613, 11939, 7474, 1955, 4914, 17163, 16219, 15963, 7093, 6942, 9784, 3485, 12093, 5797, 12347, 1780, 15091, 15998, 2651, 10530, 11394, 15818, 4287, 17013, 5694, 2427, 5326, 7801, 896, 2713, 536, 5089, 11344, 17400, 1296, 13184, 15145, 10835, 16339, 9895, 8844, 10464, 3380, 2990, 15779, 3963, 9078, 13641, 15715, 9669, 14875, 14423, 11402, 10656, 13985, 5446, 13165, 15400, 7680, 13198, 15039, 15405, 1635, 2536, 5878, 7057, 16524, 1927, 13328, 11892, 7269, 7226, 5529, 1436, 6543, 12750, 10468, 3017, 29, 12030, 6205, 11735, 7557, 14683, 13834, 198, 6303, 3406, 209, 9579, 14719, 7014, 2310, 17803, 4338, 14110, 9884, 15305, 6500, 14842, 16327, 3632, 12640, 5430, 16742, 12516, 2582, 18041, 9229, 10431, 4749, 17592, 16230, 10008, 3766, 9240, 5720, 16546, 7639, 2664, 4997, 2133, 14203, 4168, 15668, 1970, 1453, 4707, 13666, 16458, 10701, 858, 8977, 12436, 16320, 17104, 933, 2097, 3706, 10974, 9393, 16723, 8678, 9464, 13449, 12065, 3681, 15443, 15347, 14632, 7449, 12501, 13353, 11946, 10365, 9529, 17505, 12849, 5040, 17195, 15827, 117, 7000, 13273, 9809, 14439, 16360, 4931, 443, 7709, 13084, 14422, 13879, 8789, 15049, 10921, 3386, 15721, 9902, 10501, 5889, 10871, 9221, 5873, 233, 7243, 4755, 15283, 4955, 1312, 15093, 14708, 11977, 106, 3009, 15586, 4543, 2615, 3646, 15007, 619, 544, 3752, 12457, 7047, 10415, 13619, 17347, 7798, 12671, 3862, 5950, 14910, 11138, 752, 11379, 14832, 7497, 10264, 1133, 12734, 4890, 15090, 11861, 12119, 682, 14278, 3396, 12863, 6858, 15870, 17247, 6578, 16815, 17235, 8985, 4363, 628, 17099, 11015, 17009, 9688, 4549, 17549, 13848, 17468, 14249, 8779, 9365, 17426, 1007, 1716, 4873, 6253, 11204, 12993, 14634, 10198, 10469, 11689, 1390, 16733, 7625, 6974, 9984, 1428, 17964, 15524, 1658, 3523, 943, 5163, 2249, 5569, 9855, 14450, 9286, 15503, 5587, 15445, 13935, 961, 2691, 10178, 3983, 1996, 4494, 13238, 3606, 17723, 10423, 6461, 6027, 14415, 10595, 4202, 2442, 10584, 9494, 10846, 9013, 15922, 17616, 967, 9249, 3245, 7185, 6122, 8065, 5059, 10249, 7861, 15132, 15988, 16006, 14673, 16767, 6640, 886, 5721, 837, 376, 5546, 5905, 6485, 9699, 2160, 3906, 6646, 4247, 7416, 2311, 907, 16355, 3274, 8208, 6865, 12987, 7012, 5049, 581, 15696, 5545, 11672, 12835, 1294, 16290, 803, 3996, 17429, 16525, 15613, 977, 5118, 3747, 112, 17779, 4765, 511, 8215, 7499, 547, 3435, 8009, 14264, 10212, 599, 13928, 14546, 3052, 10733, 17134, 3452, 12680, 6520, 14907, 8839, 11300, 10251, 6384, 8310, 849, 12383, 2153, 8620, 7744, 18022, 7834, 6464, 11307, 3462, 7723, 12076, 8473, 7821, 1844, 17486, 10794, 701, 7491, 3658, 13481, 13079, 8031, 3615, 9058, 8036, 5534, 10946, 14191, 9773, 17863, 16978, 15677, 8826, 7910, 7173, 4850, 6182, 13929, 13217, 12227, 10001, 1777, 11388, 624, 17073, 10024, 17040, 17316, 14753, 10613, 1531, 5250, 904, 798, 15052, 3891, 4225, 9369, 6595, 2005, 14214, 2892, 7736, 14226, 12978, 1701, 9060, 2486, 7081, 7150, 5515, 11266, 12021, 3739, 6208, 4110, 5178, 9706, 12682, 8030, 17774, 210, 17007, 7594, 1503, 13714, 7870, 1811, 12031, 12758, 54, 16542, 15472, 15614, 9481, 1579, 5443, 10926, 10785, 10256, 6251, 3300, 16860, 2184, 17025, 2335, 3987, 9938, 5392, 7655, 5304, 778, 3890, 13791, 3079, 8892, 13379, 13540, 14501, 12319, 3521, 11646, 1244, 14432, 8142, 5752, 5802, 5412, 17548, 5987, 13653, 8350, 15040, 87, 11395, 14, 7299, 1781, 3399, 8539, 7506, 16736, 6585, 7095, 10580, 13196, 3670, 12943, 14775, 3919, 5634, 14750, 5062, 7963, 4774, 9244, 6658, 310, 2383, 10687, 3776, 1231, 1982, 17704, 5977, 12621, 9670, 1354, 8584, 3941, 4190, 2731, 4126, 1318, 9694, 8989, 1820, 3295, 10450, 17850, 2234, 10619, 3036, 17026, 8710, 10455, 17611, 2697, 17127, 15106, 13223, 18010, 9627, 11324, 18001, 10435, 7546, 17590, 1146, 5562, 15032, 3811, 7333, 15642, 529, 8287, 7038, 1967, 14911, 16920, 13250, 979, 17081, 9159, 7891, 67, 12156, 7447, 17291, 11396, 5958, 11668, 15580, 12098, 10120, 10489, 4015, 17353, 7331, 8051, 2803, 15191, 9604, 13236, 13371, 14065, 15015, 3957, 6057, 7207, 10224, 4613, 9612, 16464, 3924, 13923, 12551, 1865, 1158, 11512, 10834, 5238, 2231, 10391, 17997, 18012, 464, 9006, 7176, 15920, 15094, 15646, 16402, 8001, 6314, 3038, 12083, 12991, 16877, 24, 11117, 14333, 8501, 6785, 3542, 14376, 2208, 4535, 11732, 4737, 1094, 15529, 1069, 4371, 14234, 6711, 5915, 5651, 6147, 11222, 2434, 2132, 7394, 16445, 8098, 4653, 6722, 8626, 15845, 17890, 3383, 9318, 9272, 13265, 16885, 11149, 1024, 5795, 6235, 16081, 16550, 12185, 15933, 15482, 13809, 3045, 9959, 7472, 1547, 7769, 1939, 7658, 15121, 4593, 17791, 3129, 4272, 12850, 9331, 10628, 12552, 1762, 10571, 1116, 15843, 5918, 14533, 12242, 12101, 15992, 5609, 3585, 5941, 6100, 14709, 1018, 8466, 9803, 13130, 13148, 17827, 11045, 16801, 2734, 1433, 13978, 17702, 9712, 10639, 13301, 3457, 8319, 9461, 13005, 12348, 11931, 14158, 13486, 15478, 6844, 16776, 3389, 15687, 5520, 16007, 6672, 12408, 4204, 1282, 1495, 8289, 1940, 10407, 9881, 17076, 4435, 2489, 15343, 12829, 10491, 690, 16952, 5436, 3029, 8470, 14635, 14102, 7460, 6409, 11, 4863, 3720, 3812, 306, 15632, 3243, 17576, 8114, 15246, 12615, 3539, 16047, 11759, 8417, 7233, 10851, 9426, 9660, 16803, 14943, 1551, 679, 13569, 3728, 9979, 8303, 3555, 14237, 396, 17882, 5185, 4607, 5327, 5757, 3215, 4640, 13485, 11260, 580, 4259, 9234, 15912, 2901, 16487, 9765, 3819, 11860, 16102, 6899, 10950, 16961, 2533, 13887, 4154, 2155, 8593, 10037, 4664, 9167, 6115, 16448, 5633, 10257, 2306, 13407, 409, 14957, 14491, 3900, 51, 237, 11987, 88, 12956, 9160, 1647, 13197, 16248, 16847, 4741, 9245, 141, 5401, 16358, 15704, 17159, 16989, 1153, 3680, 13294, 887, 6577, 16591, 12986, 1917, 7684, 12395, 6930, 15320, 8344, 7725, 3469, 3216, 11634, 16894, 17142, 11810, 11984, 15311, 6218, 14720, 5519, 1852, 13982, 6112, 3913, 8712, 16229, 15953, 10588, 1174, 11455, 14145, 8835, 13627, 11640, 5606, 12569, 2416, 3345, 15899, 9343, 13511, 8254, 13740, 9023, 10917, 16423, 499, 13067, 4408, 3334, 5831, 3106, 1957, 1711, 2087, 15741, 12801, 1176, 1908, 1992, 3666, 4031, 13941, 11091, 17249, 52, 7806, 2220, 14516, 9875, 15151, 10791, 12328, 13532, 2052, 13850, 9479, 12204, 107, 420, 7851, 6621, 9893, 6998, 4801, 17022, 17731, 8220, 8781, 1966, 1543, 4312, 4875, 2671, 7112, 11662, 4001, 3734, 16619, 691, 17125, 5640, 17752, 4058, 12357, 11796, 5783, 9374, 5724, 13410, 14783, 6892, 10095, 15946, 5460, 11873, 3981, 17309, 12753, 1882, 7750, 6293, 12405, 14224, 12897, 6032, 13478, 10498, 15817, 16466, 12362, 16560, 1323, 246, 7973, 17995, 8095, 12144, 8563, 15647, 6365, 14925, 807, 3314, 15925, 3861, 10416, 14293, 10793, 10990, 6284, 3026, 823, 13876, 14186, 8760, 2808, 15813, 13444, 6979, 1858, 8204, 11823, 14736, 10587, 8368, 8467, 520, 10425, 15442, 12659, 4279, 5223, 2557, 4440, 3973, 15350, 9554, 8027, 14617, 1000, 11871, 7356, 12553, 11410, 1166, 5897, 7905, 2590, 17489, 7786, 8664, 4200, 17191, 17274, 5222, 17430, 8078, 5739, 1833, 10699, 6957, 1485, 1944, 11566, 11116, 1619, 10077, 16088, 9467, 18021, 9378, 10626, 3217, 3708, 10981, 5109, 13601, 7883, 12514, 9225, 14512, 3258, 9856, 11078, 6947, 15319, 17768, 3004, 13919, 5021, 89, 16317, 13135, 6510, 13576, 1916, 15014, 14455, 10932, 5535, 7397, 10199, 7361, 14668, 14781, 11425, 774, 2376, 16643, 13943, 12474, 1159, 10274, 13248, 7217, 13678, 7923, 15381, 17137, 9933, 13046, 8025, 8168, 1400, 12567, 1330, 9250, 13748, 8495, 1873, 2862, 6494, 5347, 6415, 8023, 2787, 733, 5242, 10353, 5423, 12265, 6538, 16498, 11947, 11488, 7390, 13175, 468, 10704, 9265, 2305, 7409, 15651, 14876, 7055, 1326, 13745, 5063, 3774, 3247, 11839, 16178, 1610, 3100, 10035, 3122, 1768, 2634, 16319, 3491, 14248, 14411, 13728, 8754, 8083, 3409, 5749, 2135, 1383, 7708, 6207, 8721]"
   ]
  },
  {
   "cell_type": "code",
   "execution_count": 84,
   "metadata": {},
   "outputs": [
    {
     "name": "stdout",
     "output_type": "stream",
     "text": [
      "Parse progress: |█████████████████████████████████████████████████████████| 100%\n"
     ]
    }
   ],
   "source": [
    "# pasar DataFrame a un objeto de h2o\n",
    "dfh=h2o.H2OFrame(df_train[df_train.index.isin(idx_valid) == False][num_cols+['Produccion_barriles_t']])"
   ]
  },
  {
   "cell_type": "code",
   "execution_count": 85,
   "metadata": {},
   "outputs": [
    {
     "name": "stdout",
     "output_type": "stream",
     "text": [
      "Parse progress: |█████████████████████████████████████████████████████████| 100%\n"
     ]
    }
   ],
   "source": [
    "valid=h2o.H2OFrame(df_train[df_train.index.isin(idx_valid)][num_cols+['Produccion_barriles_t']])"
   ]
  },
  {
   "cell_type": "code",
   "execution_count": 86,
   "metadata": {},
   "outputs": [
    {
     "data": {
      "text/plain": [
       "(16239, 66)"
      ]
     },
     "execution_count": 86,
     "metadata": {},
     "output_type": "execute_result"
    }
   ],
   "source": [
    "dfh.shape"
   ]
  },
  {
   "cell_type": "code",
   "execution_count": 87,
   "metadata": {},
   "outputs": [
    {
     "data": {
      "text/plain": [
       "(1805, 66)"
      ]
     },
     "execution_count": 87,
     "metadata": {},
     "output_type": "execute_result"
    }
   ],
   "source": [
    "valid.shape"
   ]
  },
  {
   "cell_type": "code",
   "execution_count": 88,
   "metadata": {},
   "outputs": [
    {
     "data": {
      "text/plain": [
       "Index(['Pozo', 'fecha_produccion', 'Produccion_barriles_t_6',\n",
       "       'Produccion_barriles_t_5', 'Produccion_barriles_t_4',\n",
       "       'Produccion_barriles_t_3', 'Produccion_barriles_t_2',\n",
       "       'Produccion_barriles_t_1', 'Produccion_barriles_t',\n",
       "       'Produccion_barriles_t_mas_1', 'diff_t_6_t_5', 'diff_t_5_t_4',\n",
       "       'diff_t_4_t_3', 'diff_t_3_t_2', 'diff_t_2_t_1', 'diff_t_6_t_1',\n",
       "       'diff_t_5_t_1', 'diff_t_4_t_1', 'diff_t_3_t_1',\n",
       "       'aceleracion_de_produccion _t3t2_t2t1',\n",
       "       'aceleracion_de_produccion _t4t3_t2t1', 'std_t_6_t_1', 'median_t_6_t_1',\n",
       "       'min_t_6_t_1', 'q75_t_6_t_1', 'q25_t_6_t_1', 'q90_t_6_t_1',\n",
       "       'q10_t_6_t_1', 'max_t_6_t_1', 'rango_t6_t1', 'media_movil_t_2_t_1',\n",
       "       'media_movil_t_3_t_1', 'media_movil_t_4_t_1', 'media_movil_t_5_t_1',\n",
       "       'media_movil_t_6_t_1', 'dummi_pico_bajo', 'month_1', 'month_2',\n",
       "       'month_3', 'month_4', 'month_5', 'month_6', 'month_7', 'month_8',\n",
       "       'month_9', 'month_10', 'month_11', 'month_12', 'latitud', 'longitud',\n",
       "       'equipo_perforacion_PM-113', 'equipo_perforacion_PM-472',\n",
       "       'equipo_perforacion_PM-504', 'equipo_perforacion_PM-5571',\n",
       "       'equipo_perforacion_PM-5596', 'equipo_perforacion_PM-5597',\n",
       "       'equipo_perforacion_PM-5599', 'equipo_perforacion_PM-5620',\n",
       "       'equipo_perforacion_PM-5626', 'equipo_perforacion_PM-5627',\n",
       "       'equipo_perforacion_PM-73', 'equipo_perforacion_PM-78',\n",
       "       'equipo_perforacion_PM-92', 'equipo_perforacion_SIN INFORMACION',\n",
       "       'clasificacion_lahee_07-07-01', 'clasificacion_lahee_SIN INRMACION',\n",
       "       'cluster_0', 'cluster_1', 'cluster_2', 'cluster_3', 'cluster_4',\n",
       "       'cluster'],\n",
       "      dtype='object')"
      ]
     },
     "execution_count": 88,
     "metadata": {},
     "output_type": "execute_result"
    }
   ],
   "source": [
    "df_train.columns"
   ]
  },
  {
   "cell_type": "code",
   "execution_count": 89,
   "metadata": {},
   "outputs": [
    {
     "ename": "NameError",
     "evalue": "name 'train' is not defined",
     "output_type": "error",
     "traceback": [
      "\u001b[1;31m---------------------------------------------------------------------------\u001b[0m",
      "\u001b[1;31mNameError\u001b[0m                                 Traceback (most recent call last)",
      "\u001b[1;32m<ipython-input-89-0b73e5050d5d>\u001b[0m in \u001b[0;36m<module>\u001b[1;34m()\u001b[0m\n\u001b[1;32m----> 1\u001b[1;33m \u001b[0mtrain\u001b[0m\u001b[1;33m.\u001b[0m\u001b[0mcolumns\u001b[0m\u001b[1;33m\u001b[0m\u001b[0m\n\u001b[0m",
      "\u001b[1;31mNameError\u001b[0m: name 'train' is not defined"
     ]
    }
   ],
   "source": [
    "train.columns"
   ]
  },
  {
   "cell_type": "code",
   "execution_count": null,
   "metadata": {},
   "outputs": [],
   "source": [
    "# separar datos en train y test sets\n",
    "splits = dfh.split_frame(ratios = [0.8,0.1], seed = 1)\n",
    "train = splits[0]\n",
    "test = splits[1]\n",
    "pre_valid = splits[2]"
   ]
  },
  {
   "cell_type": "code",
   "execution_count": null,
   "metadata": {},
   "outputs": [],
   "source": [
    "# definición de los algoritmos, correr algoritmos\n",
    "aml = H2OAutoML(max_runtime_secs = 7200, seed = 1,\n",
    "                project_name = \"cluster_production\",\n",
    "                sort_metric='MAE')\n",
    "aml.train(y = y, \n",
    "          training_frame = train,\n",
    "          validation_frame = test)"
   ]
  },
  {
   "cell_type": "code",
   "execution_count": null,
   "metadata": {},
   "outputs": [],
   "source": [
    "aml.leaderboard.head()"
   ]
  },
  {
   "cell_type": "code",
   "execution_count": null,
   "metadata": {},
   "outputs": [],
   "source": [
    "aml.leader.model_performance(valid)"
   ]
  },
  {
   "cell_type": "code",
   "execution_count": null,
   "metadata": {},
   "outputs": [],
   "source": [
    "lb=aml.leaderboard\n",
    "lb.head(rows=lb.nrows)"
   ]
  },
  {
   "cell_type": "code",
   "execution_count": null,
   "metadata": {},
   "outputs": [],
   "source": [
    "aml.leader\n",
    "# .as_dataframe()"
   ]
  },
  {
   "cell_type": "code",
   "execution_count": null,
   "metadata": {},
   "outputs": [],
   "source": [
    "#x_train, x_test, x_valid, y_train, y_test, y_valid = st.train_test_valid_split(df_train, num_cols, 'Produccion_barriles_t')"
   ]
  },
  {
   "cell_type": "code",
   "execution_count": null,
   "metadata": {},
   "outputs": [],
   "source": [
    "x_train.shape"
   ]
  },
  {
   "cell_type": "code",
   "execution_count": null,
   "metadata": {},
   "outputs": [],
   "source": [
    "d_train = lgb.Dataset(x_train, y_train)\n",
    "d_test = lgb.Dataset(x_test, label=y_test)\n",
    "\n",
    "params = {}\n",
    "params['learning_rate'] = 0.001\n",
    "params['boosting_type'] = 'gbdt'\n",
    "params['objective'] = 'regression'\n",
    "params['metric'] = 'mae'\n",
    "params['sub_feature'] = 0.8\n",
    "params['num_leaves'] = 25\n",
    "params['min_data'] = 10\n",
    "params['max_depth'] = -1\n",
    "params['num_iterations'] = 100000\n",
    "\n",
    "clf = lgb.train(params, d_train, 100, valid_sets=[d_test], early_stopping_rounds=25,verbose_eval=10000)"
   ]
  },
  {
   "cell_type": "code",
   "execution_count": null,
   "metadata": {},
   "outputs": [],
   "source": [
    "clf.num_trees()"
   ]
  },
  {
   "cell_type": "markdown",
   "metadata": {},
   "source": [
    "# Optimizacion de Hiperparametros"
   ]
  },
  {
   "cell_type": "code",
   "execution_count": null,
   "metadata": {},
   "outputs": [],
   "source": [
    "def learning_rate_010_decay_power_099(current_iter):\n",
    "    base_learning_rate = 0.1\n",
    "    lr = base_learning_rate  * np.power(.99, current_iter)\n",
    "    return lr if lr > 1e-3 else 1e-3\n",
    "\n",
    "def learning_rate_010_decay_power_0995(current_iter):\n",
    "    base_learning_rate = 0.1\n",
    "    lr = base_learning_rate  * np.power(.995, current_iter)\n",
    "    return lr if lr > 1e-3 else 1e-3\n",
    "\n",
    "def learning_rate_005_decay_power_099(current_iter):\n",
    "    base_learning_rate = 0.05\n",
    "    lr = base_learning_rate  * np.power(.99, current_iter)\n",
    "    return lr if lr > 1e-3 else 1e-3"
   ]
  },
  {
   "cell_type": "code",
   "execution_count": null,
   "metadata": {},
   "outputs": [],
   "source": [
    "fit_params={\"early_stopping_rounds\":30, \n",
    "            \"eval_metric\" : 'auc', \n",
    "            \"eval_set\" : [(X_test,y_test)],\n",
    "            'eval_names': ['valid'],\n",
    "            #'callbacks': [lgb.reset_parameter(learning_rate=learning_rate_010_decay_power_099)],\n",
    "            'verbose': 100,\n",
    "            'categorical_feature': 'auto'}"
   ]
  },
  {
   "cell_type": "code",
   "execution_count": null,
   "metadata": {},
   "outputs": [],
   "source": [
    "from scipy.stats import randint as sp_randint\n",
    "from scipy.stats import uniform as sp_uniform\n",
    "param_test ={'num_leaves': sp_randint(6, 50), \n",
    "             'min_child_samples': sp_randint(100, 500), \n",
    "             'min_child_weight': [1e-5, 1e-3, 1e-2, 1e-1, 1, 1e1, 1e2, 1e3, 1e4],\n",
    "             'subsample': sp_uniform(loc=0.2, scale=0.8), \n",
    "             'colsample_bytree': sp_uniform(loc=0.4, scale=0.6),\n",
    "             'reg_alpha': [0, 1e-1, 1, 2, 5, 7, 10, 50, 100],\n",
    "             'reg_lambda': [0, 1e-1, 1, 5, 10, 20, 50, 100]}"
   ]
  },
  {
   "cell_type": "code",
   "execution_count": null,
   "metadata": {},
   "outputs": [],
   "source": [
    "#This parameter defines the number of HP points to be tested\n",
    "n_HP_points_to_test = 100\n",
    "\n",
    "import lightgbm as lgb\n",
    "from sklearn.model_selection import RandomizedSearchCV, GridSearchCV\n",
    "\n",
    "#n_estimators is set to a \"large value\". The actual number of trees build will depend on early stopping and 5000 define only the absolute maximum\n",
    "clf = lgb.LGBMClassifier(max_depth=-1, random_state=314, silent=True, metric='None', n_jobs=4, n_estimators=5000)\n",
    "gs = RandomizedSearchCV(\n",
    "    estimator=clf, param_distributions=param_test, \n",
    "    n_iter=n_HP_points_to_test,\n",
    "    scoring='roc_auc',\n",
    "    cv=3,\n",
    "    refit=True,\n",
    "    random_state=314,\n",
    "    verbose=True)"
   ]
  },
  {
   "cell_type": "code",
   "execution_count": null,
   "metadata": {},
   "outputs": [],
   "source": [
    "#gs.fit(X_train, y_train, **fit_params)\n",
    "#print('Best score reached: {} with params: {} '.format(gs.best_score_, gs.best_params_))"
   ]
  },
  {
   "cell_type": "code",
   "execution_count": null,
   "metadata": {},
   "outputs": [],
   "source": [
    "clf_sw = lgb.LGBMClassifier(**clf.get_params())\n",
    "#set optimal parameters\n",
    "clf_sw.set_params(**opt_parameters)"
   ]
  },
  {
   "cell_type": "code",
   "execution_count": null,
   "metadata": {},
   "outputs": [],
   "source": [
    "gs_sample_weight = GridSearchCV(estimator=clf_sw, \n",
    "                                param_grid={'scale_pos_weight':[1,2,6,12]},\n",
    "                                scoring='roc_auc',\n",
    "                                cv=5,\n",
    "                                refit=True,\n",
    "                                verbose=True)"
   ]
  },
  {
   "cell_type": "code",
   "execution_count": null,
   "metadata": {},
   "outputs": [],
   "source": [
    "gs_sample_weight.fit(X_train, y_train, **fit_params)\n",
    "print('Best score reached: {} with params: {} '.format(gs_sample_weight.best_score_, gs_sample_weight.best_params_))"
   ]
  },
  {
   "cell_type": "code",
   "execution_count": null,
   "metadata": {},
   "outputs": [],
   "source": []
  },
  {
   "cell_type": "markdown",
   "metadata": {},
   "source": [
    "# Evaluacion"
   ]
  },
  {
   "cell_type": "code",
   "execution_count": null,
   "metadata": {},
   "outputs": [],
   "source": [
    "#y_pred = clf.predict(x_valid)"
   ]
  },
  {
   "cell_type": "code",
   "execution_count": null,
   "metadata": {},
   "outputs": [],
   "source": [
    "y_pred=aml.predict(valid)"
   ]
  },
  {
   "cell_type": "code",
   "execution_count": null,
   "metadata": {},
   "outputs": [],
   "source": [
    "# transformar h2o a un DataFrame\n",
    "y_pred = h2o.as_list(y_pred, use_pandas=True).values\n",
    "y_valid = h2o.as_list(valid['Produccion_barriles_t'], use_pandas=True).values"
   ]
  },
  {
   "cell_type": "code",
   "execution_count": null,
   "metadata": {},
   "outputs": [],
   "source": [
    "from sklearn import metrics\n",
    "def report_evaluation_regression(y_real, y_pred, num_features):\n",
    "    \"\"\"Reporte de evaluacion,\n",
    "    y_real, y_pred=y_estimada,num_features=numero de variables\"\"\"\n",
    "    R2=metrics.r2_score(y_real,y_pred)\n",
    "    n=len(y_real)\n",
    "    p=num_features\n",
    "    r2 = 1-(1-R2)*(n-1)/(n-p-1)\n",
    "    \n",
    "    \n",
    "    print(\"$R^2$: %1.4f\" % R2)\n",
    "    \n",
    "    print(\"$R^2$ ajustada$: %1.4f\" % r2)\n",
    "    \n",
    "    print(\"MEA: %1.4f\" % metrics.mean_absolute_error(y_real,y_pred))\n",
    "    print(\"MSE %1.4f\" % metrics.mean_squared_error(y_real,y_pred))\n",
    "    print(\"RMSE %1.4f\" % np.sqrt(metrics.mean_squared_error(y_real,y_pred)))"
   ]
  },
  {
   "cell_type": "code",
   "execution_count": null,
   "metadata": {},
   "outputs": [],
   "source": [
    "report_evaluation_regression(y_valid, y_pred, df_train.shape[1])"
   ]
  },
  {
   "cell_type": "code",
   "execution_count": null,
   "metadata": {},
   "outputs": [],
   "source": [
    "def yy_plot(y_real, y_pred):\n",
    "    plt.scatter(y_real, y_pred, alpha=0.5)\n",
    "    mi2,ma2 = y_real.min(), y_real.max()\n",
    "    mi1,ma1 = y_pred.min(), y_pred.max()\n",
    "    plt.plot([mi2,ma2],[mi1,ma1], linestyle='--', color='navy')\n",
    "    plt.xlabel('Y_real')\n",
    "    plt.ylabel('Y_estimada')"
   ]
  },
  {
   "cell_type": "code",
   "execution_count": null,
   "metadata": {},
   "outputs": [],
   "source": [
    "yy_plot(y_valid, y_pred)"
   ]
  },
  {
   "cell_type": "markdown",
   "metadata": {},
   "source": [
    "## Residuos"
   ]
  },
  {
   "cell_type": "code",
   "execution_count": null,
   "metadata": {},
   "outputs": [],
   "source": [
    "res = (y_valid - y_pred) / y_valid"
   ]
  },
  {
   "cell_type": "code",
   "execution_count": null,
   "metadata": {},
   "outputs": [],
   "source": [
    "plt.scatter(y_valid, res, alpha=0.5)"
   ]
  },
  {
   "cell_type": "code",
   "execution_count": null,
   "metadata": {},
   "outputs": [],
   "source": [
    "pd.DataFrame(res).median() * 100"
   ]
  },
  {
   "cell_type": "code",
   "execution_count": null,
   "metadata": {},
   "outputs": [],
   "source": [
    "res.mean() * 100"
   ]
  },
  {
   "cell_type": "markdown",
   "metadata": {},
   "source": [
    "Blogs indican que es mejor hacer la estimacion de $\\hat{y}=P(t)-P(t-1)=\\alpha + \\sum {\\beta X_i} + \\epsilon$\n",
    "\n",
    "Se generan mas variables para ayudarle al modelo"
   ]
  },
  {
   "cell_type": "markdown",
   "metadata": {},
   "source": [
    "# Interpretacion"
   ]
  },
  {
   "cell_type": "code",
   "execution_count": null,
   "metadata": {},
   "outputs": [],
   "source": [
    "lgb.plot_importance(clf,max_num_features=10, title='Importancia de variables - Top 10')"
   ]
  },
  {
   "cell_type": "code",
   "execution_count": null,
   "metadata": {},
   "outputs": [],
   "source": [
    "explainer, shap_values = st.shap_shap(clf, x_valid)"
   ]
  },
  {
   "cell_type": "code",
   "execution_count": null,
   "metadata": {},
   "outputs": [],
   "source": [
    "shap.force_plot(explainer.expected_value, shap_values[5,:], x_valid.iloc[5,:])"
   ]
  },
  {
   "cell_type": "markdown",
   "metadata": {},
   "source": [
    "## Efectos Marginales"
   ]
  },
  {
   "cell_type": "code",
   "execution_count": null,
   "metadata": {},
   "outputs": [],
   "source": [
    "a = pd.DataFrame(clf.feature_importance(), index=x_valid.columns,\n",
    "             columns=['imp']).sort_values('imp')"
   ]
  },
  {
   "cell_type": "code",
   "execution_count": null,
   "metadata": {},
   "outputs": [],
   "source": [
    "for col in a.sort_values('imp',ascending=False).head(5).index:\n",
    "    shap.dependence_plot(col, shap_values, x_valid)"
   ]
  },
  {
   "cell_type": "markdown",
   "metadata": {},
   "source": [
    "# Check de pozos aleatorios"
   ]
  },
  {
   "cell_type": "code",
   "execution_count": null,
   "metadata": {},
   "outputs": [],
   "source": [
    "idx = df_train.Pozo.sample(10)"
   ]
  },
  {
   "cell_type": "code",
   "execution_count": null,
   "metadata": {},
   "outputs": [],
   "source": [
    "index = df_train[df_train.Pozo.isin(idx)].groupby(['Pozo','fecha_produccion']).Produccion_barriles_t.first().index"
   ]
  },
  {
   "cell_type": "code",
   "execution_count": null,
   "metadata": {},
   "outputs": [],
   "source": [
    "validacion = df_train[df_train.Pozo.isin(idx)].groupby(['Pozo','fecha_produccion']).Produccion_barriles_t.first().unstack(0)"
   ]
  },
  {
   "cell_type": "code",
   "execution_count": null,
   "metadata": {},
   "outputs": [],
   "source": [
    "prediction = clf.predict(df_train[df_train.Pozo.isin(idx)][num_cols])"
   ]
  },
  {
   "cell_type": "code",
   "execution_count": null,
   "metadata": {},
   "outputs": [],
   "source": [
    "prediccion_validacion = pd.DataFrame(prediction,columns=['prediction']).set_index(index).unstack(0)"
   ]
  },
  {
   "cell_type": "code",
   "execution_count": null,
   "metadata": {},
   "outputs": [],
   "source": [
    "ax = validacion.plot(figsize=(17,9),color='navy')\n",
    "prediccion_validacion.plot(ax = ax,color='cyan')"
   ]
  },
  {
   "cell_type": "code",
   "execution_count": null,
   "metadata": {},
   "outputs": [],
   "source": [
    "# pd.merge(validacion,prediccion_validacion,right_index=True, left_index=True).iplot()"
   ]
  },
  {
   "cell_type": "markdown",
   "metadata": {},
   "source": [
    "# Pozo promedio"
   ]
  },
  {
   "cell_type": "code",
   "execution_count": null,
   "metadata": {},
   "outputs": [],
   "source": [
    "preds = clf.predict(df_train[num_cols])\n",
    "real = df_train.Produccion_barriles_t"
   ]
  },
  {
   "cell_type": "code",
   "execution_count": null,
   "metadata": {},
   "outputs": [],
   "source": [
    "df_train['prediction'] = preds"
   ]
  },
  {
   "cell_type": "code",
   "execution_count": null,
   "metadata": {},
   "outputs": [],
   "source": [
    "df_train.groupby('fecha_produccion')[['Produccion_barriles_t','prediction']].mean().plot(\n",
    "    figsize=(15,6), title='Produccion promedio')\n",
    "plt.legend(['Produccion real', 'Produccion estimada'])"
   ]
  },
  {
   "cell_type": "markdown",
   "metadata": {},
   "source": [
    "# Pozo Tipo Promedio Base 0\n",
    "Seleccionar pozos que tengan al menos 10 anios de vida\n",
    "\n",
    "En promedio tienen 110 mediciones, es decir, al menos 9 anios de vida"
   ]
  },
  {
   "cell_type": "code",
   "execution_count": null,
   "metadata": {},
   "outputs": [],
   "source": [
    "df_train.groupby('Pozo').fecha_produccion.count().median()"
   ]
  },
  {
   "cell_type": "code",
   "execution_count": null,
   "metadata": {},
   "outputs": [],
   "source": [
    "pozos_vivos = df_train.groupby('Pozo').fecha_produccion.count()[df_train.groupby('Pozo').fecha_produccion.count() > 110].index"
   ]
  },
  {
   "cell_type": "code",
   "execution_count": null,
   "metadata": {},
   "outputs": [],
   "source": [
    "df_vivos = df_train[df_train.Pozo.isin(pozos_vivos)]"
   ]
  },
  {
   "cell_type": "code",
   "execution_count": null,
   "metadata": {},
   "outputs": [],
   "source": [
    "# ax = df_vivos.groupby('fecha_produccion')[['Qomes_b_t','prediction']].mean().plot(\n",
    "#     figsize=(15,6), title='Produccion promedio en un pozo tipo base 0',linewidth=4.0)\n",
    "\n",
    "# ax.fill_between(sorted(df_vivos.fecha_produccion.unique()), \n",
    "#                 df_vivos.groupby('fecha_produccion')['prediction'].mean(),\n",
    "#                 df_vivos.groupby('fecha_produccion')['prediction'].quantile(0.90),\n",
    "#                alpha=0.3, color='navy')\n",
    "\n",
    "# ax.fill_between(sorted(df_vivos.fecha_produccion.unique()), \n",
    "#                 df_vivos.groupby('fecha_produccion')['prediction'].quantile(0.10),\n",
    "#                 df_vivos.groupby('fecha_produccion')['prediction'].mean(),\n",
    "#                alpha=0.3, color='navy')\n",
    "\n",
    "# plt.legend(['Produccion real', 'Produccion estimada','quantil-90','quantil-10'])"
   ]
  },
  {
   "cell_type": "code",
   "execution_count": null,
   "metadata": {},
   "outputs": [],
   "source": [
    "df_vivos2 = df_vivos.groupby('fecha_produccion')[['Produccion_barriles_t','prediction']].mean()\n",
    "df_vivos2[\"Qomes_b_t_q90\"] = df_vivos.groupby('fecha_produccion')['Produccion_barriles_t'].quantile(0.90)\n",
    "df_vivos2[\"Qomes_b_t_q10\"] = df_vivos.groupby('fecha_produccion')['Produccion_barriles_t'].quantile(0.10)\n",
    "df_vivos2[\"prediccion_q90\"] = df_vivos.groupby('fecha_produccion')['prediction'].quantile(0.90)\n",
    "df_vivos2[\"prediccion_q10\"] = df_vivos.groupby('fecha_produccion')['prediction'].quantile(0.10)"
   ]
  },
  {
   "cell_type": "code",
   "execution_count": null,
   "metadata": {},
   "outputs": [],
   "source": [
    "# df_vivos2.columns = ['Produccion_promedio', 'prediction', 'prediccion_q90', 'prediccion_q10']"
   ]
  },
  {
   "cell_type": "code",
   "execution_count": null,
   "metadata": {},
   "outputs": [],
   "source": [
    "df_vivos2.iplot(title='Perfiles de pozos con su estimacion')"
   ]
  },
  {
   "cell_type": "markdown",
   "metadata": {},
   "source": [
    "# Carga de modelo"
   ]
  },
  {
   "cell_type": "code",
   "execution_count": 90,
   "metadata": {},
   "outputs": [],
   "source": [
    "from sklearn.externals import joblib"
   ]
  },
  {
   "cell_type": "code",
   "execution_count": 91,
   "metadata": {},
   "outputs": [],
   "source": [
    "# carga de modelo\n",
    "gbm_pickle = joblib.load('modelos/light_gbm_31-07-2019.pkl')"
   ]
  },
  {
   "cell_type": "markdown",
   "metadata": {},
   "source": [
    "# Generador de serie de tiempo"
   ]
  },
  {
   "cell_type": "code",
   "execution_count": 92,
   "metadata": {},
   "outputs": [],
   "source": [
    "df_simul = df_train[df_train.Pozo == 'MOLOACAN-836'].reset_index(drop=True)\n",
    "#df_simul.drop(['Qomes_b_t_log','cluster'], 1, inplace=True)\n",
    "df_simul.drop(['cluster'], 1, inplace=True)\n",
    "df_simul['y_real'] = df_simul.Produccion_barriles_t"
   ]
  },
  {
   "cell_type": "code",
   "execution_count": 93,
   "metadata": {},
   "outputs": [
    {
     "data": {
      "text/plain": [
       "Index(['Pozo', 'fecha_produccion', 'Produccion_barriles_t_6',\n",
       "       'Produccion_barriles_t_5', 'Produccion_barriles_t_4',\n",
       "       'Produccion_barriles_t_3', 'Produccion_barriles_t_2',\n",
       "       'Produccion_barriles_t_1', 'Produccion_barriles_t',\n",
       "       'Produccion_barriles_t_mas_1', 'diff_t_6_t_5', 'diff_t_5_t_4',\n",
       "       'diff_t_4_t_3', 'diff_t_3_t_2', 'diff_t_2_t_1', 'diff_t_6_t_1',\n",
       "       'diff_t_5_t_1', 'diff_t_4_t_1', 'diff_t_3_t_1',\n",
       "       'aceleracion_de_produccion _t3t2_t2t1',\n",
       "       'aceleracion_de_produccion _t4t3_t2t1', 'std_t_6_t_1', 'median_t_6_t_1',\n",
       "       'min_t_6_t_1', 'q75_t_6_t_1', 'q25_t_6_t_1', 'q90_t_6_t_1',\n",
       "       'q10_t_6_t_1', 'max_t_6_t_1', 'rango_t6_t1', 'media_movil_t_2_t_1',\n",
       "       'media_movil_t_3_t_1', 'media_movil_t_4_t_1', 'media_movil_t_5_t_1',\n",
       "       'media_movil_t_6_t_1', 'dummi_pico_bajo', 'month_1', 'month_2',\n",
       "       'month_3', 'month_4', 'month_5', 'month_6', 'month_7', 'month_8',\n",
       "       'month_9', 'month_10', 'month_11', 'month_12', 'latitud', 'longitud',\n",
       "       'equipo_perforacion_PM-113', 'equipo_perforacion_PM-472',\n",
       "       'equipo_perforacion_PM-504', 'equipo_perforacion_PM-5571',\n",
       "       'equipo_perforacion_PM-5596', 'equipo_perforacion_PM-5597',\n",
       "       'equipo_perforacion_PM-5599', 'equipo_perforacion_PM-5620',\n",
       "       'equipo_perforacion_PM-5626', 'equipo_perforacion_PM-5627',\n",
       "       'equipo_perforacion_PM-73', 'equipo_perforacion_PM-78',\n",
       "       'equipo_perforacion_PM-92', 'equipo_perforacion_SIN INFORMACION',\n",
       "       'clasificacion_lahee_07-07-01', 'clasificacion_lahee_SIN INRMACION',\n",
       "       'cluster_0', 'cluster_1', 'cluster_2', 'cluster_3', 'cluster_4',\n",
       "       'y_real'],\n",
       "      dtype='object')"
      ]
     },
     "execution_count": 93,
     "metadata": {},
     "output_type": "execute_result"
    }
   ],
   "source": [
    "df_simul.columns"
   ]
  },
  {
   "cell_type": "code",
   "execution_count": 94,
   "metadata": {},
   "outputs": [],
   "source": [
    "# variables a utilizar\n",
    "num_cols=['Produccion_barriles_t_6',\n",
    "       'Produccion_barriles_t_5', 'Produccion_barriles_t_4',\n",
    "       'Produccion_barriles_t_3', 'Produccion_barriles_t_2',\n",
    "       'Produccion_barriles_t_1', 'Produccion_barriles_t',\n",
    "       'Produccion_barriles_t_mas_1', 'diff_t_6_t_5', 'diff_t_5_t_4',\n",
    "       'diff_t_4_t_3', 'diff_t_3_t_2', 'diff_t_2_t_1', 'diff_t_6_t_1',\n",
    "       'diff_t_5_t_1', 'diff_t_4_t_1', 'diff_t_3_t_1',\n",
    "       'aceleracion_de_produccion _t3t2_t2t1',\n",
    "       'aceleracion_de_produccion _t4t3_t2t1', 'std_t_6_t_1', 'median_t_6_t_1',\n",
    "       'min_t_6_t_1', 'q75_t_6_t_1', 'q25_t_6_t_1', 'q90_t_6_t_1',\n",
    "       'q10_t_6_t_1', 'max_t_6_t_1', 'rango_t6_t1', 'media_movil_t_2_t_1',\n",
    "       'media_movil_t_3_t_1', 'media_movil_t_4_t_1', 'media_movil_t_5_t_1',\n",
    "       'media_movil_t_6_t_1', 'dummi_pico_bajo', 'month_1', 'month_2',\n",
    "       'month_3', 'month_4', 'month_5', 'month_6', 'month_7', 'month_8',\n",
    "       'month_9', 'month_10', 'month_11', 'month_12', 'latitud', 'longitud',\n",
    "       'equipo_perforacion_PM-113', 'equipo_perforacion_PM-472',\n",
    "       'equipo_perforacion_PM-504', 'equipo_perforacion_PM-5571',\n",
    "       'equipo_perforacion_PM-5596', 'equipo_perforacion_PM-5597',\n",
    "       'equipo_perforacion_PM-5599', 'equipo_perforacion_PM-5620',\n",
    "       'equipo_perforacion_PM-5626', 'equipo_perforacion_PM-5627',\n",
    "       'equipo_perforacion_PM-73', 'equipo_perforacion_PM-78',\n",
    "       'equipo_perforacion_PM-92', 'equipo_perforacion_SIN INFORMACION',\n",
    "       'clasificacion_lahee_07-07-01', 'clasificacion_lahee_SIN INRMACION',\n",
    "       'cluster_0', 'cluster_1', 'cluster_2', 'cluster_3', 'cluster_4']"
   ]
  },
  {
   "cell_type": "code",
   "execution_count": 97,
   "metadata": {},
   "outputs": [],
   "source": [
    "n_pred=3\n",
    "lag=7\n",
    "columna_inicial=2\n"
   ]
  },
  {
   "cell_type": "code",
   "execution_count": 98,
   "metadata": {},
   "outputs": [
    {
     "ename": "NameError",
     "evalue": "name 'df_prueba' is not defined",
     "output_type": "error",
     "traceback": [
      "\u001b[1;31m---------------------------------------------------------------------------\u001b[0m",
      "\u001b[1;31mNameError\u001b[0m                                 Traceback (most recent call last)",
      "\u001b[1;32m<ipython-input-98-05a3c6776f0d>\u001b[0m in \u001b[0;36m<module>\u001b[1;34m()\u001b[0m\n\u001b[1;32m----> 1\u001b[1;33m \u001b[0mdf_prueba\u001b[0m\u001b[1;33m.\u001b[0m\u001b[0mtail\u001b[0m\u001b[1;33m(\u001b[0m\u001b[1;33m)\u001b[0m\u001b[1;33m\u001b[0m\u001b[0m\n\u001b[0m",
      "\u001b[1;31mNameError\u001b[0m: name 'df_prueba' is not defined"
     ]
    }
   ],
   "source": [
    "df_prueba.tail()"
   ]
  },
  {
   "cell_type": "code",
   "execution_count": 99,
   "metadata": {},
   "outputs": [
    {
     "ename": "NameError",
     "evalue": "name 'pred' is not defined",
     "output_type": "error",
     "traceback": [
      "\u001b[1;31m---------------------------------------------------------------------------\u001b[0m",
      "\u001b[1;31mNameError\u001b[0m                                 Traceback (most recent call last)",
      "\u001b[1;32m<ipython-input-99-c6fc79dbd350>\u001b[0m in \u001b[0;36m<module>\u001b[1;34m()\u001b[0m\n\u001b[1;32m----> 1\u001b[1;33m \u001b[0mpred\u001b[0m\u001b[1;33m\u001b[0m\u001b[0m\n\u001b[0m",
      "\u001b[1;31mNameError\u001b[0m: name 'pred' is not defined"
     ]
    }
   ],
   "source": [
    "pred"
   ]
  },
  {
   "cell_type": "markdown",
   "metadata": {},
   "source": [
    "# Prueba Forecasting"
   ]
  },
  {
   "cell_type": "code",
   "execution_count": 100,
   "metadata": {},
   "outputs": [
    {
     "data": {
      "text/plain": [
       "13869    MOLOACAN-661\n",
       "10279    MOLOACAN-485\n",
       "Name: Pozo, dtype: object"
      ]
     },
     "execution_count": 100,
     "metadata": {},
     "output_type": "execute_result"
    }
   ],
   "source": [
    "df_train.Pozo.sample(2)"
   ]
  },
  {
   "cell_type": "code",
   "execution_count": 149,
   "metadata": {},
   "outputs": [],
   "source": [
    "df_prueba = df_train[df_train.Pozo == 'MOLOACAN-661'].reset_index(drop=True)\n",
    "df_prueba['y_real'] = df_prueba.Produccion_barriles_t"
   ]
  },
  {
   "cell_type": "code",
   "execution_count": 150,
   "metadata": {},
   "outputs": [
    {
     "data": {
      "text/plain": [
       "(138, 73)"
      ]
     },
     "execution_count": 150,
     "metadata": {},
     "output_type": "execute_result"
    }
   ],
   "source": [
    "df_prueba.shape"
   ]
  },
  {
   "cell_type": "code",
   "execution_count": 151,
   "metadata": {},
   "outputs": [
    {
     "data": {
      "text/html": [
       "<div>\n",
       "<style scoped>\n",
       "    .dataframe tbody tr th:only-of-type {\n",
       "        vertical-align: middle;\n",
       "    }\n",
       "\n",
       "    .dataframe tbody tr th {\n",
       "        vertical-align: top;\n",
       "    }\n",
       "\n",
       "    .dataframe thead th {\n",
       "        text-align: right;\n",
       "    }\n",
       "</style>\n",
       "<table border=\"1\" class=\"dataframe\">\n",
       "  <thead>\n",
       "    <tr style=\"text-align: right;\">\n",
       "      <th></th>\n",
       "      <th>Pozo</th>\n",
       "      <th>fecha_produccion</th>\n",
       "      <th>Produccion_barriles_t_6</th>\n",
       "      <th>Produccion_barriles_t_5</th>\n",
       "      <th>Produccion_barriles_t_4</th>\n",
       "      <th>Produccion_barriles_t_3</th>\n",
       "      <th>Produccion_barriles_t_2</th>\n",
       "      <th>Produccion_barriles_t_1</th>\n",
       "      <th>Produccion_barriles_t</th>\n",
       "      <th>Produccion_barriles_t_mas_1</th>\n",
       "      <th>...</th>\n",
       "      <th>equipo_perforacion_SIN INFORMACION</th>\n",
       "      <th>clasificacion_lahee_07-07-01</th>\n",
       "      <th>clasificacion_lahee_SIN INRMACION</th>\n",
       "      <th>cluster_0</th>\n",
       "      <th>cluster_1</th>\n",
       "      <th>cluster_2</th>\n",
       "      <th>cluster_3</th>\n",
       "      <th>cluster_4</th>\n",
       "      <th>cluster</th>\n",
       "      <th>y_real</th>\n",
       "    </tr>\n",
       "  </thead>\n",
       "  <tbody>\n",
       "    <tr>\n",
       "      <th>0</th>\n",
       "      <td>MOLOACAN-661</td>\n",
       "      <td>1999-01-01</td>\n",
       "      <td>593.28</td>\n",
       "      <td>554.47</td>\n",
       "      <td>612.23</td>\n",
       "      <td>473.03</td>\n",
       "      <td>659.13</td>\n",
       "      <td>592.53</td>\n",
       "      <td>375.82</td>\n",
       "      <td>375.14</td>\n",
       "      <td>...</td>\n",
       "      <td>0</td>\n",
       "      <td>1</td>\n",
       "      <td>0</td>\n",
       "      <td>0</td>\n",
       "      <td>0</td>\n",
       "      <td>1</td>\n",
       "      <td>0</td>\n",
       "      <td>0</td>\n",
       "      <td>2</td>\n",
       "      <td>375.82</td>\n",
       "    </tr>\n",
       "    <tr>\n",
       "      <th>1</th>\n",
       "      <td>MOLOACAN-661</td>\n",
       "      <td>1999-02-01</td>\n",
       "      <td>554.47</td>\n",
       "      <td>612.23</td>\n",
       "      <td>473.03</td>\n",
       "      <td>659.13</td>\n",
       "      <td>592.53</td>\n",
       "      <td>375.82</td>\n",
       "      <td>375.14</td>\n",
       "      <td>365.89</td>\n",
       "      <td>...</td>\n",
       "      <td>0</td>\n",
       "      <td>1</td>\n",
       "      <td>0</td>\n",
       "      <td>0</td>\n",
       "      <td>0</td>\n",
       "      <td>1</td>\n",
       "      <td>0</td>\n",
       "      <td>0</td>\n",
       "      <td>2</td>\n",
       "      <td>375.14</td>\n",
       "    </tr>\n",
       "    <tr>\n",
       "      <th>2</th>\n",
       "      <td>MOLOACAN-661</td>\n",
       "      <td>1999-03-01</td>\n",
       "      <td>612.23</td>\n",
       "      <td>473.03</td>\n",
       "      <td>659.13</td>\n",
       "      <td>592.53</td>\n",
       "      <td>375.82</td>\n",
       "      <td>375.14</td>\n",
       "      <td>365.89</td>\n",
       "      <td>396.59</td>\n",
       "      <td>...</td>\n",
       "      <td>0</td>\n",
       "      <td>1</td>\n",
       "      <td>0</td>\n",
       "      <td>0</td>\n",
       "      <td>0</td>\n",
       "      <td>1</td>\n",
       "      <td>0</td>\n",
       "      <td>0</td>\n",
       "      <td>2</td>\n",
       "      <td>365.89</td>\n",
       "    </tr>\n",
       "    <tr>\n",
       "      <th>3</th>\n",
       "      <td>MOLOACAN-661</td>\n",
       "      <td>1999-04-01</td>\n",
       "      <td>473.03</td>\n",
       "      <td>659.13</td>\n",
       "      <td>592.53</td>\n",
       "      <td>375.82</td>\n",
       "      <td>375.14</td>\n",
       "      <td>365.89</td>\n",
       "      <td>396.59</td>\n",
       "      <td>426.85</td>\n",
       "      <td>...</td>\n",
       "      <td>0</td>\n",
       "      <td>1</td>\n",
       "      <td>0</td>\n",
       "      <td>0</td>\n",
       "      <td>1</td>\n",
       "      <td>0</td>\n",
       "      <td>0</td>\n",
       "      <td>0</td>\n",
       "      <td>1</td>\n",
       "      <td>396.59</td>\n",
       "    </tr>\n",
       "    <tr>\n",
       "      <th>4</th>\n",
       "      <td>MOLOACAN-661</td>\n",
       "      <td>1999-05-01</td>\n",
       "      <td>659.13</td>\n",
       "      <td>592.53</td>\n",
       "      <td>375.82</td>\n",
       "      <td>375.14</td>\n",
       "      <td>365.89</td>\n",
       "      <td>396.59</td>\n",
       "      <td>426.85</td>\n",
       "      <td>529.49</td>\n",
       "      <td>...</td>\n",
       "      <td>0</td>\n",
       "      <td>1</td>\n",
       "      <td>0</td>\n",
       "      <td>0</td>\n",
       "      <td>1</td>\n",
       "      <td>0</td>\n",
       "      <td>0</td>\n",
       "      <td>0</td>\n",
       "      <td>1</td>\n",
       "      <td>426.85</td>\n",
       "    </tr>\n",
       "    <tr>\n",
       "      <th>5</th>\n",
       "      <td>MOLOACAN-661</td>\n",
       "      <td>1999-06-01</td>\n",
       "      <td>592.53</td>\n",
       "      <td>375.82</td>\n",
       "      <td>375.14</td>\n",
       "      <td>365.89</td>\n",
       "      <td>396.59</td>\n",
       "      <td>426.85</td>\n",
       "      <td>529.49</td>\n",
       "      <td>563.68</td>\n",
       "      <td>...</td>\n",
       "      <td>0</td>\n",
       "      <td>1</td>\n",
       "      <td>0</td>\n",
       "      <td>0</td>\n",
       "      <td>1</td>\n",
       "      <td>0</td>\n",
       "      <td>0</td>\n",
       "      <td>0</td>\n",
       "      <td>1</td>\n",
       "      <td>529.49</td>\n",
       "    </tr>\n",
       "  </tbody>\n",
       "</table>\n",
       "<p>6 rows × 73 columns</p>\n",
       "</div>"
      ],
      "text/plain": [
       "           Pozo fecha_produccion  Produccion_barriles_t_6  \\\n",
       "0  MOLOACAN-661       1999-01-01                   593.28   \n",
       "1  MOLOACAN-661       1999-02-01                   554.47   \n",
       "2  MOLOACAN-661       1999-03-01                   612.23   \n",
       "3  MOLOACAN-661       1999-04-01                   473.03   \n",
       "4  MOLOACAN-661       1999-05-01                   659.13   \n",
       "5  MOLOACAN-661       1999-06-01                   592.53   \n",
       "\n",
       "   Produccion_barriles_t_5  Produccion_barriles_t_4  Produccion_barriles_t_3  \\\n",
       "0                   554.47                   612.23                   473.03   \n",
       "1                   612.23                   473.03                   659.13   \n",
       "2                   473.03                   659.13                   592.53   \n",
       "3                   659.13                   592.53                   375.82   \n",
       "4                   592.53                   375.82                   375.14   \n",
       "5                   375.82                   375.14                   365.89   \n",
       "\n",
       "   Produccion_barriles_t_2  Produccion_barriles_t_1  Produccion_barriles_t  \\\n",
       "0                   659.13                   592.53                 375.82   \n",
       "1                   592.53                   375.82                 375.14   \n",
       "2                   375.82                   375.14                 365.89   \n",
       "3                   375.14                   365.89                 396.59   \n",
       "4                   365.89                   396.59                 426.85   \n",
       "5                   396.59                   426.85                 529.49   \n",
       "\n",
       "   Produccion_barriles_t_mas_1  ...  equipo_perforacion_SIN INFORMACION  \\\n",
       "0                       375.14  ...                                   0   \n",
       "1                       365.89  ...                                   0   \n",
       "2                       396.59  ...                                   0   \n",
       "3                       426.85  ...                                   0   \n",
       "4                       529.49  ...                                   0   \n",
       "5                       563.68  ...                                   0   \n",
       "\n",
       "   clasificacion_lahee_07-07-01  clasificacion_lahee_SIN INRMACION  cluster_0  \\\n",
       "0                             1                                  0          0   \n",
       "1                             1                                  0          0   \n",
       "2                             1                                  0          0   \n",
       "3                             1                                  0          0   \n",
       "4                             1                                  0          0   \n",
       "5                             1                                  0          0   \n",
       "\n",
       "   cluster_1  cluster_2  cluster_3  cluster_4  cluster  y_real  \n",
       "0          0          1          0          0        2  375.82  \n",
       "1          0          1          0          0        2  375.14  \n",
       "2          0          1          0          0        2  365.89  \n",
       "3          1          0          0          0        1  396.59  \n",
       "4          1          0          0          0        1  426.85  \n",
       "5          1          0          0          0        1  529.49  \n",
       "\n",
       "[6 rows x 73 columns]"
      ]
     },
     "execution_count": 151,
     "metadata": {},
     "output_type": "execute_result"
    }
   ],
   "source": [
    "# toma los primeros 6 meses\n",
    "df_simul=df_prueba.iloc[0:6]\n",
    "df_simul"
   ]
  },
  {
   "cell_type": "code",
   "execution_count": 152,
   "metadata": {},
   "outputs": [],
   "source": [
    "n_pred=df_prueba.shape[0]-6\n",
    "lag=7\n",
    "columna_inicial=2\n",
    "df_simul,pred=forecast(df_simul,n_pred,lag,columna_inicial,num_cols)\n",
    "df_simul['fecha_produccion']=df_prueba['fecha_produccion']"
   ]
  },
  {
   "cell_type": "code",
   "execution_count": 162,
   "metadata": {},
   "outputs": [
    {
     "data": {
      "text/html": [
       "<div>\n",
       "<style scoped>\n",
       "    .dataframe tbody tr th:only-of-type {\n",
       "        vertical-align: middle;\n",
       "    }\n",
       "\n",
       "    .dataframe tbody tr th {\n",
       "        vertical-align: top;\n",
       "    }\n",
       "\n",
       "    .dataframe thead th {\n",
       "        text-align: right;\n",
       "    }\n",
       "</style>\n",
       "<table border=\"1\" class=\"dataframe\">\n",
       "  <thead>\n",
       "    <tr style=\"text-align: right;\">\n",
       "      <th></th>\n",
       "      <th>Pozo</th>\n",
       "      <th>fecha_produccion</th>\n",
       "      <th>Produccion_barriles_t_6</th>\n",
       "      <th>Produccion_barriles_t_5</th>\n",
       "      <th>Produccion_barriles_t_4</th>\n",
       "      <th>Produccion_barriles_t_3</th>\n",
       "      <th>Produccion_barriles_t_2</th>\n",
       "      <th>Produccion_barriles_t_1</th>\n",
       "      <th>Produccion_barriles_t</th>\n",
       "      <th>Produccion_barriles_t_mas_1</th>\n",
       "      <th>...</th>\n",
       "      <th>equipo_perforacion_SIN INFORMACION</th>\n",
       "      <th>clasificacion_lahee_07-07-01</th>\n",
       "      <th>clasificacion_lahee_SIN INRMACION</th>\n",
       "      <th>cluster_0</th>\n",
       "      <th>cluster_1</th>\n",
       "      <th>cluster_2</th>\n",
       "      <th>cluster_3</th>\n",
       "      <th>cluster_4</th>\n",
       "      <th>cluster</th>\n",
       "      <th>y_real</th>\n",
       "    </tr>\n",
       "  </thead>\n",
       "  <tbody>\n",
       "    <tr>\n",
       "      <th>128</th>\n",
       "      <td>MOLOACAN-661</td>\n",
       "      <td>2013-09-01</td>\n",
       "      <td>583.986017</td>\n",
       "      <td>590.440037</td>\n",
       "      <td>579.605008</td>\n",
       "      <td>580.931495</td>\n",
       "      <td>575.260588</td>\n",
       "      <td>567.559337</td>\n",
       "      <td>572.410363</td>\n",
       "      <td>563.68</td>\n",
       "      <td>...</td>\n",
       "      <td>0</td>\n",
       "      <td>1</td>\n",
       "      <td>0</td>\n",
       "      <td>0</td>\n",
       "      <td>1</td>\n",
       "      <td>0</td>\n",
       "      <td>0</td>\n",
       "      <td>0</td>\n",
       "      <td>1</td>\n",
       "      <td>NaN</td>\n",
       "    </tr>\n",
       "    <tr>\n",
       "      <th>129</th>\n",
       "      <td>MOLOACAN-661</td>\n",
       "      <td>2013-10-01</td>\n",
       "      <td>590.440037</td>\n",
       "      <td>579.605008</td>\n",
       "      <td>580.931495</td>\n",
       "      <td>575.260588</td>\n",
       "      <td>567.559337</td>\n",
       "      <td>572.410363</td>\n",
       "      <td>570.272372</td>\n",
       "      <td>563.68</td>\n",
       "      <td>...</td>\n",
       "      <td>0</td>\n",
       "      <td>1</td>\n",
       "      <td>0</td>\n",
       "      <td>0</td>\n",
       "      <td>1</td>\n",
       "      <td>0</td>\n",
       "      <td>0</td>\n",
       "      <td>0</td>\n",
       "      <td>1</td>\n",
       "      <td>NaN</td>\n",
       "    </tr>\n",
       "    <tr>\n",
       "      <th>130</th>\n",
       "      <td>MOLOACAN-661</td>\n",
       "      <td>2013-11-01</td>\n",
       "      <td>579.605008</td>\n",
       "      <td>580.931495</td>\n",
       "      <td>575.260588</td>\n",
       "      <td>567.559337</td>\n",
       "      <td>572.410363</td>\n",
       "      <td>570.272372</td>\n",
       "      <td>557.816759</td>\n",
       "      <td>563.68</td>\n",
       "      <td>...</td>\n",
       "      <td>0</td>\n",
       "      <td>1</td>\n",
       "      <td>0</td>\n",
       "      <td>0</td>\n",
       "      <td>1</td>\n",
       "      <td>0</td>\n",
       "      <td>0</td>\n",
       "      <td>0</td>\n",
       "      <td>1</td>\n",
       "      <td>NaN</td>\n",
       "    </tr>\n",
       "    <tr>\n",
       "      <th>131</th>\n",
       "      <td>MOLOACAN-661</td>\n",
       "      <td>2013-12-01</td>\n",
       "      <td>580.931495</td>\n",
       "      <td>575.260588</td>\n",
       "      <td>567.559337</td>\n",
       "      <td>572.410363</td>\n",
       "      <td>570.272372</td>\n",
       "      <td>557.816759</td>\n",
       "      <td>562.407115</td>\n",
       "      <td>563.68</td>\n",
       "      <td>...</td>\n",
       "      <td>0</td>\n",
       "      <td>1</td>\n",
       "      <td>0</td>\n",
       "      <td>0</td>\n",
       "      <td>1</td>\n",
       "      <td>0</td>\n",
       "      <td>0</td>\n",
       "      <td>0</td>\n",
       "      <td>1</td>\n",
       "      <td>NaN</td>\n",
       "    </tr>\n",
       "    <tr>\n",
       "      <th>132</th>\n",
       "      <td>MOLOACAN-661</td>\n",
       "      <td>2014-01-01</td>\n",
       "      <td>575.260588</td>\n",
       "      <td>567.559337</td>\n",
       "      <td>572.410363</td>\n",
       "      <td>570.272372</td>\n",
       "      <td>557.816759</td>\n",
       "      <td>562.407115</td>\n",
       "      <td>566.849865</td>\n",
       "      <td>563.68</td>\n",
       "      <td>...</td>\n",
       "      <td>0</td>\n",
       "      <td>1</td>\n",
       "      <td>0</td>\n",
       "      <td>0</td>\n",
       "      <td>1</td>\n",
       "      <td>0</td>\n",
       "      <td>0</td>\n",
       "      <td>0</td>\n",
       "      <td>1</td>\n",
       "      <td>NaN</td>\n",
       "    </tr>\n",
       "    <tr>\n",
       "      <th>133</th>\n",
       "      <td>MOLOACAN-661</td>\n",
       "      <td>2014-02-01</td>\n",
       "      <td>567.559337</td>\n",
       "      <td>572.410363</td>\n",
       "      <td>570.272372</td>\n",
       "      <td>557.816759</td>\n",
       "      <td>562.407115</td>\n",
       "      <td>566.849865</td>\n",
       "      <td>556.708708</td>\n",
       "      <td>563.68</td>\n",
       "      <td>...</td>\n",
       "      <td>0</td>\n",
       "      <td>1</td>\n",
       "      <td>0</td>\n",
       "      <td>0</td>\n",
       "      <td>1</td>\n",
       "      <td>0</td>\n",
       "      <td>0</td>\n",
       "      <td>0</td>\n",
       "      <td>1</td>\n",
       "      <td>NaN</td>\n",
       "    </tr>\n",
       "    <tr>\n",
       "      <th>134</th>\n",
       "      <td>MOLOACAN-661</td>\n",
       "      <td>2014-03-01</td>\n",
       "      <td>572.410363</td>\n",
       "      <td>570.272372</td>\n",
       "      <td>557.816759</td>\n",
       "      <td>562.407115</td>\n",
       "      <td>566.849865</td>\n",
       "      <td>556.708708</td>\n",
       "      <td>557.566806</td>\n",
       "      <td>563.68</td>\n",
       "      <td>...</td>\n",
       "      <td>0</td>\n",
       "      <td>1</td>\n",
       "      <td>0</td>\n",
       "      <td>0</td>\n",
       "      <td>1</td>\n",
       "      <td>0</td>\n",
       "      <td>0</td>\n",
       "      <td>0</td>\n",
       "      <td>1</td>\n",
       "      <td>NaN</td>\n",
       "    </tr>\n",
       "    <tr>\n",
       "      <th>135</th>\n",
       "      <td>MOLOACAN-661</td>\n",
       "      <td>2014-05-01</td>\n",
       "      <td>570.272372</td>\n",
       "      <td>557.816759</td>\n",
       "      <td>562.407115</td>\n",
       "      <td>566.849865</td>\n",
       "      <td>556.708708</td>\n",
       "      <td>557.566806</td>\n",
       "      <td>563.781119</td>\n",
       "      <td>563.68</td>\n",
       "      <td>...</td>\n",
       "      <td>0</td>\n",
       "      <td>1</td>\n",
       "      <td>0</td>\n",
       "      <td>0</td>\n",
       "      <td>1</td>\n",
       "      <td>0</td>\n",
       "      <td>0</td>\n",
       "      <td>0</td>\n",
       "      <td>1</td>\n",
       "      <td>NaN</td>\n",
       "    </tr>\n",
       "    <tr>\n",
       "      <th>136</th>\n",
       "      <td>MOLOACAN-661</td>\n",
       "      <td>2014-06-01</td>\n",
       "      <td>557.816759</td>\n",
       "      <td>562.407115</td>\n",
       "      <td>566.849865</td>\n",
       "      <td>556.708708</td>\n",
       "      <td>557.566806</td>\n",
       "      <td>563.781119</td>\n",
       "      <td>564.196790</td>\n",
       "      <td>563.68</td>\n",
       "      <td>...</td>\n",
       "      <td>0</td>\n",
       "      <td>1</td>\n",
       "      <td>0</td>\n",
       "      <td>0</td>\n",
       "      <td>1</td>\n",
       "      <td>0</td>\n",
       "      <td>0</td>\n",
       "      <td>0</td>\n",
       "      <td>1</td>\n",
       "      <td>NaN</td>\n",
       "    </tr>\n",
       "    <tr>\n",
       "      <th>137</th>\n",
       "      <td>MOLOACAN-661</td>\n",
       "      <td>2014-07-01</td>\n",
       "      <td>562.407115</td>\n",
       "      <td>566.849865</td>\n",
       "      <td>556.708708</td>\n",
       "      <td>557.566806</td>\n",
       "      <td>563.781119</td>\n",
       "      <td>564.196790</td>\n",
       "      <td>562.123362</td>\n",
       "      <td>563.68</td>\n",
       "      <td>...</td>\n",
       "      <td>0</td>\n",
       "      <td>1</td>\n",
       "      <td>0</td>\n",
       "      <td>0</td>\n",
       "      <td>1</td>\n",
       "      <td>0</td>\n",
       "      <td>0</td>\n",
       "      <td>0</td>\n",
       "      <td>1</td>\n",
       "      <td>562.123362</td>\n",
       "    </tr>\n",
       "  </tbody>\n",
       "</table>\n",
       "<p>10 rows × 73 columns</p>\n",
       "</div>"
      ],
      "text/plain": [
       "             Pozo fecha_produccion  Produccion_barriles_t_6  \\\n",
       "128  MOLOACAN-661       2013-09-01               583.986017   \n",
       "129  MOLOACAN-661       2013-10-01               590.440037   \n",
       "130  MOLOACAN-661       2013-11-01               579.605008   \n",
       "131  MOLOACAN-661       2013-12-01               580.931495   \n",
       "132  MOLOACAN-661       2014-01-01               575.260588   \n",
       "133  MOLOACAN-661       2014-02-01               567.559337   \n",
       "134  MOLOACAN-661       2014-03-01               572.410363   \n",
       "135  MOLOACAN-661       2014-05-01               570.272372   \n",
       "136  MOLOACAN-661       2014-06-01               557.816759   \n",
       "137  MOLOACAN-661       2014-07-01               562.407115   \n",
       "\n",
       "     Produccion_barriles_t_5  Produccion_barriles_t_4  \\\n",
       "128               590.440037               579.605008   \n",
       "129               579.605008               580.931495   \n",
       "130               580.931495               575.260588   \n",
       "131               575.260588               567.559337   \n",
       "132               567.559337               572.410363   \n",
       "133               572.410363               570.272372   \n",
       "134               570.272372               557.816759   \n",
       "135               557.816759               562.407115   \n",
       "136               562.407115               566.849865   \n",
       "137               566.849865               556.708708   \n",
       "\n",
       "     Produccion_barriles_t_3  Produccion_barriles_t_2  \\\n",
       "128               580.931495               575.260588   \n",
       "129               575.260588               567.559337   \n",
       "130               567.559337               572.410363   \n",
       "131               572.410363               570.272372   \n",
       "132               570.272372               557.816759   \n",
       "133               557.816759               562.407115   \n",
       "134               562.407115               566.849865   \n",
       "135               566.849865               556.708708   \n",
       "136               556.708708               557.566806   \n",
       "137               557.566806               563.781119   \n",
       "\n",
       "     Produccion_barriles_t_1  Produccion_barriles_t  \\\n",
       "128               567.559337             572.410363   \n",
       "129               572.410363             570.272372   \n",
       "130               570.272372             557.816759   \n",
       "131               557.816759             562.407115   \n",
       "132               562.407115             566.849865   \n",
       "133               566.849865             556.708708   \n",
       "134               556.708708             557.566806   \n",
       "135               557.566806             563.781119   \n",
       "136               563.781119             564.196790   \n",
       "137               564.196790             562.123362   \n",
       "\n",
       "     Produccion_barriles_t_mas_1  ...  equipo_perforacion_SIN INFORMACION  \\\n",
       "128                       563.68  ...                                   0   \n",
       "129                       563.68  ...                                   0   \n",
       "130                       563.68  ...                                   0   \n",
       "131                       563.68  ...                                   0   \n",
       "132                       563.68  ...                                   0   \n",
       "133                       563.68  ...                                   0   \n",
       "134                       563.68  ...                                   0   \n",
       "135                       563.68  ...                                   0   \n",
       "136                       563.68  ...                                   0   \n",
       "137                       563.68  ...                                   0   \n",
       "\n",
       "     clasificacion_lahee_07-07-01  clasificacion_lahee_SIN INRMACION  \\\n",
       "128                             1                                  0   \n",
       "129                             1                                  0   \n",
       "130                             1                                  0   \n",
       "131                             1                                  0   \n",
       "132                             1                                  0   \n",
       "133                             1                                  0   \n",
       "134                             1                                  0   \n",
       "135                             1                                  0   \n",
       "136                             1                                  0   \n",
       "137                             1                                  0   \n",
       "\n",
       "     cluster_0  cluster_1  cluster_2  cluster_3  cluster_4  cluster  \\\n",
       "128          0          1          0          0          0        1   \n",
       "129          0          1          0          0          0        1   \n",
       "130          0          1          0          0          0        1   \n",
       "131          0          1          0          0          0        1   \n",
       "132          0          1          0          0          0        1   \n",
       "133          0          1          0          0          0        1   \n",
       "134          0          1          0          0          0        1   \n",
       "135          0          1          0          0          0        1   \n",
       "136          0          1          0          0          0        1   \n",
       "137          0          1          0          0          0        1   \n",
       "\n",
       "         y_real  \n",
       "128         NaN  \n",
       "129         NaN  \n",
       "130         NaN  \n",
       "131         NaN  \n",
       "132         NaN  \n",
       "133         NaN  \n",
       "134         NaN  \n",
       "135         NaN  \n",
       "136         NaN  \n",
       "137  562.123362  \n",
       "\n",
       "[10 rows x 73 columns]"
      ]
     },
     "execution_count": 162,
     "metadata": {},
     "output_type": "execute_result"
    }
   ],
   "source": [
    "df_simul.tail(10)"
   ]
  },
  {
   "cell_type": "code",
   "execution_count": 163,
   "metadata": {},
   "outputs": [
    {
     "data": {
      "text/html": [
       "<div>\n",
       "<style scoped>\n",
       "    .dataframe tbody tr th:only-of-type {\n",
       "        vertical-align: middle;\n",
       "    }\n",
       "\n",
       "    .dataframe tbody tr th {\n",
       "        vertical-align: top;\n",
       "    }\n",
       "\n",
       "    .dataframe thead th {\n",
       "        text-align: right;\n",
       "    }\n",
       "</style>\n",
       "<table border=\"1\" class=\"dataframe\">\n",
       "  <thead>\n",
       "    <tr style=\"text-align: right;\">\n",
       "      <th></th>\n",
       "      <th>Pozo</th>\n",
       "      <th>fecha_produccion</th>\n",
       "      <th>Produccion_barriles_t_6</th>\n",
       "      <th>Produccion_barriles_t_5</th>\n",
       "      <th>Produccion_barriles_t_4</th>\n",
       "      <th>Produccion_barriles_t_3</th>\n",
       "      <th>Produccion_barriles_t_2</th>\n",
       "      <th>Produccion_barriles_t_1</th>\n",
       "      <th>Produccion_barriles_t</th>\n",
       "      <th>Produccion_barriles_t_mas_1</th>\n",
       "      <th>...</th>\n",
       "      <th>equipo_perforacion_SIN INFORMACION</th>\n",
       "      <th>clasificacion_lahee_07-07-01</th>\n",
       "      <th>clasificacion_lahee_SIN INRMACION</th>\n",
       "      <th>cluster_0</th>\n",
       "      <th>cluster_1</th>\n",
       "      <th>cluster_2</th>\n",
       "      <th>cluster_3</th>\n",
       "      <th>cluster_4</th>\n",
       "      <th>cluster</th>\n",
       "      <th>y_real</th>\n",
       "    </tr>\n",
       "  </thead>\n",
       "  <tbody>\n",
       "    <tr>\n",
       "      <th>128</th>\n",
       "      <td>MOLOACAN-661</td>\n",
       "      <td>2013-09-01</td>\n",
       "      <td>186.18</td>\n",
       "      <td>192.64</td>\n",
       "      <td>135.44</td>\n",
       "      <td>187.26</td>\n",
       "      <td>192.28</td>\n",
       "      <td>173.60</td>\n",
       "      <td>191.14</td>\n",
       "      <td>183.19</td>\n",
       "      <td>...</td>\n",
       "      <td>0</td>\n",
       "      <td>1</td>\n",
       "      <td>0</td>\n",
       "      <td>1</td>\n",
       "      <td>0</td>\n",
       "      <td>0</td>\n",
       "      <td>0</td>\n",
       "      <td>0</td>\n",
       "      <td>0</td>\n",
       "      <td>191.14</td>\n",
       "    </tr>\n",
       "    <tr>\n",
       "      <th>129</th>\n",
       "      <td>MOLOACAN-661</td>\n",
       "      <td>2013-10-01</td>\n",
       "      <td>192.64</td>\n",
       "      <td>135.44</td>\n",
       "      <td>187.26</td>\n",
       "      <td>192.28</td>\n",
       "      <td>173.60</td>\n",
       "      <td>191.14</td>\n",
       "      <td>183.19</td>\n",
       "      <td>192.28</td>\n",
       "      <td>...</td>\n",
       "      <td>0</td>\n",
       "      <td>1</td>\n",
       "      <td>0</td>\n",
       "      <td>1</td>\n",
       "      <td>0</td>\n",
       "      <td>0</td>\n",
       "      <td>0</td>\n",
       "      <td>0</td>\n",
       "      <td>0</td>\n",
       "      <td>183.19</td>\n",
       "    </tr>\n",
       "    <tr>\n",
       "      <th>130</th>\n",
       "      <td>MOLOACAN-661</td>\n",
       "      <td>2013-11-01</td>\n",
       "      <td>135.44</td>\n",
       "      <td>187.26</td>\n",
       "      <td>192.28</td>\n",
       "      <td>173.60</td>\n",
       "      <td>191.14</td>\n",
       "      <td>183.19</td>\n",
       "      <td>192.28</td>\n",
       "      <td>186.07</td>\n",
       "      <td>...</td>\n",
       "      <td>0</td>\n",
       "      <td>1</td>\n",
       "      <td>0</td>\n",
       "      <td>1</td>\n",
       "      <td>0</td>\n",
       "      <td>0</td>\n",
       "      <td>0</td>\n",
       "      <td>0</td>\n",
       "      <td>0</td>\n",
       "      <td>192.28</td>\n",
       "    </tr>\n",
       "    <tr>\n",
       "      <th>131</th>\n",
       "      <td>MOLOACAN-661</td>\n",
       "      <td>2013-12-01</td>\n",
       "      <td>187.26</td>\n",
       "      <td>192.28</td>\n",
       "      <td>173.60</td>\n",
       "      <td>191.14</td>\n",
       "      <td>183.19</td>\n",
       "      <td>192.28</td>\n",
       "      <td>186.07</td>\n",
       "      <td>192.28</td>\n",
       "      <td>...</td>\n",
       "      <td>0</td>\n",
       "      <td>1</td>\n",
       "      <td>0</td>\n",
       "      <td>1</td>\n",
       "      <td>0</td>\n",
       "      <td>0</td>\n",
       "      <td>0</td>\n",
       "      <td>0</td>\n",
       "      <td>0</td>\n",
       "      <td>186.07</td>\n",
       "    </tr>\n",
       "    <tr>\n",
       "      <th>132</th>\n",
       "      <td>MOLOACAN-661</td>\n",
       "      <td>2014-01-01</td>\n",
       "      <td>192.28</td>\n",
       "      <td>173.60</td>\n",
       "      <td>191.14</td>\n",
       "      <td>183.19</td>\n",
       "      <td>192.28</td>\n",
       "      <td>186.07</td>\n",
       "      <td>192.28</td>\n",
       "      <td>285.27</td>\n",
       "      <td>...</td>\n",
       "      <td>0</td>\n",
       "      <td>1</td>\n",
       "      <td>0</td>\n",
       "      <td>1</td>\n",
       "      <td>0</td>\n",
       "      <td>0</td>\n",
       "      <td>0</td>\n",
       "      <td>0</td>\n",
       "      <td>0</td>\n",
       "      <td>192.28</td>\n",
       "    </tr>\n",
       "    <tr>\n",
       "      <th>133</th>\n",
       "      <td>MOLOACAN-661</td>\n",
       "      <td>2014-02-01</td>\n",
       "      <td>173.60</td>\n",
       "      <td>191.14</td>\n",
       "      <td>183.19</td>\n",
       "      <td>192.28</td>\n",
       "      <td>186.07</td>\n",
       "      <td>192.28</td>\n",
       "      <td>285.27</td>\n",
       "      <td>105.70</td>\n",
       "      <td>...</td>\n",
       "      <td>0</td>\n",
       "      <td>1</td>\n",
       "      <td>0</td>\n",
       "      <td>1</td>\n",
       "      <td>0</td>\n",
       "      <td>0</td>\n",
       "      <td>0</td>\n",
       "      <td>0</td>\n",
       "      <td>0</td>\n",
       "      <td>285.27</td>\n",
       "    </tr>\n",
       "    <tr>\n",
       "      <th>134</th>\n",
       "      <td>MOLOACAN-661</td>\n",
       "      <td>2014-03-01</td>\n",
       "      <td>191.14</td>\n",
       "      <td>183.19</td>\n",
       "      <td>192.28</td>\n",
       "      <td>186.07</td>\n",
       "      <td>192.28</td>\n",
       "      <td>285.27</td>\n",
       "      <td>105.70</td>\n",
       "      <td>18.67</td>\n",
       "      <td>...</td>\n",
       "      <td>0</td>\n",
       "      <td>1</td>\n",
       "      <td>0</td>\n",
       "      <td>1</td>\n",
       "      <td>0</td>\n",
       "      <td>0</td>\n",
       "      <td>0</td>\n",
       "      <td>0</td>\n",
       "      <td>0</td>\n",
       "      <td>105.70</td>\n",
       "    </tr>\n",
       "    <tr>\n",
       "      <th>135</th>\n",
       "      <td>MOLOACAN-661</td>\n",
       "      <td>2014-05-01</td>\n",
       "      <td>192.28</td>\n",
       "      <td>186.07</td>\n",
       "      <td>192.28</td>\n",
       "      <td>285.27</td>\n",
       "      <td>105.70</td>\n",
       "      <td>18.67</td>\n",
       "      <td>186.94</td>\n",
       "      <td>176.09</td>\n",
       "      <td>...</td>\n",
       "      <td>0</td>\n",
       "      <td>1</td>\n",
       "      <td>0</td>\n",
       "      <td>1</td>\n",
       "      <td>0</td>\n",
       "      <td>0</td>\n",
       "      <td>0</td>\n",
       "      <td>0</td>\n",
       "      <td>0</td>\n",
       "      <td>186.94</td>\n",
       "    </tr>\n",
       "    <tr>\n",
       "      <th>136</th>\n",
       "      <td>MOLOACAN-661</td>\n",
       "      <td>2014-06-01</td>\n",
       "      <td>186.07</td>\n",
       "      <td>192.28</td>\n",
       "      <td>285.27</td>\n",
       "      <td>105.70</td>\n",
       "      <td>18.67</td>\n",
       "      <td>186.94</td>\n",
       "      <td>176.09</td>\n",
       "      <td>190.26</td>\n",
       "      <td>...</td>\n",
       "      <td>0</td>\n",
       "      <td>1</td>\n",
       "      <td>0</td>\n",
       "      <td>1</td>\n",
       "      <td>0</td>\n",
       "      <td>0</td>\n",
       "      <td>0</td>\n",
       "      <td>0</td>\n",
       "      <td>0</td>\n",
       "      <td>176.09</td>\n",
       "    </tr>\n",
       "    <tr>\n",
       "      <th>137</th>\n",
       "      <td>MOLOACAN-661</td>\n",
       "      <td>2014-07-01</td>\n",
       "      <td>192.28</td>\n",
       "      <td>285.27</td>\n",
       "      <td>105.70</td>\n",
       "      <td>18.67</td>\n",
       "      <td>186.94</td>\n",
       "      <td>176.09</td>\n",
       "      <td>190.26</td>\n",
       "      <td>178.86</td>\n",
       "      <td>...</td>\n",
       "      <td>0</td>\n",
       "      <td>1</td>\n",
       "      <td>0</td>\n",
       "      <td>1</td>\n",
       "      <td>0</td>\n",
       "      <td>0</td>\n",
       "      <td>0</td>\n",
       "      <td>0</td>\n",
       "      <td>0</td>\n",
       "      <td>190.26</td>\n",
       "    </tr>\n",
       "  </tbody>\n",
       "</table>\n",
       "<p>10 rows × 73 columns</p>\n",
       "</div>"
      ],
      "text/plain": [
       "             Pozo fecha_produccion  Produccion_barriles_t_6  \\\n",
       "128  MOLOACAN-661       2013-09-01                   186.18   \n",
       "129  MOLOACAN-661       2013-10-01                   192.64   \n",
       "130  MOLOACAN-661       2013-11-01                   135.44   \n",
       "131  MOLOACAN-661       2013-12-01                   187.26   \n",
       "132  MOLOACAN-661       2014-01-01                   192.28   \n",
       "133  MOLOACAN-661       2014-02-01                   173.60   \n",
       "134  MOLOACAN-661       2014-03-01                   191.14   \n",
       "135  MOLOACAN-661       2014-05-01                   192.28   \n",
       "136  MOLOACAN-661       2014-06-01                   186.07   \n",
       "137  MOLOACAN-661       2014-07-01                   192.28   \n",
       "\n",
       "     Produccion_barriles_t_5  Produccion_barriles_t_4  \\\n",
       "128                   192.64                   135.44   \n",
       "129                   135.44                   187.26   \n",
       "130                   187.26                   192.28   \n",
       "131                   192.28                   173.60   \n",
       "132                   173.60                   191.14   \n",
       "133                   191.14                   183.19   \n",
       "134                   183.19                   192.28   \n",
       "135                   186.07                   192.28   \n",
       "136                   192.28                   285.27   \n",
       "137                   285.27                   105.70   \n",
       "\n",
       "     Produccion_barriles_t_3  Produccion_barriles_t_2  \\\n",
       "128                   187.26                   192.28   \n",
       "129                   192.28                   173.60   \n",
       "130                   173.60                   191.14   \n",
       "131                   191.14                   183.19   \n",
       "132                   183.19                   192.28   \n",
       "133                   192.28                   186.07   \n",
       "134                   186.07                   192.28   \n",
       "135                   285.27                   105.70   \n",
       "136                   105.70                    18.67   \n",
       "137                    18.67                   186.94   \n",
       "\n",
       "     Produccion_barriles_t_1  Produccion_barriles_t  \\\n",
       "128                   173.60                 191.14   \n",
       "129                   191.14                 183.19   \n",
       "130                   183.19                 192.28   \n",
       "131                   192.28                 186.07   \n",
       "132                   186.07                 192.28   \n",
       "133                   192.28                 285.27   \n",
       "134                   285.27                 105.70   \n",
       "135                    18.67                 186.94   \n",
       "136                   186.94                 176.09   \n",
       "137                   176.09                 190.26   \n",
       "\n",
       "     Produccion_barriles_t_mas_1  ...  equipo_perforacion_SIN INFORMACION  \\\n",
       "128                       183.19  ...                                   0   \n",
       "129                       192.28  ...                                   0   \n",
       "130                       186.07  ...                                   0   \n",
       "131                       192.28  ...                                   0   \n",
       "132                       285.27  ...                                   0   \n",
       "133                       105.70  ...                                   0   \n",
       "134                        18.67  ...                                   0   \n",
       "135                       176.09  ...                                   0   \n",
       "136                       190.26  ...                                   0   \n",
       "137                       178.86  ...                                   0   \n",
       "\n",
       "     clasificacion_lahee_07-07-01  clasificacion_lahee_SIN INRMACION  \\\n",
       "128                             1                                  0   \n",
       "129                             1                                  0   \n",
       "130                             1                                  0   \n",
       "131                             1                                  0   \n",
       "132                             1                                  0   \n",
       "133                             1                                  0   \n",
       "134                             1                                  0   \n",
       "135                             1                                  0   \n",
       "136                             1                                  0   \n",
       "137                             1                                  0   \n",
       "\n",
       "     cluster_0  cluster_1  cluster_2  cluster_3  cluster_4  cluster  y_real  \n",
       "128          1          0          0          0          0        0  191.14  \n",
       "129          1          0          0          0          0        0  183.19  \n",
       "130          1          0          0          0          0        0  192.28  \n",
       "131          1          0          0          0          0        0  186.07  \n",
       "132          1          0          0          0          0        0  192.28  \n",
       "133          1          0          0          0          0        0  285.27  \n",
       "134          1          0          0          0          0        0  105.70  \n",
       "135          1          0          0          0          0        0  186.94  \n",
       "136          1          0          0          0          0        0  176.09  \n",
       "137          1          0          0          0          0        0  190.26  \n",
       "\n",
       "[10 rows x 73 columns]"
      ]
     },
     "execution_count": 163,
     "metadata": {},
     "output_type": "execute_result"
    }
   ],
   "source": [
    "df_prueba.tail(10)"
   ]
  },
  {
   "cell_type": "code",
   "execution_count": 155,
   "metadata": {},
   "outputs": [
    {
     "data": {
      "text/html": [
       "[593.6602179686821, 617.2427887359119, 677.1642783598298, 738.1300205658301, 743.4441898814553, 729.0620589079302, 700.9571373592306, 689.8386859171476, 660.0029452869321, 603.3378765552008, 614.2550330577587, 611.2111172664248, 583.8612608218426, 600.4959415429928, 600.1453401475846, 538.7060279268468, 551.9230840786079, 565.1193666449892, 556.2024946129578, 546.1111011797084, 564.4727809268663, 561.1730213893655, 578.50522838791, 570.194501367389, 582.0320036605243, 582.1093152808688, 578.9013782927656, 583.627869923883, 576.2276371043928, 563.3605268584448, 571.7092641830294, 562.257101812019, 552.9326246742738, 553.767626693328, 551.4369030165515, 547.3764766830408, 552.5438077257304, 563.7354745987043, 554.0883615184803, 550.8350198177477, 549.7361573172867, 556.3154634274223, 557.8852371608601, 562.8021392932848, 558.1973597226456, 564.893656786938, 572.6854543667814, 575.8754537941315, 577.9570285648838, 581.388258726419, 578.0740134341972, 583.9054305386696, 573.685072891439, 560.8719319673761, 569.7323175360476, 564.181836265009, 555.7326407790094, 552.750537333921, 560.3311431087583, 568.1061380799789, 549.8344257992115, 551.5335090960076, 545.5684722748064, 553.5986611771427, 557.3559728242307, 555.7753777695641, 541.8597265056321, 561.7210179349147, 562.5605129997859, 587.0546501826184, 564.885313862209, 597.52620278992, 573.294376545396, 594.7564113907632, 611.735737286057, 618.185329752853, 604.6864248633676, 585.0074292556291, 559.6779075757936, 574.1508750507505, 570.8306707100927, 558.7076261612856, 587.2787600978447, 573.5663911887822, 575.5265461098004, 580.2845357076496, 563.8215750404132, 567.8992746017948, 572.609131395961, 556.7397786776409, 564.2109176768655, 571.1579820515511, 558.3265258663158, 564.8626787297085, 569.3909133176243, 567.72755759496, 573.4444770376031, 574.2324198585112, 565.4956063025413, 577.9199221844923, 567.9461727688844, 564.3214792037136, 566.4508208092296, 554.2755326145751, 542.2660080664846, 556.8161530858227, 561.7682673763393, 549.5372326286556, 547.212439261533, 555.1209382687526, 549.6044185266386, 556.5511081907573, 572.0839564799782, 559.6317987818755, 585.0859495666507, 567.6987176946224, 583.986017156778, 590.4400374096138, 579.6050078079561, 580.9314945056739, 575.2605878484943, 567.5593372044343, 572.4103627812034, 570.2723716605145, 557.8167591355352, 562.4071145419019, 566.8498654161353, 556.708708357549, 557.566805519289, 563.781119005911, 564.1967903914124, 562.1233618052865]"
      ],
      "text/plain": [
       "[593.6602179686821,\n",
       " 617.2427887359119,\n",
       " 677.1642783598298,\n",
       " 738.1300205658301,\n",
       " 743.4441898814553,\n",
       " 729.0620589079302,\n",
       " 700.9571373592306,\n",
       " 689.8386859171476,\n",
       " 660.0029452869321,\n",
       " 603.3378765552008,\n",
       " 614.2550330577587,\n",
       " 611.2111172664248,\n",
       " 583.8612608218426,\n",
       " 600.4959415429928,\n",
       " 600.1453401475846,\n",
       " 538.7060279268468,\n",
       " 551.9230840786079,\n",
       " 565.1193666449892,\n",
       " 556.2024946129578,\n",
       " 546.1111011797084,\n",
       " 564.4727809268663,\n",
       " 561.1730213893655,\n",
       " 578.50522838791,\n",
       " 570.194501367389,\n",
       " 582.0320036605243,\n",
       " 582.1093152808688,\n",
       " 578.9013782927656,\n",
       " 583.627869923883,\n",
       " 576.2276371043928,\n",
       " 563.3605268584448,\n",
       " 571.7092641830294,\n",
       " 562.257101812019,\n",
       " 552.9326246742738,\n",
       " 553.767626693328,\n",
       " 551.4369030165515,\n",
       " 547.3764766830408,\n",
       " 552.5438077257304,\n",
       " 563.7354745987043,\n",
       " 554.0883615184803,\n",
       " 550.8350198177477,\n",
       " 549.7361573172867,\n",
       " 556.3154634274223,\n",
       " 557.8852371608601,\n",
       " 562.8021392932848,\n",
       " 558.1973597226456,\n",
       " 564.893656786938,\n",
       " 572.6854543667814,\n",
       " 575.8754537941315,\n",
       " 577.9570285648838,\n",
       " 581.388258726419,\n",
       " 578.0740134341972,\n",
       " 583.9054305386696,\n",
       " 573.685072891439,\n",
       " 560.8719319673761,\n",
       " 569.7323175360476,\n",
       " 564.181836265009,\n",
       " 555.7326407790094,\n",
       " 552.750537333921,\n",
       " 560.3311431087583,\n",
       " 568.1061380799789,\n",
       " 549.8344257992115,\n",
       " 551.5335090960076,\n",
       " 545.5684722748064,\n",
       " 553.5986611771427,\n",
       " 557.3559728242307,\n",
       " 555.7753777695641,\n",
       " 541.8597265056321,\n",
       " 561.7210179349147,\n",
       " 562.5605129997859,\n",
       " 587.0546501826184,\n",
       " 564.885313862209,\n",
       " 597.52620278992,\n",
       " 573.294376545396,\n",
       " 594.7564113907632,\n",
       " 611.735737286057,\n",
       " 618.185329752853,\n",
       " 604.6864248633676,\n",
       " 585.0074292556291,\n",
       " 559.6779075757936,\n",
       " 574.1508750507505,\n",
       " 570.8306707100927,\n",
       " 558.7076261612856,\n",
       " 587.2787600978447,\n",
       " 573.5663911887822,\n",
       " 575.5265461098004,\n",
       " 580.2845357076496,\n",
       " 563.8215750404132,\n",
       " 567.8992746017948,\n",
       " 572.609131395961,\n",
       " 556.7397786776409,\n",
       " 564.2109176768655,\n",
       " 571.1579820515511,\n",
       " 558.3265258663158,\n",
       " 564.8626787297085,\n",
       " 569.3909133176243,\n",
       " 567.72755759496,\n",
       " 573.4444770376031,\n",
       " 574.2324198585112,\n",
       " 565.4956063025413,\n",
       " 577.9199221844923,\n",
       " 567.9461727688844,\n",
       " 564.3214792037136,\n",
       " 566.4508208092296,\n",
       " 554.2755326145751,\n",
       " 542.2660080664846,\n",
       " 556.8161530858227,\n",
       " 561.7682673763393,\n",
       " 549.5372326286556,\n",
       " 547.212439261533,\n",
       " 555.1209382687526,\n",
       " 549.6044185266386,\n",
       " 556.5511081907573,\n",
       " 572.0839564799782,\n",
       " 559.6317987818755,\n",
       " 585.0859495666507,\n",
       " 567.6987176946224,\n",
       " 583.986017156778,\n",
       " 590.4400374096138,\n",
       " 579.6050078079561,\n",
       " 580.9314945056739,\n",
       " 575.2605878484943,\n",
       " 567.5593372044343,\n",
       " 572.4103627812034,\n",
       " 570.2723716605145,\n",
       " 557.8167591355352,\n",
       " 562.4071145419019,\n",
       " 566.8498654161353,\n",
       " 556.708708357549,\n",
       " 557.566805519289,\n",
       " 563.781119005911,\n",
       " 564.1967903914124,\n",
       " 562.1233618052865]"
      ]
     },
     "execution_count": 155,
     "metadata": {},
     "output_type": "execute_result"
    }
   ],
   "source": [
    "pred"
   ]
  },
  {
   "cell_type": "code",
   "execution_count": 156,
   "metadata": {},
   "outputs": [
    {
     "data": {
      "text/plain": [
       "132"
      ]
     },
     "execution_count": 156,
     "metadata": {},
     "output_type": "execute_result"
    }
   ],
   "source": [
    "len(pred)"
   ]
  },
  {
   "cell_type": "code",
   "execution_count": 157,
   "metadata": {},
   "outputs": [
    {
     "data": {
      "text/html": [
       "<div>\n",
       "<style scoped>\n",
       "    .dataframe tbody tr th:only-of-type {\n",
       "        vertical-align: middle;\n",
       "    }\n",
       "\n",
       "    .dataframe tbody tr th {\n",
       "        vertical-align: top;\n",
       "    }\n",
       "\n",
       "    .dataframe thead th {\n",
       "        text-align: right;\n",
       "    }\n",
       "</style>\n",
       "<table border=\"1\" class=\"dataframe\">\n",
       "  <thead>\n",
       "    <tr style=\"text-align: right;\">\n",
       "      <th></th>\n",
       "      <th>Produccion_barriles_t_2</th>\n",
       "      <th>Produccion_barriles_t_1</th>\n",
       "    </tr>\n",
       "  </thead>\n",
       "  <tbody>\n",
       "    <tr>\n",
       "      <th>0</th>\n",
       "      <td>659.130000</td>\n",
       "      <td>592.530000</td>\n",
       "    </tr>\n",
       "    <tr>\n",
       "      <th>1</th>\n",
       "      <td>592.530000</td>\n",
       "      <td>375.820000</td>\n",
       "    </tr>\n",
       "    <tr>\n",
       "      <th>2</th>\n",
       "      <td>375.820000</td>\n",
       "      <td>375.140000</td>\n",
       "    </tr>\n",
       "    <tr>\n",
       "      <th>3</th>\n",
       "      <td>375.140000</td>\n",
       "      <td>365.890000</td>\n",
       "    </tr>\n",
       "    <tr>\n",
       "      <th>4</th>\n",
       "      <td>365.890000</td>\n",
       "      <td>396.590000</td>\n",
       "    </tr>\n",
       "    <tr>\n",
       "      <th>5</th>\n",
       "      <td>396.590000</td>\n",
       "      <td>426.850000</td>\n",
       "    </tr>\n",
       "    <tr>\n",
       "      <th>6</th>\n",
       "      <td>426.850000</td>\n",
       "      <td>529.490000</td>\n",
       "    </tr>\n",
       "    <tr>\n",
       "      <th>7</th>\n",
       "      <td>529.490000</td>\n",
       "      <td>593.660218</td>\n",
       "    </tr>\n",
       "    <tr>\n",
       "      <th>8</th>\n",
       "      <td>593.660218</td>\n",
       "      <td>617.242789</td>\n",
       "    </tr>\n",
       "    <tr>\n",
       "      <th>9</th>\n",
       "      <td>617.242789</td>\n",
       "      <td>677.164278</td>\n",
       "    </tr>\n",
       "  </tbody>\n",
       "</table>\n",
       "</div>"
      ],
      "text/plain": [
       "   Produccion_barriles_t_2  Produccion_barriles_t_1\n",
       "0               659.130000               592.530000\n",
       "1               592.530000               375.820000\n",
       "2               375.820000               375.140000\n",
       "3               375.140000               365.890000\n",
       "4               365.890000               396.590000\n",
       "5               396.590000               426.850000\n",
       "6               426.850000               529.490000\n",
       "7               529.490000               593.660218\n",
       "8               593.660218               617.242789\n",
       "9               617.242789               677.164278"
      ]
     },
     "execution_count": 157,
     "metadata": {},
     "output_type": "execute_result"
    }
   ],
   "source": [
    "df_simul[[\"Produccion_barriles_t_2\",\"Produccion_barriles_t_1\"]].head(10)"
   ]
  },
  {
   "cell_type": "code",
   "execution_count": 158,
   "metadata": {},
   "outputs": [
    {
     "data": {
      "text/plain": [
       "0     66.600000\n",
       "1    216.710000\n",
       "2      0.680000\n",
       "3      9.250000\n",
       "4    -30.700000\n",
       "5    -30.260000\n",
       "6   -102.640000\n",
       "7    -64.170218\n",
       "8    -23.582571\n",
       "9    -59.921490\n",
       "Name: diff_t_2_t_1, dtype: float64"
      ]
     },
     "execution_count": 158,
     "metadata": {},
     "output_type": "execute_result"
    }
   ],
   "source": [
    "df_simul['diff_t_2_t_1'].head(10)"
   ]
  },
  {
   "cell_type": "code",
   "execution_count": 159,
   "metadata": {},
   "outputs": [
    {
     "data": {
      "text/plain": [
       "0     66.60\n",
       "1    216.71\n",
       "2      0.68\n",
       "3      9.25\n",
       "4    -30.70\n",
       "5    -30.26\n",
       "6   -102.64\n",
       "7    -34.19\n",
       "8     41.47\n",
       "9    -48.72\n",
       "Name: diff_t_2_t_1, dtype: float64"
      ]
     },
     "execution_count": 159,
     "metadata": {},
     "output_type": "execute_result"
    }
   ],
   "source": [
    "df_prueba['diff_t_2_t_1'].head(10)"
   ]
  },
  {
   "cell_type": "code",
   "execution_count": 160,
   "metadata": {},
   "outputs": [
    {
     "data": {
      "text/plain": [
       "RangeIndex(start=0, stop=138, step=1)"
      ]
     },
     "execution_count": 160,
     "metadata": {},
     "output_type": "execute_result"
    }
   ],
   "source": [
    "df_prueba.index"
   ]
  },
  {
   "cell_type": "code",
   "execution_count": 161,
   "metadata": {},
   "outputs": [
    {
     "data": {
      "text/plain": [
       "<matplotlib.axes._subplots.AxesSubplot at 0x21d91263588>"
      ]
     },
     "execution_count": 161,
     "metadata": {},
     "output_type": "execute_result"
    },
    {
     "data": {
      "image/png": "[encoded data removed]",
      "text/plain": [
       "<Figure size 1296x720 with 1 Axes>"
      ]
     },
     "metadata": {
      "needs_background": "light"
     },
     "output_type": "display_data"
    }
   ],
   "source": [
    "algo = pd.concat([df_prueba[[\"Produccion_barriles_t\"]],df_simul[[\"Produccion_barriles_t\"]]], 1)\n",
    "\n",
    "algo.columns = [\"y_real\",\"y_estimado\"]\n",
    "algo[\"residuo\"] = algo.y_real - algo.y_estimado\n",
    "\n",
    "algo.plot(figsize=(18,10))"
   ]
  },
  {
   "cell_type": "code",
   "execution_count": 217,
   "metadata": {},
   "outputs": [
    {
     "name": "stdout",
     "output_type": "stream",
     "text": [
      "Aw, snap! We didn't get a username with your request.\n",
      "\n",
      "Don't have an account? https://plot.ly/api_signup\n",
      "\n",
      "Questions? accounts@plot.ly\n"
     ]
    },
    {
     "ename": "PlotlyError",
     "evalue": "Because you didn't supply a 'file_id' in the call, we're assuming you're trying to snag a figure from a url. You supplied the url, '', we expected it to start with 'https://plot.ly'.\nRun help on this function for more information.",
     "output_type": "error",
     "traceback": [
      "\u001b[1;31m---------------------------------------------------------------------------\u001b[0m",
      "\u001b[1;31mPlotlyError\u001b[0m                               Traceback (most recent call last)",
      "\u001b[1;32m<ipython-input-217-40b7c29992b4>\u001b[0m in \u001b[0;36m<module>\u001b[1;34m\u001b[0m\n\u001b[1;32m----> 1\u001b[1;33m \u001b[0malgo\u001b[0m\u001b[1;33m.\u001b[0m\u001b[0miplot\u001b[0m\u001b[1;33m(\u001b[0m\u001b[1;33m)\u001b[0m\u001b[1;33m\u001b[0m\u001b[1;33m\u001b[0m\u001b[0m\n\u001b[0m",
      "\u001b[1;32m~\\Anaconda3\\lib\\site-packages\\cufflinks\\plotlytools.py\u001b[0m in \u001b[0;36m_iplot\u001b[1;34m(self, kind, data, layout, filename, sharing, title, xTitle, yTitle, zTitle, theme, colors, colorscale, fill, width, dash, mode, interpolation, symbol, size, barmode, sortbars, bargap, bargroupgap, bins, histnorm, histfunc, orientation, boxpoints, annotations, keys, bestfit, bestfit_colors, mean, mean_colors, categories, x, y, z, text, gridcolor, zerolinecolor, margin, labels, values, secondary_y, secondary_y_title, subplots, shape, error_x, error_y, error_type, locations, lon, lat, asFrame, asDates, asFigure, asImage, dimensions, asPlot, asUrl, online, **kwargs)\u001b[0m\n\u001b[0;32m   1214\u001b[0m \t\treturn iplot(figure,validate=validate,sharing=sharing,filename=filename,\n\u001b[0;32m   1215\u001b[0m                          \u001b[0monline\u001b[0m\u001b[1;33m=\u001b[0m\u001b[0monline\u001b[0m\u001b[1;33m,\u001b[0m\u001b[0masImage\u001b[0m\u001b[1;33m=\u001b[0m\u001b[0masImage\u001b[0m\u001b[1;33m,\u001b[0m\u001b[0masUrl\u001b[0m\u001b[1;33m=\u001b[0m\u001b[0masUrl\u001b[0m\u001b[1;33m,\u001b[0m\u001b[0masPlot\u001b[0m\u001b[1;33m=\u001b[0m\u001b[0masPlot\u001b[0m\u001b[1;33m,\u001b[0m\u001b[1;33m\u001b[0m\u001b[1;33m\u001b[0m\u001b[0m\n\u001b[1;32m-> 1216\u001b[1;33m \t\t\t dimensions=dimensions,display_image=kwargs.get('display_image',True))\n\u001b[0m\u001b[0;32m   1217\u001b[0m \u001b[1;33m\u001b[0m\u001b[0m\n\u001b[0;32m   1218\u001b[0m \u001b[1;33m\u001b[0m\u001b[0m\n",
      "\u001b[1;32m~\\Anaconda3\\lib\\site-packages\\cufflinks\\plotlytools.py\u001b[0m in \u001b[0;36miplot\u001b[1;34m(figure, validate, sharing, filename, online, asImage, asUrl, asPlot, dimensions, display_image, **kwargs)\u001b[0m\n\u001b[0;32m   1460\u001b[0m         \u001b[1;32melse\u001b[0m\u001b[1;33m:\u001b[0m\u001b[1;33m\u001b[0m\u001b[1;33m\u001b[0m\u001b[0m\n\u001b[0;32m   1461\u001b[0m \t\treturn py.iplot(figure,validate=validate,sharing=sharing,\n\u001b[1;32m-> 1462\u001b[1;33m \t\t\t\t\t\tfilename=filename)\n\u001b[0m\u001b[0;32m   1463\u001b[0m \u001b[1;33m\u001b[0m\u001b[0m\n\u001b[0;32m   1464\u001b[0m \u001b[1;33m\u001b[0m\u001b[0m\n",
      "\u001b[1;32m~\\Anaconda3\\lib\\site-packages\\chart_studio\\plotly\\plotly.py\u001b[0m in \u001b[0;36miplot\u001b[1;34m(figure_or_data, **plot_options)\u001b[0m\n",
      "\u001b[1;32m~\\Anaconda3\\lib\\site-packages\\chart_studio\\tools.py\u001b[0m in \u001b[0;36membed\u001b[1;34m(file_owner_or_url, file_id, width, height)\u001b[0m\n",
      "\u001b[1;32m~\\Anaconda3\\lib\\site-packages\\chart_studio\\tools.py\u001b[0m in \u001b[0;36m__init__\u001b[1;34m(self, url, width, height)\u001b[0m\n",
      "\u001b[1;32m~\\Anaconda3\\lib\\site-packages\\chart_studio\\tools.py\u001b[0m in \u001b[0;36mget_embed\u001b[1;34m(file_owner_or_url, file_id, width, height)\u001b[0m\n",
      "\u001b[1;31mPlotlyError\u001b[0m: Because you didn't supply a 'file_id' in the call, we're assuming you're trying to snag a figure from a url. You supplied the url, '', we expected it to start with 'https://plot.ly'.\nRun help on this function for more information."
     ]
    }
   ],
   "source": [
    "algo.iplot()"
   ]
  },
  {
   "cell_type": "markdown",
   "metadata": {},
   "source": [
    "# Forecasting\n",
    "\n",
    "Forecasting para todos los pozos activos"
   ]
  },
  {
   "cell_type": "code",
   "execution_count": 232,
   "metadata": {},
   "outputs": [
    {
     "name": "stdout",
     "output_type": "stream",
     "text": [
      "105.5\n"
     ]
    }
   ],
   "source": [
    "# pozos vivos\n",
    "print(df_train.groupby('Pozo').fecha_produccion.count().median())\n",
    "# aproximandamente 10 mediciones por pozo\n",
    "pozos_vivos = df_train.groupby('Pozo').fecha_produccion.count()[\n",
    "    df_train.groupby('Pozo').fecha_produccion.count() > 110].index\n",
    "df_vivos = df_train[df_train.Pozo.isin(pozos_vivos)]"
   ]
  },
  {
   "cell_type": "code",
   "execution_count": 234,
   "metadata": {},
   "outputs": [],
   "source": [
    "df_vivos = df_vivos[df_vivos.fecha_produccion >= '2012-01-01']"
   ]
  },
  {
   "cell_type": "code",
   "execution_count": 235,
   "metadata": {},
   "outputs": [],
   "source": [
    "df_forcast = df_train[df_train.fecha_produccion >= '2012-01-01']"
   ]
  },
  {
   "cell_type": "code",
   "execution_count": 236,
   "metadata": {},
   "outputs": [],
   "source": [
    "pozos_cero = df_forcast.groupby('Pozo').fecha_produccion.min()[\n",
    "    df_forcast.groupby('Pozo').fecha_produccion.min() == '2012-01-01'].index"
   ]
  },
  {
   "cell_type": "code",
   "execution_count": 237,
   "metadata": {},
   "outputs": [],
   "source": [
    "df_vivos = df_vivos[df_vivos.Pozo.isin(pozos_cero)]"
   ]
  },
  {
   "cell_type": "code",
   "execution_count": 238,
   "metadata": {},
   "outputs": [],
   "source": [
    "df_forcast = df_forcast[df_forcast.Pozo.isin(df_vivos.Pozo.unique())]"
   ]
  },
  {
   "cell_type": "markdown",
   "metadata": {},
   "source": [
    "## Funciones para generar variables"
   ]
  },
  {
   "cell_type": "code",
   "execution_count": 246,
   "metadata": {},
   "outputs": [],
   "source": [
    "def gen_cols(df):\n",
    "    \n",
    "    df['diff_t_6_t_5'] = df.Produccion_barriles_t_6 - df.Produccion_barriles_t_5\n",
    "    df['diff_t_5_t_4'] = df.Produccion_barriles_t_5 - df.Produccion_barriles_t_4\n",
    "    df['diff_t_4_t_3'] = df.Produccion_barriles_t_4 - df.Produccion_barriles_t_3\n",
    "    df['diff_t_3_t_2'] = df.Produccion_barriles_t_3 - df.Produccion_barriles_t_2\n",
    "    df['diff_t_2_t_1'] = df.Produccion_barriles_t_2 - df.Produccion_barriles_t_1\n",
    "\n",
    "    df['diff_t_6_t_1'] = df.Produccion_barriles_t_6 - df.Produccion_barriles_t_1\n",
    "    df['diff_t_5_t_1'] = df.Produccion_barriles_t_5 - df.Produccion_barriles_t_1\n",
    "    df['diff_t_4_t_1'] = df.Produccion_barriles_t_4 - df.Produccion_barriles_t_1\n",
    "    df['diff_t_3_t_1'] = df.Produccion_barriles_t_3 - df.Produccion_barriles_t_1\n",
    "\n",
    "    df['aceleracion_de_produccion _t3t2_t2t1'] = df['diff_t_3_t_2'] - df['diff_t_2_t_1']\n",
    "    df['aceleracion_de_produccion _t4t3_t2t1'] = df['diff_t_4_t_3'] - df['diff_t_2_t_1']\n",
    "    \n",
    "    # desviacion estandar\n",
    "    df['std_t_6_t_1'] = df[['Produccion_barriles_t_6', 'Produccion_barriles_t_5',\n",
    "           'Produccion_barriles_t_4', 'Produccion_barriles_t_3',\n",
    "           'Produccion_barriles_t_2', 'Produccion_barriles_t_1']].std(1)\n",
    "    # mediana\n",
    "    df['median_t_6_t_1'] = df[['Produccion_barriles_t_6', 'Produccion_barriles_t_5',\n",
    "           'Produccion_barriles_t_4', 'Produccion_barriles_t_3',\n",
    "           'Produccion_barriles_t_2', 'Produccion_barriles_t_1']].median(1)\n",
    "    # minimo\n",
    "    df['min_t_6_t_1'] = df[['Produccion_barriles_t_6', 'Produccion_barriles_t_5',\n",
    "           'Produccion_barriles_t_4', 'Produccion_barriles_t_3',\n",
    "           'Produccion_barriles_t_2', 'Produccion_barriles_t_1']].min(1)\n",
    "    #quantiles\n",
    "    df['q75_t_6_t_1'] = df[['Produccion_barriles_t_6', 'Produccion_barriles_t_5',\n",
    "           'Produccion_barriles_t_4', 'Produccion_barriles_t_3',\n",
    "           'Produccion_barriles_t_2', 'Produccion_barriles_t_1']].quantile(0.75,axis=1)\n",
    "    df['q25_t_6_t_1'] = df[['Produccion_barriles_t_6', 'Produccion_barriles_t_5',\n",
    "           'Produccion_barriles_t_4', 'Produccion_barriles_t_3',\n",
    "           'Produccion_barriles_t_2', 'Produccion_barriles_t_1']].quantile(0.25,axis=1)\n",
    "    df['q90_t_6_t_1'] = df[['Produccion_barriles_t_6', 'Produccion_barriles_t_5',\n",
    "           'Produccion_barriles_t_4', 'Produccion_barriles_t_3',\n",
    "           'Produccion_barriles_t_2', 'Produccion_barriles_t_1']].quantile(0.90,axis=1)\n",
    "    df['q10_t_6_t_1'] = df[['Produccion_barriles_t_6', 'Produccion_barriles_t_5',\n",
    "           'Produccion_barriles_t_4', 'Produccion_barriles_t_3',\n",
    "           'Produccion_barriles_t_2', 'Produccion_barriles_t_1']].quantile(0.10,axis=1)\n",
    "    #maximo\n",
    "    df['max_t_6_t_1'] = df[['Produccion_barriles_t_6', 'Produccion_barriles_t_5',\n",
    "           'Produccion_barriles_t_4', 'Produccion_barriles_t_3',\n",
    "           'Produccion_barriles_t_2', 'Produccion_barriles_t_1']].max(1)\n",
    "\n",
    "    #rango\n",
    "    df['rango_t6_t1'] = df['max_t_6_t_1'] - df['min_t_6_t_1']\n",
    "    \n",
    "    # medias moviles\n",
    "    df['media_movil_t_2_t_1'] = df[['Produccion_barriles_t_2', 'Produccion_barriles_t_1']].mean(1)\n",
    "    df['media_movil_t_3_t_1'] = df[[ 'Produccion_barriles_t_3',\n",
    "                                    'Produccion_barriles_t_2', 'Produccion_barriles_t_1']].mean(1)\n",
    "    df['media_movil_t_4_t_1'] = df[['Produccion_barriles_t_4', 'Produccion_barriles_t_3',\n",
    "                                   'Produccion_barriles_t_2', 'Produccion_barriles_t_1']].mean(1)\n",
    "    df['media_movil_t_5_t_1'] = df[['Produccion_barriles_t_5',\n",
    "                                   'Produccion_barriles_t_4', 'Produccion_barriles_t_3',\n",
    "                                   'Produccion_barriles_t_2', 'Produccion_barriles_t_1']].mean(1)\n",
    "\n",
    "    df['media_movil_t_6_t_1'] = df[['Produccion_barriles_t_6', 'Produccion_barriles_t_5',\n",
    "                                   'Produccion_barriles_t_4', 'Produccion_barriles_t_3',\n",
    "                                   'Produccion_barriles_t_2', 'Produccion_barriles_t_1']].mean(1)\n",
    "    \n",
    "    #dummi pico abajo\n",
    "    #df['dummi_pico_bajo'] = np.where(df.media_movil_t_6_t_1 - 5*df.std_t_6_t_1 > df.Produccion_barriles_t,1,0)\n",
    "    \n",
    "    # dummies_month\n",
    "    #pd.get_dummies(df.reset_index().fecha_produccion.dt.month,prefix='month')\n",
    "    \n",
    "    #y_real\n",
    "    df['y_real'] = df_simul.Produccion_barriles_t\n",
    "\n",
    "    return df"
   ]
  },
  {
   "cell_type": "code",
   "execution_count": 258,
   "metadata": {},
   "outputs": [
    {
     "data": {
      "text/plain": [
       "<matplotlib.axes._subplots.AxesSubplot at 0x1aae8287898>"
      ]
     },
     "execution_count": 258,
     "metadata": {},
     "output_type": "execute_result"
    },
    {
     "data": {
      "image/png": "[encoded data removed]",
      "text/plain": [
       "<Figure size 1152x864 with 1 Axes>"
      ]
     },
     "metadata": {},
     "output_type": "display_data"
    }
   ],
   "source": [
    "lgb.plot_importance(gbm_pickle, max_num_features=10, title='Importancia de variables - Top 10')"
   ]
  },
  {
   "cell_type": "code",
   "execution_count": 314,
   "metadata": {},
   "outputs": [],
   "source": [
    "df = None"
   ]
  },
  {
   "cell_type": "code",
   "execution_count": 320,
   "metadata": {},
   "outputs": [],
   "source": [
    "del df"
   ]
  },
  {
   "cell_type": "code",
   "execution_count": 315,
   "metadata": {},
   "outputs": [],
   "source": [
    "def forecast(df, n_pred,  num_cols, columna_inicial = 2, lag=7):\n",
    "    pred=[]\n",
    "    for i in range(n_pred):\n",
    "        # genera una nueva fila\n",
    "        df = pd.concat([df, df.iloc[-1:]], ignore_index=True)\n",
    "        for j in range(lag - 1):\n",
    "            # recorrer valores\n",
    "            df.iloc[-1, j + columna_inicial] = df.iloc[-1, j + 1 + columna_inicial]\n",
    "            \n",
    "        gen_cols(df)\n",
    "        # colocar el valor de la predicción\n",
    "        valor = gbm_pickle.predict(df[num_cols][-1:])\n",
    "        print(df[num_cols][-1:].values)\n",
    "        print(valor)\n",
    "        \n",
    "        pred.append(valor)\n",
    "        df.iloc[-1, columna_inicial + lag - 1] = valor\n",
    "        \n",
    "        # calcular las variables que dependen en el tiempo\n",
    "#         gen_cols(df)\n",
    "#         # calcular la y_real\n",
    "#         df.iloc[-1, -1] = valor\n",
    "        \n",
    "    return df, pred"
   ]
  },
  {
   "cell_type": "code",
   "execution_count": 316,
   "metadata": {},
   "outputs": [
    {
     "name": "stdout",
     "output_type": "stream",
     "text": [
      "1 fecha_produccion\n",
      "2 Produccion_barriles_t_6\n",
      "3 Produccion_barriles_t_5\n",
      "4 Produccion_barriles_t_4\n",
      "5 Produccion_barriles_t_3\n",
      "6 Produccion_barriles_t_2\n",
      "7 Produccion_barriles_t_1\n",
      "8 Produccion_barriles_t\n",
      "9 Produccion_barriles_t_mas_1\n",
      "10 diff_t_6_t_5\n",
      "11 diff_t_5_t_4\n",
      "12 diff_t_4_t_3\n",
      "13 diff_t_3_t_2\n",
      "14 diff_t_2_t_1\n",
      "15 diff_t_6_t_1\n",
      "16 diff_t_5_t_1\n",
      "17 diff_t_4_t_1\n",
      "18 diff_t_3_t_1\n",
      "19 aceleracion_de_produccion _t3t2_t2t1\n",
      "20 aceleracion_de_produccion _t4t3_t2t1\n"
     ]
    }
   ],
   "source": [
    "for i, val in enumerate(df_forcast.columns):\n",
    "    if i > 0 and i < 21:\n",
    "        print(i,val)"
   ]
  },
  {
   "cell_type": "code",
   "execution_count": 317,
   "metadata": {},
   "outputs": [
    {
     "data": {
      "text/plain": [
       "array(['MOLOACAN-440', 'MOLOACAN-459'], dtype=object)"
      ]
     },
     "execution_count": 317,
     "metadata": {},
     "output_type": "execute_result"
    }
   ],
   "source": [
    "pozos_vivos"
   ]
  },
  {
   "cell_type": "code",
   "execution_count": 323,
   "metadata": {},
   "outputs": [],
   "source": [
    "del df_simul"
   ]
  },
  {
   "cell_type": "code",
   "execution_count": 325,
   "metadata": {},
   "outputs": [
    {
     "name": "stdout",
     "output_type": "stream",
     "text": [
      "['MOLOACAN-646']\n",
      "--1--\n",
      "--2--\n",
      "23\n",
      "--3--\n",
      "[[176.11       192.72       186.49       193.06       186.53\n",
      "  192.34       192.34       192.34       -16.61         6.23\n",
      "   -6.57         6.53        -5.81       -16.23         0.38\n",
      "   -5.85         0.72        12.34        -0.76         6.51823519\n",
      "  189.435      176.11       192.625      186.5        192.89\n",
      "  181.3        193.06        16.95       189.435      190.64333333\n",
      "  189.605      190.228      187.875        0.           0.\n",
      "    0.           0.           0.           0.           0.\n",
      "    0.           0.           0.           0.           0.\n",
      "    1.          18.02424772 -94.33220476   0.           0.\n",
      "    0.           0.           0.           1.           0.\n",
      "    0.           0.           0.           0.           0.\n",
      "    0.           0.           1.           0.           0.\n",
      "    0.           0.           0.           1.        ]]\n",
      "[359.73596217]\n",
      "[[ 192.72        186.49        193.06        186.53        192.34\n",
      "   359.73596217  359.73596217  192.34          6.23         -6.57\n",
      "     6.53         -5.81       -167.39596217 -167.01596217 -173.24596217\n",
      "  -166.67596217 -173.20596217  161.58596217  173.92596217   69.26826553\n",
      "   192.53        186.49        192.975       187.9825      276.39798109\n",
      "   186.51        359.73596217  173.24596217  276.03798109  246.20198739\n",
      "   232.91649054  223.63119243  218.47932703    0.            0.\n",
      "     0.            0.            0.            0.            0.\n",
      "     0.            0.            0.            0.            0.\n",
      "     1.           18.02424772  -94.33220476    0.            0.\n",
      "     0.            0.            0.            1.            0.\n",
      "     0.            0.            0.            0.            0.\n",
      "     0.            0.            1.            0.            0.\n",
      "     0.            0.            0.            1.        ]]\n",
      "[521.45455498]\n",
      "[[ 186.49        193.06        186.53        192.34        359.73596217\n",
      "   521.45455498  521.45455498  192.34         -6.57          6.53\n",
      "    -5.81       -167.39596217 -161.7185928  -334.96455498 -328.39455498\n",
      "  -334.92455498 -329.11455498   -5.67736937  155.9085928   139.36272165\n",
      "   192.7         186.49        318.06697163  187.9825      440.59525857\n",
      "   186.51        521.45455498  334.96455498  440.59525857  357.84350572\n",
      "   315.01512929  290.62410343  273.26841952    0.            0.\n",
      "     0.            0.            0.            0.            0.\n",
      "     0.            0.            0.            0.            0.\n",
      "     1.           18.02424772  -94.33220476    0.            0.\n",
      "     0.            0.            0.            1.            0.\n",
      "     0.            0.            0.            0.            0.\n",
      "     0.            0.            1.            0.            0.\n",
      "     0.            0.            0.            1.        ]]\n",
      "[606.21382502]\n",
      "[[ 193.06        186.53        192.34        359.73596217  521.45455498\n",
      "   606.21382502  606.21382502  192.34          6.53         -5.81\n",
      "  -167.39596217 -161.7185928   -84.75927004 -413.15382502 -419.68382502\n",
      "  -413.87382502 -246.47786284  -76.95932276  -82.63669213  184.97061478\n",
      "   276.39798109  186.53        481.02490677  192.52        563.83419\n",
      "   189.435       606.21382502  419.68382502  563.83419     495.80144739\n",
      "   419.93608554  373.25486843  343.22239036    0.            0.\n",
      "     0.            0.            0.            0.            0.\n",
      "     0.            0.            0.            0.            0.\n",
      "     1.           18.02424772  -94.33220476    0.            0.\n",
      "     0.            0.            0.            1.            0.\n",
      "     0.            0.            0.            0.            0.\n",
      "     0.            0.            1.            0.            0.\n",
      "     0.            0.            0.            1.        ]]\n",
      "[674.86294792]\n",
      "[[ 186.53        192.34        359.73596217  521.45455498  606.21382502\n",
      "   674.86294792  674.86294792  192.34         -5.81       -167.39596217\n",
      "  -161.7185928   -84.75927004  -68.6491229  -488.33294792 -482.52294792\n",
      "  -315.12698574 -153.40839294  -16.11014714  -93.0694699   209.67515072\n",
      "   440.59525857  186.53        585.02400751  234.18899054  640.53838647\n",
      "   189.435       674.86294792  488.33294792  640.53838647  600.84377597\n",
      "   540.56682252  470.92145802  423.52288168    0.            0.\n",
      "     0.            0.            0.            0.            0.\n",
      "     0.            0.            0.            0.            0.\n",
      "     1.           18.02424772  -94.33220476    0.            0.\n",
      "     0.            0.            0.            1.            0.\n",
      "     0.            0.            0.            0.            0.\n",
      "     0.            0.            1.            0.            0.\n",
      "     0.            0.            0.            1.        ]]\n",
      "[722.88223954]\n",
      "[[ 192.34        359.73596217  521.45455498  606.21382502  674.86294792\n",
      "   722.88223954  722.88223954  192.34       -167.39596217 -161.7185928\n",
      "   -84.75927004  -68.6491229   -48.01929162 -530.54223954 -363.14627737\n",
      "  -201.42768457 -116.66841452  -20.62983128  -36.73997842  202.64408332\n",
      "   563.83419     192.34        657.70066719  400.16561037  698.87259373\n",
      "   276.03798109  722.88223954  530.54223954  698.87259373  667.98633749\n",
      "   631.35339186  577.02990592  512.9149216     0.            0.\n",
      "     0.            0.            0.            0.            0.\n",
      "     0.            0.            0.            0.            0.\n",
      "     1.           18.02424772  -94.33220476    0.            0.\n",
      "     0.            0.            0.            1.            0.\n",
      "     0.            0.            0.            0.            0.\n",
      "     0.            0.            1.            0.            0.\n",
      "     0.            0.            0.            1.        ]]\n",
      "[724.54547895]\n",
      "[[ 359.73596217  521.45455498  606.21382502  674.86294792  722.88223954\n",
      "   724.54547895  724.54547895  192.34       -161.7185928   -84.75927004\n",
      "   -68.6491229   -48.01929162   -1.66323941 -364.80951678 -203.09092398\n",
      "  -118.33165393  -49.68253103  -46.35605221  -66.98588349  141.51694103\n",
      "   640.53838647  359.73596217  710.87741663  542.64437249  723.71385925\n",
      "   440.59525857  724.54547895  364.80951678  723.71385925  707.43022214\n",
      "   682.12612286  649.99180928  601.61583476    0.            0.\n",
      "     0.            0.            0.            0.            0.\n",
      "     0.            0.            0.            0.            0.\n",
      "     1.           18.02424772  -94.33220476    0.            0.\n",
      "     0.            0.            0.            1.            0.\n",
      "     0.            0.            0.            0.            0.\n",
      "     0.            0.            1.            0.            0.\n",
      "     0.            0.            0.            1.        ]]\n",
      "[706.39985455]\n",
      "[[ 521.45455498  606.21382502  674.86294792  722.88223954  724.54547895\n",
      "   706.39985455  706.39985455  192.34        -84.75927004  -68.6491229\n",
      "   -48.01929162   -1.66323941   18.1456244  -184.94529958 -100.18602953\n",
      "   -31.53690663   16.48238499  -19.80886381  -66.16491602   80.72141225\n",
      "   690.63140123  521.45455498  718.76164329  623.37610574  723.71385925\n",
      "   563.83419     724.54547895  203.09092398  715.47266675  717.94252435\n",
      "   707.17263024  686.9808692   659.39315016    0.            0.\n",
      "     0.            0.            0.            0.            0.\n",
      "     0.            0.            0.            0.            0.\n",
      "     1.           18.02424772  -94.33220476    0.            0.\n",
      "     0.            0.            0.            1.            0.\n",
      "     0.            0.            0.            0.            0.\n",
      "     0.            0.            1.            0.            0.\n",
      "     0.            0.            0.            1.        ]]\n",
      "[698.96065734]\n",
      "[[606.21382502 674.86294792 722.88223954 724.54547895 706.39985455\n",
      "  698.96065734 698.96065734 192.34       -68.6491229  -48.01929162\n",
      "   -1.66323941  18.1456244    7.43919722 -92.74683232 -24.09770942\n",
      "   23.9215822   25.58482161  10.70642718  -9.10243663  44.42265376\n",
      "  702.68025594 606.21382502 718.76164329 680.88737527 723.71385925\n",
      "  640.53838647 724.54547895 118.33165393 702.68025594 709.96866361\n",
      "  713.19705759 705.53023566 688.97750055   0.           0.\n",
      "    0.           0.           0.           0.           0.\n",
      "    0.           0.           0.           0.           0.\n",
      "    1.          18.02424772 -94.33220476   0.           0.\n",
      "    0.           0.           0.           1.           0.\n",
      "    0.           0.           0.           0.           0.\n",
      "    0.           0.           1.           0.           0.\n",
      "    0.           0.           0.           1.        ]]\n",
      "[655.93158297]\n",
      "[[674.86294792 722.88223954 724.54547895 706.39985455 698.96065734\n",
      "  655.93158297 655.93158297 192.34       -48.01929162  -1.66323941\n",
      "   18.1456244    7.43919722  43.02907437  18.93136495  66.95065657\n",
      "   68.61389598  50.46827158 -35.58987715 -24.88344997  27.19224745\n",
      "  702.68025594 655.93158297 718.76164329 680.88737527 723.71385925\n",
      "  665.39726544 724.54547895  68.61389598 677.44612015 687.09736495\n",
      "  696.45939345 701.74396267 697.26379354   0.           0.\n",
      "    0.           0.           0.           0.           0.\n",
      "    0.           0.           0.           0.           0.\n",
      "    1.          18.02424772 -94.33220476   0.           0.\n",
      "    0.           0.           0.           1.           0.\n",
      "    0.           0.           0.           0.           0.\n",
      "    0.           0.           1.           0.           0.\n",
      "    0.           0.           0.           1.        ]]\n",
      "[602.06338238]\n",
      "[[722.88223954 724.54547895 706.39985455 698.96065734 655.93158297\n",
      "  602.06338238 602.06338238 192.34        -1.66323941  18.1456244\n",
      "    7.43919722  43.02907437  53.86820059 120.81885717 122.48209658\n",
      "  104.33647218  96.89727496 -10.83912622 -46.42900338  47.69720303\n",
      "  702.68025594 602.06338238 718.76164329 666.68885156 723.71385925\n",
      "  628.99748267 724.54547895 122.48209658 628.99748267 652.31854089\n",
      "  665.83886931 677.58019124 685.13053262   0.           0.\n",
      "    0.           0.           0.           0.           0.\n",
      "    0.           0.           0.           0.           0.\n",
      "    1.          18.02424772 -94.33220476   0.           0.\n",
      "    0.           0.           0.           1.           0.\n",
      "    0.           0.           0.           0.           0.\n",
      "    0.           0.           1.           0.           0.\n",
      "    0.           0.           0.           1.        ]]\n",
      "[587.63497671]\n",
      "[[724.54547895 706.39985455 698.96065734 655.93158297 602.06338238\n",
      "  587.63497671 587.63497671 192.34        18.1456244    7.43919722\n",
      "   43.02907437  53.86820059  14.42840566 136.91050224 118.76487784\n",
      "  111.32568062  68.29660625  39.43979493  28.60066871  57.28293099\n",
      "  677.44612015 587.63497671 704.54005525 615.53043252 715.47266675\n",
      "  594.84917954 724.54547895 136.91050224 594.84917954 615.20998068\n",
      "  636.14764985 650.19809079 662.58932215   0.           0.\n",
      "    0.           0.           0.           0.           0.\n",
      "    0.           0.           0.           0.           0.\n",
      "    1.          18.02424772 -94.33220476   0.           0.\n",
      "    0.           0.           0.           1.           0.\n",
      "    0.           0.           0.           0.           0.\n",
      "    0.           0.           1.           0.           0.\n",
      "    0.           0.           0.           1.        ]]\n",
      "[598.11838085]\n",
      "[[706.39985455 698.96065734 655.93158297 602.06338238 587.63497671\n",
      "  598.11838085 598.11838085 192.34         7.43919722  43.02907437\n",
      "   53.86820059  14.42840566 -10.48340413 108.2814737  100.84227649\n",
      "   57.81320212   3.94500153  24.9118098   64.35160473  53.0294999\n",
      "  628.99748267 587.63497671 688.20338874 599.10463123 702.68025594\n",
      "  592.87667878 706.39985455 118.76487784 592.87667878 595.93891331\n",
      "  610.93708073 628.54179605 641.51813913   0.           0.\n",
      "    0.           0.           0.           0.           0.\n",
      "    0.           0.           0.           0.           0.\n",
      "    1.          18.02424772 -94.33220476   0.           0.\n",
      "    0.           0.           0.           1.           0.\n",
      "    0.           0.           0.           0.           0.\n",
      "    0.           0.           1.           0.           0.\n",
      "    0.           0.           0.           1.        ]]\n",
      "[597.90242143]\n",
      "[[ 6.98960657e+02  6.55931583e+02  6.02063382e+02  5.87634977e+02\n",
      "   5.98118381e+02  5.97902421e+02  5.97902421e+02  1.92340000e+02\n",
      "   4.30290744e+01  5.38682006e+01  1.44284057e+01 -1.04834041e+01\n",
      "   2.15959420e-01  1.01058236e+02  5.80291615e+01  4.16096095e+00\n",
      "  -1.02674447e+01 -1.06993636e+01  1.42124462e+01  4.42524221e+01\n",
      "   6.00090882e+02  5.87634977e+02  6.42464533e+02  5.97956411e+02\n",
      "   6.77446120e+02  5.92768699e+02  6.98960657e+02  1.11325681e+02\n",
      "   5.98010401e+02  5.94551926e+02  5.96429790e+02  6.08330149e+02\n",
      "   6.23435234e+02  0.00000000e+00  0.00000000e+00  0.00000000e+00\n",
      "   0.00000000e+00  0.00000000e+00  0.00000000e+00  0.00000000e+00\n",
      "   0.00000000e+00  0.00000000e+00  0.00000000e+00  0.00000000e+00\n",
      "   0.00000000e+00  1.00000000e+00  1.80242477e+01 -9.43322048e+01\n",
      "   0.00000000e+00  0.00000000e+00  0.00000000e+00  0.00000000e+00\n",
      "   0.00000000e+00  1.00000000e+00  0.00000000e+00  0.00000000e+00\n",
      "   0.00000000e+00  0.00000000e+00  0.00000000e+00  0.00000000e+00\n",
      "   0.00000000e+00  0.00000000e+00  1.00000000e+00  0.00000000e+00\n",
      "   0.00000000e+00  0.00000000e+00  0.00000000e+00  0.00000000e+00\n",
      "   1.00000000e+00]]\n",
      "[584.1134902]\n",
      "[[ 6.55931583e+02  6.02063382e+02  5.87634977e+02  5.98118381e+02\n",
      "   5.97902421e+02  5.84113490e+02  5.84113490e+02  1.92340000e+02\n",
      "   5.38682006e+01  1.44284057e+01 -1.04834041e+01  2.15959420e-01\n",
      "   1.37889312e+01  7.18180928e+01  1.79498922e+01  3.52148651e+00\n",
      "   1.40048906e+01 -1.35729718e+01 -2.42723354e+01  2.62113800e+01\n",
      "   5.98010401e+02  5.84113490e+02  6.01077132e+02  5.90201838e+02\n",
      "   6.28997483e+02  5.85874233e+02  6.55931583e+02  7.18180928e+01\n",
      "   5.91007956e+02  5.93378097e+02  5.91942317e+02  5.93966530e+02\n",
      "   6.04294039e+02  0.00000000e+00  0.00000000e+00  0.00000000e+00\n",
      "   0.00000000e+00  0.00000000e+00  0.00000000e+00  0.00000000e+00\n",
      "   0.00000000e+00  0.00000000e+00  0.00000000e+00  0.00000000e+00\n",
      "   0.00000000e+00  1.00000000e+00  1.80242477e+01 -9.43322048e+01\n",
      "   0.00000000e+00  0.00000000e+00  0.00000000e+00  0.00000000e+00\n",
      "   0.00000000e+00  1.00000000e+00  0.00000000e+00  0.00000000e+00\n",
      "   0.00000000e+00  0.00000000e+00  0.00000000e+00  0.00000000e+00\n",
      "   0.00000000e+00  0.00000000e+00  1.00000000e+00  0.00000000e+00\n",
      "   0.00000000e+00  0.00000000e+00  0.00000000e+00  0.00000000e+00\n",
      "   1.00000000e+00]]\n",
      "[579.002919]\n",
      "[[ 6.02063382e+02  5.87634977e+02  5.98118381e+02  5.97902421e+02\n",
      "   5.84113490e+02  5.79002919e+02  5.79002919e+02  1.92340000e+02\n",
      "   1.44284057e+01 -1.04834041e+01  2.15959420e-01  1.37889312e+01\n",
      "   5.11057120e+00  2.30604634e+01  8.63205771e+00  1.91154618e+01\n",
      "   1.88995024e+01  8.67836003e+00 -4.89461178e+00  9.18749663e+00\n",
      "   5.92768699e+02  5.79002919e+02  5.98064391e+02  5.84993862e+02\n",
      "   6.00090882e+02  5.81558205e+02  6.02063382e+02  2.30604634e+01\n",
      "   5.81558205e+02  5.87006277e+02  5.89784303e+02  5.89354438e+02\n",
      "   5.91472595e+02  0.00000000e+00  0.00000000e+00  0.00000000e+00\n",
      "   0.00000000e+00  0.00000000e+00  0.00000000e+00  0.00000000e+00\n",
      "   0.00000000e+00  0.00000000e+00  0.00000000e+00  0.00000000e+00\n",
      "   0.00000000e+00  1.00000000e+00  1.80242477e+01 -9.43322048e+01\n",
      "   0.00000000e+00  0.00000000e+00  0.00000000e+00  0.00000000e+00\n",
      "   0.00000000e+00  1.00000000e+00  0.00000000e+00  0.00000000e+00\n",
      "   0.00000000e+00  0.00000000e+00  0.00000000e+00  0.00000000e+00\n",
      "   0.00000000e+00  0.00000000e+00  1.00000000e+00  0.00000000e+00\n",
      "   0.00000000e+00  0.00000000e+00  0.00000000e+00  0.00000000e+00\n",
      "   1.00000000e+00]]\n",
      "[571.54238209]\n",
      "[[ 5.87634977e+02  5.98118381e+02  5.97902421e+02  5.84113490e+02\n",
      "   5.79002919e+02  5.71542382e+02  5.71542382e+02  1.92340000e+02\n",
      "  -1.04834041e+01  2.15959420e-01  1.37889312e+01  5.11057120e+00\n",
      "   7.46053691e+00  1.60925946e+01  2.65759988e+01  2.63600393e+01\n",
      "   1.25711081e+01 -2.34996572e+00  6.32839432e+00  1.05056541e+01\n",
      "   5.85874233e+02  5.71542382e+02  5.95335560e+02  5.80280562e+02\n",
      "   5.98010401e+02  5.75272651e+02  5.98118381e+02  2.65759988e+01\n",
      "   5.75272651e+02  5.78219597e+02  5.83140303e+02  5.86135919e+02\n",
      "   5.86385762e+02  0.00000000e+00  0.00000000e+00  0.00000000e+00\n",
      "   0.00000000e+00  0.00000000e+00  0.00000000e+00  0.00000000e+00\n",
      "   0.00000000e+00  0.00000000e+00  0.00000000e+00  0.00000000e+00\n",
      "   0.00000000e+00  1.00000000e+00  1.80242477e+01 -9.43322048e+01\n",
      "   0.00000000e+00  0.00000000e+00  0.00000000e+00  0.00000000e+00\n",
      "   0.00000000e+00  1.00000000e+00  0.00000000e+00  0.00000000e+00\n",
      "   0.00000000e+00  0.00000000e+00  0.00000000e+00  0.00000000e+00\n",
      "   0.00000000e+00  0.00000000e+00  1.00000000e+00  0.00000000e+00\n",
      "   0.00000000e+00  0.00000000e+00  0.00000000e+00  0.00000000e+00\n",
      "   1.00000000e+00]]\n",
      "[566.50538602]\n",
      "[[ 5.98118381e+02  5.97902421e+02  5.84113490e+02  5.79002919e+02\n",
      "   5.71542382e+02  5.66505386e+02  5.66505386e+02  1.92340000e+02\n",
      "   2.15959420e-01  1.37889312e+01  5.11057120e+00  7.46053691e+00\n",
      "   5.03699606e+00  3.16129948e+01  3.13970354e+01  1.76081042e+01\n",
      "   1.24975330e+01  2.42354085e+00  7.35751326e-02  1.31992629e+01\n",
      "   5.81558205e+02  5.66505386e+02  5.94455189e+02  5.73407516e+02\n",
      "   5.98010401e+02  5.69023884e+02  5.98118381e+02  3.16129948e+01\n",
      "   5.69023884e+02  5.72350229e+02  5.75291044e+02  5.79813320e+02\n",
      "   5.82864163e+02  0.00000000e+00  0.00000000e+00  0.00000000e+00\n",
      "   0.00000000e+00  0.00000000e+00  0.00000000e+00  0.00000000e+00\n",
      "   0.00000000e+00  0.00000000e+00  0.00000000e+00  0.00000000e+00\n",
      "   0.00000000e+00  1.00000000e+00  1.80242477e+01 -9.43322048e+01\n",
      "   0.00000000e+00  0.00000000e+00  0.00000000e+00  0.00000000e+00\n",
      "   0.00000000e+00  1.00000000e+00  0.00000000e+00  0.00000000e+00\n",
      "   0.00000000e+00  0.00000000e+00  0.00000000e+00  0.00000000e+00\n",
      "   0.00000000e+00  0.00000000e+00  1.00000000e+00  0.00000000e+00\n",
      "   0.00000000e+00  0.00000000e+00  0.00000000e+00  0.00000000e+00\n",
      "   1.00000000e+00]]\n",
      "[568.98027719]\n",
      "[[597.90242143 584.1134902  579.002919   571.54238209 566.50538602\n",
      "  568.98027719 568.98027719 192.34        13.78893123   5.1105712\n",
      "    7.46053691   5.03699606  -2.47489117  28.92214424  15.13321301\n",
      "   10.02264181   2.5621049    7.51188723   9.93542808  11.74452213\n",
      "  575.27265054 566.50538602 582.8358474  569.62080341 591.00795581\n",
      "  567.74283161 597.90242143  31.39703541 567.74283161 569.00934843\n",
      "  571.50774107 574.0288909  578.00781265   0.           0.\n",
      "    0.           0.           0.           0.           0.\n",
      "    0.           0.           0.           0.           0.\n",
      "    1.          18.02424772 -94.33220476   0.           0.\n",
      "    0.           0.           0.           1.           0.\n",
      "    0.           0.           0.           0.           0.\n",
      "    0.           0.           1.           0.           0.\n",
      "    0.           0.           0.           1.        ]]\n",
      "[551.55228326]\n",
      "[[584.1134902  579.002919   571.54238209 566.50538602 568.98027719\n",
      "  551.55228326 551.55228326 192.34         5.1105712    7.46053691\n",
      "    5.03699606  -2.47489117  17.42799393  32.56120694  27.45063574\n",
      "   19.99009883  14.95310276 -19.9028851  -12.39099787  11.27575003\n",
      "  570.26132964 551.55228326 577.13778477 567.12410881 581.5582046\n",
      "  559.02883464 584.1134902   32.56120694 560.26628022 562.34598216\n",
      "  564.64508214 567.51664951 570.28278963   0.           0.\n",
      "    0.           0.           0.           0.           0.\n",
      "    0.           0.           0.           0.           0.\n",
      "    1.          18.02424772 -94.33220476   0.           0.\n",
      "    0.           0.           0.           1.           0.\n",
      "    0.           0.           0.           0.           0.\n",
      "    0.           0.           1.           0.           0.\n",
      "    0.           0.           0.           1.        ]]\n",
      "[559.0987593]\n",
      "[[579.002919   571.54238209 566.50538602 568.98027719 551.55228326\n",
      "  559.0987593  559.0987593  192.34         7.46053691   5.03699606\n",
      "   -2.47489117  17.42799393  -7.54647604  19.9041597   12.44362279\n",
      "    7.40662672   9.88151789  24.97446997   5.07158487   9.64590575\n",
      "  567.74283161 551.55228326 570.90185586 560.95041598 575.27265054\n",
      "  555.32552128 579.002919    27.45063574 555.32552128 559.87710658\n",
      "  561.53417644 563.53581757 566.11366781   0.           0.\n",
      "    0.           0.           0.           0.           0.\n",
      "    0.           0.           0.           0.           0.\n",
      "    1.          18.02424772 -94.33220476   0.           0.\n",
      "    0.           0.           0.           1.           0.\n",
      "    0.           0.           0.           0.           0.\n",
      "    0.           0.           1.           0.           0.\n",
      "    0.           0.           0.           1.        ]]\n",
      "[557.07695442]\n",
      "[[571.54238209 566.50538602 568.98027719 551.55228326 559.0987593\n",
      "  557.07695442 557.07695442 192.34         5.03699606  -2.47489117\n",
      "   17.42799393  -7.54647604   2.02180488  14.46542767   9.4284316\n",
      "   11.90332277  -5.52467116  -9.56828092  15.40618905   7.75399546\n",
      "  562.80207266 551.55228326 568.3615544  557.58240564 570.26132964\n",
      "  554.31461884 571.54238209  19.99009883 558.08785686 555.90933233\n",
      "  559.17706854 560.64273204 562.45934038   0.           0.\n",
      "    0.           0.           0.           0.           0.\n",
      "    0.           0.           0.           0.           0.\n",
      "    1.          18.02424772 -94.33220476   0.           0.\n",
      "    0.           0.           0.           1.           0.\n",
      "    0.           0.           0.           0.           0.\n",
      "    0.           0.           1.           0.           0.\n",
      "    0.           0.           0.           1.        ]]\n",
      "[545.66697661]\n",
      "[[566.50538602 568.98027719 551.55228326 559.0987593  557.07695442\n",
      "  545.66697661 545.66697661 192.34        -2.47489117  17.42799393\n",
      "   -7.54647604   2.02180488  11.40997781  20.83840942  23.31330058\n",
      "    5.88530665  13.43178269  -9.38817294 -18.95645385   8.81492629\n",
      "  558.08785686 545.66697661 564.65372934 552.93345105 567.74283161\n",
      "  548.60962993 568.98027719  23.31330058 551.37196551 553.94756344\n",
      "  553.3487434  556.47505015 558.1467728    0.           0.\n",
      "    0.           0.           0.           0.           0.\n",
      "    0.           0.           0.           0.           0.\n",
      "    1.          18.02424772 -94.33220476   0.           0.\n",
      "    0.           0.           0.           1.           0.\n",
      "    0.           0.           0.           0.           0.\n",
      "    0.           0.           1.           0.           0.\n",
      "    0.           0.           0.           1.        ]]\n",
      "[557.43391911]\n",
      "--4--\n",
      "--5--\n",
      "--6--\n",
      "----------------------------------------------------------------------\n",
      "['MOLOACAN-648']\n",
      "--1--\n",
      "--2--\n",
      "23\n",
      "--3--\n",
      "[[389.97       385.45       372.99       386.12       373.05\n",
      "  384.87       384.87       384.67         4.52        12.46\n",
      "  -13.13        13.07       -11.82         5.1          0.58\n",
      "  -11.88         1.25        24.89        -1.31         7.23717555\n",
      "  385.16       372.99       385.9525     376.005      388.045\n",
      "  373.02       389.97        16.98       378.96       381.34666667\n",
      "  379.2575     380.496      382.075        0.           0.\n",
      "    0.           0.           0.           0.           0.\n",
      "    0.           0.           0.           0.           0.\n",
      "    1.          18.0082365  -94.33952443   0.           0.\n",
      "    0.           0.           0.           0.           1.\n",
      "    0.           0.           0.           0.           0.\n",
      "    0.           0.           1.           0.           0.\n",
      "    0.           0.           1.           0.        ]]\n",
      "[479.56308438]\n",
      "[[ 385.45        372.99        386.12        373.05        384.87\n",
      "   479.56308438  479.56308438  384.67         12.46        -13.13\n",
      "    13.07        -11.82        -94.69308438  -94.11308438 -106.57308438\n",
      "   -93.44308438 -106.51308438   82.87308438  107.76308438   40.90393378\n",
      "   385.16        372.99        385.9525      376.005       432.84154219\n",
      "   373.02        479.56308438  106.57308438  432.21654219  412.49436146\n",
      "   405.90077109  399.31861688  397.00718073    0.            0.\n",
      "     0.            0.            0.            0.            0.\n",
      "     0.            0.            0.            0.            0.\n",
      "     1.           18.0082365   -94.33952443    0.            0.\n",
      "     0.            0.            0.            0.            1.\n",
      "     0.            0.            0.            0.            0.\n",
      "     0.            0.            1.            0.            0.\n",
      "     0.            0.            1.            0.        ]]\n",
      "[631.15576206]\n",
      "[[ 372.99        386.12        373.05        384.87        479.56308438\n",
      "   631.15576206  631.15576206  384.67        -13.13         13.07\n",
      "   -11.82        -94.69308438 -151.59267768 -258.16576206 -245.03576206\n",
      "  -258.10576206 -246.28576206   56.89959331  139.77267768  102.95218481\n",
      "   385.495       372.99        456.20231328  376.005       555.35942322\n",
      "   373.02        631.15576206  258.16576206  555.35942322  498.52961548\n",
      "   467.15971161  450.95176929  437.95814107    0.            0.\n",
      "     0.            0.            0.            0.            0.\n",
      "     0.            0.            0.            0.            0.\n",
      "     1.           18.0082365   -94.33952443    0.            0.\n",
      "     0.            0.            0.            0.            1.\n",
      "     0.            0.            0.            0.            0.\n",
      "     0.            0.            1.            0.            0.\n",
      "     0.            0.            1.            0.        ]]\n",
      "[681.59149705]\n",
      "[[ 386.12        373.05        384.87        479.56308438  631.15576206\n",
      "   681.59149705  681.59149705  384.67         13.07        -11.82\n",
      "   -94.69308438 -151.59267768  -50.43573499 -295.47149705 -308.54149705\n",
      "  -296.72149705 -202.02841267 -101.15694269  -44.25734939  135.83786947\n",
      "   432.84154219  373.05        593.25759264  385.1825      656.37362955\n",
      "   378.96        681.59149705  308.54149705  656.37362955  597.43678116\n",
      "   544.29508587  510.0460687   489.39172391    0.            0.\n",
      "     0.            0.            0.            0.            0.\n",
      "     0.            0.            0.            0.            0.\n",
      "     1.           18.0082365   -94.33952443    0.            0.\n",
      "     0.            0.            0.            0.            1.\n",
      "     0.            0.            0.            0.            0.\n",
      "     0.            0.            1.            0.            0.\n",
      "     0.            0.            1.            0.        ]]\n",
      "[709.3748338]\n",
      "[[ 373.05        384.87        479.56308438  631.15576206  681.59149705\n",
      "   709.3748338   709.3748338   384.67        -11.82        -94.69308438\n",
      "  -151.59267768  -50.43573499  -27.78333675 -336.3248338  -324.5048338\n",
      "  -229.81174942  -78.21907174  -22.65239824 -123.80934093  150.04768508\n",
      "   555.35942322  373.05        668.9825633   408.54327109  695.48316542\n",
      "   378.96        709.3748338   336.3248338   695.48316542  674.04069764\n",
      "   625.42129432  577.31103546  543.26752955    0.            0.\n",
      "     0.            0.            0.            0.            0.\n",
      "     0.            0.            0.            0.            0.\n",
      "     1.           18.0082365   -94.33952443    0.            0.\n",
      "     0.            0.            0.            0.            1.\n",
      "     0.            0.            0.            0.            0.\n",
      "     0.            0.            1.            0.            0.\n",
      "     0.            0.            1.            0.        ]]\n",
      "[730.71206326]\n",
      "[[ 384.87        479.56308438  631.15576206  681.59149705  709.3748338\n",
      "   730.71206326  730.71206326  384.67        -94.69308438 -151.59267768\n",
      "   -50.43573499  -27.78333675  -21.33722946 -345.84206326 -251.14897888\n",
      "   -99.5563012   -49.12056621   -6.44610729  -29.09850553  139.57981678\n",
      "   656.37362955  384.87        702.42899961  517.4612538   720.04344853\n",
      "   432.21654219  730.71206326  345.84206326  720.04344853  707.22613137\n",
      "   688.20853904  646.47944811  602.87787342    0.            0.\n",
      "     0.            0.            0.            0.            0.\n",
      "     0.            0.            0.            0.            0.\n",
      "     1.           18.0082365   -94.33952443    0.            0.\n",
      "     0.            0.            0.            0.            1.\n",
      "     0.            0.            0.            0.            0.\n",
      "     0.            0.            1.            0.            0.\n",
      "     0.            0.            1.            0.        ]]\n",
      "[727.52931891]\n",
      "[[ 479.56308438  631.15576206  681.59149705  709.3748338   730.71206326\n",
      "   727.52931891  727.52931891  384.67       -151.59267768  -50.43573499\n",
      "   -27.78333675  -21.33722946    3.18274435 -247.96623453  -96.37355685\n",
      "   -45.93782186  -18.15448511  -24.51997381  -30.9660811    95.76423283\n",
      "   695.48316542  479.56308438  722.99069763  643.76469581  729.12069108\n",
      "   555.35942322  730.71206326  251.14897888  729.12069108  722.53873866\n",
      "   712.30192825  696.07269501  659.98775991    0.            0.\n",
      "     0.            0.            0.            0.            0.\n",
      "     0.            0.            0.            0.            0.\n",
      "     1.           18.0082365   -94.33952443    0.            0.\n",
      "     0.            0.            0.            0.            1.\n",
      "     0.            0.            0.            0.            0.\n",
      "     0.            0.            1.            0.            0.\n",
      "     0.            0.            1.            0.        ]]\n",
      "[690.87168025]\n",
      "[[631.15576206 681.59149705 709.3748338  730.71206326 727.52931891\n",
      "  690.87168025 690.87168025 384.67       -50.43573499 -27.78333675\n",
      "  -21.33722946   3.18274435  36.65763866 -59.71591819  -9.2801832\n",
      "   18.50315355  39.84038301 -33.47489431 -57.99486812  36.91289022\n",
      "  700.12325702 631.15576206 722.99069763 683.91154285 729.12069108\n",
      "  656.37362955 730.71206326  99.5563012  709.20049958 716.3710208\n",
      "  714.62197405 708.01587865 695.20585922   0.           0.\n",
      "    0.           0.           0.           0.           0.\n",
      "    0.           0.           0.           0.           0.\n",
      "    1.          18.0082365  -94.33952443   0.           0.\n",
      "    0.           0.           0.           0.           1.\n",
      "    0.           0.           0.           0.           0.\n",
      "    0.           0.           1.           0.           0.\n",
      "    0.           0.           1.           0.        ]]\n",
      "[649.7633093]\n",
      "[[681.59149705 709.3748338  730.71206326 727.52931891 690.87168025\n",
      "  649.7633093  649.7633093  384.67       -27.78333675 -21.33722946\n",
      "    3.18274435  36.65763866  41.10837094  31.82818774  59.6115245\n",
      "   80.94875395  77.7660096   -4.45073228 -37.92562659  30.71713176\n",
      "  700.12325702 649.7633093  722.99069763 683.91154285 729.12069108\n",
      "  665.67740318 730.71206326  80.94875395 670.31749477 689.38810282\n",
      "  699.71909293 701.6502411  698.30711709   0.           0.\n",
      "    0.           0.           0.           0.           0.\n",
      "    0.           0.           0.           0.           0.\n",
      "    1.          18.0082365  -94.33952443   0.           0.\n",
      "    0.           0.           0.           0.           1.\n",
      "    0.           0.           0.           0.           0.\n",
      "    0.           0.           1.           0.           0.\n",
      "    0.           0.           1.           0.        ]]\n",
      "[628.9848707]\n",
      "[[709.3748338  730.71206326 727.52931891 690.87168025 649.7633093\n",
      "  628.9848707  628.9848707  384.67       -21.33722946   3.18274435\n",
      "   36.65763866  41.10837094  20.7784386   80.3899631  101.72719256\n",
      "   98.54444821  61.88680955  20.32993234  15.87920006  41.91092925\n",
      "  700.12325702 628.9848707  722.99069763 660.04040204 729.12069108\n",
      "  639.37409    730.71206326 101.72719256 639.37409    656.53995342\n",
      "  674.28729479 685.57224848 689.53934604   0.           0.\n",
      "    0.           0.           0.           0.           0.\n",
      "    0.           0.           0.           0.           0.\n",
      "    1.          18.0082365  -94.33952443   0.           0.\n",
      "    0.           0.           0.           0.           1.\n",
      "    0.           0.           0.           0.           0.\n",
      "    0.           0.           1.           0.           0.\n",
      "    0.           0.           1.           0.        ]]\n",
      "[630.3653122]\n",
      "[[730.71206326 727.52931891 690.87168025 649.7633093  628.9848707\n",
      "  630.3653122  630.3653122  384.67         3.18274435  36.65763866\n",
      "   41.10837094  20.7784386   -1.3804415  100.34675106  97.1640067\n",
      "   60.50636804  19.3979971   22.15888011  42.48881244  46.58397201\n",
      "  670.31749477 628.9848707  718.36490924 635.21481148 729.12069108\n",
      "  629.67509145 730.71206326 101.72719256 629.67509145 636.37116407\n",
      "  649.99629311 665.50289827 676.37109244   0.           0.\n",
      "    0.           0.           0.           0.           0.\n",
      "    0.           0.           0.           0.           0.\n",
      "    1.          18.0082365  -94.33952443   0.           0.\n",
      "    0.           0.           0.           0.           1.\n",
      "    0.           0.           0.           0.           0.\n",
      "    0.           0.           1.           0.           0.\n",
      "    0.           0.           1.           0.        ]]\n",
      "[626.18839102]\n",
      "[[727.52931891 690.87168025 649.7633093  628.9848707  630.3653122\n",
      "  626.18839102 626.18839102 384.67        36.65763866  41.10837094\n",
      "   20.7784386   -1.3804415    4.17692118 101.34092789  64.68328923\n",
      "   23.57491828   2.79647968  -5.55736269  16.60151742  41.46041078\n",
      "  640.06431075 626.18839102 680.59458751 629.32998108 709.20049958\n",
      "  627.58663086 727.52931891 101.34092789 628.27685161 628.51285797\n",
      "  633.82547081 645.23471269 658.9504804    0.           0.\n",
      "    0.           0.           0.           0.           0.\n",
      "    0.           0.           0.           0.           0.\n",
      "    1.          18.0082365  -94.33952443   0.           0.\n",
      "    0.           0.           0.           0.           1.\n",
      "    0.           0.           0.           0.           0.\n",
      "    0.           0.           1.           0.           0.\n",
      "    0.           0.           1.           0.        ]]\n",
      "[654.78035952]\n",
      "[[690.87168025 649.7633093  628.9848707  630.3653122  626.18839102\n",
      "  654.78035952 654.78035952 384.67        41.10837094  20.7784386\n",
      "   -1.3804415    4.17692118 -28.5919685   36.09132073  -5.01705021\n",
      "  -25.79548882 -24.41504732  32.76888968  27.211527    24.60525395\n",
      "  640.06431075 626.18839102 653.52609696 629.32998108 672.82601988\n",
      "  627.58663086 690.87168025  64.68328923 640.48437527 637.11135425\n",
      "  635.07973336 638.01644855 646.82565383   0.           0.\n",
      "    0.           0.           0.           0.           0.\n",
      "    0.           0.           0.           0.           0.\n",
      "    1.          18.0082365  -94.33952443   0.           0.\n",
      "    0.           0.           0.           0.           1.\n",
      "    0.           0.           0.           0.           0.\n",
      "    0.           0.           1.           0.           0.\n",
      "    0.           0.           1.           0.        ]]\n",
      "[591.8746703]\n",
      "[[649.7633093  628.9848707  630.3653122  626.18839102 654.78035952\n",
      "  591.8746703  591.8746703  384.67        20.7784386   -1.3804415\n",
      "    4.17692118 -28.5919685   62.90568922  57.88863901  37.1102004\n",
      "   38.4906419   34.31372072 -91.49765772 -58.72876804  22.24072584\n",
      "  629.67509145 591.8746703  644.91381003 626.88751094 652.27183441\n",
      "  609.03153066 654.78035952  62.90568922 623.32751491 624.28114028\n",
      "  625.80218326 626.43872075 630.32615217   0.           0.\n",
      "    0.           0.           0.           0.           0.\n",
      "    0.           0.           0.           0.           0.\n",
      "    1.          18.0082365  -94.33952443   0.           0.\n",
      "    0.           0.           0.           0.           1.\n",
      "    0.           0.           0.           0.           0.\n",
      "    0.           0.           1.           0.           0.\n",
      "    0.           0.           1.           0.        ]]\n",
      "[548.72570313]\n",
      "[[628.9848707  630.3653122  626.18839102 654.78035952 591.8746703\n",
      "  548.72570313 548.72570313 384.67        -1.3804415    4.17692118\n",
      "  -28.5919685   62.90568922  43.14896716  80.25916757  81.63960907\n",
      "   77.46268789 106.05465638  19.75672205 -71.74093566  37.55701442\n",
      "  627.58663086 548.72570313 630.02020183 600.45310048 642.57283586\n",
      "  570.30018672 654.78035952 106.05465638 570.30018672 598.46024432\n",
      "  605.39228099 610.38688723 613.48655114   0.           0.\n",
      "    0.           0.           0.           0.           0.\n",
      "    0.           0.           0.           0.           0.\n",
      "    1.          18.0082365  -94.33952443   0.           0.\n",
      "    0.           0.           0.           0.           1.\n",
      "    0.           0.           0.           0.           0.\n",
      "    0.           0.           1.           0.           0.\n",
      "    0.           0.           1.           0.        ]]\n",
      "[570.25463503]\n",
      "[[630.3653122  626.18839102 654.78035952 591.8746703  548.72570313\n",
      "  570.25463503 570.25463503 384.67         4.17692118 -28.5919685\n",
      "   62.90568922  43.14896716 -21.52893189  60.11067717  55.93375599\n",
      "   84.52572449  21.62003527  64.67789906  84.43462111  40.26555325\n",
      "  609.03153066 548.72570313 629.32108191 575.65964384 642.57283586\n",
      "  559.49016908 654.78035952 106.05465638 559.49016908 570.28500282\n",
      "  591.40884199 598.3647518  603.69817853   0.           0.\n",
      "    0.           0.           0.           0.           0.\n",
      "    0.           0.           0.           0.           0.\n",
      "    1.          18.0082365  -94.33952443   0.           0.\n",
      "    0.           0.           0.           0.           1.\n",
      "    0.           0.           0.           0.           0.\n",
      "    0.           0.           1.           0.           0.\n",
      "    0.           0.           1.           0.        ]]\n",
      "[633.04617845]\n",
      "[[626.18839102 654.78035952 591.8746703  548.72570313 570.25463503\n",
      "  633.04617845 633.04617845 384.67       -28.5919685   62.90568922\n",
      "   43.14896716 -21.52893189 -62.79154342  -6.85778743  21.73418107\n",
      "  -41.17150815 -84.32047531  41.26261153 105.94051058  40.6338409\n",
      "  609.03153066 548.72570313 631.33173159 575.65964384 643.91326898\n",
      "  559.49016908 654.78035952 106.05465638 601.65040674 584.00883887\n",
      "  585.97529673 599.73630928 604.14498957   0.           0.\n",
      "    0.           0.           0.           0.           0.\n",
      "    0.           0.           0.           0.           0.\n",
      "    1.          18.0082365  -94.33952443   0.           0.\n",
      "    0.           0.           0.           0.           1.\n",
      "    0.           0.           0.           0.           0.\n",
      "    0.           0.           1.           0.           0.\n",
      "    0.           0.           1.           0.        ]]\n",
      "[672.41488137]\n",
      "[[ 654.78035952  591.8746703   548.72570313  570.25463503  633.04617845\n",
      "   672.41488137  672.41488137  384.67         62.90568922   43.14896716\n",
      "   -21.52893189  -62.79154342  -39.36870292  -17.63452185  -80.54021107\n",
      "  -123.68917823 -102.16024634  -23.4228405    17.83977103   49.14115107\n",
      "   612.46042437  548.72570313  649.34681425  575.65964384  663.59762044\n",
      "   559.49016908  672.41488137  123.68917823  652.73052991  625.23856495\n",
      "   606.11034949  603.26321365  611.84940463    0.            0.\n",
      "     0.            0.            0.            0.            0.\n",
      "     0.            0.            0.            0.            0.\n",
      "     1.           18.0082365   -94.33952443    0.            0.\n",
      "     0.            0.            0.            0.            1.\n",
      "     0.            0.            0.            0.            0.\n",
      "     0.            0.            1.            0.            0.\n",
      "     0.            0.            1.            0.        ]]\n",
      "[682.32176456]\n",
      "[[ 591.8746703   548.72570313  570.25463503  633.04617845  672.41488137\n",
      "   682.32176456  682.32176456  384.67         43.14896716  -21.52893189\n",
      "   -62.79154342  -39.36870292   -9.90688319  -90.44709426 -133.59606142\n",
      "  -112.06712953  -49.27558611  -29.46181973  -52.88466023   54.90196493\n",
      "   612.46042437  548.72570313  662.57270564  575.65964384  677.36832296\n",
      "   559.49016908  682.32176456  133.59606142  677.36832296  662.59427479\n",
      "   639.50936485  621.35263251  616.4396388     0.            0.\n",
      "     0.            0.            0.            0.            0.\n",
      "     0.            0.            0.            0.            0.\n",
      "     1.           18.0082365   -94.33952443    0.            0.\n",
      "     0.            0.            0.            0.            1.\n",
      "     0.            0.            0.            0.            0.\n",
      "     0.            0.            1.            0.            0.\n",
      "     0.            0.            1.            0.        ]]\n",
      "[672.64220545]\n",
      "[[ 5.48725703e+02  5.70254635e+02  6.33046178e+02  6.72414881e+02\n",
      "   6.82321765e+02  6.72642205e+02  6.72642205e+02  3.84670000e+02\n",
      "  -2.15289319e+01 -6.27915434e+01 -3.93687029e+01 -9.90688319e+00\n",
      "   9.67955911e+00 -1.23916502e+02 -1.02387570e+02 -3.95960270e+01\n",
      "  -2.27324085e-01 -1.95864423e+01 -4.90482620e+01  5.75138021e+01\n",
      "   6.52730530e+02  5.48725703e+02  6.72585374e+02  5.85952521e+02\n",
      "   6.77481985e+02  5.59490169e+02  6.82321765e+02  1.33596061e+02\n",
      "   6.77481985e+02  6.75792950e+02  6.65106257e+02  6.46135933e+02\n",
      "   6.29900895e+02  0.00000000e+00  0.00000000e+00  0.00000000e+00\n",
      "   0.00000000e+00  0.00000000e+00  0.00000000e+00  0.00000000e+00\n",
      "   0.00000000e+00  0.00000000e+00  0.00000000e+00  0.00000000e+00\n",
      "   0.00000000e+00  1.00000000e+00  1.80082365e+01 -9.43395244e+01\n",
      "   0.00000000e+00  0.00000000e+00  0.00000000e+00  0.00000000e+00\n",
      "   0.00000000e+00  0.00000000e+00  1.00000000e+00  0.00000000e+00\n",
      "   0.00000000e+00  0.00000000e+00  0.00000000e+00  0.00000000e+00\n",
      "   0.00000000e+00  0.00000000e+00  1.00000000e+00  0.00000000e+00\n",
      "   0.00000000e+00  0.00000000e+00  0.00000000e+00  1.00000000e+00\n",
      "   0.00000000e+00]]\n",
      "[653.42733252]\n",
      "[[570.25463503 633.04617845 672.41488137 682.32176456 672.64220545\n",
      "  653.42733252 653.42733252 384.67       -62.79154342 -39.36870292\n",
      "   -9.90688319   9.67955911  19.21487293 -83.1726975  -20.38115408\n",
      "   18.98754884  28.89443203  -9.53531382 -29.12175612  41.6562044\n",
      "  662.92110694 570.25463503 672.58537443 638.14146697 677.481985\n",
      "  601.65040674 682.32176456 112.06712953 663.03476899 669.46376751\n",
      "  670.20154597 662.77047247 647.35116623   0.           0.\n",
      "    0.           0.           0.           0.           0.\n",
      "    0.           0.           0.           0.           0.\n",
      "    1.          18.0082365  -94.33952443   0.           0.\n",
      "    0.           0.           0.           0.           1.\n",
      "    0.           0.           0.           0.           0.\n",
      "    0.           0.           1.           0.           0.\n",
      "    0.           0.           1.           0.        ]]\n",
      "[631.37959555]\n",
      "[[633.04617845 672.41488137 682.32176456 672.64220545 653.42733252\n",
      "  631.37959555 631.37959555 384.67       -39.36870292  -9.90688319\n",
      "    9.67955911  19.21487293  22.04773697   1.6665829   41.03528581\n",
      "   50.94216901  41.2626099   -2.83286405 -12.36817787  21.74719586\n",
      "  662.92110694 631.37959555 672.58537443 638.14146697 677.481985\n",
      "  632.212887   682.32176456  50.94216901 642.40346404 652.48304451\n",
      "  659.94272452 662.43715589 657.53865965   0.           0.\n",
      "    0.           0.           0.           0.           0.\n",
      "    0.           0.           0.           0.           0.\n",
      "    1.          18.0082365  -94.33952443   0.           0.\n",
      "    0.           0.           0.           0.           1.\n",
      "    0.           0.           0.           0.           0.\n",
      "    0.           0.           1.           0.           0.\n",
      "    0.           0.           1.           0.        ]]\n",
      "[583.13888692]\n",
      "[[672.41488137 682.32176456 672.64220545 653.42733252 631.37959555\n",
      "  583.13888692 583.13888692 384.67        -9.90688319   9.67955911\n",
      "   19.21487293  22.04773697  48.24070863  89.27599445  99.18287764\n",
      "   89.50331853  70.28844561 -26.19297166 -29.02583571  37.10801592\n",
      "  662.92110694 583.13888692 672.58537443 636.89152979 677.481985\n",
      "  607.25924123 682.32176456  99.18287764 607.25924123 622.648605\n",
      "  635.14700511 644.581957   649.22077773   0.           0.\n",
      "    0.           0.           0.           0.           0.\n",
      "    0.           0.           0.           0.           0.\n",
      "    1.          18.0082365  -94.33952443   0.           0.\n",
      "    0.           0.           0.           0.           1.\n",
      "    0.           0.           0.           0.           0.\n",
      "    0.           0.           1.           0.           0.\n",
      "    0.           0.           1.           0.        ]]\n",
      "[575.70000365]\n",
      "--4--\n",
      "--5--\n",
      "--6--\n",
      "----------------------------------------------------------------------\n"
     ]
    }
   ],
   "source": [
    "pozos_vivos = df_vivos.Pozo.unique()[55:57]\n",
    "lag = 7\n",
    "columna_inicial = 2\n",
    "\n",
    "df_pred = pd.DataFrame()\n",
    "for i in range(pozos_vivos.shape[0]):\n",
    "    #selecciona un pozo vivo de la lista de pozos vivos\n",
    "    df_prueba = df_forcast[df_forcast.Pozo == pozos_vivos[i]].reset_index(drop=True)\n",
    "    print(df_prueba.Pozo.unique())\n",
    "    print('--1--')\n",
    "    #     df_prueba['y_real'] = df_prueba.Produccion_barriles_t\n",
    "    #toma los primeros 6 meses\n",
    "    \n",
    "    df_simul = df_prueba.iloc[0:6]\n",
    "#     print(df_simul)\n",
    "    print('--2--')\n",
    "    \n",
    "    #forecast\n",
    "    n_pred = df_prueba.shape[0] - 6\n",
    "    print(n_pred)\n",
    "    print('--3--')\n",
    "    \n",
    "    df_simul, pred = forecast(df_simul, n_pred, num_cols)\n",
    "    \n",
    "#     print(df_simul,pred)\n",
    "    print('--4--')\n",
    "    \n",
    "    #guarda la misma fecha\n",
    "    df_simul['fecha_produccion'] = df_prueba['fecha_produccion']\n",
    "#     print(df_simul)\n",
    "    print('--5--')\n",
    "    \n",
    "    #guarda los resultados en un dataframe\n",
    "    df_pred = pd.concat([df_pred, df_simul], ignore_index=True)\n",
    "#     print(df_pred)\n",
    "    print('--6--')\n",
    "    print('-------'*10)"
   ]
  },
  {
   "cell_type": "code",
   "execution_count": 312,
   "metadata": {},
   "outputs": [
    {
     "data": {
      "text/plain": [
       "(54, 73)"
      ]
     },
     "execution_count": 312,
     "metadata": {},
     "output_type": "execute_result"
    }
   ],
   "source": [
    "df_pred.shape"
   ]
  },
  {
   "cell_type": "code",
   "execution_count": 250,
   "metadata": {},
   "outputs": [],
   "source": [
    "# df_pred.to_pickle('tabla_vivos_2010_forecasting.pkl')"
   ]
  },
  {
   "cell_type": "code",
   "execution_count": 251,
   "metadata": {},
   "outputs": [],
   "source": [
    "# df_pred.columns"
   ]
  },
  {
   "cell_type": "code",
   "execution_count": 252,
   "metadata": {},
   "outputs": [],
   "source": [
    "a = df_vivos[['Pozo','fecha_produccion','Produccion_barriles_t']]\n",
    "a.columns = ['Pozo','fecha_produccion','y_real']"
   ]
  },
  {
   "cell_type": "code",
   "execution_count": 253,
   "metadata": {},
   "outputs": [],
   "source": [
    "b = df_pred[['Pozo','fecha_produccion','Produccion_barriles_t']]\n",
    "b.columns = ['Pozo','fecha_produccion','y_estimada']"
   ]
  },
  {
   "cell_type": "code",
   "execution_count": 254,
   "metadata": {},
   "outputs": [],
   "source": [
    "c = a.merge(b,on=['Pozo','fecha_produccion'])"
   ]
  },
  {
   "cell_type": "code",
   "execution_count": 255,
   "metadata": {},
   "outputs": [
    {
     "data": {
      "text/plain": [
       "<matplotlib.axes._subplots.AxesSubplot at 0x1aae8287b70>"
      ]
     },
     "execution_count": 255,
     "metadata": {},
     "output_type": "execute_result"
    },
    {
     "data": {
      "image/png": "[encoded data removed]",
      "text/plain": [
       "<Figure size 1152x864 with 1 Axes>"
      ]
     },
     "metadata": {},
     "output_type": "display_data"
    }
   ],
   "source": [
    "c.groupby('fecha_produccion')[['y_real','y_estimada']].median().plot()"
   ]
  },
  {
   "cell_type": "code",
   "execution_count": null,
   "metadata": {},
   "outputs": [],
   "source": []
  }
 ],
 "metadata": {
  "kernelspec": {
   "display_name": "Python 3",
   "language": "python",
   "name": "python3"
  },
  "language_info": {
   "codemirror_mode": {
    "name": "ipython",
    "version": 3
   },
   "file_extension": ".py",
   "mimetype": "text/x-python",
   "name": "python",
   "nbconvert_exporter": "python",
   "pygments_lexer": "ipython3",
   "version": "3.7.0"
  }
 },
 "nbformat": 4,
 "nbformat_minor": 2
}
